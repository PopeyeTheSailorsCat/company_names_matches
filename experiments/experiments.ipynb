{
 "cells": [
  {
   "cell_type": "markdown",
   "source": [
    "# Experiment 2\n",
    "# Sentence embeddings and Qdrant Search"
   ],
   "metadata": {
    "collapsed": false,
    "pycharm": {
     "name": "#%% md\n"
    }
   }
  },
  {
   "cell_type": "markdown",
   "source": [
    "## Unprocessed dataest"
   ],
   "metadata": {
    "collapsed": false,
    "pycharm": {
     "name": "#%% md\n"
    }
   }
  },
  {
   "cell_type": "code",
   "execution_count": 9,
   "metadata": {
    "collapsed": true,
    "pycharm": {
     "name": "#%%\n"
    }
   },
   "outputs": [],
   "source": [
    "import pandas as pd\n",
    "import numpy as np\n",
    "from sklearn.model_selection import train_test_split\n",
    "from sentence_transformers import SentenceTransformer\n",
    "from sklearn.metrics import accuracy_score, precision_score, recall_score, f1_score\n",
    "from qdrant_client import QdrantClient\n",
    "from qdrant_client.http import models as rest\n",
    "from qdrant_client.http.models import models\n",
    "from tqdm import tqdm"
   ]
  },
  {
   "cell_type": "code",
   "execution_count": 10,
   "outputs": [],
   "source": [
    "emb_variations = {\n",
    "    1 : \"distiluse-base-multilingual-cased-v2\",\n",
    "    2 : \"all-MiniLM-L6-v2\",\n",
    "    3 : \"all-MiniLM-L12-v2\",\n",
    "    4 : \"paraphrase-MiniLM-L6-v2\",\n",
    "    5 : \"paraphrase-MiniLM-L12-v2\",\n",
    "    6 : \"all-mpnet-base-v2\",\n",
    "    7 : \"LaBSE\",\n",
    "    8 : \"paraphrase-multilingual-MiniLM-L12-v2\",\n",
    "}"
   ],
   "metadata": {
    "collapsed": false,
    "pycharm": {
     "name": "#%%\n"
    }
   }
  },
  {
   "cell_type": "markdown",
   "source": [
    "### Load datasets\n",
    "Load and merge datasets"
   ],
   "metadata": {
    "collapsed": false,
    "pycharm": {
     "name": "#%% md\n"
    }
   }
  },
  {
   "cell_type": "code",
   "execution_count": 11,
   "outputs": [],
   "source": [
    "num_emb = 4"
   ],
   "metadata": {
    "collapsed": false,
    "pycharm": {
     "name": "#%%\n"
    }
   }
  },
  {
   "cell_type": "code",
   "execution_count": 11,
   "outputs": [],
   "source": [],
   "metadata": {
    "collapsed": false,
    "pycharm": {
     "name": "#%%\n"
    }
   }
  },
  {
   "cell_type": "code",
   "execution_count": 12,
   "outputs": [],
   "source": [
    "df_embs = pd.read_parquet(f'../data/df_embs_{num_emb}.parquet')"
   ],
   "metadata": {
    "collapsed": false,
    "pycharm": {
     "name": "#%%\n"
    }
   }
  },
  {
   "cell_type": "code",
   "execution_count": 13,
   "outputs": [],
   "source": [
    "df = pd.read_parquet('../data/all_lang_train.parquet')"
   ],
   "metadata": {
    "collapsed": false,
    "pycharm": {
     "name": "#%%\n"
    }
   }
  },
  {
   "cell_type": "code",
   "execution_count": 14,
   "outputs": [
    {
     "data": {
      "text/plain": "                                              name_1  \\\n0                                Iko Industries Ltd.   \n1                            Apcotex Industries Ltd.   \n2                  Rishichem Distributors Pvt., Ltd.   \n3                            Powermax Rubber Factory   \n4                                          Tress A/S   \n...                                              ...   \n497567                              BIT-MAT PRODUCTS   \n497568                         Bnd Trading Co., Ltd.   \n497569  Xeikon Industrial Co., Ltd. Of Dongguan City   \n497570            Shanghai Kechuan Trading Co., Ltd.   \n497571                        Dih Wei Industries Co.   \n\n                                                   name_2  is_duplicate  \n0                    Enormous Industrial Trade Pvt., Ltd.             0  \n1                     Technocraft Industries (India) Ltd.             0  \n2                                                     Dsa             0  \n3                                                 Co. One             0  \n4                        Longyou Industries Park Zhejiang             0  \n...                                                   ...           ...  \n497567               The Goodyear Tire and Rubber Company             0  \n497568  Zhong Shan Yue Liang Economy& Trade Imp. & Exp...             0  \n497569        Yi Cheng Trading Co., Ltd. Of Dongguan City             0  \n497570                       Shanghai M&G Stationery Inc.             0  \n497571                    Burlington Industries Corporate             0  \n\n[497572 rows x 3 columns]",
      "text/html": "<div>\n<style scoped>\n    .dataframe tbody tr th:only-of-type {\n        vertical-align: middle;\n    }\n\n    .dataframe tbody tr th {\n        vertical-align: top;\n    }\n\n    .dataframe thead th {\n        text-align: right;\n    }\n</style>\n<table border=\"1\" class=\"dataframe\">\n  <thead>\n    <tr style=\"text-align: right;\">\n      <th></th>\n      <th>name_1</th>\n      <th>name_2</th>\n      <th>is_duplicate</th>\n    </tr>\n  </thead>\n  <tbody>\n    <tr>\n      <th>0</th>\n      <td>Iko Industries Ltd.</td>\n      <td>Enormous Industrial Trade Pvt., Ltd.</td>\n      <td>0</td>\n    </tr>\n    <tr>\n      <th>1</th>\n      <td>Apcotex Industries Ltd.</td>\n      <td>Technocraft Industries (India) Ltd.</td>\n      <td>0</td>\n    </tr>\n    <tr>\n      <th>2</th>\n      <td>Rishichem Distributors Pvt., Ltd.</td>\n      <td>Dsa</td>\n      <td>0</td>\n    </tr>\n    <tr>\n      <th>3</th>\n      <td>Powermax Rubber Factory</td>\n      <td>Co. One</td>\n      <td>0</td>\n    </tr>\n    <tr>\n      <th>4</th>\n      <td>Tress A/S</td>\n      <td>Longyou Industries Park Zhejiang</td>\n      <td>0</td>\n    </tr>\n    <tr>\n      <th>...</th>\n      <td>...</td>\n      <td>...</td>\n      <td>...</td>\n    </tr>\n    <tr>\n      <th>497567</th>\n      <td>BIT-MAT PRODUCTS</td>\n      <td>The Goodyear Tire and Rubber Company</td>\n      <td>0</td>\n    </tr>\n    <tr>\n      <th>497568</th>\n      <td>Bnd Trading Co., Ltd.</td>\n      <td>Zhong Shan Yue Liang Economy&amp; Trade Imp. &amp; Exp...</td>\n      <td>0</td>\n    </tr>\n    <tr>\n      <th>497569</th>\n      <td>Xeikon Industrial Co., Ltd. Of Dongguan City</td>\n      <td>Yi Cheng Trading Co., Ltd. Of Dongguan City</td>\n      <td>0</td>\n    </tr>\n    <tr>\n      <th>497570</th>\n      <td>Shanghai Kechuan Trading Co., Ltd.</td>\n      <td>Shanghai M&amp;G Stationery Inc.</td>\n      <td>0</td>\n    </tr>\n    <tr>\n      <th>497571</th>\n      <td>Dih Wei Industries Co.</td>\n      <td>Burlington Industries Corporate</td>\n      <td>0</td>\n    </tr>\n  </tbody>\n</table>\n<p>497572 rows × 3 columns</p>\n</div>"
     },
     "execution_count": 14,
     "metadata": {},
     "output_type": "execute_result"
    }
   ],
   "source": [
    "df"
   ],
   "metadata": {
    "collapsed": false,
    "pycharm": {
     "name": "#%%\n"
    }
   }
  },
  {
   "cell_type": "code",
   "execution_count": 15,
   "outputs": [],
   "source": [
    "df = df.merge(df_embs, how='left', left_on='name_1', right_on='name')\n",
    "df = df.drop(columns=['name'])\n",
    "df = df.rename({'emb': 'emb_1'}, axis=1)"
   ],
   "metadata": {
    "collapsed": false,
    "pycharm": {
     "name": "#%%\n"
    }
   }
  },
  {
   "cell_type": "code",
   "execution_count": 16,
   "outputs": [],
   "source": [
    "df = df.merge(df_embs, how='left', left_on='name_2', right_on='name')\n",
    "df = df.drop(columns=['name'])\n",
    "df = df.rename({'emb': 'emb_2'}, axis=1)"
   ],
   "metadata": {
    "collapsed": false,
    "pycharm": {
     "name": "#%%\n"
    }
   }
  },
  {
   "cell_type": "code",
   "execution_count": 17,
   "outputs": [
    {
     "data": {
      "text/plain": "                                              name_1  \\\n0                                Iko Industries Ltd.   \n1                            Apcotex Industries Ltd.   \n2                  Rishichem Distributors Pvt., Ltd.   \n3                            Powermax Rubber Factory   \n4                                          Tress A/S   \n...                                              ...   \n497567                              BIT-MAT PRODUCTS   \n497568                         Bnd Trading Co., Ltd.   \n497569  Xeikon Industrial Co., Ltd. Of Dongguan City   \n497570            Shanghai Kechuan Trading Co., Ltd.   \n497571                        Dih Wei Industries Co.   \n\n                                                   name_2  is_duplicate  \\\n0                    Enormous Industrial Trade Pvt., Ltd.             0   \n1                     Technocraft Industries (India) Ltd.             0   \n2                                                     Dsa             0   \n3                                                 Co. One             0   \n4                        Longyou Industries Park Zhejiang             0   \n...                                                   ...           ...   \n497567               The Goodyear Tire and Rubber Company             0   \n497568  Zhong Shan Yue Liang Economy& Trade Imp. & Exp...             0   \n497569        Yi Cheng Trading Co., Ltd. Of Dongguan City             0   \n497570                       Shanghai M&G Stationery Inc.             0   \n497571                    Burlington Industries Corporate             0   \n\n                  name_preproc_x  \\\n0                            iko   \n1                        apcotex   \n2         rishichem distributors   \n3        powermax rubber factory   \n4                          tress   \n...                          ...   \n497567          bit mat products   \n497568               bnd trading   \n497569   xeikon of dongguan city   \n497570  shanghai kechuan trading   \n497571                   dih wei   \n\n                                                    emb_1  \\\n0       [-0.5874035954475403, -0.042672980576753616, -...   \n1       [-0.18885475397109985, -0.17303109169006348, -...   \n2       [-0.4406581223011017, -0.6212307810783386, -0....   \n3       [-0.8534078001976013, 0.11393765360116959, -0....   \n4       [-0.4604039192199707, 0.12789411842823029, 0.1...   \n...                                                   ...   \n497567  [-0.38184621930122375, -0.012902885675430298, ...   \n497568  [-0.4668639302253723, 0.27996116876602173, -0....   \n497569  [-0.20223355293273926, 0.19919385015964508, 0....   \n497570  [-0.5936527252197266, -0.35582152009010315, -0...   \n497571  [-0.30728399753570557, 0.06124758720397949, -0...   \n\n                              name_preproc_y  \\\n0                             enormous trade   \n1                                technocraft   \n2                                        dsa   \n3                                        one   \n4                      longyou park zhejiang   \n...                                      ...   \n497567  the goodyear tire and rubber company   \n497568   zhong shan yue liang economy& trade   \n497569     yi cheng trading of dongguan city   \n497570               shanghai m&g stationery   \n497571                  burlington corporate   \n\n                                                    emb_2  \n0       [-0.2848385274410248, -0.3227050006389618, -0....  \n1       [0.2552935481071472, -0.46683651208877563, -0....  \n2       [-0.8198717832565308, -0.49064451456069946, -0...  \n3       [-0.397652268409729, -0.30664369463920593, 0.0...  \n4       [0.6428541541099548, 0.7251014113426208, 0.179...  \n...                                                   ...  \n497567  [-0.5894869565963745, -0.0504211001098156, -0....  \n497568  [-0.2817058563232422, 0.0035173783544451, 0.23...  \n497569  [-0.3474510908126831, 0.17242136597633362, -0....  \n497570  [-0.3995912969112396, -1.354217511106981e-05, ...  \n497571  [-0.22083881497383118, -0.29464292526245117, -...  \n\n[497572 rows x 7 columns]",
      "text/html": "<div>\n<style scoped>\n    .dataframe tbody tr th:only-of-type {\n        vertical-align: middle;\n    }\n\n    .dataframe tbody tr th {\n        vertical-align: top;\n    }\n\n    .dataframe thead th {\n        text-align: right;\n    }\n</style>\n<table border=\"1\" class=\"dataframe\">\n  <thead>\n    <tr style=\"text-align: right;\">\n      <th></th>\n      <th>name_1</th>\n      <th>name_2</th>\n      <th>is_duplicate</th>\n      <th>name_preproc_x</th>\n      <th>emb_1</th>\n      <th>name_preproc_y</th>\n      <th>emb_2</th>\n    </tr>\n  </thead>\n  <tbody>\n    <tr>\n      <th>0</th>\n      <td>Iko Industries Ltd.</td>\n      <td>Enormous Industrial Trade Pvt., Ltd.</td>\n      <td>0</td>\n      <td>iko</td>\n      <td>[-0.5874035954475403, -0.042672980576753616, -...</td>\n      <td>enormous trade</td>\n      <td>[-0.2848385274410248, -0.3227050006389618, -0....</td>\n    </tr>\n    <tr>\n      <th>1</th>\n      <td>Apcotex Industries Ltd.</td>\n      <td>Technocraft Industries (India) Ltd.</td>\n      <td>0</td>\n      <td>apcotex</td>\n      <td>[-0.18885475397109985, -0.17303109169006348, -...</td>\n      <td>technocraft</td>\n      <td>[0.2552935481071472, -0.46683651208877563, -0....</td>\n    </tr>\n    <tr>\n      <th>2</th>\n      <td>Rishichem Distributors Pvt., Ltd.</td>\n      <td>Dsa</td>\n      <td>0</td>\n      <td>rishichem distributors</td>\n      <td>[-0.4406581223011017, -0.6212307810783386, -0....</td>\n      <td>dsa</td>\n      <td>[-0.8198717832565308, -0.49064451456069946, -0...</td>\n    </tr>\n    <tr>\n      <th>3</th>\n      <td>Powermax Rubber Factory</td>\n      <td>Co. One</td>\n      <td>0</td>\n      <td>powermax rubber factory</td>\n      <td>[-0.8534078001976013, 0.11393765360116959, -0....</td>\n      <td>one</td>\n      <td>[-0.397652268409729, -0.30664369463920593, 0.0...</td>\n    </tr>\n    <tr>\n      <th>4</th>\n      <td>Tress A/S</td>\n      <td>Longyou Industries Park Zhejiang</td>\n      <td>0</td>\n      <td>tress</td>\n      <td>[-0.4604039192199707, 0.12789411842823029, 0.1...</td>\n      <td>longyou park zhejiang</td>\n      <td>[0.6428541541099548, 0.7251014113426208, 0.179...</td>\n    </tr>\n    <tr>\n      <th>...</th>\n      <td>...</td>\n      <td>...</td>\n      <td>...</td>\n      <td>...</td>\n      <td>...</td>\n      <td>...</td>\n      <td>...</td>\n    </tr>\n    <tr>\n      <th>497567</th>\n      <td>BIT-MAT PRODUCTS</td>\n      <td>The Goodyear Tire and Rubber Company</td>\n      <td>0</td>\n      <td>bit mat products</td>\n      <td>[-0.38184621930122375, -0.012902885675430298, ...</td>\n      <td>the goodyear tire and rubber company</td>\n      <td>[-0.5894869565963745, -0.0504211001098156, -0....</td>\n    </tr>\n    <tr>\n      <th>497568</th>\n      <td>Bnd Trading Co., Ltd.</td>\n      <td>Zhong Shan Yue Liang Economy&amp; Trade Imp. &amp; Exp...</td>\n      <td>0</td>\n      <td>bnd trading</td>\n      <td>[-0.4668639302253723, 0.27996116876602173, -0....</td>\n      <td>zhong shan yue liang economy&amp; trade</td>\n      <td>[-0.2817058563232422, 0.0035173783544451, 0.23...</td>\n    </tr>\n    <tr>\n      <th>497569</th>\n      <td>Xeikon Industrial Co., Ltd. Of Dongguan City</td>\n      <td>Yi Cheng Trading Co., Ltd. Of Dongguan City</td>\n      <td>0</td>\n      <td>xeikon of dongguan city</td>\n      <td>[-0.20223355293273926, 0.19919385015964508, 0....</td>\n      <td>yi cheng trading of dongguan city</td>\n      <td>[-0.3474510908126831, 0.17242136597633362, -0....</td>\n    </tr>\n    <tr>\n      <th>497570</th>\n      <td>Shanghai Kechuan Trading Co., Ltd.</td>\n      <td>Shanghai M&amp;G Stationery Inc.</td>\n      <td>0</td>\n      <td>shanghai kechuan trading</td>\n      <td>[-0.5936527252197266, -0.35582152009010315, -0...</td>\n      <td>shanghai m&amp;g stationery</td>\n      <td>[-0.3995912969112396, -1.354217511106981e-05, ...</td>\n    </tr>\n    <tr>\n      <th>497571</th>\n      <td>Dih Wei Industries Co.</td>\n      <td>Burlington Industries Corporate</td>\n      <td>0</td>\n      <td>dih wei</td>\n      <td>[-0.30728399753570557, 0.06124758720397949, -0...</td>\n      <td>burlington corporate</td>\n      <td>[-0.22083881497383118, -0.29464292526245117, -...</td>\n    </tr>\n  </tbody>\n</table>\n<p>497572 rows × 7 columns</p>\n</div>"
     },
     "execution_count": 17,
     "metadata": {},
     "output_type": "execute_result"
    }
   ],
   "source": [
    "df"
   ],
   "metadata": {
    "collapsed": false,
    "pycharm": {
     "name": "#%%\n"
    }
   }
  },
  {
   "cell_type": "code",
   "execution_count": 18,
   "outputs": [
    {
     "data": {
      "text/plain": "(3, 384)"
     },
     "execution_count": 18,
     "metadata": {},
     "output_type": "execute_result"
    }
   ],
   "source": [
    "np.stack(df.emb_1[:3]).shape"
   ],
   "metadata": {
    "collapsed": false,
    "pycharm": {
     "name": "#%%\n"
    }
   }
  },
  {
   "cell_type": "markdown",
   "source": [
    "### Add vectors to qdrant\n",
    "Here we create qdrant collection and add embeddings to it"
   ],
   "metadata": {
    "collapsed": false,
    "pycharm": {
     "name": "#%% md\n"
    }
   }
  },
  {
   "cell_type": "code",
   "execution_count": 19,
   "outputs": [],
   "source": [
    "# !docker pull qdrant/qdrant"
   ],
   "metadata": {
    "collapsed": false,
    "pycharm": {
     "name": "#%%\n"
    }
   }
  },
  {
   "cell_type": "code",
   "execution_count": 20,
   "outputs": [],
   "source": [
    "# !docker run --name qdrant -d -p 6333:6333 --net=bridge qdrant/qdrant"
   ],
   "metadata": {
    "collapsed": false,
    "pycharm": {
     "name": "#%%\n"
    }
   }
  },
  {
   "cell_type": "code",
   "execution_count": 21,
   "outputs": [],
   "source": [
    "# df_embs = pd.read_parquet('../data/df_embs_preproc_1.parquet')"
   ],
   "metadata": {
    "collapsed": false,
    "pycharm": {
     "name": "#%%\n"
    }
   }
  },
  {
   "cell_type": "code",
   "execution_count": 22,
   "outputs": [],
   "source": [
    "qdrant_client = QdrantClient(host='0.0.0.0', port=6333)"
   ],
   "metadata": {
    "collapsed": false,
    "pycharm": {
     "name": "#%%\n"
    }
   }
  },
  {
   "cell_type": "code",
   "execution_count": 23,
   "outputs": [],
   "source": [
    "def create_collection_and_upload(vectors, payload, ids, col_name, vec_shape, bs):\n",
    "    qdrant_client.recreate_collection(collection_name=col_name,\n",
    "                                      vectors_config=models.VectorParams(size=vec_shape, distance=models.Distance.COSINE),\n",
    "                                      on_disk_payload=True)\n",
    "    qdrant_client.upload_collection(\n",
    "        collection_name=col_name,\n",
    "        vectors=vectors,\n",
    "        payload=payload,\n",
    "        ids=ids,\n",
    "        batch_size=bs,\n",
    "        parallel=6\n",
    "    )\n",
    "    col = qdrant_client.get_collection(col_name)\n",
    "    return col"
   ],
   "metadata": {
    "collapsed": false,
    "pycharm": {
     "name": "#%%\n"
    }
   }
  },
  {
   "cell_type": "code",
   "execution_count": 24,
   "outputs": [],
   "source": [
    "vectors = np.stack(df_embs.emb)\n",
    "payload = df_embs.rename({'name': 'original_name'}, axis=1)[['original_name']].to_dict(orient='records')\n",
    "ids = df_embs.index.values.tolist()\n",
    "col_name = 'companies'\n",
    "vec_shape = vectors.shape[1]\n",
    "bs = 1024"
   ],
   "metadata": {
    "collapsed": false,
    "pycharm": {
     "name": "#%%\n"
    }
   }
  },
  {
   "cell_type": "code",
   "execution_count": 25,
   "outputs": [],
   "source": [
    "col = create_collection_and_upload(vectors, payload, ids, col_name, vec_shape, bs)"
   ],
   "metadata": {
    "collapsed": false,
    "pycharm": {
     "name": "#%%\n"
    }
   }
  },
  {
   "cell_type": "code",
   "execution_count": 26,
   "outputs": [
    {
     "data": {
      "text/plain": "18022"
     },
     "execution_count": 26,
     "metadata": {},
     "output_type": "execute_result"
    }
   ],
   "source": [
    "col.points_count"
   ],
   "metadata": {
    "collapsed": false,
    "pycharm": {
     "name": "#%%\n"
    }
   }
  },
  {
   "cell_type": "markdown",
   "source": [
    "### Similarity search with cosine distance\n",
    "Here we make a query to qdrant collection with embedding vector obtained from SentenceTransformer\n",
    "Cosine distance is used"
   ],
   "metadata": {
    "collapsed": false,
    "pycharm": {
     "name": "#%% md\n"
    }
   }
  },
  {
   "cell_type": "code",
   "execution_count": 49,
   "outputs": [],
   "source": [
    "model = SentenceTransformer(emb_variations[num_emb])"
   ],
   "metadata": {
    "collapsed": false,
    "pycharm": {
     "name": "#%%\n"
    }
   }
  },
  {
   "cell_type": "code",
   "execution_count": 50,
   "outputs": [
    {
     "data": {
      "text/plain": "SentenceTransformer(\n  (0): Transformer({'max_seq_length': 128, 'do_lower_case': False}) with Transformer model: BertModel \n  (1): Pooling({'word_embedding_dimension': 384, 'pooling_mode_cls_token': False, 'pooling_mode_mean_tokens': True, 'pooling_mode_max_tokens': False, 'pooling_mode_mean_sqrt_len_tokens': False})\n)"
     },
     "execution_count": 50,
     "metadata": {},
     "output_type": "execute_result"
    }
   ],
   "source": [
    "model.to('cpu')"
   ],
   "metadata": {
    "collapsed": false,
    "pycharm": {
     "name": "#%%\n"
    }
   }
  },
  {
   "cell_type": "code",
   "execution_count": 51,
   "outputs": [],
   "source": [
    "from experiments.preprocess import preproc, stopwords"
   ],
   "metadata": {
    "collapsed": false,
    "pycharm": {
     "name": "#%%\n"
    }
   }
  },
  {
   "cell_type": "code",
   "execution_count": 52,
   "outputs": [],
   "source": [
    "def inference(company_name_original, col_name, model, limit=30, df_embs=None, preproc_text=False, debug=False):\n",
    "    if preproc_text:\n",
    "        company_name = preproc(company_name_original, stopwords)\n",
    "    else:\n",
    "        company_name = company_name_original\n",
    "\n",
    "    if debug:\n",
    "        print(f'company name:{company_name}')\n",
    "\n",
    "    if df_embs is None:\n",
    "        qvector = model.encode(company_name)\n",
    "    else:\n",
    "        qvector = np.stack(df_embs[df_embs['name'] == company_name].emb)[0]\n",
    "\n",
    "    if qvector.shape[0] == 1:\n",
    "        qvector = qvector[0]\n",
    "\n",
    "    search_result = qdrant_client.search(\n",
    "        collection_name=col_name,\n",
    "        query_vector=qvector,\n",
    "        query_filter=models.Filter(\n",
    "            must_not=[\n",
    "                models.FieldCondition(\n",
    "                    key=\"original_name\",\n",
    "                    match=models.MatchValue(value=company_name_original)\n",
    "                ),\n",
    "            ]\n",
    "        ),\n",
    "        limit=limit,\n",
    "        offset=0\n",
    "    )\n",
    "    return search_result#[r for r in search_result if r.payload['name'] != company_name]"
   ],
   "metadata": {
    "collapsed": false,
    "pycharm": {
     "name": "#%%\n"
    }
   }
  },
  {
   "cell_type": "markdown",
   "source": [
    "We can see score from highest (closest to query vector in embedding space) to lowest (farthest from query vector in embedding space)\n",
    "All payload data like original company name is also shown"
   ],
   "metadata": {
    "collapsed": false,
    "pycharm": {
     "name": "#%% md\n"
    }
   }
  },
  {
   "cell_type": "code",
   "execution_count": 53,
   "outputs": [
    {
     "name": "stdout",
     "output_type": "stream",
     "text": [
      "CPU times: user 74.3 ms, sys: 13 ms, total: 87.3 ms\n",
      "Wall time: 124 ms\n"
     ]
    },
    {
     "data": {
      "text/plain": "[ScoredPoint(id=5474, version=2, score=0.8576211, payload={'original_name': 'Dow Chemical International Private Ltd.'}, vector=None),\n ScoredPoint(id=8733, version=7, score=0.84161985, payload={'original_name': 'The Dow Chemical Company'}, vector=None),\n ScoredPoint(id=2892, version=1, score=0.8247788, payload={'original_name': 'Dow Chemical'}, vector=None),\n ScoredPoint(id=608, version=0, score=0.81997055, payload={'original_name': 'Dow Chemical Thailand Ltd.'}, vector=None),\n ScoredPoint(id=9176, version=7, score=0.80671585, payload={'original_name': 'Dow Chemical Pacific Ltd.'}, vector=None),\n ScoredPoint(id=12778, version=14, score=0.75018424, payload={'original_name': 'Yuanbai Chemicals (Shanghai) Co., Ltd.'}, vector=None),\n ScoredPoint(id=8365, version=7, score=0.74011326, payload={'original_name': 'Eastman (Shanghai) Chemical Commercial Co., Ltd.'}, vector=None),\n ScoredPoint(id=3748, version=3, score=0.7398557, payload={'original_name': 'Dow Chemical Pacific'}, vector=None),\n ScoredPoint(id=8855, version=7, score=0.7338276, payload={'original_name': 'Shanghai Uniwell Chemical Co., Ltd.'}, vector=None),\n ScoredPoint(id=5563, version=2, score=0.7152755, payload={'original_name': 'Shanghai Huixu Chemical Industry Co., Ltd.'}, vector=None),\n ScoredPoint(id=6102, version=2, score=0.7136109, payload={'original_name': 'Shanghai Yikang Chemicals & Industries Co., Ltd.'}, vector=None),\n ScoredPoint(id=5526, version=2, score=0.7123387, payload={'original_name': 'Shanghai Prevision Chemicals Co., Ltd.'}, vector=None),\n ScoredPoint(id=9193, version=7, score=0.7100855, payload={'original_name': 'Shanghai Manyi Chemical Co., Ltd.'}, vector=None),\n ScoredPoint(id=9170, version=7, score=0.70747334, payload={'original_name': 'Shanghai Wo Code Chemical Co., Ltd.'}, vector=None),\n ScoredPoint(id=6386, version=8, score=0.7018758, payload={'original_name': 'Shanghai Synthomer Chemicals Co., Ltd.'}, vector=None),\n ScoredPoint(id=8138, version=6, score=0.7000449, payload={'original_name': 'Poly Chemicals (Shanghai) Co., Ltd.'}, vector=None),\n ScoredPoint(id=160, version=0, score=0.69124335, payload={'original_name': 'Shenhua Chemical Industrial Co., Ltd.'}, vector=None),\n ScoredPoint(id=8616, version=7, score=0.6889745, payload={'original_name': 'Shandong Yongtai Chemical Group Co., Ltd.'}, vector=None),\n ScoredPoint(id=35, version=0, score=0.6855402, payload={'original_name': 'Lord Fine Chemical (Shanghai) Co., Ltd.'}, vector=None),\n ScoredPoint(id=10132, version=9, score=0.68464947, payload={'original_name': 'Tong Cheng Chemical (China) Co., Ltd.'}, vector=None),\n ScoredPoint(id=10535, version=11, score=0.68154955, payload={'original_name': 'Shenzhen Runbei Chemical Co., Ltd.'}, vector=None),\n ScoredPoint(id=8414, version=7, score=0.6796904, payload={'original_name': 'Shanghai Ranyuan Chemical Technology Co., Ltd.'}, vector=None),\n ScoredPoint(id=750, version=0, score=0.6775884, payload={'original_name': 'Shanghai Beisi Plastics Co., Ltd.'}, vector=None),\n ScoredPoint(id=9038, version=7, score=0.6732763, payload={'original_name': 'Chinese Union Metal & Plastic (Shenzhen) Co., Ltd.'}, vector=None),\n ScoredPoint(id=4163, version=4, score=0.6670077, payload={'original_name': 'Shandong Yuhuang Chemical Co., Ltd.'}, vector=None),\n ScoredPoint(id=8582, version=7, score=0.666722, payload={'original_name': 'The Guangzhou Hee Chemical Co., Ltd.'}, vector=None),\n ScoredPoint(id=17812, version=12, score=0.6648294, payload={'original_name': 'Zhangzhou Hongtai Chemical Co., Ltd'}, vector=None),\n ScoredPoint(id=768, version=0, score=0.66431093, payload={'original_name': 'Ge Plastics Shanghai Co., Ltd.'}, vector=None),\n ScoredPoint(id=5033, version=4, score=0.6638966, payload={'original_name': 'Shanghai Petrochemical Co., Ltd. Wang Nan'}, vector=None),\n ScoredPoint(id=5456, version=2, score=0.6618509, payload={'original_name': 'Shanghai Junxin Chemical Co., Ltd.'}, vector=None)]"
     },
     "execution_count": 53,
     "metadata": {},
     "output_type": "execute_result"
    }
   ],
   "source": [
    "%%time\n",
    "inference('Dow Chemical (Shanghai) Co., Ltd.', col_name, model, preproc_text=False)"
   ],
   "metadata": {
    "collapsed": false,
    "pycharm": {
     "name": "#%%\n"
    }
   }
  },
  {
   "cell_type": "code",
   "execution_count": 32,
   "outputs": [
    {
     "data": {
      "text/plain": "                                         name_1  \\\n11987         Dow Chemical (Shanghai) Co., Ltd.   \n84089   Dow Chemical International Private Ltd.   \n145164        Dow Chemical (Shanghai) Co., Ltd.   \n223104        Dow Chemical (Shanghai) Co., Ltd.   \n223944                Dow Chemical Pacific Ltd.   \n286950                     Dow Chemical Pacific   \n381110               Dow Chemical Thailand Ltd.   \n388593                             Dow Chemical   \n422738        Dow Chemical (Shanghai) Co., Ltd.   \n493048        Dow Chemical (Shanghai) Co., Ltd.   \n\n                                         name_2  is_duplicate name_preproc_x  \\\n11987                 Dow Chemical Pacific Ltd.             1   dow chemical   \n84089         Dow Chemical (Shanghai) Co., Ltd.             1   dow chemical   \n145164  Dow Chemical International Private Ltd.             1   dow chemical   \n223104                             Dow Chemical             1   dow chemical   \n223944        Dow Chemical (Shanghai) Co., Ltd.             1   dow chemical   \n286950        Dow Chemical (Shanghai) Co., Ltd.             1   dow chemical   \n381110        Dow Chemical (Shanghai) Co., Ltd.             1   dow chemical   \n388593        Dow Chemical (Shanghai) Co., Ltd.             1   dow chemical   \n422738                     Dow Chemical Pacific             1   dow chemical   \n493048               Dow Chemical Thailand Ltd.             1   dow chemical   \n\n                                                    emb_1 name_preproc_y  \\\n11987   [-0.3575917184352875, -0.0433979295194149, -0....   dow chemical   \n84089   [-0.11826933175325394, -0.14124689996242523, -...   dow chemical   \n145164  [-0.3575917184352875, -0.0433979295194149, -0....   dow chemical   \n223104  [-0.3575917184352875, -0.0433979295194149, -0....   dow chemical   \n223944  [-0.05168405920267105, -0.21086931228637695, -...   dow chemical   \n286950  [-0.2712400257587433, -0.2303997278213501, -0....   dow chemical   \n381110  [-0.2474443018436432, 0.19269879162311554, -0....   dow chemical   \n388593  [-0.49079570174217224, 0.14337339997291565, -0...   dow chemical   \n422738  [-0.3575917184352875, -0.0433979295194149, -0....   dow chemical   \n493048  [-0.3575917184352875, -0.0433979295194149, -0....   dow chemical   \n\n                                                    emb_2  \n11987   [-0.05168405920267105, -0.21086931228637695, -...  \n84089   [-0.3575917184352875, -0.0433979295194149, -0....  \n145164  [-0.11826933175325394, -0.14124689996242523, -...  \n223104  [-0.49079570174217224, 0.14337339997291565, -0...  \n223944  [-0.3575917184352875, -0.0433979295194149, -0....  \n286950  [-0.3575917184352875, -0.0433979295194149, -0....  \n381110  [-0.3575917184352875, -0.0433979295194149, -0....  \n388593  [-0.3575917184352875, -0.0433979295194149, -0....  \n422738  [-0.2712400257587433, -0.2303997278213501, -0....  \n493048  [-0.2474443018436432, 0.19269879162311554, -0....  ",
      "text/html": "<div>\n<style scoped>\n    .dataframe tbody tr th:only-of-type {\n        vertical-align: middle;\n    }\n\n    .dataframe tbody tr th {\n        vertical-align: top;\n    }\n\n    .dataframe thead th {\n        text-align: right;\n    }\n</style>\n<table border=\"1\" class=\"dataframe\">\n  <thead>\n    <tr style=\"text-align: right;\">\n      <th></th>\n      <th>name_1</th>\n      <th>name_2</th>\n      <th>is_duplicate</th>\n      <th>name_preproc_x</th>\n      <th>emb_1</th>\n      <th>name_preproc_y</th>\n      <th>emb_2</th>\n    </tr>\n  </thead>\n  <tbody>\n    <tr>\n      <th>11987</th>\n      <td>Dow Chemical (Shanghai) Co., Ltd.</td>\n      <td>Dow Chemical Pacific Ltd.</td>\n      <td>1</td>\n      <td>dow chemical</td>\n      <td>[-0.3575917184352875, -0.0433979295194149, -0....</td>\n      <td>dow chemical</td>\n      <td>[-0.05168405920267105, -0.21086931228637695, -...</td>\n    </tr>\n    <tr>\n      <th>84089</th>\n      <td>Dow Chemical International Private Ltd.</td>\n      <td>Dow Chemical (Shanghai) Co., Ltd.</td>\n      <td>1</td>\n      <td>dow chemical</td>\n      <td>[-0.11826933175325394, -0.14124689996242523, -...</td>\n      <td>dow chemical</td>\n      <td>[-0.3575917184352875, -0.0433979295194149, -0....</td>\n    </tr>\n    <tr>\n      <th>145164</th>\n      <td>Dow Chemical (Shanghai) Co., Ltd.</td>\n      <td>Dow Chemical International Private Ltd.</td>\n      <td>1</td>\n      <td>dow chemical</td>\n      <td>[-0.3575917184352875, -0.0433979295194149, -0....</td>\n      <td>dow chemical</td>\n      <td>[-0.11826933175325394, -0.14124689996242523, -...</td>\n    </tr>\n    <tr>\n      <th>223104</th>\n      <td>Dow Chemical (Shanghai) Co., Ltd.</td>\n      <td>Dow Chemical</td>\n      <td>1</td>\n      <td>dow chemical</td>\n      <td>[-0.3575917184352875, -0.0433979295194149, -0....</td>\n      <td>dow chemical</td>\n      <td>[-0.49079570174217224, 0.14337339997291565, -0...</td>\n    </tr>\n    <tr>\n      <th>223944</th>\n      <td>Dow Chemical Pacific Ltd.</td>\n      <td>Dow Chemical (Shanghai) Co., Ltd.</td>\n      <td>1</td>\n      <td>dow chemical</td>\n      <td>[-0.05168405920267105, -0.21086931228637695, -...</td>\n      <td>dow chemical</td>\n      <td>[-0.3575917184352875, -0.0433979295194149, -0....</td>\n    </tr>\n    <tr>\n      <th>286950</th>\n      <td>Dow Chemical Pacific</td>\n      <td>Dow Chemical (Shanghai) Co., Ltd.</td>\n      <td>1</td>\n      <td>dow chemical</td>\n      <td>[-0.2712400257587433, -0.2303997278213501, -0....</td>\n      <td>dow chemical</td>\n      <td>[-0.3575917184352875, -0.0433979295194149, -0....</td>\n    </tr>\n    <tr>\n      <th>381110</th>\n      <td>Dow Chemical Thailand Ltd.</td>\n      <td>Dow Chemical (Shanghai) Co., Ltd.</td>\n      <td>1</td>\n      <td>dow chemical</td>\n      <td>[-0.2474443018436432, 0.19269879162311554, -0....</td>\n      <td>dow chemical</td>\n      <td>[-0.3575917184352875, -0.0433979295194149, -0....</td>\n    </tr>\n    <tr>\n      <th>388593</th>\n      <td>Dow Chemical</td>\n      <td>Dow Chemical (Shanghai) Co., Ltd.</td>\n      <td>1</td>\n      <td>dow chemical</td>\n      <td>[-0.49079570174217224, 0.14337339997291565, -0...</td>\n      <td>dow chemical</td>\n      <td>[-0.3575917184352875, -0.0433979295194149, -0....</td>\n    </tr>\n    <tr>\n      <th>422738</th>\n      <td>Dow Chemical (Shanghai) Co., Ltd.</td>\n      <td>Dow Chemical Pacific</td>\n      <td>1</td>\n      <td>dow chemical</td>\n      <td>[-0.3575917184352875, -0.0433979295194149, -0....</td>\n      <td>dow chemical</td>\n      <td>[-0.2712400257587433, -0.2303997278213501, -0....</td>\n    </tr>\n    <tr>\n      <th>493048</th>\n      <td>Dow Chemical (Shanghai) Co., Ltd.</td>\n      <td>Dow Chemical Thailand Ltd.</td>\n      <td>1</td>\n      <td>dow chemical</td>\n      <td>[-0.3575917184352875, -0.0433979295194149, -0....</td>\n      <td>dow chemical</td>\n      <td>[-0.2474443018436432, 0.19269879162311554, -0....</td>\n    </tr>\n  </tbody>\n</table>\n</div>"
     },
     "execution_count": 32,
     "metadata": {},
     "output_type": "execute_result"
    }
   ],
   "source": [
    "df[((df.name_1 == 'Dow Chemical (Shanghai) Co., Ltd.') | (df.name_2 == 'Dow Chemical (Shanghai) Co., Ltd.')) & df.is_duplicate == 1]"
   ],
   "metadata": {
    "collapsed": false,
    "pycharm": {
     "name": "#%%\n"
    }
   }
  },
  {
   "cell_type": "markdown",
   "source": [
    "### Calculate metrics"
   ],
   "metadata": {
    "collapsed": false,
    "pycharm": {
     "name": "#%% md\n"
    }
   }
  },
  {
   "cell_type": "code",
   "execution_count": 33,
   "outputs": [],
   "source": [
    "# Select test dataset\n",
    "df_isdup = df[df.is_duplicate == 1]\n",
    "names = np.unique(np.concatenate([df_isdup.name_1, df_isdup.name_2]))"
   ],
   "metadata": {
    "collapsed": false,
    "pycharm": {
     "name": "#%%\n"
    }
   }
  },
  {
   "cell_type": "code",
   "execution_count": 34,
   "outputs": [
    {
     "data": {
      "text/plain": "array([' Alfagomma', ' CONTITECH TRANSPORTBANDSYSTEME GMBH',\n       ' SO.F.TER. SPA', ..., 'ФИЛИАЛ КОМПАНИИ ЭКСОН НЕФТЕГАЗ ЛИМИТЕД',\n       'ФИЛИАЛ КОМПАНИИ\"ЭКСОН НЕФТЕГАЗ ЛИМИТЕД\"', 'ХИМИНВЕСТ ГРУПП, ООО'],\n      dtype=object)"
     },
     "execution_count": 34,
     "metadata": {},
     "output_type": "execute_result"
    }
   ],
   "source": [
    "names"
   ],
   "metadata": {
    "collapsed": false,
    "pycharm": {
     "name": "#%%\n"
    }
   }
  },
  {
   "cell_type": "markdown",
   "source": [
    "Our main evaluation metric is Precision@1 because it is retreival task"
   ],
   "metadata": {
    "collapsed": false,
    "pycharm": {
     "name": "#%% md\n"
    }
   }
  },
  {
   "cell_type": "code",
   "execution_count": 35,
   "outputs": [],
   "source": [
    "def precision_score_at_k(k, names, unique_groups, model, df_embs, col_name, debug, preproc_text=False):\n",
    "    scores = []\n",
    "    for item in tqdm(names):\n",
    "        q_name = item\n",
    "        res = inference(q_name, col_name, model, limit=k, df_embs=df_embs, preproc_text=preproc_text, debug=debug)\n",
    "        found_name = res[0].payload['original_name']\n",
    "        if debug:\n",
    "            print(res)\n",
    "            print(f'q_name {q_name}')\n",
    "            print(f'found_name {found_name}')\n",
    "\n",
    "        # todo p@ k > 1\n",
    "        # ap_k = 1/k * ()\n",
    "        # for i in enumerate(range(11)):\n",
    "\n",
    "        for ugroup in unique_groups:\n",
    "            if q_name in ugroup:\n",
    "                if debug:\n",
    "                    print(ugroup)\n",
    "                if found_name in ugroup:\n",
    "                    scores.append((q_name, found_name))\n",
    "                    if debug:\n",
    "                        print('GOOD')\n",
    "                break\n",
    "\n",
    "        if debug:\n",
    "            break\n",
    "\n",
    "    return scores #len(scores) / len(names)"
   ],
   "metadata": {
    "collapsed": false,
    "pycharm": {
     "name": "#%%\n"
    }
   }
  },
  {
   "cell_type": "markdown",
   "source": [
    "Function to make groupings of same companies\n",
    "Each group is a list of different company names representing instance of one company"
   ],
   "metadata": {
    "collapsed": false,
    "pycharm": {
     "name": "#%% md\n"
    }
   }
  },
  {
   "cell_type": "code",
   "execution_count": 36,
   "outputs": [],
   "source": [
    "# DATASET GROUPINGS\n",
    "def get_unique_groups(names, df_isdup):\n",
    "    company_groups = []\n",
    "    for company_name in tqdm(names):\n",
    "        tmpdf_names_1 = set(df_isdup[df_isdup.name_2 == company_name].name_1.tolist())\n",
    "        tmpdf_names_2 = set(df_isdup[df_isdup.name_1 == company_name].name_2.tolist())\n",
    "        tmpdf_names_1.update(tmpdf_names_2)\n",
    "        tmpdf_names_1.update([company_name])\n",
    "        for comp_name in tmpdf_names_1.copy():\n",
    "            tmpdf_names_1_ = set(df_isdup[df_isdup.name_2 == comp_name].name_1.tolist())\n",
    "            tmpdf_names_2_ = set(df_isdup[df_isdup.name_1 == comp_name].name_2.tolist())\n",
    "            tmpdf_names_1_.update(tmpdf_names_2_)\n",
    "            tmpdf_names_1.update(tmpdf_names_1_)\n",
    "\n",
    "        tmpdf_names_1 = sorted(tmpdf_names_1)\n",
    "        company_groups.append(tmpdf_names_1)\n",
    "\n",
    "    unique_groups = []\n",
    "    for group in company_groups:\n",
    "        if group not in unique_groups:\n",
    "            unique_groups.append(group)\n",
    "\n",
    "    return unique_groups"
   ],
   "metadata": {
    "collapsed": false,
    "pycharm": {
     "name": "#%%\n"
    }
   }
  },
  {
   "cell_type": "code",
   "execution_count": 37,
   "outputs": [
    {
     "name": "stderr",
     "output_type": "stream",
     "text": [
      "100%|██████████| 1394/1394 [00:09<00:00, 150.95it/s]\n"
     ]
    }
   ],
   "source": [
    "unique_groups = get_unique_groups(names, df[df.is_duplicate == 1])"
   ],
   "metadata": {
    "collapsed": false,
    "pycharm": {
     "name": "#%%\n"
    }
   }
  },
  {
   "cell_type": "code",
   "execution_count": 41,
   "outputs": [
    {
     "data": {
      "text/plain": "493"
     },
     "execution_count": 41,
     "metadata": {},
     "output_type": "execute_result"
    }
   ],
   "source": [
    "len(unique_groups)"
   ],
   "metadata": {
    "collapsed": false,
    "pycharm": {
     "name": "#%%\n"
    }
   }
  },
  {
   "cell_type": "code",
   "execution_count": 54,
   "outputs": [],
   "source": [],
   "metadata": {
    "collapsed": false,
    "pycharm": {
     "name": "#%%\n"
    }
   }
  },
  {
   "cell_type": "code",
   "execution_count": 38,
   "outputs": [
    {
     "data": {
      "text/plain": "             name name_preproc  \\\n16508   Alfagomma    alfagomma   \n\n                                                     emb  \n16508  [-0.2936694324016571, -0.23282890021800995, -0...  ",
      "text/html": "<div>\n<style scoped>\n    .dataframe tbody tr th:only-of-type {\n        vertical-align: middle;\n    }\n\n    .dataframe tbody tr th {\n        vertical-align: top;\n    }\n\n    .dataframe thead th {\n        text-align: right;\n    }\n</style>\n<table border=\"1\" class=\"dataframe\">\n  <thead>\n    <tr style=\"text-align: right;\">\n      <th></th>\n      <th>name</th>\n      <th>name_preproc</th>\n      <th>emb</th>\n    </tr>\n  </thead>\n  <tbody>\n    <tr>\n      <th>16508</th>\n      <td>Alfagomma</td>\n      <td>alfagomma</td>\n      <td>[-0.2936694324016571, -0.23282890021800995, -0...</td>\n    </tr>\n  </tbody>\n</table>\n</div>"
     },
     "execution_count": 38,
     "metadata": {},
     "output_type": "execute_result"
    },
    {
     "name": "stderr",
     "output_type": "stream",
     "text": [
      " 48%|████▊     | 672/1394 [00:49<00:56, 12.69it/s]"
     ]
    }
   ],
   "source": [
    "df_embs[df_embs.name == names[0]]"
   ],
   "metadata": {
    "collapsed": false,
    "pycharm": {
     "name": "#%%\n"
    }
   }
  },
  {
   "cell_type": "code",
   "execution_count": 39,
   "outputs": [
    {
     "name": "stderr",
     "output_type": "stream",
     "text": [
      "100%|██████████| 1394/1394 [01:42<00:00, 13.60it/s]\n"
     ]
    }
   ],
   "source": [
    "map_score = precision_score_at_k(1,\n",
    "                                 names,#[19:],\n",
    "                                 unique_groups,\n",
    "                                 model,\n",
    "                                 df_embs,#.rename({'name':'tmp', 'name_preproc': 'name'}, axis=1),\n",
    "                                 col_name,\n",
    "                                 debug=False, preproc_text=False\n",
    "                                 )\n",
    "# map_score"
   ],
   "metadata": {
    "collapsed": false,
    "pycharm": {
     "name": "#%%\n"
    }
   }
  },
  {
   "cell_type": "code",
   "execution_count": 40,
   "outputs": [
    {
     "name": "stdout",
     "output_type": "stream",
     "text": [
      "Precision@1=0.5817790530846485\n"
     ]
    }
   ],
   "source": [
    "print(f'Precision@1={len(map_score) / len(names)}')"
   ],
   "metadata": {
    "collapsed": false,
    "pycharm": {
     "name": "#%%\n"
    }
   }
  },
  {
   "cell_type": "markdown",
   "source": [
    "# Qdrant + Preprocess\n",
    "All same as above but with preprocessed company names.\n",
    "Embeddings are calculated from preprocessed names."
   ],
   "metadata": {
    "collapsed": false,
    "pycharm": {
     "name": "#%% md\n"
    }
   }
  },
  {
   "cell_type": "code",
   "execution_count": null,
   "outputs": [],
   "source": [
    "df_emb = pd.read_parquet(f'../data/df_embs_preproc_{num_emb}.parquet')"
   ],
   "metadata": {
    "collapsed": false,
    "pycharm": {
     "name": "#%%\n"
    }
   }
  },
  {
   "cell_type": "code",
   "execution_count": null,
   "outputs": [],
   "source": [
    "df = pd.read_parquet('../data/all_lang_train.parquet')"
   ],
   "metadata": {
    "collapsed": false,
    "pycharm": {
     "name": "#%%\n"
    }
   }
  },
  {
   "cell_type": "code",
   "execution_count": null,
   "outputs": [],
   "source": [
    "df"
   ],
   "metadata": {
    "collapsed": false,
    "pycharm": {
     "name": "#%%\n"
    }
   }
  },
  {
   "cell_type": "code",
   "execution_count": null,
   "outputs": [],
   "source": [
    "df = df.merge(df_emb, how='left', left_on='name_1', right_on='name')\n",
    "df = df.drop(columns=['name'])\n",
    "df = df.rename({'emb': 'emb_1'}, axis=1)"
   ],
   "metadata": {
    "collapsed": false,
    "pycharm": {
     "name": "#%%\n"
    }
   }
  },
  {
   "cell_type": "code",
   "execution_count": null,
   "outputs": [],
   "source": [
    "df = df.merge(df_emb, how='left', left_on='name_2', right_on='name')\n",
    "df = df.drop(columns=['name'])\n",
    "df = df.rename({'emb': 'emb_2'}, axis=1)"
   ],
   "metadata": {
    "collapsed": false,
    "pycharm": {
     "name": "#%%\n"
    }
   }
  },
  {
   "cell_type": "code",
   "execution_count": null,
   "outputs": [],
   "source": [
    "df"
   ],
   "metadata": {
    "collapsed": false,
    "pycharm": {
     "name": "#%%\n"
    }
   }
  },
  {
   "cell_type": "code",
   "execution_count": null,
   "outputs": [],
   "source": [
    "np.stack(df.emb_1[:2]).shape"
   ],
   "metadata": {
    "collapsed": false,
    "pycharm": {
     "name": "#%%\n"
    }
   }
  },
  {
   "cell_type": "code",
   "execution_count": null,
   "outputs": [],
   "source": [
    "df_names = pd.read_parquet('../data/df_names_preproc.parquet')"
   ],
   "metadata": {
    "collapsed": false,
    "pycharm": {
     "name": "#%%\n"
    }
   }
  },
  {
   "cell_type": "code",
   "execution_count": null,
   "outputs": [],
   "source": [
    "df_names = df_names.merge(df_emb[['name', 'emb']], how='left', left_on='Names', right_on='name')\n",
    "df_names = df_names.drop(columns=['Names', 'languages_langdetect'])\n",
    "df_names = df_names.rename({'name': 'original_name', 'name_preproc':'preprocessed_name'}, axis=1)"
   ],
   "metadata": {
    "collapsed": false,
    "pycharm": {
     "name": "#%%\n"
    }
   }
  },
  {
   "cell_type": "code",
   "execution_count": null,
   "outputs": [],
   "source": [
    "df_names"
   ],
   "metadata": {
    "collapsed": false,
    "pycharm": {
     "name": "#%%\n"
    }
   }
  },
  {
   "cell_type": "code",
   "execution_count": 15,
   "outputs": [],
   "source": [],
   "metadata": {
    "collapsed": false,
    "pycharm": {
     "name": "#%%\n"
    }
   }
  },
  {
   "cell_type": "markdown",
   "source": [
    "### Add vectors to qdrant"
   ],
   "metadata": {
    "collapsed": false,
    "pycharm": {
     "name": "#%% md\n"
    }
   }
  },
  {
   "cell_type": "code",
   "execution_count": null,
   "outputs": [],
   "source": [
    "# !docker pull qdrant/qdrant"
   ],
   "metadata": {
    "collapsed": false,
    "pycharm": {
     "name": "#%%\n"
    }
   }
  },
  {
   "cell_type": "code",
   "execution_count": null,
   "outputs": [],
   "source": [
    "# !docker run --name qdrant -d -p 6333:6333 --net=bridge qdrant/qdrant"
   ],
   "metadata": {
    "collapsed": false,
    "pycharm": {
     "name": "#%%\n"
    }
   }
  },
  {
   "cell_type": "code",
   "execution_count": null,
   "outputs": [],
   "source": [
    "qdrant_client = QdrantClient(host='0.0.0.0', port=6333)"
   ],
   "metadata": {
    "collapsed": false,
    "pycharm": {
     "name": "#%%\n"
    }
   }
  },
  {
   "cell_type": "code",
   "execution_count": null,
   "outputs": [],
   "source": [
    "vectors = np.stack(df_emb.emb)\n",
    "payload = df_names[['original_name', 'preprocessed_name']].to_dict(orient='records')\n",
    "ids = df_emb.index.values.tolist()\n",
    "col_name = 'companies'\n",
    "vec_shape = vectors.shape[1]\n",
    "bs = 1024\n",
    "col = create_collection_and_upload(vectors, payload, ids, col_name, vec_shape, bs)"
   ],
   "metadata": {
    "collapsed": false,
    "pycharm": {
     "name": "#%%\n"
    }
   }
  },
  {
   "cell_type": "code",
   "execution_count": null,
   "outputs": [],
   "source": [
    "model = SentenceTransformer(emb_variations[num_emb])"
   ],
   "metadata": {
    "collapsed": false,
    "pycharm": {
     "name": "#%%\n"
    }
   }
  },
  {
   "cell_type": "code",
   "execution_count": null,
   "outputs": [],
   "source": [
    "inference('Dow Chemical International Private Ltd.', col_name, model, preproc_text=True)"
   ],
   "metadata": {
    "collapsed": false,
    "pycharm": {
     "name": "#%%\n"
    }
   }
  },
  {
   "cell_type": "code",
   "execution_count": null,
   "outputs": [],
   "source": [
    "# Select test dataset\n",
    "df_isdup = df[df.is_duplicate == 1]\n",
    "names = np.unique(np.concatenate([df_isdup.name_1, df_isdup.name_2]))"
   ],
   "metadata": {
    "collapsed": false,
    "pycharm": {
     "name": "#%%\n"
    }
   }
  },
  {
   "cell_type": "code",
   "execution_count": null,
   "outputs": [],
   "source": [
    "df_isdup[df_isdup.name_2 == 'A.P.I. APPLICAZIONI PLASTICHE INDUSTRIALI S.P.A.']"
   ],
   "metadata": {
    "collapsed": false,
    "pycharm": {
     "name": "#%%\n"
    }
   }
  },
  {
   "cell_type": "code",
   "execution_count": 81,
   "outputs": [
    {
     "data": {
      "text/plain": "                                              name_1       name_2  \\\n90601  A.P.I. Applicazioni Plastiche Industriali SPA  Trinseo API   \n\n       is_duplicate                name_preproc_x  \\\n90601             1  api applicazioni plastiche i   \n\n                                                   emb_1 name_preproc_y  \\\n90601  [-0.0022693900391459465, 0.021737772971391678,...    trinseo api   \n\n                                                   emb_2  \n90601  [0.029419247061014175, -0.1117803230881691, 0....  ",
      "text/html": "<div>\n<style scoped>\n    .dataframe tbody tr th:only-of-type {\n        vertical-align: middle;\n    }\n\n    .dataframe tbody tr th {\n        vertical-align: top;\n    }\n\n    .dataframe thead th {\n        text-align: right;\n    }\n</style>\n<table border=\"1\" class=\"dataframe\">\n  <thead>\n    <tr style=\"text-align: right;\">\n      <th></th>\n      <th>name_1</th>\n      <th>name_2</th>\n      <th>is_duplicate</th>\n      <th>name_preproc_x</th>\n      <th>emb_1</th>\n      <th>name_preproc_y</th>\n      <th>emb_2</th>\n    </tr>\n  </thead>\n  <tbody>\n    <tr>\n      <th>90601</th>\n      <td>A.P.I. Applicazioni Plastiche Industriali SPA</td>\n      <td>Trinseo API</td>\n      <td>1</td>\n      <td>api applicazioni plastiche i</td>\n      <td>[-0.0022693900391459465, 0.021737772971391678,...</td>\n      <td>trinseo api</td>\n      <td>[0.029419247061014175, -0.1117803230881691, 0....</td>\n    </tr>\n  </tbody>\n</table>\n</div>"
     },
     "execution_count": 81,
     "metadata": {},
     "output_type": "execute_result"
    }
   ],
   "source": [
    "df_isdup[df_isdup.name_1 == 'A.P.I. Applicazioni Plastiche Industriali SPA']"
   ],
   "metadata": {
    "collapsed": false,
    "pycharm": {
     "name": "#%%\n"
    }
   }
  },
  {
   "cell_type": "code",
   "execution_count": 82,
   "outputs": [
    {
     "data": {
      "text/plain": "       name_1                                            name_2  is_duplicate  \\\n29979     API     A.P.I. Applicazioni Plastiche Industriali SPA             1   \n277795    API  A.P.I. APPLICAZIONI PLASTICHE INDUSTRIALI S.P.A.             1   \n329198    API                                       Trinseo API             1   \n390564    API                                            A.P.I.             1   \n\n       name_preproc_x                                              emb_1  \\\n29979             api  [0.009276144206523895, 0.10387105494737625, -0...   \n277795            api  [0.009276144206523895, 0.10387105494737625, -0...   \n329198            api  [0.009276144206523895, 0.10387105494737625, -0...   \n390564            api  [0.009276144206523895, 0.10387105494737625, -0...   \n\n                      name_preproc_y  \\\n29979   api applicazioni plastiche i   \n277795  api applicazioni plastiche i   \n329198                   trinseo api   \n390564                           api   \n\n                                                    emb_2  \n29979   [-0.0022693900391459465, 0.021737772971391678,...  \n277795  [-0.0022693751379847527, 0.021737800911068916,...  \n329198  [0.029419247061014175, -0.1117803230881691, 0....  \n390564  [0.009276144206523895, 0.10387105494737625, -0...  ",
      "text/html": "<div>\n<style scoped>\n    .dataframe tbody tr th:only-of-type {\n        vertical-align: middle;\n    }\n\n    .dataframe tbody tr th {\n        vertical-align: top;\n    }\n\n    .dataframe thead th {\n        text-align: right;\n    }\n</style>\n<table border=\"1\" class=\"dataframe\">\n  <thead>\n    <tr style=\"text-align: right;\">\n      <th></th>\n      <th>name_1</th>\n      <th>name_2</th>\n      <th>is_duplicate</th>\n      <th>name_preproc_x</th>\n      <th>emb_1</th>\n      <th>name_preproc_y</th>\n      <th>emb_2</th>\n    </tr>\n  </thead>\n  <tbody>\n    <tr>\n      <th>29979</th>\n      <td>API</td>\n      <td>A.P.I. Applicazioni Plastiche Industriali SPA</td>\n      <td>1</td>\n      <td>api</td>\n      <td>[0.009276144206523895, 0.10387105494737625, -0...</td>\n      <td>api applicazioni plastiche i</td>\n      <td>[-0.0022693900391459465, 0.021737772971391678,...</td>\n    </tr>\n    <tr>\n      <th>277795</th>\n      <td>API</td>\n      <td>A.P.I. APPLICAZIONI PLASTICHE INDUSTRIALI S.P.A.</td>\n      <td>1</td>\n      <td>api</td>\n      <td>[0.009276144206523895, 0.10387105494737625, -0...</td>\n      <td>api applicazioni plastiche i</td>\n      <td>[-0.0022693751379847527, 0.021737800911068916,...</td>\n    </tr>\n    <tr>\n      <th>329198</th>\n      <td>API</td>\n      <td>Trinseo API</td>\n      <td>1</td>\n      <td>api</td>\n      <td>[0.009276144206523895, 0.10387105494737625, -0...</td>\n      <td>trinseo api</td>\n      <td>[0.029419247061014175, -0.1117803230881691, 0....</td>\n    </tr>\n    <tr>\n      <th>390564</th>\n      <td>API</td>\n      <td>A.P.I.</td>\n      <td>1</td>\n      <td>api</td>\n      <td>[0.009276144206523895, 0.10387105494737625, -0...</td>\n      <td>api</td>\n      <td>[0.009276144206523895, 0.10387105494737625, -0...</td>\n    </tr>\n  </tbody>\n</table>\n</div>"
     },
     "execution_count": 82,
     "metadata": {},
     "output_type": "execute_result"
    }
   ],
   "source": [
    "df_isdup[df_isdup.name_1 == 'API']"
   ],
   "metadata": {
    "collapsed": false,
    "pycharm": {
     "name": "#%%\n"
    }
   }
  },
  {
   "cell_type": "code",
   "execution_count": 82,
   "outputs": [],
   "source": [],
   "metadata": {
    "collapsed": false,
    "pycharm": {
     "name": "#%%\n"
    }
   }
  },
  {
   "cell_type": "code",
   "execution_count": null,
   "outputs": [],
   "source": [
    "unique_groups = get_unique_groups(names, df_isdup)"
   ],
   "metadata": {
    "collapsed": false,
    "pycharm": {
     "name": "#%%\n"
    }
   }
  },
  {
   "cell_type": "code",
   "execution_count": null,
   "outputs": [],
   "source": [
    "unique_groups"
   ],
   "metadata": {
    "collapsed": false,
    "pycharm": {
     "name": "#%%\n"
    }
   }
  },
  {
   "cell_type": "code",
   "execution_count": null,
   "outputs": [],
   "source": [],
   "metadata": {
    "collapsed": false,
    "pycharm": {
     "name": "#%%\n"
    }
   }
  },
  {
   "cell_type": "code",
   "execution_count": 161,
   "outputs": [
    {
     "data": {
      "text/plain": "                                                 name_1     name_2  \\\n1328                              Lohmann GmbH & Co. KG  SO.F.TER.   \n4332    ANKARA INSAAT TICARET ve SANAYI LIMITED SIRKETI  SO.F.TER.   \n12029                                       POLYMERTEAM  SO.F.TER.   \n13804                                 Joss Holding B.V.  SO.F.TER.   \n22179                                         MCASPHALT  SO.F.TER.   \n...                                                 ...        ...   \n483258                                       PAVIMENTAL  SO.F.TER.   \n485337                                         PROTRADE  SO.F.TER.   \n490856                                             PORR  SO.F.TER.   \n492066                          Rompetrol Rafinare S.A.  SO.F.TER.   \n493966                    KVK Corporation (JASDAQ:6484)  SO.F.TER.   \n\n        is_duplicate                                   name_preproc_x  \\\n1328               0                                     lohmann & kg   \n4332               0  ankara insaat ticaret ve sanayi limited sirketi   \n12029              0                                      polymerteam   \n13804              0                                  joss holding bv   \n22179              0                                        mcasphalt   \n...              ...                                              ...   \n483258             0                                       pavimental   \n485337             0                                         protrade   \n490856             0                                             porr   \n492066             0                               rompetrol rafinare   \n493966             0                                              kvk   \n\n                                                    emb_1 name_preproc_y  \\\n1328    [-0.00794435478746891, 0.024964027106761932, 0...         softer   \n4332    [0.024160169064998627, -0.051298387348651886, ...         softer   \n12029   [-0.007658825255930424, 0.023627055808901787, ...         softer   \n13804   [0.0007745528127998114, 0.012520086951553822, ...         softer   \n22179   [0.049031779170036316, -0.008015838451683521, ...         softer   \n...                                                   ...            ...   \n483258  [-0.004661908373236656, -0.006784559227526188,...         softer   \n485337  [0.000575021025724709, -0.023494573310017586, ...         softer   \n490856  [0.011393015272915363, -0.007374722044914961, ...         softer   \n492066  [0.005357269197702408, -0.008388257585465908, ...         softer   \n493966  [0.016695046797394753, 0.02653193101286888, -0...         softer   \n\n                                                    emb_2  \n1328    [-0.06651424616575241, -0.02606678567826748, 0...  \n4332    [-0.06651424616575241, -0.02606678567826748, 0...  \n12029   [-0.06651424616575241, -0.02606678567826748, 0...  \n13804   [-0.06651424616575241, -0.02606678567826748, 0...  \n22179   [-0.06651424616575241, -0.02606678567826748, 0...  \n...                                                   ...  \n483258  [-0.06651424616575241, -0.02606678567826748, 0...  \n485337  [-0.06651424616575241, -0.02606678567826748, 0...  \n490856  [-0.06651424616575241, -0.02606678567826748, 0...  \n492066  [-0.06651424616575241, -0.02606678567826748, 0...  \n493966  [-0.06651424616575241, -0.02606678567826748, 0...  \n\n[98 rows x 7 columns]",
      "text/html": "<div>\n<style scoped>\n    .dataframe tbody tr th:only-of-type {\n        vertical-align: middle;\n    }\n\n    .dataframe tbody tr th {\n        vertical-align: top;\n    }\n\n    .dataframe thead th {\n        text-align: right;\n    }\n</style>\n<table border=\"1\" class=\"dataframe\">\n  <thead>\n    <tr style=\"text-align: right;\">\n      <th></th>\n      <th>name_1</th>\n      <th>name_2</th>\n      <th>is_duplicate</th>\n      <th>name_preproc_x</th>\n      <th>emb_1</th>\n      <th>name_preproc_y</th>\n      <th>emb_2</th>\n    </tr>\n  </thead>\n  <tbody>\n    <tr>\n      <th>1328</th>\n      <td>Lohmann GmbH &amp; Co. KG</td>\n      <td>SO.F.TER.</td>\n      <td>0</td>\n      <td>lohmann &amp; kg</td>\n      <td>[-0.00794435478746891, 0.024964027106761932, 0...</td>\n      <td>softer</td>\n      <td>[-0.06651424616575241, -0.02606678567826748, 0...</td>\n    </tr>\n    <tr>\n      <th>4332</th>\n      <td>ANKARA INSAAT TICARET ve SANAYI LIMITED SIRKETI</td>\n      <td>SO.F.TER.</td>\n      <td>0</td>\n      <td>ankara insaat ticaret ve sanayi limited sirketi</td>\n      <td>[0.024160169064998627, -0.051298387348651886, ...</td>\n      <td>softer</td>\n      <td>[-0.06651424616575241, -0.02606678567826748, 0...</td>\n    </tr>\n    <tr>\n      <th>12029</th>\n      <td>POLYMERTEAM</td>\n      <td>SO.F.TER.</td>\n      <td>0</td>\n      <td>polymerteam</td>\n      <td>[-0.007658825255930424, 0.023627055808901787, ...</td>\n      <td>softer</td>\n      <td>[-0.06651424616575241, -0.02606678567826748, 0...</td>\n    </tr>\n    <tr>\n      <th>13804</th>\n      <td>Joss Holding B.V.</td>\n      <td>SO.F.TER.</td>\n      <td>0</td>\n      <td>joss holding bv</td>\n      <td>[0.0007745528127998114, 0.012520086951553822, ...</td>\n      <td>softer</td>\n      <td>[-0.06651424616575241, -0.02606678567826748, 0...</td>\n    </tr>\n    <tr>\n      <th>22179</th>\n      <td>MCASPHALT</td>\n      <td>SO.F.TER.</td>\n      <td>0</td>\n      <td>mcasphalt</td>\n      <td>[0.049031779170036316, -0.008015838451683521, ...</td>\n      <td>softer</td>\n      <td>[-0.06651424616575241, -0.02606678567826748, 0...</td>\n    </tr>\n    <tr>\n      <th>...</th>\n      <td>...</td>\n      <td>...</td>\n      <td>...</td>\n      <td>...</td>\n      <td>...</td>\n      <td>...</td>\n      <td>...</td>\n    </tr>\n    <tr>\n      <th>483258</th>\n      <td>PAVIMENTAL</td>\n      <td>SO.F.TER.</td>\n      <td>0</td>\n      <td>pavimental</td>\n      <td>[-0.004661908373236656, -0.006784559227526188,...</td>\n      <td>softer</td>\n      <td>[-0.06651424616575241, -0.02606678567826748, 0...</td>\n    </tr>\n    <tr>\n      <th>485337</th>\n      <td>PROTRADE</td>\n      <td>SO.F.TER.</td>\n      <td>0</td>\n      <td>protrade</td>\n      <td>[0.000575021025724709, -0.023494573310017586, ...</td>\n      <td>softer</td>\n      <td>[-0.06651424616575241, -0.02606678567826748, 0...</td>\n    </tr>\n    <tr>\n      <th>490856</th>\n      <td>PORR</td>\n      <td>SO.F.TER.</td>\n      <td>0</td>\n      <td>porr</td>\n      <td>[0.011393015272915363, -0.007374722044914961, ...</td>\n      <td>softer</td>\n      <td>[-0.06651424616575241, -0.02606678567826748, 0...</td>\n    </tr>\n    <tr>\n      <th>492066</th>\n      <td>Rompetrol Rafinare S.A.</td>\n      <td>SO.F.TER.</td>\n      <td>0</td>\n      <td>rompetrol rafinare</td>\n      <td>[0.005357269197702408, -0.008388257585465908, ...</td>\n      <td>softer</td>\n      <td>[-0.06651424616575241, -0.02606678567826748, 0...</td>\n    </tr>\n    <tr>\n      <th>493966</th>\n      <td>KVK Corporation (JASDAQ:6484)</td>\n      <td>SO.F.TER.</td>\n      <td>0</td>\n      <td>kvk</td>\n      <td>[0.016695046797394753, 0.02653193101286888, -0...</td>\n      <td>softer</td>\n      <td>[-0.06651424616575241, -0.02606678567826748, 0...</td>\n    </tr>\n  </tbody>\n</table>\n<p>98 rows × 7 columns</p>\n</div>"
     },
     "execution_count": 161,
     "metadata": {},
     "output_type": "execute_result"
    }
   ],
   "source": [
    "df[df.name_2 == 'SO.F.TER.']"
   ],
   "metadata": {
    "collapsed": false,
    "pycharm": {
     "name": "#%%\n"
    }
   }
  },
  {
   "cell_type": "code",
   "execution_count": 163,
   "outputs": [
    {
     "data": {
      "text/plain": "               name_1          name_2  is_duplicate name_preproc_x  \\\n86652  Softer Us Inc.   SO.F.TER. SPA             1      softer us   \n\n                                                   emb_1 name_preproc_y  \\\n86652  [-0.09364961832761765, -0.05149330943822861, 0...         softer   \n\n                                                   emb_2  \n86652  [-0.06651424616575241, -0.02606678567826748, 0...  ",
      "text/html": "<div>\n<style scoped>\n    .dataframe tbody tr th:only-of-type {\n        vertical-align: middle;\n    }\n\n    .dataframe tbody tr th {\n        vertical-align: top;\n    }\n\n    .dataframe thead th {\n        text-align: right;\n    }\n</style>\n<table border=\"1\" class=\"dataframe\">\n  <thead>\n    <tr style=\"text-align: right;\">\n      <th></th>\n      <th>name_1</th>\n      <th>name_2</th>\n      <th>is_duplicate</th>\n      <th>name_preproc_x</th>\n      <th>emb_1</th>\n      <th>name_preproc_y</th>\n      <th>emb_2</th>\n    </tr>\n  </thead>\n  <tbody>\n    <tr>\n      <th>86652</th>\n      <td>Softer Us Inc.</td>\n      <td>SO.F.TER. SPA</td>\n      <td>1</td>\n      <td>softer us</td>\n      <td>[-0.09364961832761765, -0.05149330943822861, 0...</td>\n      <td>softer</td>\n      <td>[-0.06651424616575241, -0.02606678567826748, 0...</td>\n    </tr>\n  </tbody>\n</table>\n</div>"
     },
     "execution_count": 163,
     "metadata": {},
     "output_type": "execute_result"
    }
   ],
   "source": [
    "df[df.name_2 == ' SO.F.TER. SPA']"
   ],
   "metadata": {
    "collapsed": false,
    "pycharm": {
     "name": "#%%\n"
    }
   }
  },
  {
   "cell_type": "code",
   "execution_count": 56,
   "outputs": [
    {
     "data": {
      "text/plain": "array(['Fenner Dunlop (Toledo), Llc'], dtype=object)"
     },
     "execution_count": 56,
     "metadata": {},
     "output_type": "execute_result"
    }
   ],
   "source": [
    "names[names == 'Fenner Dunlop (Toledo), Llc']"
   ],
   "metadata": {
    "collapsed": false,
    "pycharm": {
     "name": "#%%\n"
    }
   }
  },
  {
   "cell_type": "code",
   "execution_count": 197,
   "outputs": [
    {
     "data": {
      "text/plain": "               name_1          name_2  is_duplicate name_preproc_x  \\\n86652  Softer Us Inc.   SO.F.TER. SPA             1      softer us   \n\n                                                   emb_1 name_preproc_y  \\\n86652  [-0.09364961832761765, -0.05149330943822861, 0...         softer   \n\n                                                   emb_2  \n86652  [-0.06651424616575241, -0.02606678567826748, 0...  ",
      "text/html": "<div>\n<style scoped>\n    .dataframe tbody tr th:only-of-type {\n        vertical-align: middle;\n    }\n\n    .dataframe tbody tr th {\n        vertical-align: top;\n    }\n\n    .dataframe thead th {\n        text-align: right;\n    }\n</style>\n<table border=\"1\" class=\"dataframe\">\n  <thead>\n    <tr style=\"text-align: right;\">\n      <th></th>\n      <th>name_1</th>\n      <th>name_2</th>\n      <th>is_duplicate</th>\n      <th>name_preproc_x</th>\n      <th>emb_1</th>\n      <th>name_preproc_y</th>\n      <th>emb_2</th>\n    </tr>\n  </thead>\n  <tbody>\n    <tr>\n      <th>86652</th>\n      <td>Softer Us Inc.</td>\n      <td>SO.F.TER. SPA</td>\n      <td>1</td>\n      <td>softer us</td>\n      <td>[-0.09364961832761765, -0.05149330943822861, 0...</td>\n      <td>softer</td>\n      <td>[-0.06651424616575241, -0.02606678567826748, 0...</td>\n    </tr>\n  </tbody>\n</table>\n</div>"
     },
     "execution_count": 197,
     "metadata": {},
     "output_type": "execute_result"
    }
   ],
   "source": [
    "df[df.name_2 == ' SO.F.TER. SPA']"
   ],
   "metadata": {
    "collapsed": false,
    "pycharm": {
     "name": "#%%\n"
    }
   }
  },
  {
   "cell_type": "code",
   "execution_count": 186,
   "outputs": [
    {
     "data": {
      "text/plain": "Empty DataFrame\nColumns: [name_1, name_2, is_duplicate, name_preproc_x, emb_1, name_preproc_y, emb_2]\nIndex: []",
      "text/html": "<div>\n<style scoped>\n    .dataframe tbody tr th:only-of-type {\n        vertical-align: middle;\n    }\n\n    .dataframe tbody tr th {\n        vertical-align: top;\n    }\n\n    .dataframe thead th {\n        text-align: right;\n    }\n</style>\n<table border=\"1\" class=\"dataframe\">\n  <thead>\n    <tr style=\"text-align: right;\">\n      <th></th>\n      <th>name_1</th>\n      <th>name_2</th>\n      <th>is_duplicate</th>\n      <th>name_preproc_x</th>\n      <th>emb_1</th>\n      <th>name_preproc_y</th>\n      <th>emb_2</th>\n    </tr>\n  </thead>\n  <tbody>\n  </tbody>\n</table>\n</div>"
     },
     "execution_count": 186,
     "metadata": {},
     "output_type": "execute_result"
    }
   ],
   "source": [
    "df[(df.name_2 == 'Softer Us Inc.') & (df.is_duplicate != 1)]"
   ],
   "metadata": {
    "collapsed": false,
    "pycharm": {
     "name": "#%%\n"
    }
   }
  },
  {
   "cell_type": "code",
   "execution_count": 83,
   "outputs": [
    {
     "data": {
      "text/plain": "'alibesa'"
     },
     "execution_count": 83,
     "metadata": {},
     "output_type": "execute_result"
    }
   ],
   "source": [
    "preproc('ALIBESA', stopwords)"
   ],
   "metadata": {
    "collapsed": false,
    "pycharm": {
     "name": "#%%\n"
    }
   }
  },
  {
   "cell_type": "code",
   "execution_count": 25,
   "outputs": [],
   "source": [
    "names_test = [n[0] for n in unique_groups]"
   ],
   "metadata": {
    "collapsed": false,
    "pycharm": {
     "name": "#%%\n"
    }
   }
  },
  {
   "cell_type": "code",
   "execution_count": null,
   "outputs": [],
   "source": [
    "unique_groups = get_unique_groups(names, df_isdup)"
   ],
   "metadata": {
    "collapsed": false,
    "pycharm": {
     "name": "#%%\n"
    }
   }
  },
  {
   "cell_type": "code",
   "execution_count": null,
   "outputs": [],
   "source": [
    "map_score = precision_score_at_k(1,\n",
    "                                 names,#[19:],\n",
    "                                 unique_groups,\n",
    "                                 model,\n",
    "                                 df_emb.rename({'name':'tmp', 'name_preproc': 'name'}, axis=1),\n",
    "                                 col_name,\n",
    "                                 debug=False, preproc_text=True\n",
    "                                 )"
   ],
   "metadata": {
    "collapsed": false,
    "pycharm": {
     "name": "#%%\n"
    }
   }
  },
  {
   "cell_type": "code",
   "execution_count": null,
   "outputs": [],
   "source": [
    "print(f'Precision@1={len(map_score) / len(names)}')"
   ],
   "metadata": {
    "collapsed": false,
    "pycharm": {
     "name": "#%%\n"
    }
   }
  },
  {
   "cell_type": "code",
   "execution_count": null,
   "outputs": [],
   "source": [],
   "metadata": {
    "collapsed": false,
    "pycharm": {
     "name": "#%%\n"
    }
   }
  },
  {
   "cell_type": "code",
   "execution_count": null,
   "outputs": [],
   "source": [],
   "metadata": {
    "collapsed": false,
    "pycharm": {
     "name": "#%%\n"
    }
   }
  },
  {
   "cell_type": "code",
   "execution_count": null,
   "outputs": [],
   "source": [],
   "metadata": {
    "collapsed": false,
    "pycharm": {
     "name": "#%%\n"
    }
   }
  },
  {
   "cell_type": "markdown",
   "source": [
    "# Experiment 3\n",
    "# Quaterion\n",
    "Here we fine tune pretrained SentenceEmbeddings models with Quaterion"
   ],
   "metadata": {
    "collapsed": false,
    "pycharm": {
     "name": "#%% md\n"
    }
   }
  },
  {
   "cell_type": "code",
   "execution_count": 123,
   "outputs": [],
   "source": [
    "df_emb = pd.read_parquet(f'../data/df_embs_preproc_{num_emb}.parquet')"
   ],
   "metadata": {
    "collapsed": false,
    "pycharm": {
     "name": "#%%\n"
    }
   }
  },
  {
   "cell_type": "code",
   "execution_count": 124,
   "outputs": [],
   "source": [
    "df = pd.read_parquet('../data/all_lang_train.parquet')"
   ],
   "metadata": {
    "collapsed": false,
    "pycharm": {
     "name": "#%%\n"
    }
   }
  },
  {
   "cell_type": "code",
   "execution_count": 125,
   "outputs": [],
   "source": [
    "df = df.merge(df_emb, how='left', left_on='name_1', right_on='name')\n",
    "df = df.drop(columns=['name'])\n",
    "df = df.rename({'emb': 'emb_1'}, axis=1)"
   ],
   "metadata": {
    "collapsed": false,
    "pycharm": {
     "name": "#%%\n"
    }
   }
  },
  {
   "cell_type": "code",
   "execution_count": 126,
   "outputs": [],
   "source": [
    "df = df.merge(df_emb, how='left', left_on='name_2', right_on='name')\n",
    "df = df.drop(columns=['name'])\n",
    "df = df.rename({'emb': 'emb_2'}, axis=1)"
   ],
   "metadata": {
    "collapsed": false,
    "pycharm": {
     "name": "#%%\n"
    }
   }
  },
  {
   "cell_type": "code",
   "execution_count": 127,
   "outputs": [
    {
     "data": {
      "text/plain": "                                              name_1  \\\n0                                Iko Industries Ltd.   \n1                            Apcotex Industries Ltd.   \n2                  Rishichem Distributors Pvt., Ltd.   \n3                            Powermax Rubber Factory   \n4                                          Tress A/S   \n...                                              ...   \n497567                              BIT-MAT PRODUCTS   \n497568                         Bnd Trading Co., Ltd.   \n497569  Xeikon Industrial Co., Ltd. Of Dongguan City   \n497570            Shanghai Kechuan Trading Co., Ltd.   \n497571                        Dih Wei Industries Co.   \n\n                                                   name_2  is_duplicate  \\\n0                    Enormous Industrial Trade Pvt., Ltd.             0   \n1                     Technocraft Industries (India) Ltd.             0   \n2                                                     Dsa             0   \n3                                                 Co. One             0   \n4                        Longyou Industries Park Zhejiang             0   \n...                                                   ...           ...   \n497567               The Goodyear Tire and Rubber Company             0   \n497568  Zhong Shan Yue Liang Economy& Trade Imp. & Exp...             0   \n497569        Yi Cheng Trading Co., Ltd. Of Dongguan City             0   \n497570                       Shanghai M&G Stationery Inc.             0   \n497571                    Burlington Industries Corporate             0   \n\n                  name_preproc_x  \\\n0                            iko   \n1                        apcotex   \n2         rishichem distributors   \n3        powermax rubber factory   \n4                          tress   \n...                          ...   \n497567          bit mat products   \n497568               bnd trading   \n497569   xeikon of dongguan city   \n497570  shanghai kechuan trading   \n497571                   dih wei   \n\n                                                    emb_1  \\\n0       [-0.19439682364463806, 0.25839725136756897, -0...   \n1       [-0.3500242829322815, 0.05114082247018814, -0....   \n2       [-0.11705498397350311, -0.367933452129364, -0....   \n3       [-0.4058910608291626, 0.42498621344566345, 0.0...   \n4       [-0.3934316337108612, -0.05785433202981949, 0....   \n...                                                   ...   \n497567  [-0.1815347820520401, -0.16408121585845947, 0....   \n497568  [-0.380824476480484, 0.19009342789649963, -0.1...   \n497569  [-0.004541510250419378, 0.15645372867584229, 0...   \n497570  [-0.10921867936849594, -0.3104268014431, -0.23...   \n497571  [0.06432615965604782, 0.5668789148330688, -0.3...   \n\n                              name_preproc_y  \\\n0                             enormous trade   \n1                                technocraft   \n2                                        dsa   \n3                                        one   \n4                      longyou park zhejiang   \n...                                      ...   \n497567  the goodyear tire and rubber company   \n497568   zhong shan yue liang economy& trade   \n497569     yi cheng trading of dongguan city   \n497570               shanghai m&g stationery   \n497571                  burlington corporate   \n\n                                                    emb_2  \n0       [-0.010587654076516628, -0.43423140048980713, ...  \n1       [0.03335000202059746, 0.18506525456905365, 0.0...  \n2       [-0.23276162147521973, -0.5193449854850769, -0...  \n3       [-0.1291559636592865, 0.176286518573761, -0.25...  \n4       [0.5160265564918518, 0.605634331703186, 0.1857...  \n...                                                   ...  \n497567  [-0.10538887977600098, 0.2958035469055176, -0....  \n497568  [-0.13692092895507812, 0.039321813732385635, 0...  \n497569  [-0.08541423082351685, -0.10143561661243439, -...  \n497570  [0.00526794046163559, 0.21739764511585236, 0.1...  \n497571  [-0.24989987909793854, 0.0813525915145874, 0.0...  \n\n[497572 rows x 7 columns]",
      "text/html": "<div>\n<style scoped>\n    .dataframe tbody tr th:only-of-type {\n        vertical-align: middle;\n    }\n\n    .dataframe tbody tr th {\n        vertical-align: top;\n    }\n\n    .dataframe thead th {\n        text-align: right;\n    }\n</style>\n<table border=\"1\" class=\"dataframe\">\n  <thead>\n    <tr style=\"text-align: right;\">\n      <th></th>\n      <th>name_1</th>\n      <th>name_2</th>\n      <th>is_duplicate</th>\n      <th>name_preproc_x</th>\n      <th>emb_1</th>\n      <th>name_preproc_y</th>\n      <th>emb_2</th>\n    </tr>\n  </thead>\n  <tbody>\n    <tr>\n      <th>0</th>\n      <td>Iko Industries Ltd.</td>\n      <td>Enormous Industrial Trade Pvt., Ltd.</td>\n      <td>0</td>\n      <td>iko</td>\n      <td>[-0.19439682364463806, 0.25839725136756897, -0...</td>\n      <td>enormous trade</td>\n      <td>[-0.010587654076516628, -0.43423140048980713, ...</td>\n    </tr>\n    <tr>\n      <th>1</th>\n      <td>Apcotex Industries Ltd.</td>\n      <td>Technocraft Industries (India) Ltd.</td>\n      <td>0</td>\n      <td>apcotex</td>\n      <td>[-0.3500242829322815, 0.05114082247018814, -0....</td>\n      <td>technocraft</td>\n      <td>[0.03335000202059746, 0.18506525456905365, 0.0...</td>\n    </tr>\n    <tr>\n      <th>2</th>\n      <td>Rishichem Distributors Pvt., Ltd.</td>\n      <td>Dsa</td>\n      <td>0</td>\n      <td>rishichem distributors</td>\n      <td>[-0.11705498397350311, -0.367933452129364, -0....</td>\n      <td>dsa</td>\n      <td>[-0.23276162147521973, -0.5193449854850769, -0...</td>\n    </tr>\n    <tr>\n      <th>3</th>\n      <td>Powermax Rubber Factory</td>\n      <td>Co. One</td>\n      <td>0</td>\n      <td>powermax rubber factory</td>\n      <td>[-0.4058910608291626, 0.42498621344566345, 0.0...</td>\n      <td>one</td>\n      <td>[-0.1291559636592865, 0.176286518573761, -0.25...</td>\n    </tr>\n    <tr>\n      <th>4</th>\n      <td>Tress A/S</td>\n      <td>Longyou Industries Park Zhejiang</td>\n      <td>0</td>\n      <td>tress</td>\n      <td>[-0.3934316337108612, -0.05785433202981949, 0....</td>\n      <td>longyou park zhejiang</td>\n      <td>[0.5160265564918518, 0.605634331703186, 0.1857...</td>\n    </tr>\n    <tr>\n      <th>...</th>\n      <td>...</td>\n      <td>...</td>\n      <td>...</td>\n      <td>...</td>\n      <td>...</td>\n      <td>...</td>\n      <td>...</td>\n    </tr>\n    <tr>\n      <th>497567</th>\n      <td>BIT-MAT PRODUCTS</td>\n      <td>The Goodyear Tire and Rubber Company</td>\n      <td>0</td>\n      <td>bit mat products</td>\n      <td>[-0.1815347820520401, -0.16408121585845947, 0....</td>\n      <td>the goodyear tire and rubber company</td>\n      <td>[-0.10538887977600098, 0.2958035469055176, -0....</td>\n    </tr>\n    <tr>\n      <th>497568</th>\n      <td>Bnd Trading Co., Ltd.</td>\n      <td>Zhong Shan Yue Liang Economy&amp; Trade Imp. &amp; Exp...</td>\n      <td>0</td>\n      <td>bnd trading</td>\n      <td>[-0.380824476480484, 0.19009342789649963, -0.1...</td>\n      <td>zhong shan yue liang economy&amp; trade</td>\n      <td>[-0.13692092895507812, 0.039321813732385635, 0...</td>\n    </tr>\n    <tr>\n      <th>497569</th>\n      <td>Xeikon Industrial Co., Ltd. Of Dongguan City</td>\n      <td>Yi Cheng Trading Co., Ltd. Of Dongguan City</td>\n      <td>0</td>\n      <td>xeikon of dongguan city</td>\n      <td>[-0.004541510250419378, 0.15645372867584229, 0...</td>\n      <td>yi cheng trading of dongguan city</td>\n      <td>[-0.08541423082351685, -0.10143561661243439, -...</td>\n    </tr>\n    <tr>\n      <th>497570</th>\n      <td>Shanghai Kechuan Trading Co., Ltd.</td>\n      <td>Shanghai M&amp;G Stationery Inc.</td>\n      <td>0</td>\n      <td>shanghai kechuan trading</td>\n      <td>[-0.10921867936849594, -0.3104268014431, -0.23...</td>\n      <td>shanghai m&amp;g stationery</td>\n      <td>[0.00526794046163559, 0.21739764511585236, 0.1...</td>\n    </tr>\n    <tr>\n      <th>497571</th>\n      <td>Dih Wei Industries Co.</td>\n      <td>Burlington Industries Corporate</td>\n      <td>0</td>\n      <td>dih wei</td>\n      <td>[0.06432615965604782, 0.5668789148330688, -0.3...</td>\n      <td>burlington corporate</td>\n      <td>[-0.24989987909793854, 0.0813525915145874, 0.0...</td>\n    </tr>\n  </tbody>\n</table>\n<p>497572 rows × 7 columns</p>\n</div>"
     },
     "execution_count": 127,
     "metadata": {},
     "output_type": "execute_result"
    }
   ],
   "source": [
    "df"
   ],
   "metadata": {
    "collapsed": false,
    "pycharm": {
     "name": "#%%\n"
    }
   }
  },
  {
   "cell_type": "code",
   "execution_count": 128,
   "outputs": [],
   "source": [
    "df_names = pd.read_parquet('../data/df_names_preproc.parquet')"
   ],
   "metadata": {
    "collapsed": false,
    "pycharm": {
     "name": "#%%\n"
    }
   }
  },
  {
   "cell_type": "code",
   "execution_count": 129,
   "outputs": [],
   "source": [
    "df_names = df_names.merge(df_emb[['name', 'emb']], how='left', left_on='Names', right_on='name')\n",
    "df_names = df_names.drop(columns=['Names', 'languages_langdetect'])\n",
    "df_names = df_names.rename({'name': 'original_name', 'name_preproc':'preprocessed_name'}, axis=1)"
   ],
   "metadata": {
    "collapsed": false,
    "pycharm": {
     "name": "#%%\n"
    }
   }
  },
  {
   "cell_type": "code",
   "execution_count": 130,
   "outputs": [
    {
     "data": {
      "text/plain": "                               preprocessed_name  \\\n0                                            iko   \n1                                        apcotex   \n2                         rishichem distributors   \n3                        powermax rubber factory   \n4                                          tress   \n...                                          ...   \n18017                          plastic packaging   \n18018  hengshui mechanical & electrical building   \n18019                   jiangsu baoli investment   \n18020                                 lanxess ag   \n18021                          tgi import export   \n\n                                           original_name  \\\n0                                    Iko Industries Ltd.   \n1                                Apcotex Industries Ltd.   \n2                      Rishichem Distributors Pvt., Ltd.   \n3                                Powermax Rubber Factory   \n4                                              Tress A/S   \n...                                                  ...   \n18017                       Plastic Packaging (Pty) Ltd.   \n18018  'Hengshui Mechanical & Electrical Building Co....   \n18019  Jiangsu Baoli International Investment Co., Lt...   \n18020                                         Lanxess AG   \n18021                        TGI IMPORT EXPORT CO., LTD.   \n\n                                                     emb  \n0      [-0.19439682364463806, 0.25839725136756897, -0...  \n1      [-0.3500242829322815, 0.05114082247018814, -0....  \n2      [-0.11705498397350311, -0.367933452129364, -0....  \n3      [-0.4058910608291626, 0.42498621344566345, 0.0...  \n4      [-0.3934316337108612, -0.05785433202981949, 0....  \n...                                                  ...  \n18017  [-0.25402212142944336, -0.17969439923763275, 0...  \n18018  [0.19610990583896637, 0.4086482524871826, -0.1...  \n18019  [0.07093257457017899, 0.21796780824661255, -0....  \n18020  [-0.13746507465839386, -0.15307718515396118, 0...  \n18021  [0.11847897619009018, -0.19068725407123566, 0....  \n\n[18022 rows x 3 columns]",
      "text/html": "<div>\n<style scoped>\n    .dataframe tbody tr th:only-of-type {\n        vertical-align: middle;\n    }\n\n    .dataframe tbody tr th {\n        vertical-align: top;\n    }\n\n    .dataframe thead th {\n        text-align: right;\n    }\n</style>\n<table border=\"1\" class=\"dataframe\">\n  <thead>\n    <tr style=\"text-align: right;\">\n      <th></th>\n      <th>preprocessed_name</th>\n      <th>original_name</th>\n      <th>emb</th>\n    </tr>\n  </thead>\n  <tbody>\n    <tr>\n      <th>0</th>\n      <td>iko</td>\n      <td>Iko Industries Ltd.</td>\n      <td>[-0.19439682364463806, 0.25839725136756897, -0...</td>\n    </tr>\n    <tr>\n      <th>1</th>\n      <td>apcotex</td>\n      <td>Apcotex Industries Ltd.</td>\n      <td>[-0.3500242829322815, 0.05114082247018814, -0....</td>\n    </tr>\n    <tr>\n      <th>2</th>\n      <td>rishichem distributors</td>\n      <td>Rishichem Distributors Pvt., Ltd.</td>\n      <td>[-0.11705498397350311, -0.367933452129364, -0....</td>\n    </tr>\n    <tr>\n      <th>3</th>\n      <td>powermax rubber factory</td>\n      <td>Powermax Rubber Factory</td>\n      <td>[-0.4058910608291626, 0.42498621344566345, 0.0...</td>\n    </tr>\n    <tr>\n      <th>4</th>\n      <td>tress</td>\n      <td>Tress A/S</td>\n      <td>[-0.3934316337108612, -0.05785433202981949, 0....</td>\n    </tr>\n    <tr>\n      <th>...</th>\n      <td>...</td>\n      <td>...</td>\n      <td>...</td>\n    </tr>\n    <tr>\n      <th>18017</th>\n      <td>plastic packaging</td>\n      <td>Plastic Packaging (Pty) Ltd.</td>\n      <td>[-0.25402212142944336, -0.17969439923763275, 0...</td>\n    </tr>\n    <tr>\n      <th>18018</th>\n      <td>hengshui mechanical &amp; electrical building</td>\n      <td>'Hengshui Mechanical &amp; Electrical Building Co....</td>\n      <td>[0.19610990583896637, 0.4086482524871826, -0.1...</td>\n    </tr>\n    <tr>\n      <th>18019</th>\n      <td>jiangsu baoli investment</td>\n      <td>Jiangsu Baoli International Investment Co., Lt...</td>\n      <td>[0.07093257457017899, 0.21796780824661255, -0....</td>\n    </tr>\n    <tr>\n      <th>18020</th>\n      <td>lanxess ag</td>\n      <td>Lanxess AG</td>\n      <td>[-0.13746507465839386, -0.15307718515396118, 0...</td>\n    </tr>\n    <tr>\n      <th>18021</th>\n      <td>tgi import export</td>\n      <td>TGI IMPORT EXPORT CO., LTD.</td>\n      <td>[0.11847897619009018, -0.19068725407123566, 0....</td>\n    </tr>\n  </tbody>\n</table>\n<p>18022 rows × 3 columns</p>\n</div>"
     },
     "execution_count": 130,
     "metadata": {},
     "output_type": "execute_result"
    }
   ],
   "source": [
    "df_names"
   ],
   "metadata": {
    "collapsed": false,
    "pycharm": {
     "name": "#%%\n"
    }
   }
  },
  {
   "cell_type": "code",
   "execution_count": 131,
   "outputs": [],
   "source": [
    "qdrant_client = QdrantClient(host='0.0.0.0', port=6333)"
   ],
   "metadata": {
    "collapsed": false,
    "pycharm": {
     "name": "#%%\n"
    }
   }
  },
  {
   "cell_type": "code",
   "execution_count": 132,
   "outputs": [],
   "source": [
    "vectors = np.stack(df_emb.emb)\n",
    "payload = df_names[['original_name', 'preprocessed_name']].to_dict(orient='records')\n",
    "ids = df_emb.index.values.tolist()\n",
    "col_name = 'companies'\n",
    "vec_shape = vectors.shape[1]\n",
    "bs = 1024\n",
    "col = create_collection_and_upload(vectors, payload, ids, col_name, vec_shape, bs)"
   ],
   "metadata": {
    "collapsed": false,
    "pycharm": {
     "name": "#%%\n"
    }
   }
  },
  {
   "cell_type": "code",
   "execution_count": 133,
   "outputs": [],
   "source": [
    "model = SentenceTransformer(emb_variations[num_emb])"
   ],
   "metadata": {
    "collapsed": false,
    "pycharm": {
     "name": "#%%\n"
    }
   }
  },
  {
   "cell_type": "code",
   "execution_count": 134,
   "outputs": [
    {
     "data": {
      "text/plain": "[ScoredPoint(id=2892, version=4, score=0.99999994, payload={'original_name': 'Dow Chemical', 'preprocessed_name': 'dow chemical'}, vector=None),\n ScoredPoint(id=9176, version=7, score=0.99999994, payload={'original_name': 'Dow Chemical Pacific Ltd.', 'preprocessed_name': 'dow chemical'}, vector=None),\n ScoredPoint(id=608, version=2, score=0.99999994, payload={'original_name': 'Dow Chemical Thailand Ltd.', 'preprocessed_name': 'dow chemical'}, vector=None),\n ScoredPoint(id=3748, version=0, score=0.99999994, payload={'original_name': 'Dow Chemical Pacific', 'preprocessed_name': 'dow chemical'}, vector=None),\n ScoredPoint(id=6647, version=9, score=0.99999994, payload={'original_name': 'Dow Chemical (Shanghai) Co., Ltd.', 'preprocessed_name': 'dow chemical'}, vector=None),\n ScoredPoint(id=8733, version=7, score=0.8916837, payload={'original_name': 'The Dow Chemical Company', 'preprocessed_name': 'the dow chemical company'}, vector=None),\n ScoredPoint(id=11225, version=11, score=0.70929, payload={'original_name': 'Dow Corning India Pvt., Ltd.', 'preprocessed_name': 'dow corning'}, vector=None),\n ScoredPoint(id=7901, version=6, score=0.684996, payload={'original_name': 'Dow Silicones Corp.', 'preprocessed_name': 'dow silicones'}, vector=None),\n ScoredPoint(id=14801, version=13, score=0.670269, payload={'original_name': 'Dow Silicones Corp. Plant', 'preprocessed_name': 'dow silicones plant'}, vector=None),\n ScoredPoint(id=4054, version=0, score=0.656966, payload={'original_name': 'Chevron Phillips Chemical Co. Lp', 'preprocessed_name': 'chevron phillips chemical'}, vector=None),\n ScoredPoint(id=12139, version=10, score=0.6442256, payload={'original_name': 'Century Chemical Corp', 'preprocessed_name': 'century chemical corp'}, vector=None),\n ScoredPoint(id=529, version=2, score=0.64351934, payload={'original_name': 'United Chemical Industries', 'preprocessed_name': 'united chemical'}, vector=None),\n ScoredPoint(id=16307, version=16, score=0.6414457, payload={'original_name': 'Dow Corning (0178) Cdw', 'preprocessed_name': 'dow corning cdw'}, vector=None),\n ScoredPoint(id=8365, version=7, score=0.63741004, payload={'original_name': 'Eastman (Shanghai) Chemical Commercial Co., Ltd.', 'preprocessed_name': 'eastman chemical commercial'}, vector=None),\n ScoredPoint(id=2064, version=4, score=0.63290745, payload={'original_name': 'Llc Chemical Technologies', 'preprocessed_name': 'chemical technologies'}, vector=None),\n ScoredPoint(id=9141, version=7, score=0.63045835, payload={'original_name': 'Pdi Eastman Chemical', 'preprocessed_name': 'pdi eastman chemical'}, vector=None),\n ScoredPoint(id=1853, version=1, score=0.62812495, payload={'original_name': 'Ever Tech Chemical Co., Ltd.', 'preprocessed_name': 'ever tech chemical'}, vector=None),\n ScoredPoint(id=3151, version=0, score=0.6108023, payload={'original_name': 'Shan Chemicals', 'preprocessed_name': 'shan chemicals'}, vector=None),\n ScoredPoint(id=3787, version=0, score=0.60918313, payload={'original_name': 'DowDuPont', 'preprocessed_name': 'dowdupont'}, vector=None),\n ScoredPoint(id=8910, version=7, score=0.6075278, payload={'original_name': 'Chemical Innovation Co., Ltd.', 'preprocessed_name': 'chemical innovation'}, vector=None),\n ScoredPoint(id=2204, version=4, score=0.60371816, payload={'original_name': 'Shanghai Eftec Chemical Products', 'preprocessed_name': 'shanghai eftec chemical products'}, vector=None),\n ScoredPoint(id=8977, version=7, score=0.5985465, payload={'original_name': 'United Chemicals', 'preprocessed_name': 'united chemicals'}, vector=None),\n ScoredPoint(id=10280, version=11, score=0.59444547, payload={'original_name': 'Exxonmobil Chemical Co.', 'preprocessed_name': 'exxonmobil chemical'}, vector=None),\n ScoredPoint(id=4702, version=3, score=0.59444547, payload={'original_name': 'Exxonmobil Chemical Asia Pacific', 'preprocessed_name': 'exxonmobil chemical'}, vector=None),\n ScoredPoint(id=11881, version=10, score=0.59249216, payload={'original_name': 'Exxonmobil Petroleum And Chemical', 'preprocessed_name': 'exxonmobil petroleum and chemical'}, vector=None),\n ScoredPoint(id=11964, version=10, score=0.59109414, payload={'original_name': 'Dupont (Korea) Inc.', 'preprocessed_name': 'dupont'}, vector=None),\n ScoredPoint(id=7256, version=6, score=0.59109414, payload={'original_name': 'Dupont Mexico', 'preprocessed_name': 'dupont'}, vector=None),\n ScoredPoint(id=169, version=2, score=0.59109414, payload={'original_name': 'DuPont', 'preprocessed_name': 'dupont'}, vector=None),\n ScoredPoint(id=4016, version=0, score=0.5899484, payload={'original_name': 'Emirates Chemicals Llc', 'preprocessed_name': 'emirates chemicals'}, vector=None),\n ScoredPoint(id=3192, version=0, score=0.58962804, payload={'original_name': 'Shanghai Wing Tim Fine Chemical Center', 'preprocessed_name': 'shanghai wing tim fine chemical center'}, vector=None)]"
     },
     "execution_count": 134,
     "metadata": {},
     "output_type": "execute_result"
    }
   ],
   "source": [
    "inference('Dow Chemical International Private Ltd.', col_name, model, preproc_text=True)"
   ],
   "metadata": {
    "collapsed": false,
    "pycharm": {
     "name": "#%%\n"
    }
   }
  },
  {
   "cell_type": "code",
   "execution_count": 135,
   "outputs": [],
   "source": [
    "# Select test dataset\n",
    "df_isdup = df[df.is_duplicate == 1]\n",
    "names = np.unique(np.concatenate([df_isdup.name_1, df_isdup.name_2]))"
   ],
   "metadata": {
    "collapsed": false,
    "pycharm": {
     "name": "#%%\n"
    }
   }
  },
  {
   "cell_type": "code",
   "execution_count": 136,
   "outputs": [
    {
     "name": "stderr",
     "output_type": "stream",
     "text": [
      "100%|██████████| 1394/1394 [00:18<00:00, 73.48it/s] \n"
     ]
    }
   ],
   "source": [
    "unique_groups = get_unique_groups(names, df[df.is_duplicate == 1])"
   ],
   "metadata": {
    "collapsed": false,
    "pycharm": {
     "name": "#%%\n"
    }
   }
  },
  {
   "cell_type": "code",
   "execution_count": 137,
   "outputs": [],
   "source": [
    "import json\n",
    "import uuid\n",
    "\n",
    "with open('../data/unique_groups.jsonl', 'w', encoding='utf-8') as fw:\n",
    "    for ung in unique_groups:\n",
    "        group_uid = str(uuid.uuid4())\n",
    "        for el in ung:\n",
    "            dc = {'original_name': el, 'preprocessed_name': preproc(el, stopwords), 'group': group_uid}\n",
    "            json.dump(dc, fw, ensure_ascii=False)\n",
    "            fw.write('\\n')"
   ],
   "metadata": {
    "collapsed": false,
    "pycharm": {
     "name": "#%%\n"
    }
   }
  },
  {
   "cell_type": "code",
   "execution_count": 138,
   "outputs": [],
   "source": [
    "import os\n",
    "import random\n",
    "import json\n",
    "from typing import Any, Dict, List, Union\n",
    "import pytorch_lightning as pl\n",
    "import torch\n",
    "from quaterion.eval.attached_metric import AttachedMetric\n",
    "from quaterion.eval.pair import RetrievalPrecision, RetrievalReciprocalRank\n",
    "from quaterion_models.encoders import Encoder\n",
    "from quaterion_models.heads import EncoderHead, GatedHead\n",
    "from quaterion_models.types import CollateFnType\n",
    "from torch.utils.data import Dataset\n",
    "from quaterion import Quaterion, TrainableModel\n",
    "from quaterion.dataset.similarity_data_loader import (\n",
    "    GroupSimilarityDataLoader,\n",
    "    SimilarityGroupSample,\n",
    ")\n",
    "from quaterion.loss import SimilarityLoss, SoftmaxLoss\n",
    "from sentence_transformers import SentenceTransformer\n",
    "random.seed(42)"
   ],
   "metadata": {
    "collapsed": false,
    "pycharm": {
     "name": "#%%\n"
    }
   }
  },
  {
   "cell_type": "markdown",
   "source": [
    "Class for company dataset. On __getitem__ call it has to return SimilarityGroupSample or SimilarityPairSample. We use SimilarityGroupSample because we have groups of companies"
   ],
   "metadata": {
    "collapsed": false,
    "pycharm": {
     "name": "#%% md\n"
    }
   }
  },
  {
   "cell_type": "code",
   "execution_count": 139,
   "outputs": [],
   "source": [
    "class CompaniesDataset(Dataset):\n",
    "    def __init__(self, path: str, max_samples: int = 50000):\n",
    "        super().__init__()\n",
    "        with open(path, \"r\", encoding=\"utf8\") as f:\n",
    "            lines = f.readlines()[:max_samples]\n",
    "            random.shuffle(lines)\n",
    "            self.data = [json.loads(line) for line in lines]\n",
    "\n",
    "        _company_groups = set(sorted([item[\"group\"] for item in self.data]))\n",
    "        self._label2idx = {label: idx for idx, label in enumerate(_company_groups)}\n",
    "\n",
    "    def __getitem__(self, index: int) -> SimilarityGroupSample:\n",
    "        item = self.data[index]\n",
    "        return SimilarityGroupSample(obj=item, group=self._label2idx[item[\"group\"]])\n",
    "\n",
    "    def __len__(self) -> int:\n",
    "        return len(self.data)\n",
    "\n",
    "    def get_num_groups(self) -> int:\n",
    "        return len(self._label2idx)"
   ],
   "metadata": {
    "collapsed": false,
    "pycharm": {
     "name": "#%%\n"
    }
   }
  },
  {
   "cell_type": "markdown",
   "source": [
    "Quaterion Encoder class with SentenceTransformer embedding model"
   ],
   "metadata": {
    "collapsed": false,
    "pycharm": {
     "name": "#%% md\n"
    }
   }
  },
  {
   "cell_type": "code",
   "execution_count": 140,
   "outputs": [],
   "source": [
    "class CompanyEncoder(Encoder):\n",
    "    def __init__(self, pretrained_name: str):\n",
    "        super().__init__()\n",
    "        self.encoder = SentenceTransformer(pretrained_name)\n",
    "        self._pretrained_name = pretrained_name\n",
    "\n",
    "    @property\n",
    "    def trainable(self) -> bool:\n",
    "        return False\n",
    "\n",
    "    @property\n",
    "    def embedding_size(self) -> int:\n",
    "        return self.encoder.get_sentence_embedding_dimension()\n",
    "\n",
    "    def get_collate_fn(self) -> CollateFnType:\n",
    "        return self.extract_texts\n",
    "\n",
    "    def extract_texts(self, batch: List[Union[str, Dict[str, Any]]]):\n",
    "        if isinstance(batch[0], str):\n",
    "            return batch\n",
    "        elif isinstance(batch[0], Dict):\n",
    "            return [item[\"preprocessed_name\"] for item in batch]\n",
    "        else:\n",
    "            raise TypeError(\"Expecting list of strings or dicts as inputs\")\n",
    "\n",
    "    def forward(self, inputs):\n",
    "        return self.encoder.encode(\n",
    "            inputs, convert_to_numpy=False, convert_to_tensor=True\n",
    "        )\n",
    "\n",
    "    def save(self, output_path: str):\n",
    "        self.encoder.save(os.path.join(output_path, self._pretrained_name))\n",
    "\n",
    "    @classmethod\n",
    "    def load(cls, input_path: str) -> \"Encoder\":\n",
    "        return CompanyEncoder(input_path)\n"
   ],
   "metadata": {
    "collapsed": false,
    "pycharm": {
     "name": "#%%\n"
    }
   }
  },
  {
   "cell_type": "markdown",
   "source": [
    "Quaterion Main similarity learning model.\n",
    "We use GatedHead and Softmax loss. These are subject to tune and change in future work."
   ],
   "metadata": {
    "collapsed": false,
    "pycharm": {
     "name": "#%% md\n"
    }
   }
  },
  {
   "cell_type": "code",
   "execution_count": 141,
   "outputs": [],
   "source": [
    "class CompanyMatchingModel(TrainableModel):\n",
    "    def __init__(\n",
    "        self,\n",
    "        pretrained_name: str = emb_variations[num_emb],\n",
    "        num_groups: int = 20,\n",
    "        lr: float = 3e-5,\n",
    "    ):\n",
    "        self._pretrained_name = pretrained_name\n",
    "        self._num_groups = num_groups\n",
    "        self._lr = lr\n",
    "        super().__init__()\n",
    "\n",
    "    # def configure_metrics(self):\n",
    "    #     # attach batch-wise metrics which will be automatically computed and logged during training\n",
    "    #     return [\n",
    "    #         AttachedMetric(\n",
    "    #             \"RetrievalPrecision\",\n",
    "    #             RetrievalPrecision(k=1),\n",
    "    #             prog_bar=True,\n",
    "    #             on_epoch=True,\n",
    "    #         ),\n",
    "    #         AttachedMetric(\n",
    "    #             \"RetrievalReciprocalRank\",\n",
    "    #             RetrievalReciprocalRank(),\n",
    "    #             prog_bar=True,\n",
    "    #             on_epoch=True\n",
    "    #         ),\n",
    "    #     ]\n",
    "\n",
    "    def configure_encoders(self) -> Union[Encoder, Dict[str, Encoder]]:\n",
    "        return CompanyEncoder(self._pretrained_name)\n",
    "\n",
    "    def configure_head(self, input_embedding_size) -> EncoderHead:\n",
    "        return GatedHead(input_embedding_size)\n",
    "\n",
    "    def configure_loss(self) -> SimilarityLoss:\n",
    "        return SoftmaxLoss(self.model.head.output_size, self._num_groups)\n",
    "\n",
    "    def configure_optimizers(self):\n",
    "        optimizer = torch.optim.Adam(\n",
    "            [\n",
    "                {\"params\": self.model.parameters(), \"lr\": self._lr},\n",
    "                {\"params\": self.loss.parameters(), \"lr\": self._lr * 10.0},\n",
    "            ]\n",
    "        )\n",
    "\n",
    "        return optimizer"
   ],
   "metadata": {
    "collapsed": false,
    "pycharm": {
     "name": "#%%\n"
    }
   }
  },
  {
   "cell_type": "code",
   "execution_count": 142,
   "outputs": [],
   "source": [
    "pretrain = emb_variations[num_emb]"
   ],
   "metadata": {
    "collapsed": false,
    "pycharm": {
     "name": "#%%\n"
    }
   }
  },
  {
   "cell_type": "code",
   "execution_count": 143,
   "outputs": [],
   "source": [
    "cd = CompaniesDataset(path='../data/unique_groups.jsonl')"
   ],
   "metadata": {
    "collapsed": false,
    "pycharm": {
     "name": "#%%\n"
    }
   }
  },
  {
   "cell_type": "code",
   "execution_count": 144,
   "outputs": [],
   "source": [
    "enc = CompanyEncoder(pretrained_name=pretrain)"
   ],
   "metadata": {
    "collapsed": false,
    "pycharm": {
     "name": "#%%\n"
    }
   }
  },
  {
   "cell_type": "code",
   "execution_count": 145,
   "outputs": [],
   "source": [
    "ftmodel = CompanyMatchingModel(pretrained_name=pretrain, num_groups=cd.get_num_groups())"
   ],
   "metadata": {
    "collapsed": false,
    "pycharm": {
     "name": "#%%\n"
    }
   }
  },
  {
   "cell_type": "code",
   "execution_count": 88,
   "outputs": [
    {
     "data": {
      "text/plain": "CompanyMatchingModel(\n  (_model): SimilarityModel(\n    (default): CompanyEncoder(\n      (encoder): SentenceTransformer(\n        (0): Transformer({'max_seq_length': 128, 'do_lower_case': False}) with Transformer model: BertModel \n        (1): Pooling({'word_embedding_dimension': 384, 'pooling_mode_cls_token': False, 'pooling_mode_mean_tokens': True, 'pooling_mode_max_tokens': False, 'pooling_mode_mean_sqrt_len_tokens': False})\n        (2): Normalize()\n      )\n    )\n    (head): GatedHead(\n      (dropout): Identity()\n    )\n  )\n  (_loss): SoftmaxLoss()\n)"
     },
     "execution_count": 88,
     "metadata": {},
     "output_type": "execute_result"
    }
   ],
   "source": [
    "#ftmodel.eval()"
   ],
   "metadata": {
    "collapsed": false,
    "pycharm": {
     "name": "#%%\n"
    }
   }
  },
  {
   "cell_type": "code",
   "execution_count": 146,
   "outputs": [],
   "source": [
    "train_dataloader = GroupSimilarityDataLoader(cd, batch_size=64, shuffle=True)"
   ],
   "metadata": {
    "collapsed": false,
    "pycharm": {
     "name": "#%%\n"
    }
   }
  },
  {
   "cell_type": "code",
   "execution_count": 147,
   "outputs": [
    {
     "name": "stdout",
     "output_type": "stream",
     "text": [
      "huggingface/tokenizers: The current process just got forked, after parallelism has already been used. Disabling parallelism to avoid deadlocks...\n",
      "To disable this warning, you can either:\n",
      "\t- Avoid using `tokenizers` before the fork if possible\n",
      "\t- Explicitly set the environment variable TOKENIZERS_PARALLELISM=(true | false)\n",
      "huggingface/tokenizers: The current process just got forked, after parallelism has already been used. Disabling parallelism to avoid deadlocks...\n",
      "To disable this warning, you can either:\n",
      "\t- Avoid using `tokenizers` before the fork if possible\n",
      "\t- Explicitly set the environment variable TOKENIZERS_PARALLELISM=(true | false)\n",
      "huggingface/tokenizers: The current process just got forked, after parallelism has already been used. Disabling parallelism to avoid deadlocks...\n",
      "To disable this warning, you can either:\n",
      "\t- Avoid using `tokenizers` before the fork if possible\n",
      "\t- Explicitly set the environment variable TOKENIZERS_PARALLELISM=(true | false)\n"
     ]
    },
    {
     "name": "stderr",
     "output_type": "stream",
     "text": [
      "GPU available: True (cuda), used: True\n",
      "TPU available: False, using: 0 TPU cores\n",
      "IPU available: False, using: 0 IPUs\n",
      "HPU available: False, using: 0 HPUs\n"
     ]
    },
    {
     "name": "stdout",
     "output_type": "stream",
     "text": [
      "huggingface/tokenizers: The current process just got forked, after parallelism has already been used. Disabling parallelism to avoid deadlocks...\n",
      "To disable this warning, you can either:\n",
      "\t- Avoid using `tokenizers` before the fork if possible\n",
      "\t- Explicitly set the environment variable TOKENIZERS_PARALLELISM=(true | false)\n",
      "huggingface/tokenizers: The current process just got forked, after parallelism has already been used. Disabling parallelism to avoid deadlocks...\n",
      "To disable this warning, you can either:\n",
      "\t- Avoid using `tokenizers` before the fork if possible\n",
      "\t- Explicitly set the environment variable TOKENIZERS_PARALLELISM=(true | false)\n"
     ]
    }
   ],
   "source": [
    "trainer = pl.Trainer(accelerator=\"auto\", devices=1, num_nodes=1, max_epochs=30)"
   ],
   "metadata": {
    "collapsed": false,
    "pycharm": {
     "name": "#%%\n"
    }
   }
  },
  {
   "cell_type": "code",
   "execution_count": 148,
   "outputs": [
    {
     "name": "stderr",
     "output_type": "stream",
     "text": [
      "/home/kpavel/anaconda3/envs/samename/lib/python3.9/site-packages/pytorch_lightning/callbacks/base.py:22: LightningDeprecationWarning: pytorch_lightning.callbacks.base.Callback has been deprecated in v1.7 and will be removed in v1.9. Use the equivalent class from the pytorch_lightning.callbacks.callback.Callback class instead.\n",
      "  rank_zero_deprecation(\n",
      "/home/kpavel/anaconda3/envs/samename/lib/python3.9/site-packages/pytorch_lightning/trainer/configuration_validator.py:107: PossibleUserWarning: You defined a `validation_step` but have no `val_dataloader`. Skipping val loop.\n",
      "  rank_zero_warn(\n",
      "LOCAL_RANK: 0 - CUDA_VISIBLE_DEVICES: [0]\n",
      "\n",
      "  | Name   | Type            | Params\n",
      "-------------------------------------------\n",
      "0 | _model | SimilarityModel | 33.4 M\n",
      "1 | _loss  | SoftmaxLoss     | 189 K \n",
      "-------------------------------------------\n",
      "189 K     Trainable params\n",
      "33.4 M    Non-trainable params\n",
      "33.5 M    Total params\n",
      "134.199   Total estimated model params size (MB)\n"
     ]
    },
    {
     "name": "stdout",
     "output_type": "stream",
     "text": [
      "huggingface/tokenizers: The current process just got forked, after parallelism has already been used. Disabling parallelism to avoid deadlocks...\n",
      "To disable this warning, you can either:\n",
      "\t- Avoid using `tokenizers` before the fork if possible\n",
      "\t- Explicitly set the environment variable TOKENIZERS_PARALLELISM=(true | false)\n"
     ]
    },
    {
     "name": "stderr",
     "output_type": "stream",
     "text": [
      "/home/kpavel/anaconda3/envs/samename/lib/python3.9/site-packages/pytorch_lightning/trainer/connectors/data_connector.py:236: PossibleUserWarning: The dataloader, train_dataloader, does not have many workers which may be a bottleneck. Consider increasing the value of the `num_workers` argument` (try 8 which is the number of cpus on this machine) in the `DataLoader` init to improve performance.\n",
      "  rank_zero_warn(\n",
      "/home/kpavel/anaconda3/envs/samename/lib/python3.9/site-packages/pytorch_lightning/trainer/trainer.py:1892: PossibleUserWarning: The number of training batches (28) is smaller than the logging interval Trainer(log_every_n_steps=50). Set a lower value for log_every_n_steps if you want to see logs for the training epoch.\n",
      "  rank_zero_warn(\n"
     ]
    },
    {
     "data": {
      "text/plain": "Training: 0it [00:00, ?it/s]",
      "application/vnd.jupyter.widget-view+json": {
       "version_major": 2,
       "version_minor": 0,
       "model_id": "df5e735507864a4b95e5389a4f116555"
      }
     },
     "metadata": {},
     "output_type": "display_data"
    },
    {
     "name": "stderr",
     "output_type": "stream",
     "text": [
      "`Trainer.fit` stopped: `max_epochs=30` reached.\n",
      "/home/kpavel/anaconda3/envs/samename/lib/python3.9/site-packages/pytorch_lightning/trainer/trainer.py:1978: LightningDeprecationWarning: `Trainer.reset_train_val_dataloaders` has been deprecated in v1.7 and will be removed in v1.9. Use `Trainer.reset_{train,val}_dataloader` instead\n",
      "  rank_zero_deprecation(\n"
     ]
    }
   ],
   "source": [
    "Quaterion.fit(\n",
    "    trainable_model=ftmodel,\n",
    "    trainer=trainer,\n",
    "    train_dataloader=train_dataloader,\n",
    ")"
   ],
   "metadata": {
    "collapsed": false,
    "pycharm": {
     "name": "#%%\n"
    }
   }
  },
  {
   "cell_type": "markdown",
   "source": [
    "Save Quaterion model for serving"
   ],
   "metadata": {
    "collapsed": false,
    "pycharm": {
     "name": "#%% md\n"
    }
   }
  },
  {
   "cell_type": "code",
   "execution_count": 149,
   "outputs": [
    {
     "name": "stderr",
     "output_type": "stream",
     "text": [
      "WARNING:root:Class CompanyEncoder is defined in a same file as training loop. It won't be possible to load it properly later.\n"
     ]
    }
   ],
   "source": [
    "ftmodel.save_servable(f\"../models/companies_{num_emb}\")"
   ],
   "metadata": {
    "collapsed": false,
    "pycharm": {
     "name": "#%%\n"
    }
   }
  },
  {
   "cell_type": "markdown",
   "source": [
    "## Eval similarity model"
   ],
   "metadata": {
    "collapsed": false,
    "pycharm": {
     "name": "#%% md\n"
    }
   }
  },
  {
   "cell_type": "code",
   "execution_count": 150,
   "outputs": [],
   "source": [
    "from quaterion_models import SimilarityModel\n",
    "\n",
    "BATCH_SIZE = 32"
   ],
   "metadata": {
    "collapsed": false,
    "pycharm": {
     "name": "#%%\n"
    }
   }
  },
  {
   "cell_type": "code",
   "execution_count": 151,
   "outputs": [],
   "source": [
    "def eval_model(dataloader, model):\n",
    "    embeddings = []\n",
    "\n",
    "    for el in tqdm(dataloader):\n",
    "        with torch.no_grad():\n",
    "            embeddings_batch = model.encode(\n",
    "                el, batch_size=BATCH_SIZE, to_numpy=True\n",
    "            )\n",
    "            embeddings.append(embeddings_batch)\n",
    "\n",
    "    return np.concatenate(embeddings)\n",
    "\n",
    "\n",
    "def serve_tuned_embeddings(dataloader, model_path):\n",
    "    model = SimilarityModel.load(model_path)\n",
    "    model.eval()\n",
    "    device = \"cuda\" if torch.cuda.is_available() else \"cpu\"\n",
    "    model.to(device)\n",
    "\n",
    "    return eval_model(dataloader, model)"
   ],
   "metadata": {
    "collapsed": false,
    "pycharm": {
     "name": "#%%\n"
    }
   }
  },
  {
   "cell_type": "markdown",
   "source": [
    "Save serving embedding to numpy object"
   ],
   "metadata": {
    "collapsed": false,
    "pycharm": {
     "name": "#%% md\n"
    }
   }
  },
  {
   "cell_type": "code",
   "execution_count": 153,
   "outputs": [
    {
     "name": "stderr",
     "output_type": "stream",
     "text": [
      "100%|██████████| 18022/18022 [06:30<00:00, 46.15it/s]\n"
     ]
    }
   ],
   "source": [
    "embeddings = serve_tuned_embeddings(df_names.preprocessed_name, f'../models/companies_{num_emb}')"
   ],
   "metadata": {
    "collapsed": false,
    "pycharm": {
     "name": "#%%\n"
    }
   }
  },
  {
   "cell_type": "code",
   "execution_count": 154,
   "outputs": [],
   "source": [
    "np.save(os.path.join('../data/tuned/', f\"tuned_{num_emb}.npy\"), embeddings, allow_pickle=False)"
   ],
   "metadata": {
    "collapsed": false,
    "pycharm": {
     "name": "#%%\n"
    }
   }
  },
  {
   "cell_type": "code",
   "execution_count": 155,
   "outputs": [],
   "source": [
    "embeddings = np.load(f'../data/tuned/tuned_{num_emb}.npy')"
   ],
   "metadata": {
    "collapsed": false,
    "pycharm": {
     "name": "#%%\n"
    }
   }
  },
  {
   "cell_type": "code",
   "execution_count": 156,
   "outputs": [
    {
     "data": {
      "text/plain": "(18022, 384)"
     },
     "execution_count": 156,
     "metadata": {},
     "output_type": "execute_result"
    }
   ],
   "source": [
    "embeddings.shape"
   ],
   "metadata": {
    "collapsed": false,
    "pycharm": {
     "name": "#%%\n"
    }
   }
  },
  {
   "cell_type": "markdown",
   "source": [
    "### Load fine-tuned embeddings to qdrant"
   ],
   "metadata": {
    "collapsed": false,
    "pycharm": {
     "name": "#%% md\n"
    }
   }
  },
  {
   "cell_type": "code",
   "execution_count": 157,
   "outputs": [],
   "source": [
    "qdrant_client = QdrantClient(host='0.0.0.0', port=6333)"
   ],
   "metadata": {
    "collapsed": false,
    "pycharm": {
     "name": "#%%\n"
    }
   }
  },
  {
   "cell_type": "code",
   "execution_count": 158,
   "outputs": [],
   "source": [
    "vectors = embeddings\n",
    "payload = df_names[['original_name', 'preprocessed_name']].to_dict(orient='records')\n",
    "# ids = df_emb.index.values.tolist()\n",
    "col_name = 'companies-ft'\n",
    "vec_shape = vectors.shape[1]\n",
    "bs = 1024\n",
    "col = create_collection_and_upload(vectors, payload, ids, col_name, vec_shape, bs)"
   ],
   "metadata": {
    "collapsed": false,
    "pycharm": {
     "name": "#%%\n"
    }
   }
  },
  {
   "cell_type": "code",
   "execution_count": 159,
   "outputs": [
    {
     "data": {
      "text/plain": "SimilarityModel(\n  (default/paraphrase-MiniLM-L12-v2): CompanyEncoder(\n    (encoder): SentenceTransformer(\n      (0): Transformer({'max_seq_length': 256, 'do_lower_case': False}) with Transformer model: BertModel \n      (1): Pooling({'word_embedding_dimension': 384, 'pooling_mode_cls_token': False, 'pooling_mode_mean_tokens': True, 'pooling_mode_max_tokens': False, 'pooling_mode_mean_sqrt_len_tokens': False})\n    )\n  )\n  (head): GatedHead(\n    (dropout): Identity()\n  )\n)"
     },
     "execution_count": 159,
     "metadata": {},
     "output_type": "execute_result"
    }
   ],
   "source": [
    "model = SimilarityModel.load(f'../models/companies_{num_emb}')\n",
    "model.eval()\n",
    "model.to('cuda')"
   ],
   "metadata": {
    "collapsed": false,
    "pycharm": {
     "name": "#%%\n"
    }
   }
  },
  {
   "cell_type": "code",
   "execution_count": 160,
   "outputs": [
    {
     "data": {
      "text/plain": "[ScoredPoint(id=2892, version=5, score=1.0000001, payload={'original_name': 'Dow Chemical', 'preprocessed_name': 'dow chemical'}, vector=None),\n ScoredPoint(id=9176, version=6, score=1.0000001, payload={'original_name': 'Dow Chemical Pacific Ltd.', 'preprocessed_name': 'dow chemical'}, vector=None),\n ScoredPoint(id=608, version=0, score=1.0000001, payload={'original_name': 'Dow Chemical Thailand Ltd.', 'preprocessed_name': 'dow chemical'}, vector=None),\n ScoredPoint(id=3748, version=4, score=1.0000001, payload={'original_name': 'Dow Chemical Pacific', 'preprocessed_name': 'dow chemical'}, vector=None),\n ScoredPoint(id=6647, version=9, score=1.0000001, payload={'original_name': 'Dow Chemical (Shanghai) Co., Ltd.', 'preprocessed_name': 'dow chemical'}, vector=None),\n ScoredPoint(id=8733, version=6, score=0.89167976, payload={'original_name': 'The Dow Chemical Company', 'preprocessed_name': 'the dow chemical company'}, vector=None),\n ScoredPoint(id=11225, version=8, score=0.70928127, payload={'original_name': 'Dow Corning India Pvt., Ltd.', 'preprocessed_name': 'dow corning'}, vector=None),\n ScoredPoint(id=7901, version=7, score=0.68499184, payload={'original_name': 'Dow Silicones Corp.', 'preprocessed_name': 'dow silicones'}, vector=None),\n ScoredPoint(id=14801, version=15, score=0.6702661, payload={'original_name': 'Dow Silicones Corp. Plant', 'preprocessed_name': 'dow silicones plant'}, vector=None),\n ScoredPoint(id=4054, version=4, score=0.65695566, payload={'original_name': 'Chevron Phillips Chemical Co. Lp', 'preprocessed_name': 'chevron phillips chemical'}, vector=None),\n ScoredPoint(id=12139, version=10, score=0.6442028, payload={'original_name': 'Century Chemical Corp', 'preprocessed_name': 'century chemical corp'}, vector=None),\n ScoredPoint(id=529, version=0, score=0.6434936, payload={'original_name': 'United Chemical Industries', 'preprocessed_name': 'united chemical'}, vector=None),\n ScoredPoint(id=16307, version=14, score=0.64144176, payload={'original_name': 'Dow Corning (0178) Cdw', 'preprocessed_name': 'dow corning cdw'}, vector=None),\n ScoredPoint(id=8365, version=6, score=0.6373913, payload={'original_name': 'Eastman (Shanghai) Chemical Commercial Co., Ltd.', 'preprocessed_name': 'eastman chemical commercial'}, vector=None),\n ScoredPoint(id=2064, version=5, score=0.63287884, payload={'original_name': 'Llc Chemical Technologies', 'preprocessed_name': 'chemical technologies'}, vector=None),\n ScoredPoint(id=9141, version=6, score=0.6304424, payload={'original_name': 'Pdi Eastman Chemical', 'preprocessed_name': 'pdi eastman chemical'}, vector=None),\n ScoredPoint(id=1853, version=1, score=0.6281048, payload={'original_name': 'Ever Tech Chemical Co., Ltd.', 'preprocessed_name': 'ever tech chemical'}, vector=None),\n ScoredPoint(id=3151, version=4, score=0.61078084, payload={'original_name': 'Shan Chemicals', 'preprocessed_name': 'shan chemicals'}, vector=None),\n ScoredPoint(id=3787, version=4, score=0.60916996, payload={'original_name': 'DowDuPont', 'preprocessed_name': 'dowdupont'}, vector=None),\n ScoredPoint(id=8910, version=6, score=0.6074971, payload={'original_name': 'Chemical Innovation Co., Ltd.', 'preprocessed_name': 'chemical innovation'}, vector=None),\n ScoredPoint(id=2204, version=5, score=0.60371053, payload={'original_name': 'Shanghai Eftec Chemical Products', 'preprocessed_name': 'shanghai eftec chemical products'}, vector=None),\n ScoredPoint(id=8977, version=6, score=0.59851766, payload={'original_name': 'United Chemicals', 'preprocessed_name': 'united chemicals'}, vector=None),\n ScoredPoint(id=10280, version=8, score=0.5944375, payload={'original_name': 'Exxonmobil Chemical Co.', 'preprocessed_name': 'exxonmobil chemical'}, vector=None),\n ScoredPoint(id=4702, version=2, score=0.5944375, payload={'original_name': 'Exxonmobil Chemical Asia Pacific', 'preprocessed_name': 'exxonmobil chemical'}, vector=None),\n ScoredPoint(id=11881, version=10, score=0.5924867, payload={'original_name': 'Exxonmobil Petroleum And Chemical', 'preprocessed_name': 'exxonmobil petroleum and chemical'}, vector=None),\n ScoredPoint(id=11964, version=10, score=0.5910659, payload={'original_name': 'Dupont (Korea) Inc.', 'preprocessed_name': 'dupont'}, vector=None),\n ScoredPoint(id=7256, version=7, score=0.5910659, payload={'original_name': 'Dupont Mexico', 'preprocessed_name': 'dupont'}, vector=None),\n ScoredPoint(id=169, version=0, score=0.5910659, payload={'original_name': 'DuPont', 'preprocessed_name': 'dupont'}, vector=None),\n ScoredPoint(id=4016, version=4, score=0.58992094, payload={'original_name': 'Emirates Chemicals Llc', 'preprocessed_name': 'emirates chemicals'}, vector=None),\n ScoredPoint(id=3192, version=4, score=0.5896222, payload={'original_name': 'Shanghai Wing Tim Fine Chemical Center', 'preprocessed_name': 'shanghai wing tim fine chemical center'}, vector=None)]"
     },
     "execution_count": 160,
     "metadata": {},
     "output_type": "execute_result"
    }
   ],
   "source": [
    "inference('Dow Chemical International Private Ltd.', col_name, model, preproc_text=True)"
   ],
   "metadata": {
    "collapsed": false,
    "pycharm": {
     "name": "#%%\n"
    }
   }
  },
  {
   "cell_type": "code",
   "execution_count": 161,
   "outputs": [
    {
     "name": "stderr",
     "output_type": "stream",
     "text": [
      "100%|██████████| 1394/1394 [01:49<00:00, 12.75it/s]\n"
     ]
    }
   ],
   "source": [
    "map_score = precision_score_at_k(1,\n",
    "                                 names,#[19:],\n",
    "                                 unique_groups,\n",
    "                                 model,\n",
    "                                 df_emb.rename({'name':'tmp', 'name_preproc': 'name'}, axis=1),\n",
    "                                 col_name,\n",
    "                                 debug=False, preproc_text=True\n",
    "                                 )"
   ],
   "metadata": {
    "collapsed": false,
    "pycharm": {
     "name": "#%%\n"
    }
   }
  },
  {
   "cell_type": "code",
   "execution_count": 162,
   "outputs": [
    {
     "name": "stdout",
     "output_type": "stream",
     "text": [
      "Precision@1=0.6133428981348638\n"
     ]
    }
   ],
   "source": [
    "print(f'Precision@1={len(map_score) / len(names)}')"
   ],
   "metadata": {
    "collapsed": false,
    "pycharm": {
     "name": "#%%\n"
    }
   }
  },
  {
   "cell_type": "code",
   "execution_count": 162,
   "outputs": [],
   "source": [],
   "metadata": {
    "collapsed": false,
    "pycharm": {
     "name": "#%%\n"
    }
   }
  },
  {
   "cell_type": "code",
   "execution_count": null,
   "outputs": [],
   "source": [],
   "metadata": {
    "collapsed": false,
    "pycharm": {
     "name": "#%%\n"
    }
   }
  },
  {
   "cell_type": "code",
   "execution_count": null,
   "outputs": [],
   "source": [],
   "metadata": {
    "collapsed": false,
    "pycharm": {
     "name": "#%%\n"
    }
   }
  }
 ],
 "metadata": {
  "kernelspec": {
   "display_name": "Python 3",
   "language": "python",
   "name": "python3"
  },
  "language_info": {
   "codemirror_mode": {
    "name": "ipython",
    "version": 2
   },
   "file_extension": ".py",
   "mimetype": "text/x-python",
   "name": "python",
   "nbconvert_exporter": "python",
   "pygments_lexer": "ipython2",
   "version": "2.7.6"
  }
 },
 "nbformat": 4,
 "nbformat_minor": 0
}