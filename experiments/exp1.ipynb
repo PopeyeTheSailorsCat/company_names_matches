{
 "cells": [
  {
   "cell_type": "markdown",
   "source": [
    "# Experiment 1\n",
    "## Logistic Regression"
   ],
   "metadata": {
    "collapsed": false,
    "pycharm": {
     "name": "#%% md\n"
    }
   }
  },
  {
   "cell_type": "code",
   "execution_count": 3,
   "metadata": {
    "collapsed": true,
    "pycharm": {
     "name": "#%%\n"
    }
   },
   "outputs": [],
   "source": [
    "import pandas as pd\n",
    "from sklearn.linear_model import LogisticRegression\n",
    "from sklearn.model_selection import train_test_split\n",
    "import numpy as np\n",
    "from sklearn.metrics import accuracy_score, precision_score, f1_score"
   ]
  },
  {
   "cell_type": "code",
   "execution_count": 4,
   "outputs": [],
   "source": [
    "df_emb = pd.read_parquet('../../data/df_embs_en.parquet')"
   ],
   "metadata": {
    "collapsed": false,
    "pycharm": {
     "name": "#%%\n"
    }
   }
  },
  {
   "cell_type": "code",
   "execution_count": 5,
   "outputs": [],
   "source": [
    "df = pd.read_parquet('../../data/train.parquet')"
   ],
   "metadata": {
    "collapsed": false,
    "pycharm": {
     "name": "#%%\n"
    }
   }
  },
  {
   "cell_type": "code",
   "execution_count": 6,
   "outputs": [],
   "source": [
    "df = df.merge(df_emb, how='left', left_on='name_1', right_on='name')\n",
    "df = df.drop(columns=['name'])\n",
    "df = df.rename({'emb': 'emb_1'}, axis=1)"
   ],
   "metadata": {
    "collapsed": false,
    "pycharm": {
     "name": "#%%\n"
    }
   }
  },
  {
   "cell_type": "code",
   "execution_count": 7,
   "outputs": [],
   "source": [
    "df = df.merge(df_emb, how='left', left_on='name_2', right_on='name')\n",
    "df = df.drop(columns=['name'])\n",
    "df = df.rename({'emb': 'emb_2'}, axis=1)"
   ],
   "metadata": {
    "collapsed": false,
    "pycharm": {
     "name": "#%%\n"
    }
   }
  },
  {
   "cell_type": "code",
   "execution_count": 8,
   "outputs": [
    {
     "data": {
      "text/plain": "                                         name_1  \\\n0                           Iko Industries Ltd.   \n1                       Apcotex Industries Ltd.   \n2                       Powermax Rubber Factory   \n3                              National Bank Of   \n4                                      R.I.Intl   \n...                                         ...   \n149729          Eoc Polymers India Private Ltd.   \n149730                   Societe Des Transports   \n149731  Computime Electric (Shenzhen) Co., Ltd.   \n149732    Shanghai Haizhige Furniture Co., Ltd.   \n149733                    Bnd Trading Co., Ltd.   \n\n                                                   name_2  is_duplicate  \\\n0                    Enormous Industrial Trade Pvt., Ltd.             0   \n1                     Technocraft Industries (India) Ltd.             0   \n2                                                 Co. One             0   \n3                                    Action International             0   \n4                              Rass Mfg. India Pvt., Ltd.             0   \n...                                                   ...           ...   \n149729                    Imp. Express India Private Ltd.             0   \n149730                                 Ho Sports Co. Inc.             0   \n149731                                  A S International             0   \n149732                                Sharang Corporation             0   \n149733  Zhong Shan Yue Liang Economy& Trade Imp. & Exp...             0   \n\n                                                    emb_1  \\\n0       [-0.05934988334774971, 0.06893617659807205, 0....   \n1       [-0.027187837287783623, 0.0036133911926299334,...   \n2       [-0.027730092406272888, 0.06848588585853577, -...   \n3       [-0.018415303900837898, -0.006000360939651728,...   \n4       [-0.07493618130683899, -0.0017950021428987384,...   \n...                                                   ...   \n149729  [-0.06773572415113449, -0.01392741035670042, -...   \n149730  [-0.03525467589497566, -0.03506492078304291, -...   \n149731  [-0.05353596806526184, 0.057930838316679, 0.00...   \n149732  [-0.014642884023487568, 0.0201723612844944, 0....   \n149733  [-0.05821019038558006, -0.015586151741445065, ...   \n\n                                                    emb_2  \n0       [-0.05795738846063614, -0.02890898659825325, -...  \n1       [-0.045615799725055695, 0.012592996470630169, ...  \n2       [-0.053144559264183044, -0.04593741148710251, ...  \n3       [-0.05674505606293678, -0.04642457142472267, -...  \n4       [-0.07074024528265, 0.03370615467429161, -0.10...  \n...                                                   ...  \n149729  [-0.06258784979581833, 0.018974745646119118, 0...  \n149730  [-0.06926314532756805, 0.06603555381298065, -0...  \n149731  [-0.03811235725879669, 0.02773694135248661, -0...  \n149732  [-0.009399804286658764, -0.002773549407720566,...  \n149733  [-0.028075648471713066, 0.036121804267168045, ...  \n\n[149734 rows x 5 columns]",
      "text/html": "<div>\n<style scoped>\n    .dataframe tbody tr th:only-of-type {\n        vertical-align: middle;\n    }\n\n    .dataframe tbody tr th {\n        vertical-align: top;\n    }\n\n    .dataframe thead th {\n        text-align: right;\n    }\n</style>\n<table border=\"1\" class=\"dataframe\">\n  <thead>\n    <tr style=\"text-align: right;\">\n      <th></th>\n      <th>name_1</th>\n      <th>name_2</th>\n      <th>is_duplicate</th>\n      <th>emb_1</th>\n      <th>emb_2</th>\n    </tr>\n  </thead>\n  <tbody>\n    <tr>\n      <th>0</th>\n      <td>Iko Industries Ltd.</td>\n      <td>Enormous Industrial Trade Pvt., Ltd.</td>\n      <td>0</td>\n      <td>[-0.05934988334774971, 0.06893617659807205, 0....</td>\n      <td>[-0.05795738846063614, -0.02890898659825325, -...</td>\n    </tr>\n    <tr>\n      <th>1</th>\n      <td>Apcotex Industries Ltd.</td>\n      <td>Technocraft Industries (India) Ltd.</td>\n      <td>0</td>\n      <td>[-0.027187837287783623, 0.0036133911926299334,...</td>\n      <td>[-0.045615799725055695, 0.012592996470630169, ...</td>\n    </tr>\n    <tr>\n      <th>2</th>\n      <td>Powermax Rubber Factory</td>\n      <td>Co. One</td>\n      <td>0</td>\n      <td>[-0.027730092406272888, 0.06848588585853577, -...</td>\n      <td>[-0.053144559264183044, -0.04593741148710251, ...</td>\n    </tr>\n    <tr>\n      <th>3</th>\n      <td>National Bank Of</td>\n      <td>Action International</td>\n      <td>0</td>\n      <td>[-0.018415303900837898, -0.006000360939651728,...</td>\n      <td>[-0.05674505606293678, -0.04642457142472267, -...</td>\n    </tr>\n    <tr>\n      <th>4</th>\n      <td>R.I.Intl</td>\n      <td>Rass Mfg. India Pvt., Ltd.</td>\n      <td>0</td>\n      <td>[-0.07493618130683899, -0.0017950021428987384,...</td>\n      <td>[-0.07074024528265, 0.03370615467429161, -0.10...</td>\n    </tr>\n    <tr>\n      <th>...</th>\n      <td>...</td>\n      <td>...</td>\n      <td>...</td>\n      <td>...</td>\n      <td>...</td>\n    </tr>\n    <tr>\n      <th>149729</th>\n      <td>Eoc Polymers India Private Ltd.</td>\n      <td>Imp. Express India Private Ltd.</td>\n      <td>0</td>\n      <td>[-0.06773572415113449, -0.01392741035670042, -...</td>\n      <td>[-0.06258784979581833, 0.018974745646119118, 0...</td>\n    </tr>\n    <tr>\n      <th>149730</th>\n      <td>Societe Des Transports</td>\n      <td>Ho Sports Co. Inc.</td>\n      <td>0</td>\n      <td>[-0.03525467589497566, -0.03506492078304291, -...</td>\n      <td>[-0.06926314532756805, 0.06603555381298065, -0...</td>\n    </tr>\n    <tr>\n      <th>149731</th>\n      <td>Computime Electric (Shenzhen) Co., Ltd.</td>\n      <td>A S International</td>\n      <td>0</td>\n      <td>[-0.05353596806526184, 0.057930838316679, 0.00...</td>\n      <td>[-0.03811235725879669, 0.02773694135248661, -0...</td>\n    </tr>\n    <tr>\n      <th>149732</th>\n      <td>Shanghai Haizhige Furniture Co., Ltd.</td>\n      <td>Sharang Corporation</td>\n      <td>0</td>\n      <td>[-0.014642884023487568, 0.0201723612844944, 0....</td>\n      <td>[-0.009399804286658764, -0.002773549407720566,...</td>\n    </tr>\n    <tr>\n      <th>149733</th>\n      <td>Bnd Trading Co., Ltd.</td>\n      <td>Zhong Shan Yue Liang Economy&amp; Trade Imp. &amp; Exp...</td>\n      <td>0</td>\n      <td>[-0.05821019038558006, -0.015586151741445065, ...</td>\n      <td>[-0.028075648471713066, 0.036121804267168045, ...</td>\n    </tr>\n  </tbody>\n</table>\n<p>149734 rows × 5 columns</p>\n</div>"
     },
     "execution_count": 8,
     "metadata": {},
     "output_type": "execute_result"
    }
   ],
   "source": [
    "df"
   ],
   "metadata": {
    "collapsed": false,
    "pycharm": {
     "name": "#%%\n"
    }
   }
  },
  {
   "cell_type": "code",
   "execution_count": 12,
   "outputs": [],
   "source": [
    "df = df.dropna(subset=['emb_2'])"
   ],
   "metadata": {
    "collapsed": false,
    "pycharm": {
     "name": "#%%\n"
    }
   }
  },
  {
   "cell_type": "code",
   "execution_count": 13,
   "outputs": [],
   "source": [
    "X = np.concatenate([np.stack(df.emb_1), np.stack(df.emb_2)], axis=1)"
   ],
   "metadata": {
    "collapsed": false,
    "pycharm": {
     "name": "#%%\n"
    }
   }
  },
  {
   "cell_type": "code",
   "execution_count": 14,
   "outputs": [],
   "source": [
    "X_train, X_test, y_train, y_test = train_test_split(X, df.is_duplicate)"
   ],
   "metadata": {
    "collapsed": false,
    "pycharm": {
     "name": "#%%\n"
    }
   }
  },
  {
   "cell_type": "code",
   "execution_count": 20,
   "outputs": [],
   "source": [
    "clf = LogisticRegression(random_state=22)"
   ],
   "metadata": {
    "collapsed": false,
    "pycharm": {
     "name": "#%%\n"
    }
   }
  },
  {
   "cell_type": "code",
   "execution_count": 21,
   "outputs": [
    {
     "data": {
      "text/plain": "LogisticRegression(random_state=22)",
      "text/html": "<style>#sk-container-id-2 {color: black;background-color: white;}#sk-container-id-2 pre{padding: 0;}#sk-container-id-2 div.sk-toggleable {background-color: white;}#sk-container-id-2 label.sk-toggleable__label {cursor: pointer;display: block;width: 100%;margin-bottom: 0;padding: 0.3em;box-sizing: border-box;text-align: center;}#sk-container-id-2 label.sk-toggleable__label-arrow:before {content: \"▸\";float: left;margin-right: 0.25em;color: #696969;}#sk-container-id-2 label.sk-toggleable__label-arrow:hover:before {color: black;}#sk-container-id-2 div.sk-estimator:hover label.sk-toggleable__label-arrow:before {color: black;}#sk-container-id-2 div.sk-toggleable__content {max-height: 0;max-width: 0;overflow: hidden;text-align: left;background-color: #f0f8ff;}#sk-container-id-2 div.sk-toggleable__content pre {margin: 0.2em;color: black;border-radius: 0.25em;background-color: #f0f8ff;}#sk-container-id-2 input.sk-toggleable__control:checked~div.sk-toggleable__content {max-height: 200px;max-width: 100%;overflow: auto;}#sk-container-id-2 input.sk-toggleable__control:checked~label.sk-toggleable__label-arrow:before {content: \"▾\";}#sk-container-id-2 div.sk-estimator input.sk-toggleable__control:checked~label.sk-toggleable__label {background-color: #d4ebff;}#sk-container-id-2 div.sk-label input.sk-toggleable__control:checked~label.sk-toggleable__label {background-color: #d4ebff;}#sk-container-id-2 input.sk-hidden--visually {border: 0;clip: rect(1px 1px 1px 1px);clip: rect(1px, 1px, 1px, 1px);height: 1px;margin: -1px;overflow: hidden;padding: 0;position: absolute;width: 1px;}#sk-container-id-2 div.sk-estimator {font-family: monospace;background-color: #f0f8ff;border: 1px dotted black;border-radius: 0.25em;box-sizing: border-box;margin-bottom: 0.5em;}#sk-container-id-2 div.sk-estimator:hover {background-color: #d4ebff;}#sk-container-id-2 div.sk-parallel-item::after {content: \"\";width: 100%;border-bottom: 1px solid gray;flex-grow: 1;}#sk-container-id-2 div.sk-label:hover label.sk-toggleable__label {background-color: #d4ebff;}#sk-container-id-2 div.sk-serial::before {content: \"\";position: absolute;border-left: 1px solid gray;box-sizing: border-box;top: 0;bottom: 0;left: 50%;z-index: 0;}#sk-container-id-2 div.sk-serial {display: flex;flex-direction: column;align-items: center;background-color: white;padding-right: 0.2em;padding-left: 0.2em;position: relative;}#sk-container-id-2 div.sk-item {position: relative;z-index: 1;}#sk-container-id-2 div.sk-parallel {display: flex;align-items: stretch;justify-content: center;background-color: white;position: relative;}#sk-container-id-2 div.sk-item::before, #sk-container-id-2 div.sk-parallel-item::before {content: \"\";position: absolute;border-left: 1px solid gray;box-sizing: border-box;top: 0;bottom: 0;left: 50%;z-index: -1;}#sk-container-id-2 div.sk-parallel-item {display: flex;flex-direction: column;z-index: 1;position: relative;background-color: white;}#sk-container-id-2 div.sk-parallel-item:first-child::after {align-self: flex-end;width: 50%;}#sk-container-id-2 div.sk-parallel-item:last-child::after {align-self: flex-start;width: 50%;}#sk-container-id-2 div.sk-parallel-item:only-child::after {width: 0;}#sk-container-id-2 div.sk-dashed-wrapped {border: 1px dashed gray;margin: 0 0.4em 0.5em 0.4em;box-sizing: border-box;padding-bottom: 0.4em;background-color: white;}#sk-container-id-2 div.sk-label label {font-family: monospace;font-weight: bold;display: inline-block;line-height: 1.2em;}#sk-container-id-2 div.sk-label-container {text-align: center;}#sk-container-id-2 div.sk-container {/* jupyter's `normalize.less` sets `[hidden] { display: none; }` but bootstrap.min.css set `[hidden] { display: none !important; }` so we also need the `!important` here to be able to override the default hidden behavior on the sphinx rendered scikit-learn.org. See: https://github.com/scikit-learn/scikit-learn/issues/21755 */display: inline-block !important;position: relative;}#sk-container-id-2 div.sk-text-repr-fallback {display: none;}</style><div id=\"sk-container-id-2\" class=\"sk-top-container\"><div class=\"sk-text-repr-fallback\"><pre>LogisticRegression(random_state=22)</pre><b>In a Jupyter environment, please rerun this cell to show the HTML representation or trust the notebook. <br />On GitHub, the HTML representation is unable to render, please try loading this page with nbviewer.org.</b></div><div class=\"sk-container\" hidden><div class=\"sk-item\"><div class=\"sk-estimator sk-toggleable\"><input class=\"sk-toggleable__control sk-hidden--visually\" id=\"sk-estimator-id-2\" type=\"checkbox\" checked><label for=\"sk-estimator-id-2\" class=\"sk-toggleable__label sk-toggleable__label-arrow\">LogisticRegression</label><div class=\"sk-toggleable__content\"><pre>LogisticRegression(random_state=22)</pre></div></div></div></div></div>"
     },
     "execution_count": 21,
     "metadata": {},
     "output_type": "execute_result"
    }
   ],
   "source": [
    "clf.fit(X_train, y_train)"
   ],
   "metadata": {
    "collapsed": false,
    "pycharm": {
     "name": "#%%\n"
    }
   }
  },
  {
   "cell_type": "code",
   "execution_count": 22,
   "outputs": [],
   "source": [
    "preds = clf.predict(X_test)"
   ],
   "metadata": {
    "collapsed": false,
    "pycharm": {
     "name": "#%%\n"
    }
   }
  },
  {
   "cell_type": "code",
   "execution_count": 23,
   "outputs": [],
   "source": [
    "f1 = f1_score(y_test, preds)"
   ],
   "metadata": {
    "collapsed": false,
    "pycharm": {
     "name": "#%%\n"
    }
   }
  },
  {
   "cell_type": "code",
   "execution_count": 24,
   "outputs": [
    {
     "data": {
      "text/plain": "0.6275510204081632"
     },
     "execution_count": 24,
     "metadata": {},
     "output_type": "execute_result"
    }
   ],
   "source": [
    "f1"
   ],
   "metadata": {
    "collapsed": false,
    "pycharm": {
     "name": "#%%\n"
    }
   }
  },
  {
   "cell_type": "code",
   "execution_count": 25,
   "outputs": [
    {
     "data": {
      "text/plain": "0    37174\n1      259\nName: is_duplicate, dtype: int64"
     },
     "execution_count": 25,
     "metadata": {},
     "output_type": "execute_result"
    }
   ],
   "source": [
    "y_test.value_counts()"
   ],
   "metadata": {
    "collapsed": false,
    "pycharm": {
     "name": "#%%\n"
    }
   }
  },
  {
   "cell_type": "code",
   "execution_count": null,
   "outputs": [],
   "source": [],
   "metadata": {
    "collapsed": false,
    "pycharm": {
     "name": "#%%\n"
    }
   }
  },
  {
   "cell_type": "code",
   "execution_count": null,
   "outputs": [],
   "source": [],
   "metadata": {
    "collapsed": false,
    "pycharm": {
     "name": "#%%\n"
    }
   }
  },
  {
   "cell_type": "code",
   "execution_count": null,
   "outputs": [],
   "source": [],
   "metadata": {
    "collapsed": false,
    "pycharm": {
     "name": "#%%\n"
    }
   }
  },
  {
   "cell_type": "code",
   "execution_count": null,
   "outputs": [],
   "source": [],
   "metadata": {
    "collapsed": false,
    "pycharm": {
     "name": "#%%\n"
    }
   }
  },
  {
   "cell_type": "code",
   "execution_count": null,
   "outputs": [],
   "source": [],
   "metadata": {
    "collapsed": false,
    "pycharm": {
     "name": "#%%\n"
    }
   }
  },
  {
   "cell_type": "code",
   "execution_count": null,
   "outputs": [],
   "source": [],
   "metadata": {
    "collapsed": false,
    "pycharm": {
     "name": "#%%\n"
    }
   }
  },
  {
   "cell_type": "code",
   "execution_count": null,
   "outputs": [],
   "source": [],
   "metadata": {
    "collapsed": false,
    "pycharm": {
     "name": "#%%\n"
    }
   }
  }
 ],
 "metadata": {
  "kernelspec": {
   "display_name": "Python 3",
   "language": "python",
   "name": "python3"
  },
  "language_info": {
   "codemirror_mode": {
    "name": "ipython",
    "version": 2
   },
   "file_extension": ".py",
   "mimetype": "text/x-python",
   "name": "python",
   "nbconvert_exporter": "python",
   "pygments_lexer": "ipython2",
   "version": "2.7.6"
  }
 },
 "nbformat": 4,
 "nbformat_minor": 0
}