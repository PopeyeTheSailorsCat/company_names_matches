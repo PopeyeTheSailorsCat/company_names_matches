{
 "cells": [
  {
   "cell_type": "code",
   "execution_count": 1,
   "metadata": {
    "collapsed": true,
    "pycharm": {
     "name": "#%%\n"
    }
   },
   "outputs": [],
   "source": [
    "from sentence_transformers import SentenceTransformer\n",
    "import pandas as pd\n",
    "from preprocess import preproc, stopwords\n",
    "import numpy as np\n",
    "import re\n",
    "from tqdm import tqdm\n",
    "import pycountry"
   ]
  },
  {
   "cell_type": "markdown",
   "source": [
    "# Analyze"
   ],
   "metadata": {
    "collapsed": false,
    "pycharm": {
     "name": "#%% md\n"
    }
   }
  },
  {
   "cell_type": "code",
   "execution_count": null,
   "outputs": [],
   "source": [
    "df = pd.read_parquet('all_lang_train.parquet')"
   ],
   "metadata": {
    "collapsed": false,
    "pycharm": {
     "name": "#%%\n"
    }
   }
  },
  {
   "cell_type": "code",
   "execution_count": null,
   "outputs": [
    {
     "output_type": "execute_result",
     "data": {
      "text/plain": [
       "Empty DataFrame\n",
       "Columns: [name_1, name_2, is_duplicate]\n",
       "Index: []"
      ],
      "text/html": [
       "\n",
       "  <div id=\"df-15fde96d-22ae-4454-9cd1-892fbc9480e0\">\n",
       "    <div class=\"colab-df-container\">\n",
       "      <div>\n",
       "<style scoped>\n",
       "    .dataframe tbody tr th:only-of-type {\n",
       "        vertical-align: middle;\n",
       "    }\n",
       "\n",
       "    .dataframe tbody tr th {\n",
       "        vertical-align: top;\n",
       "    }\n",
       "\n",
       "    .dataframe thead th {\n",
       "        text-align: right;\n",
       "    }\n",
       "</style>\n",
       "<table border=\"1\" class=\"dataframe\">\n",
       "  <thead>\n",
       "    <tr style=\"text-align: right;\">\n",
       "      <th></th>\n",
       "      <th>name_1</th>\n",
       "      <th>name_2</th>\n",
       "      <th>is_duplicate</th>\n",
       "    </tr>\n",
       "  </thead>\n",
       "  <tbody>\n",
       "  </tbody>\n",
       "</table>\n",
       "</div>\n",
       "      <button class=\"colab-df-convert\" onclick=\"convertToInteractive('df-15fde96d-22ae-4454-9cd1-892fbc9480e0')\"\n",
       "              title=\"Convert this dataframe to an interactive table.\"\n",
       "              style=\"display:none;\">\n",
       "        \n",
       "  <svg xmlns=\"http://www.w3.org/2000/svg\" height=\"24px\"viewBox=\"0 0 24 24\"\n",
       "       width=\"24px\">\n",
       "    <path d=\"M0 0h24v24H0V0z\" fill=\"none\"/>\n",
       "    <path d=\"M18.56 5.44l.94 2.06.94-2.06 2.06-.94-2.06-.94-.94-2.06-.94 2.06-2.06.94zm-11 1L8.5 8.5l.94-2.06 2.06-.94-2.06-.94L8.5 2.5l-.94 2.06-2.06.94zm10 10l.94 2.06.94-2.06 2.06-.94-2.06-.94-.94-2.06-.94 2.06-2.06.94z\"/><path d=\"M17.41 7.96l-1.37-1.37c-.4-.4-.92-.59-1.43-.59-.52 0-1.04.2-1.43.59L10.3 9.45l-7.72 7.72c-.78.78-.78 2.05 0 2.83L4 21.41c.39.39.9.59 1.41.59.51 0 1.02-.2 1.41-.59l7.78-7.78 2.81-2.81c.8-.78.8-2.07 0-2.86zM5.41 20L4 18.59l7.72-7.72 1.47 1.35L5.41 20z\"/>\n",
       "  </svg>\n",
       "      </button>\n",
       "      \n",
       "  <style>\n",
       "    .colab-df-container {\n",
       "      display:flex;\n",
       "      flex-wrap:wrap;\n",
       "      gap: 12px;\n",
       "    }\n",
       "\n",
       "    .colab-df-convert {\n",
       "      background-color: #E8F0FE;\n",
       "      border: none;\n",
       "      border-radius: 50%;\n",
       "      cursor: pointer;\n",
       "      display: none;\n",
       "      fill: #1967D2;\n",
       "      height: 32px;\n",
       "      padding: 0 0 0 0;\n",
       "      width: 32px;\n",
       "    }\n",
       "\n",
       "    .colab-df-convert:hover {\n",
       "      background-color: #E2EBFA;\n",
       "      box-shadow: 0px 1px 2px rgba(60, 64, 67, 0.3), 0px 1px 3px 1px rgba(60, 64, 67, 0.15);\n",
       "      fill: #174EA6;\n",
       "    }\n",
       "\n",
       "    [theme=dark] .colab-df-convert {\n",
       "      background-color: #3B4455;\n",
       "      fill: #D2E3FC;\n",
       "    }\n",
       "\n",
       "    [theme=dark] .colab-df-convert:hover {\n",
       "      background-color: #434B5C;\n",
       "      box-shadow: 0px 1px 3px 1px rgba(0, 0, 0, 0.15);\n",
       "      filter: drop-shadow(0px 1px 2px rgba(0, 0, 0, 0.3));\n",
       "      fill: #FFFFFF;\n",
       "    }\n",
       "  </style>\n",
       "\n",
       "      <script>\n",
       "        const buttonEl =\n",
       "          document.querySelector('#df-15fde96d-22ae-4454-9cd1-892fbc9480e0 button.colab-df-convert');\n",
       "        buttonEl.style.display =\n",
       "          google.colab.kernel.accessAllowed ? 'block' : 'none';\n",
       "\n",
       "        async function convertToInteractive(key) {\n",
       "          const element = document.querySelector('#df-15fde96d-22ae-4454-9cd1-892fbc9480e0');\n",
       "          const dataTable =\n",
       "            await google.colab.kernel.invokeFunction('convertToInteractive',\n",
       "                                                     [key], {});\n",
       "          if (!dataTable) return;\n",
       "\n",
       "          const docLinkHtml = 'Like what you see? Visit the ' +\n",
       "            '<a target=\"_blank\" href=https://colab.research.google.com/notebooks/data_table.ipynb>data table notebook</a>'\n",
       "            + ' to learn more about interactive tables.';\n",
       "          element.innerHTML = '';\n",
       "          dataTable['output_type'] = 'display_data';\n",
       "          await google.colab.output.renderOutput(dataTable, element);\n",
       "          const docLink = document.createElement('div');\n",
       "          docLink.innerHTML = docLinkHtml;\n",
       "          element.appendChild(docLink);\n",
       "        }\n",
       "      </script>\n",
       "    </div>\n",
       "  </div>\n",
       "  "
      ]
     },
     "metadata": {},
     "execution_count": 166
    }
   ],
   "source": [
    "company_name = 'S.G. Exp.'\n",
    "df[((df.name_1 == company_name) | (df.name_2 == company_name)) & (df.is_duplicate == 1)]"
   ],
   "metadata": {
    "collapsed": false,
    "pycharm": {
     "name": "#%%\n"
    }
   }
  },
  {
   "cell_type": "code",
   "execution_count": null,
   "outputs": [],
   "source": [
    "df[((df.name_1 == company_name) | (df.name_2 == company_name)) & (df.is_duplicate == 0)]"
   ],
   "metadata": {
    "collapsed": false,
    "pycharm": {
     "name": "#%%\n"
    }
   }
  },
  {
   "cell_type": "code",
   "execution_count": null,
   "outputs": [],
   "source": [
    "df['brace'] = df.name_1.apply(lambda x: True if '(' in x else False)"
   ],
   "metadata": {
    "collapsed": false,
    "pycharm": {
     "name": "#%%\n"
    }
   }
  },
  {
   "cell_type": "code",
   "execution_count": null,
   "outputs": [
    {
     "output_type": "execute_result",
     "data": {
      "text/plain": [
       "                                                 name_1  \\\n",
       "3014  Zhuli Zhiye (Shenzhen) Electronic Industrial C...   \n",
       "3021  Weigao Plastic & Rubber Products(Shenzhen) Co....   \n",
       "3042                     Iida(Foshan) Industry?Co. Ltd.   \n",
       "3082  China Merchants Heavy Industry (Shenzhen) Co.,...   \n",
       "3091                             Yusen Logistics (Y313)   \n",
       "...                                                 ...   \n",
       "4385               Wal Hee Trading (Shanghai) Co., Ltd.   \n",
       "4386                                     Pcs (Pty) Ltd.   \n",
       "4468                Ideal Carpet Industries (Pvt.) Ltd.   \n",
       "4487                R1 International (Americas) Inc. 25   \n",
       "4488               Wrigley Confectionery (Shanghai) Co.   \n",
       "\n",
       "                                         name_2  is_duplicate  brace  \n",
       "3014                        Nrc Industries Ltd.             0   True  \n",
       "3021  Shanghai Youbao Rubber Products Co., Ltd.             0   True  \n",
       "3042      Fujian Qinglu Shoe Industry Co., Ltd.             0   True  \n",
       "3082                         Mona Industry Sarl             0   True  \n",
       "3091        Tiger Logistics (India) Ltd. Mumbai             0   True  \n",
       "...                                         ...           ...    ...  \n",
       "4385                              Steps Trading             0   True  \n",
       "4386  Jay Precision Products (India) Pvt., Ltd.             0   True  \n",
       "4468                  Cleartech Industries Inc.             0   True  \n",
       "4487                  Bridgestone Americas Tire             0   True  \n",
       "4488                          D S International             0   True  \n",
       "\n",
       "[140 rows x 4 columns]"
      ],
      "text/html": [
       "\n",
       "  <div id=\"df-3c10bc94-5f30-4e2a-a027-0d85e4b66db8\">\n",
       "    <div class=\"colab-df-container\">\n",
       "      <div>\n",
       "<style scoped>\n",
       "    .dataframe tbody tr th:only-of-type {\n",
       "        vertical-align: middle;\n",
       "    }\n",
       "\n",
       "    .dataframe tbody tr th {\n",
       "        vertical-align: top;\n",
       "    }\n",
       "\n",
       "    .dataframe thead th {\n",
       "        text-align: right;\n",
       "    }\n",
       "</style>\n",
       "<table border=\"1\" class=\"dataframe\">\n",
       "  <thead>\n",
       "    <tr style=\"text-align: right;\">\n",
       "      <th></th>\n",
       "      <th>name_1</th>\n",
       "      <th>name_2</th>\n",
       "      <th>is_duplicate</th>\n",
       "      <th>brace</th>\n",
       "    </tr>\n",
       "  </thead>\n",
       "  <tbody>\n",
       "    <tr>\n",
       "      <th>3014</th>\n",
       "      <td>Zhuli Zhiye (Shenzhen) Electronic Industrial C...</td>\n",
       "      <td>Nrc Industries Ltd.</td>\n",
       "      <td>0</td>\n",
       "      <td>True</td>\n",
       "    </tr>\n",
       "    <tr>\n",
       "      <th>3021</th>\n",
       "      <td>Weigao Plastic &amp; Rubber Products(Shenzhen) Co....</td>\n",
       "      <td>Shanghai Youbao Rubber Products Co., Ltd.</td>\n",
       "      <td>0</td>\n",
       "      <td>True</td>\n",
       "    </tr>\n",
       "    <tr>\n",
       "      <th>3042</th>\n",
       "      <td>Iida(Foshan) Industry?Co. Ltd.</td>\n",
       "      <td>Fujian Qinglu Shoe Industry Co., Ltd.</td>\n",
       "      <td>0</td>\n",
       "      <td>True</td>\n",
       "    </tr>\n",
       "    <tr>\n",
       "      <th>3082</th>\n",
       "      <td>China Merchants Heavy Industry (Shenzhen) Co.,...</td>\n",
       "      <td>Mona Industry Sarl</td>\n",
       "      <td>0</td>\n",
       "      <td>True</td>\n",
       "    </tr>\n",
       "    <tr>\n",
       "      <th>3091</th>\n",
       "      <td>Yusen Logistics (Y313)</td>\n",
       "      <td>Tiger Logistics (India) Ltd. Mumbai</td>\n",
       "      <td>0</td>\n",
       "      <td>True</td>\n",
       "    </tr>\n",
       "    <tr>\n",
       "      <th>...</th>\n",
       "      <td>...</td>\n",
       "      <td>...</td>\n",
       "      <td>...</td>\n",
       "      <td>...</td>\n",
       "    </tr>\n",
       "    <tr>\n",
       "      <th>4385</th>\n",
       "      <td>Wal Hee Trading (Shanghai) Co., Ltd.</td>\n",
       "      <td>Steps Trading</td>\n",
       "      <td>0</td>\n",
       "      <td>True</td>\n",
       "    </tr>\n",
       "    <tr>\n",
       "      <th>4386</th>\n",
       "      <td>Pcs (Pty) Ltd.</td>\n",
       "      <td>Jay Precision Products (India) Pvt., Ltd.</td>\n",
       "      <td>0</td>\n",
       "      <td>True</td>\n",
       "    </tr>\n",
       "    <tr>\n",
       "      <th>4468</th>\n",
       "      <td>Ideal Carpet Industries (Pvt.) Ltd.</td>\n",
       "      <td>Cleartech Industries Inc.</td>\n",
       "      <td>0</td>\n",
       "      <td>True</td>\n",
       "    </tr>\n",
       "    <tr>\n",
       "      <th>4487</th>\n",
       "      <td>R1 International (Americas) Inc. 25</td>\n",
       "      <td>Bridgestone Americas Tire</td>\n",
       "      <td>0</td>\n",
       "      <td>True</td>\n",
       "    </tr>\n",
       "    <tr>\n",
       "      <th>4488</th>\n",
       "      <td>Wrigley Confectionery (Shanghai) Co.</td>\n",
       "      <td>D S International</td>\n",
       "      <td>0</td>\n",
       "      <td>True</td>\n",
       "    </tr>\n",
       "  </tbody>\n",
       "</table>\n",
       "<p>140 rows × 4 columns</p>\n",
       "</div>\n",
       "      <button class=\"colab-df-convert\" onclick=\"convertToInteractive('df-3c10bc94-5f30-4e2a-a027-0d85e4b66db8')\"\n",
       "              title=\"Convert this dataframe to an interactive table.\"\n",
       "              style=\"display:none;\">\n",
       "        \n",
       "  <svg xmlns=\"http://www.w3.org/2000/svg\" height=\"24px\"viewBox=\"0 0 24 24\"\n",
       "       width=\"24px\">\n",
       "    <path d=\"M0 0h24v24H0V0z\" fill=\"none\"/>\n",
       "    <path d=\"M18.56 5.44l.94 2.06.94-2.06 2.06-.94-2.06-.94-.94-2.06-.94 2.06-2.06.94zm-11 1L8.5 8.5l.94-2.06 2.06-.94-2.06-.94L8.5 2.5l-.94 2.06-2.06.94zm10 10l.94 2.06.94-2.06 2.06-.94-2.06-.94-.94-2.06-.94 2.06-2.06.94z\"/><path d=\"M17.41 7.96l-1.37-1.37c-.4-.4-.92-.59-1.43-.59-.52 0-1.04.2-1.43.59L10.3 9.45l-7.72 7.72c-.78.78-.78 2.05 0 2.83L4 21.41c.39.39.9.59 1.41.59.51 0 1.02-.2 1.41-.59l7.78-7.78 2.81-2.81c.8-.78.8-2.07 0-2.86zM5.41 20L4 18.59l7.72-7.72 1.47 1.35L5.41 20z\"/>\n",
       "  </svg>\n",
       "      </button>\n",
       "      \n",
       "  <style>\n",
       "    .colab-df-container {\n",
       "      display:flex;\n",
       "      flex-wrap:wrap;\n",
       "      gap: 12px;\n",
       "    }\n",
       "\n",
       "    .colab-df-convert {\n",
       "      background-color: #E8F0FE;\n",
       "      border: none;\n",
       "      border-radius: 50%;\n",
       "      cursor: pointer;\n",
       "      display: none;\n",
       "      fill: #1967D2;\n",
       "      height: 32px;\n",
       "      padding: 0 0 0 0;\n",
       "      width: 32px;\n",
       "    }\n",
       "\n",
       "    .colab-df-convert:hover {\n",
       "      background-color: #E2EBFA;\n",
       "      box-shadow: 0px 1px 2px rgba(60, 64, 67, 0.3), 0px 1px 3px 1px rgba(60, 64, 67, 0.15);\n",
       "      fill: #174EA6;\n",
       "    }\n",
       "\n",
       "    [theme=dark] .colab-df-convert {\n",
       "      background-color: #3B4455;\n",
       "      fill: #D2E3FC;\n",
       "    }\n",
       "\n",
       "    [theme=dark] .colab-df-convert:hover {\n",
       "      background-color: #434B5C;\n",
       "      box-shadow: 0px 1px 3px 1px rgba(0, 0, 0, 0.15);\n",
       "      filter: drop-shadow(0px 1px 2px rgba(0, 0, 0, 0.3));\n",
       "      fill: #FFFFFF;\n",
       "    }\n",
       "  </style>\n",
       "\n",
       "      <script>\n",
       "        const buttonEl =\n",
       "          document.querySelector('#df-3c10bc94-5f30-4e2a-a027-0d85e4b66db8 button.colab-df-convert');\n",
       "        buttonEl.style.display =\n",
       "          google.colab.kernel.accessAllowed ? 'block' : 'none';\n",
       "\n",
       "        async function convertToInteractive(key) {\n",
       "          const element = document.querySelector('#df-3c10bc94-5f30-4e2a-a027-0d85e4b66db8');\n",
       "          const dataTable =\n",
       "            await google.colab.kernel.invokeFunction('convertToInteractive',\n",
       "                                                     [key], {});\n",
       "          if (!dataTable) return;\n",
       "\n",
       "          const docLinkHtml = 'Like what you see? Visit the ' +\n",
       "            '<a target=\"_blank\" href=https://colab.research.google.com/notebooks/data_table.ipynb>data table notebook</a>'\n",
       "            + ' to learn more about interactive tables.';\n",
       "          element.innerHTML = '';\n",
       "          dataTable['output_type'] = 'display_data';\n",
       "          await google.colab.output.renderOutput(dataTable, element);\n",
       "          const docLink = document.createElement('div');\n",
       "          docLink.innerHTML = docLinkHtml;\n",
       "          element.appendChild(docLink);\n",
       "        }\n",
       "      </script>\n",
       "    </div>\n",
       "  </div>\n",
       "  "
      ]
     },
     "metadata": {},
     "execution_count": 50
    }
   ],
   "source": [
    "df[df.brace == True]"
   ],
   "metadata": {
    "collapsed": false,
    "pycharm": {
     "name": "#%%\n"
    }
   }
  },
  {
   "cell_type": "markdown",
   "source": [
    "Вывод = удаляем то что в скобках"
   ],
   "metadata": {
    "collapsed": false,
    "pycharm": {
     "name": "#%% md\n"
    }
   }
  },
  {
   "cell_type": "code",
   "execution_count": null,
   "outputs": [],
   "source": [
    "df['comma'] = df.name_1.apply(lambda x: True if ',' in x else False)"
   ],
   "metadata": {
    "collapsed": false,
    "pycharm": {
     "name": "#%%\n"
    }
   }
  },
  {
   "cell_type": "code",
   "execution_count": null,
   "outputs": [],
   "source": [
    "df[df.comma == True][55:99]"
   ],
   "metadata": {
    "collapsed": false,
    "pycharm": {
     "name": "#%%\n"
    }
   }
  },
  {
   "cell_type": "markdown",
   "source": [
    "Вывод = удаляем ','"
   ],
   "metadata": {
    "collapsed": false,
    "pycharm": {
     "name": "#%% md\n"
    }
   }
  },
  {
   "cell_type": "markdown",
   "source": [
    "# Preproc"
   ],
   "metadata": {
    "collapsed": false,
    "pycharm": {
     "name": "#%% md\n"
    }
   }
  },
  {
   "cell_type": "code",
   "execution_count": 2,
   "outputs": [],
   "source": [
    "import pandas as pd\n",
    "from preprocess import preproc, stopwords"
   ],
   "metadata": {
    "collapsed": false,
    "pycharm": {
     "name": "#%%\n"
    }
   }
  },
  {
   "cell_type": "code",
   "execution_count": 3,
   "outputs": [],
   "source": [
    "df = pd.read_parquet('../data/languages.parquet')"
   ],
   "metadata": {
    "collapsed": false,
    "pycharm": {
     "name": "#%%\n"
    }
   }
  },
  {
   "cell_type": "code",
   "execution_count": 4,
   "outputs": [
    {
     "data": {
      "text/plain": "                                                   Names languages_langdetect\n0                                    Iko Industries Ltd.                   en\n1                                Apcotex Industries Ltd.                   en\n2                      Rishichem Distributors Pvt., Ltd.                   en\n3                                Powermax Rubber Factory                   en\n4                                              Tress A/S                   en\n...                                                  ...                  ...\n18017                       Plastic Packaging (Pty) Ltd.                   tl\n18018  'Hengshui Mechanical & Electrical Building Co....                   en\n18019  Jiangsu Baoli International Investment Co., Lt...                   en\n18020                                         Lanxess AG                   ca\n18021                        TGI IMPORT EXPORT CO., LTD.                   en\n\n[18022 rows x 2 columns]",
      "text/html": "<div>\n<style scoped>\n    .dataframe tbody tr th:only-of-type {\n        vertical-align: middle;\n    }\n\n    .dataframe tbody tr th {\n        vertical-align: top;\n    }\n\n    .dataframe thead th {\n        text-align: right;\n    }\n</style>\n<table border=\"1\" class=\"dataframe\">\n  <thead>\n    <tr style=\"text-align: right;\">\n      <th></th>\n      <th>Names</th>\n      <th>languages_langdetect</th>\n    </tr>\n  </thead>\n  <tbody>\n    <tr>\n      <th>0</th>\n      <td>Iko Industries Ltd.</td>\n      <td>en</td>\n    </tr>\n    <tr>\n      <th>1</th>\n      <td>Apcotex Industries Ltd.</td>\n      <td>en</td>\n    </tr>\n    <tr>\n      <th>2</th>\n      <td>Rishichem Distributors Pvt., Ltd.</td>\n      <td>en</td>\n    </tr>\n    <tr>\n      <th>3</th>\n      <td>Powermax Rubber Factory</td>\n      <td>en</td>\n    </tr>\n    <tr>\n      <th>4</th>\n      <td>Tress A/S</td>\n      <td>en</td>\n    </tr>\n    <tr>\n      <th>...</th>\n      <td>...</td>\n      <td>...</td>\n    </tr>\n    <tr>\n      <th>18017</th>\n      <td>Plastic Packaging (Pty) Ltd.</td>\n      <td>tl</td>\n    </tr>\n    <tr>\n      <th>18018</th>\n      <td>'Hengshui Mechanical &amp; Electrical Building Co....</td>\n      <td>en</td>\n    </tr>\n    <tr>\n      <th>18019</th>\n      <td>Jiangsu Baoli International Investment Co., Lt...</td>\n      <td>en</td>\n    </tr>\n    <tr>\n      <th>18020</th>\n      <td>Lanxess AG</td>\n      <td>ca</td>\n    </tr>\n    <tr>\n      <th>18021</th>\n      <td>TGI IMPORT EXPORT CO., LTD.</td>\n      <td>en</td>\n    </tr>\n  </tbody>\n</table>\n<p>18022 rows × 2 columns</p>\n</div>"
     },
     "execution_count": 4,
     "metadata": {},
     "output_type": "execute_result"
    }
   ],
   "source": [
    "df"
   ],
   "metadata": {
    "collapsed": false,
    "pycharm": {
     "name": "#%%\n"
    }
   }
  },
  {
   "cell_type": "code",
   "execution_count": 5,
   "outputs": [],
   "source": [
    "df['name_preproc'] = df.Names.apply(lambda x: preproc(x, stopwords))"
   ],
   "metadata": {
    "collapsed": false,
    "pycharm": {
     "name": "#%%\n"
    }
   }
  },
  {
   "cell_type": "code",
   "execution_count": 6,
   "outputs": [],
   "source": [
    "df.to_parquet('../data/df_names_preproc.parquet', compression='brotli')"
   ],
   "metadata": {
    "collapsed": false,
    "pycharm": {
     "name": "#%%\n"
    }
   }
  },
  {
   "cell_type": "code",
   "execution_count": 6,
   "outputs": [
    {
     "data": {
      "text/plain": "                                                   Names languages_langdetect  \\\n2597                                 ООО Химинвест групп                   ru   \n3548   ОБЩЕСТВО С ОГРАНИЧЕННОЙ ОТВЕТСТВЕННОСТЬЮ ASIA ...                   ru   \n3635                                    ООО\"ИМПОРТ МОДА\"                   ru   \n4055                                 ПИРЕЛЛИ ТАЙР РУССИЯ                   ru   \n6705                                      ООО\"ГУЧЧИ РУС\"                   ru   \n...                                                  ...                  ...   \n17997                                         ООО\"НЭКСТ\"                   ru   \n18001                                        ЗАО \"МАПЕИ\"                   ru   \n18010  ФИЛИАЛ КОМПАНИИ \"САХАЛИН ЭНЕРДЖИ ИНВЕСТМЕНТ КО...                   ru   \n18012                                     АО \"РОТОФЛЕКС\"                   ru   \n18014                                     АО \"Интеркомп\"                   ru   \n\n                          name_preproc  \n2597                   himinvest grupp  \n3548                        pharm pack  \n3635                       import moda  \n4055                      pirelli tajr  \n6705                           guchchi  \n...                                ...  \n17997                            nekst  \n18001                        zao mapei  \n18010  sahalin enerdzhi investment ltd  \n18012                     ao rotofleks  \n18014                     ao interkomp  \n\n[119 rows x 3 columns]",
      "text/html": "<div>\n<style scoped>\n    .dataframe tbody tr th:only-of-type {\n        vertical-align: middle;\n    }\n\n    .dataframe tbody tr th {\n        vertical-align: top;\n    }\n\n    .dataframe thead th {\n        text-align: right;\n    }\n</style>\n<table border=\"1\" class=\"dataframe\">\n  <thead>\n    <tr style=\"text-align: right;\">\n      <th></th>\n      <th>Names</th>\n      <th>languages_langdetect</th>\n      <th>name_preproc</th>\n    </tr>\n  </thead>\n  <tbody>\n    <tr>\n      <th>2597</th>\n      <td>ООО Химинвест групп</td>\n      <td>ru</td>\n      <td>himinvest grupp</td>\n    </tr>\n    <tr>\n      <th>3548</th>\n      <td>ОБЩЕСТВО С ОГРАНИЧЕННОЙ ОТВЕТСТВЕННОСТЬЮ ASIA ...</td>\n      <td>ru</td>\n      <td>pharm pack</td>\n    </tr>\n    <tr>\n      <th>3635</th>\n      <td>ООО\"ИМПОРТ МОДА\"</td>\n      <td>ru</td>\n      <td>import moda</td>\n    </tr>\n    <tr>\n      <th>4055</th>\n      <td>ПИРЕЛЛИ ТАЙР РУССИЯ</td>\n      <td>ru</td>\n      <td>pirelli tajr</td>\n    </tr>\n    <tr>\n      <th>6705</th>\n      <td>ООО\"ГУЧЧИ РУС\"</td>\n      <td>ru</td>\n      <td>guchchi</td>\n    </tr>\n    <tr>\n      <th>...</th>\n      <td>...</td>\n      <td>...</td>\n      <td>...</td>\n    </tr>\n    <tr>\n      <th>17997</th>\n      <td>ООО\"НЭКСТ\"</td>\n      <td>ru</td>\n      <td>nekst</td>\n    </tr>\n    <tr>\n      <th>18001</th>\n      <td>ЗАО \"МАПЕИ\"</td>\n      <td>ru</td>\n      <td>zao mapei</td>\n    </tr>\n    <tr>\n      <th>18010</th>\n      <td>ФИЛИАЛ КОМПАНИИ \"САХАЛИН ЭНЕРДЖИ ИНВЕСТМЕНТ КО...</td>\n      <td>ru</td>\n      <td>sahalin enerdzhi investment ltd</td>\n    </tr>\n    <tr>\n      <th>18012</th>\n      <td>АО \"РОТОФЛЕКС\"</td>\n      <td>ru</td>\n      <td>ao rotofleks</td>\n    </tr>\n    <tr>\n      <th>18014</th>\n      <td>АО \"Интеркомп\"</td>\n      <td>ru</td>\n      <td>ao interkomp</td>\n    </tr>\n  </tbody>\n</table>\n<p>119 rows × 3 columns</p>\n</div>"
     },
     "execution_count": 6,
     "metadata": {},
     "output_type": "execute_result"
    }
   ],
   "source": [
    "df[df.languages_langdetect == 'ru']"
   ],
   "metadata": {
    "collapsed": false,
    "pycharm": {
     "name": "#%%\n"
    }
   }
  },
  {
   "cell_type": "code",
   "execution_count": 8,
   "outputs": [
    {
     "data": {
      "text/plain": "                                                 Names languages_langdetect  \\\n834                    Qingdao Wanyong Trade Co., Ltd.                   tl   \n835                                                Dsa                   tl   \n836                                       Evonik Corp.                   sl   \n837                                        Uab Danspin                   da   \n838                                       LG Chem Ltd.                   de   \n839  Qingdao Huateng International Logistics Co., Ltd.                   en   \n840                                                Ibm                   id   \n841                                         Tailer S A                   tr   \n842                                Trackon Promotional                   en   \n843                  Dongguan Yinaiba Rubber Co., Ltd.                   id   \n844                                 Main Colombia S.A.                   en   \n845                                            Leach S                   en   \n846                                       Amjid Sports                   hr   \n847                              Notify:Run Industries                   en   \n848                  Falcon Maritime And Aviation Inc.                   en   \n849                                K. J. International                   en   \n\n                     name_preproc  \n834         qingdao wanyong trade  \n835                           dsa  \n836                        evonik  \n837                   uab danspin  \n838                       lg chem  \n839     qingdao huateng logistics  \n840                           ibm  \n841                    tailer s a  \n842           trackon promotional  \n843       dongguan yinaiba rubber  \n844                 main colombia  \n845                       leach s  \n846                  amjid sports  \n847                    notify run  \n848  falcon maritime and aviation  \n849                           k j  ",
      "text/html": "<div>\n<style scoped>\n    .dataframe tbody tr th:only-of-type {\n        vertical-align: middle;\n    }\n\n    .dataframe tbody tr th {\n        vertical-align: top;\n    }\n\n    .dataframe thead th {\n        text-align: right;\n    }\n</style>\n<table border=\"1\" class=\"dataframe\">\n  <thead>\n    <tr style=\"text-align: right;\">\n      <th></th>\n      <th>Names</th>\n      <th>languages_langdetect</th>\n      <th>name_preproc</th>\n    </tr>\n  </thead>\n  <tbody>\n    <tr>\n      <th>834</th>\n      <td>Qingdao Wanyong Trade Co., Ltd.</td>\n      <td>tl</td>\n      <td>qingdao wanyong trade</td>\n    </tr>\n    <tr>\n      <th>835</th>\n      <td>Dsa</td>\n      <td>tl</td>\n      <td>dsa</td>\n    </tr>\n    <tr>\n      <th>836</th>\n      <td>Evonik Corp.</td>\n      <td>sl</td>\n      <td>evonik</td>\n    </tr>\n    <tr>\n      <th>837</th>\n      <td>Uab Danspin</td>\n      <td>da</td>\n      <td>uab danspin</td>\n    </tr>\n    <tr>\n      <th>838</th>\n      <td>LG Chem Ltd.</td>\n      <td>de</td>\n      <td>lg chem</td>\n    </tr>\n    <tr>\n      <th>839</th>\n      <td>Qingdao Huateng International Logistics Co., Ltd.</td>\n      <td>en</td>\n      <td>qingdao huateng logistics</td>\n    </tr>\n    <tr>\n      <th>840</th>\n      <td>Ibm</td>\n      <td>id</td>\n      <td>ibm</td>\n    </tr>\n    <tr>\n      <th>841</th>\n      <td>Tailer S A</td>\n      <td>tr</td>\n      <td>tailer s a</td>\n    </tr>\n    <tr>\n      <th>842</th>\n      <td>Trackon Promotional</td>\n      <td>en</td>\n      <td>trackon promotional</td>\n    </tr>\n    <tr>\n      <th>843</th>\n      <td>Dongguan Yinaiba Rubber Co., Ltd.</td>\n      <td>id</td>\n      <td>dongguan yinaiba rubber</td>\n    </tr>\n    <tr>\n      <th>844</th>\n      <td>Main Colombia S.A.</td>\n      <td>en</td>\n      <td>main colombia</td>\n    </tr>\n    <tr>\n      <th>845</th>\n      <td>Leach S</td>\n      <td>en</td>\n      <td>leach s</td>\n    </tr>\n    <tr>\n      <th>846</th>\n      <td>Amjid Sports</td>\n      <td>hr</td>\n      <td>amjid sports</td>\n    </tr>\n    <tr>\n      <th>847</th>\n      <td>Notify:Run Industries</td>\n      <td>en</td>\n      <td>notify run</td>\n    </tr>\n    <tr>\n      <th>848</th>\n      <td>Falcon Maritime And Aviation Inc.</td>\n      <td>en</td>\n      <td>falcon maritime and aviation</td>\n    </tr>\n    <tr>\n      <th>849</th>\n      <td>K. J. International</td>\n      <td>en</td>\n      <td>k j</td>\n    </tr>\n  </tbody>\n</table>\n</div>"
     },
     "execution_count": 8,
     "metadata": {},
     "output_type": "execute_result"
    }
   ],
   "source": [
    "b = 790\n",
    "df[44+b:60+b]"
   ],
   "metadata": {
    "collapsed": false,
    "pycharm": {
     "name": "#%%\n"
    }
   }
  },
  {
   "cell_type": "code",
   "execution_count": null,
   "outputs": [],
   "source": [],
   "metadata": {
    "collapsed": false,
    "pycharm": {
     "name": "#%%\n"
    }
   }
  },
  {
   "cell_type": "code",
   "execution_count": null,
   "outputs": [],
   "source": [],
   "metadata": {
    "collapsed": false,
    "pycharm": {
     "name": "#%%\n"
    }
   }
  },
  {
   "cell_type": "code",
   "execution_count": null,
   "outputs": [],
   "source": [],
   "metadata": {
    "collapsed": false,
    "pycharm": {
     "name": "#%%\n"
    }
   }
  },
  {
   "cell_type": "code",
   "execution_count": null,
   "outputs": [],
   "source": [],
   "metadata": {
    "collapsed": false,
    "pycharm": {
     "name": "#%%\n"
    }
   }
  },
  {
   "cell_type": "code",
   "execution_count": null,
   "outputs": [],
   "source": [],
   "metadata": {
    "collapsed": false,
    "pycharm": {
     "name": "#%%\n"
    }
   }
  }
 ],
 "metadata": {
  "kernelspec": {
   "display_name": "Python 3",
   "language": "python",
   "name": "python3"
  },
  "language_info": {
   "codemirror_mode": {
    "name": "ipython",
    "version": 2
   },
   "file_extension": ".py",
   "mimetype": "text/x-python",
   "name": "python",
   "nbconvert_exporter": "python",
   "pygments_lexer": "ipython2",
   "version": "2.7.6"
  }
 },
 "nbformat": 4,
 "nbformat_minor": 0
}