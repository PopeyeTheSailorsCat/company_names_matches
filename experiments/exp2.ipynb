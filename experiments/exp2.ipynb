{
 "cells": [
  {
   "cell_type": "markdown",
   "source": [
    "# Experiment 2\n",
    "# Sentence embeddings and Qdrant Search"
   ],
   "metadata": {
    "collapsed": false,
    "pycharm": {
     "name": "#%% md\n"
    }
   }
  },
  {
   "cell_type": "markdown",
   "source": [
    "## Unprocessed dataest. Languages: EN"
   ],
   "metadata": {
    "collapsed": false,
    "pycharm": {
     "name": "#%% md\n"
    }
   }
  },
  {
   "cell_type": "code",
   "execution_count": 109,
   "metadata": {
    "collapsed": true,
    "pycharm": {
     "name": "#%%\n"
    }
   },
   "outputs": [],
   "source": [
    "import pandas as pd\n",
    "import numpy as np\n",
    "from sklearn.model_selection import train_test_split\n",
    "from sentence_transformers import SentenceTransformer\n",
    "from sklearn.metrics import accuracy_score, precision_score, recall_score, f1_score\n",
    "from qdrant_client import QdrantClient\n",
    "from qdrant_client.http import models as rest\n",
    "from qdrant_client.http.models import models\n",
    "from tqdm import tqdm"
   ]
  },
  {
   "cell_type": "markdown",
   "source": [
    "### Load datasets"
   ],
   "metadata": {
    "collapsed": false,
    "pycharm": {
     "name": "#%% md\n"
    }
   }
  },
  {
   "cell_type": "code",
   "execution_count": 9,
   "outputs": [],
   "source": [
    "df_emb = pd.read_parquet('../data/df_embs.parquet')  # Embeddings from all-MiniLM-L6-v2 pretrain. Vector length is 512."
   ],
   "metadata": {
    "collapsed": false,
    "pycharm": {
     "name": "#%%\n"
    }
   }
  },
  {
   "cell_type": "code",
   "execution_count": 15,
   "outputs": [],
   "source": [
    "df = pd.read_parquet('../data/train.parquet')  # Only EN"
   ],
   "metadata": {
    "collapsed": false,
    "pycharm": {
     "name": "#%%\n"
    }
   }
  },
  {
   "cell_type": "code",
   "execution_count": 16,
   "outputs": [
    {
     "data": {
      "text/plain": "                                         name_1  \\\n0                           Iko Industries Ltd.   \n1                       Apcotex Industries Ltd.   \n2                       Powermax Rubber Factory   \n3                              National Bank Of   \n4                                      R.I.Intl   \n...                                         ...   \n149729          Eoc Polymers India Private Ltd.   \n149730                   Societe Des Transports   \n149731  Computime Electric (Shenzhen) Co., Ltd.   \n149732    Shanghai Haizhige Furniture Co., Ltd.   \n149733                    Bnd Trading Co., Ltd.   \n\n                                                   name_2  is_duplicate  \n0                    Enormous Industrial Trade Pvt., Ltd.             0  \n1                     Technocraft Industries (India) Ltd.             0  \n2                                                 Co. One             0  \n3                                    Action International             0  \n4                              Rass Mfg. India Pvt., Ltd.             0  \n...                                                   ...           ...  \n149729                    Imp. Express India Private Ltd.             0  \n149730                                 Ho Sports Co. Inc.             0  \n149731                                  A S International             0  \n149732                                Sharang Corporation             0  \n149733  Zhong Shan Yue Liang Economy& Trade Imp. & Exp...             0  \n\n[149734 rows x 3 columns]",
      "text/html": "<div>\n<style scoped>\n    .dataframe tbody tr th:only-of-type {\n        vertical-align: middle;\n    }\n\n    .dataframe tbody tr th {\n        vertical-align: top;\n    }\n\n    .dataframe thead th {\n        text-align: right;\n    }\n</style>\n<table border=\"1\" class=\"dataframe\">\n  <thead>\n    <tr style=\"text-align: right;\">\n      <th></th>\n      <th>name_1</th>\n      <th>name_2</th>\n      <th>is_duplicate</th>\n    </tr>\n  </thead>\n  <tbody>\n    <tr>\n      <th>0</th>\n      <td>Iko Industries Ltd.</td>\n      <td>Enormous Industrial Trade Pvt., Ltd.</td>\n      <td>0</td>\n    </tr>\n    <tr>\n      <th>1</th>\n      <td>Apcotex Industries Ltd.</td>\n      <td>Technocraft Industries (India) Ltd.</td>\n      <td>0</td>\n    </tr>\n    <tr>\n      <th>2</th>\n      <td>Powermax Rubber Factory</td>\n      <td>Co. One</td>\n      <td>0</td>\n    </tr>\n    <tr>\n      <th>3</th>\n      <td>National Bank Of</td>\n      <td>Action International</td>\n      <td>0</td>\n    </tr>\n    <tr>\n      <th>4</th>\n      <td>R.I.Intl</td>\n      <td>Rass Mfg. India Pvt., Ltd.</td>\n      <td>0</td>\n    </tr>\n    <tr>\n      <th>...</th>\n      <td>...</td>\n      <td>...</td>\n      <td>...</td>\n    </tr>\n    <tr>\n      <th>149729</th>\n      <td>Eoc Polymers India Private Ltd.</td>\n      <td>Imp. Express India Private Ltd.</td>\n      <td>0</td>\n    </tr>\n    <tr>\n      <th>149730</th>\n      <td>Societe Des Transports</td>\n      <td>Ho Sports Co. Inc.</td>\n      <td>0</td>\n    </tr>\n    <tr>\n      <th>149731</th>\n      <td>Computime Electric (Shenzhen) Co., Ltd.</td>\n      <td>A S International</td>\n      <td>0</td>\n    </tr>\n    <tr>\n      <th>149732</th>\n      <td>Shanghai Haizhige Furniture Co., Ltd.</td>\n      <td>Sharang Corporation</td>\n      <td>0</td>\n    </tr>\n    <tr>\n      <th>149733</th>\n      <td>Bnd Trading Co., Ltd.</td>\n      <td>Zhong Shan Yue Liang Economy&amp; Trade Imp. &amp; Exp...</td>\n      <td>0</td>\n    </tr>\n  </tbody>\n</table>\n<p>149734 rows × 3 columns</p>\n</div>"
     },
     "execution_count": 16,
     "metadata": {},
     "output_type": "execute_result"
    }
   ],
   "source": [
    "df"
   ],
   "metadata": {
    "collapsed": false,
    "pycharm": {
     "name": "#%%\n"
    }
   }
  },
  {
   "cell_type": "code",
   "execution_count": 17,
   "outputs": [],
   "source": [
    "df = df.merge(df_emb, how='left', left_on='name_1', right_on='name')\n",
    "df = df.drop(columns=['name'])\n",
    "df = df.rename({'emb': 'emb_1'}, axis=1)"
   ],
   "metadata": {
    "collapsed": false,
    "pycharm": {
     "name": "#%%\n"
    }
   }
  },
  {
   "cell_type": "code",
   "execution_count": 18,
   "outputs": [],
   "source": [
    "df = df.merge(df_emb, how='left', left_on='name_2', right_on='name')\n",
    "df = df.drop(columns=['name'])\n",
    "df = df.rename({'emb': 'emb_2'}, axis=1)"
   ],
   "metadata": {
    "collapsed": false,
    "pycharm": {
     "name": "#%%\n"
    }
   }
  },
  {
   "cell_type": "code",
   "execution_count": 20,
   "outputs": [
    {
     "data": {
      "text/plain": "                                         name_1  \\\n0                           Iko Industries Ltd.   \n1                       Apcotex Industries Ltd.   \n2                       Powermax Rubber Factory   \n3                              National Bank Of   \n4                                      R.I.Intl   \n...                                         ...   \n149729          Eoc Polymers India Private Ltd.   \n149730                   Societe Des Transports   \n149731  Computime Electric (Shenzhen) Co., Ltd.   \n149732    Shanghai Haizhige Furniture Co., Ltd.   \n149733                    Bnd Trading Co., Ltd.   \n\n                                                   name_2  is_duplicate  \\\n0                    Enormous Industrial Trade Pvt., Ltd.             0   \n1                     Technocraft Industries (India) Ltd.             0   \n2                                                 Co. One             0   \n3                                    Action International             0   \n4                              Rass Mfg. India Pvt., Ltd.             0   \n...                                                   ...           ...   \n149729                    Imp. Express India Private Ltd.             0   \n149730                                 Ho Sports Co. Inc.             0   \n149731                                  A S International             0   \n149732                                Sharang Corporation             0   \n149733  Zhong Shan Yue Liang Economy& Trade Imp. & Exp...             0   \n\n                                                    emb_1  \\\n0       [-0.0183494221419096, -0.00905199721455574, 0....   \n1       [-0.019763024523854256, -0.024556715041399002,...   \n2       [-0.02500852569937706, 0.012965007685124874, -...   \n3       [-0.024452747777104378, 0.020691601559519768, ...   \n4       [-0.013006784953176975, 0.03725733980536461, -...   \n...                                                   ...   \n149729  [-0.05212598294019699, 0.12076789140701294, 0....   \n149730  [-0.05330152064561844, -0.07089784741401672, 0...   \n149731  [-0.07178869843482971, 0.0024943070020526648, ...   \n149732  [-0.052497878670692444, 0.04104209691286087, -...   \n149733  [-0.03648974001407623, -0.06122106686234474, 0...   \n\n                                                    emb_2  \n0       [-0.018555620685219765, -0.05678172409534454, ...  \n1       [-0.06599077582359314, 0.04381170868873596, -0...  \n2       [0.0013258784310892224, -0.08776025474071503, ...  \n3       [-0.023129969835281372, 0.004134805407375097, ...  \n4       [-0.022258969023823738, 0.07864850014448166, 0...  \n...                                                   ...  \n149729  [-0.08675865083932877, 0.06544617563486099, -0...  \n149730  [-0.017611868679523468, 0.0801854059100151, 0....  \n149731  [-0.033666517585515976, 0.030529430136084557, ...  \n149732  [-0.03629408776760101, 0.002414196962490678, 0...  \n149733  [-0.04280753806233406, 0.0029897436033934355, ...  \n\n[149734 rows x 5 columns]",
      "text/html": "<div>\n<style scoped>\n    .dataframe tbody tr th:only-of-type {\n        vertical-align: middle;\n    }\n\n    .dataframe tbody tr th {\n        vertical-align: top;\n    }\n\n    .dataframe thead th {\n        text-align: right;\n    }\n</style>\n<table border=\"1\" class=\"dataframe\">\n  <thead>\n    <tr style=\"text-align: right;\">\n      <th></th>\n      <th>name_1</th>\n      <th>name_2</th>\n      <th>is_duplicate</th>\n      <th>emb_1</th>\n      <th>emb_2</th>\n    </tr>\n  </thead>\n  <tbody>\n    <tr>\n      <th>0</th>\n      <td>Iko Industries Ltd.</td>\n      <td>Enormous Industrial Trade Pvt., Ltd.</td>\n      <td>0</td>\n      <td>[-0.0183494221419096, -0.00905199721455574, 0....</td>\n      <td>[-0.018555620685219765, -0.05678172409534454, ...</td>\n    </tr>\n    <tr>\n      <th>1</th>\n      <td>Apcotex Industries Ltd.</td>\n      <td>Technocraft Industries (India) Ltd.</td>\n      <td>0</td>\n      <td>[-0.019763024523854256, -0.024556715041399002,...</td>\n      <td>[-0.06599077582359314, 0.04381170868873596, -0...</td>\n    </tr>\n    <tr>\n      <th>2</th>\n      <td>Powermax Rubber Factory</td>\n      <td>Co. One</td>\n      <td>0</td>\n      <td>[-0.02500852569937706, 0.012965007685124874, -...</td>\n      <td>[0.0013258784310892224, -0.08776025474071503, ...</td>\n    </tr>\n    <tr>\n      <th>3</th>\n      <td>National Bank Of</td>\n      <td>Action International</td>\n      <td>0</td>\n      <td>[-0.024452747777104378, 0.020691601559519768, ...</td>\n      <td>[-0.023129969835281372, 0.004134805407375097, ...</td>\n    </tr>\n    <tr>\n      <th>4</th>\n      <td>R.I.Intl</td>\n      <td>Rass Mfg. India Pvt., Ltd.</td>\n      <td>0</td>\n      <td>[-0.013006784953176975, 0.03725733980536461, -...</td>\n      <td>[-0.022258969023823738, 0.07864850014448166, 0...</td>\n    </tr>\n    <tr>\n      <th>...</th>\n      <td>...</td>\n      <td>...</td>\n      <td>...</td>\n      <td>...</td>\n      <td>...</td>\n    </tr>\n    <tr>\n      <th>149729</th>\n      <td>Eoc Polymers India Private Ltd.</td>\n      <td>Imp. Express India Private Ltd.</td>\n      <td>0</td>\n      <td>[-0.05212598294019699, 0.12076789140701294, 0....</td>\n      <td>[-0.08675865083932877, 0.06544617563486099, -0...</td>\n    </tr>\n    <tr>\n      <th>149730</th>\n      <td>Societe Des Transports</td>\n      <td>Ho Sports Co. Inc.</td>\n      <td>0</td>\n      <td>[-0.05330152064561844, -0.07089784741401672, 0...</td>\n      <td>[-0.017611868679523468, 0.0801854059100151, 0....</td>\n    </tr>\n    <tr>\n      <th>149731</th>\n      <td>Computime Electric (Shenzhen) Co., Ltd.</td>\n      <td>A S International</td>\n      <td>0</td>\n      <td>[-0.07178869843482971, 0.0024943070020526648, ...</td>\n      <td>[-0.033666517585515976, 0.030529430136084557, ...</td>\n    </tr>\n    <tr>\n      <th>149732</th>\n      <td>Shanghai Haizhige Furniture Co., Ltd.</td>\n      <td>Sharang Corporation</td>\n      <td>0</td>\n      <td>[-0.052497878670692444, 0.04104209691286087, -...</td>\n      <td>[-0.03629408776760101, 0.002414196962490678, 0...</td>\n    </tr>\n    <tr>\n      <th>149733</th>\n      <td>Bnd Trading Co., Ltd.</td>\n      <td>Zhong Shan Yue Liang Economy&amp; Trade Imp. &amp; Exp...</td>\n      <td>0</td>\n      <td>[-0.03648974001407623, -0.06122106686234474, 0...</td>\n      <td>[-0.04280753806233406, 0.0029897436033934355, ...</td>\n    </tr>\n  </tbody>\n</table>\n<p>149734 rows × 5 columns</p>\n</div>"
     },
     "execution_count": 20,
     "metadata": {},
     "output_type": "execute_result"
    }
   ],
   "source": [
    "df"
   ],
   "metadata": {
    "collapsed": false,
    "pycharm": {
     "name": "#%%\n"
    }
   }
  },
  {
   "cell_type": "code",
   "execution_count": 21,
   "outputs": [
    {
     "data": {
      "text/plain": "(149734, 512)"
     },
     "execution_count": 21,
     "metadata": {},
     "output_type": "execute_result"
    }
   ],
   "source": [
    "np.stack(df.emb_1).shape"
   ],
   "metadata": {
    "collapsed": false,
    "pycharm": {
     "name": "#%%\n"
    }
   }
  },
  {
   "cell_type": "markdown",
   "source": [
    "### Add vectors to qdrant"
   ],
   "metadata": {
    "collapsed": false,
    "pycharm": {
     "name": "#%% md\n"
    }
   }
  },
  {
   "cell_type": "code",
   "execution_count": null,
   "outputs": [],
   "source": [
    "!docker pull qdrant/qdrant"
   ],
   "metadata": {
    "collapsed": false,
    "pycharm": {
     "name": "#%%\n"
    }
   }
  },
  {
   "cell_type": "code",
   "execution_count": null,
   "outputs": [],
   "source": [
    "!docker run --name qdrant -d -p 6333:6333 --net=bridge qdrant/qdrant"
   ],
   "metadata": {
    "collapsed": false,
    "pycharm": {
     "name": "#%%\n"
    }
   }
  },
  {
   "cell_type": "code",
   "execution_count": 51,
   "outputs": [],
   "source": [
    "df_embs = pd.read_parquet('../data/df_embs_en.parquet')"
   ],
   "metadata": {
    "collapsed": false,
    "pycharm": {
     "name": "#%%\n"
    }
   }
  },
  {
   "cell_type": "code",
   "execution_count": 52,
   "outputs": [],
   "source": [
    "qdrant_client = QdrantClient(host='0.0.0.0', port=6333)"
   ],
   "metadata": {
    "collapsed": false,
    "pycharm": {
     "name": "#%%\n"
    }
   }
  },
  {
   "cell_type": "code",
   "execution_count": 53,
   "outputs": [],
   "source": [
    "vectors = np.stack(df_embs.emb)\n",
    "payload = df_embs[['name']].to_dict(orient='records')\n",
    "ids = df_embs.index.values.tolist()"
   ],
   "metadata": {
    "collapsed": false,
    "pycharm": {
     "name": "#%%\n"
    }
   }
  },
  {
   "cell_type": "code",
   "execution_count": 54,
   "outputs": [],
   "source": [
    "col_name = 'companies-EN'\n",
    "vec_shape = vectors.shape[1]\n",
    "bs = 1024"
   ],
   "metadata": {
    "collapsed": false,
    "pycharm": {
     "name": "#%%\n"
    }
   }
  },
  {
   "cell_type": "code",
   "execution_count": 55,
   "outputs": [],
   "source": [
    "qdrant_client.recreate_collection(collection_name=col_name,\n",
    "                                  vectors_config=models.VectorParams(size=vec_shape, distance=models.Distance.COSINE),\n",
    "                                  on_disk_payload=True)"
   ],
   "metadata": {
    "collapsed": false,
    "pycharm": {
     "name": "#%%\n"
    }
   }
  },
  {
   "cell_type": "code",
   "execution_count": 56,
   "outputs": [],
   "source": [
    "qdrant_client.upload_collection(\n",
    "    collection_name=col_name,\n",
    "    vectors=vectors,\n",
    "    payload=payload,\n",
    "    ids=ids,\n",
    "    batch_size=bs,\n",
    "    parallel=6\n",
    ")"
   ],
   "metadata": {
    "collapsed": false,
    "pycharm": {
     "name": "#%%\n"
    }
   }
  },
  {
   "cell_type": "code",
   "execution_count": 57,
   "outputs": [],
   "source": [
    "col = qdrant_client.get_collection(col_name)"
   ],
   "metadata": {
    "collapsed": false,
    "pycharm": {
     "name": "#%%\n"
    }
   }
  },
  {
   "cell_type": "code",
   "execution_count": 58,
   "outputs": [
    {
     "data": {
      "text/plain": "10106"
     },
     "execution_count": 58,
     "metadata": {},
     "output_type": "execute_result"
    }
   ],
   "source": [
    "col.points_count"
   ],
   "metadata": {
    "collapsed": false,
    "pycharm": {
     "name": "#%%\n"
    }
   }
  },
  {
   "cell_type": "markdown",
   "source": [
    "### Similarity search with cosine distance"
   ],
   "metadata": {
    "collapsed": false,
    "pycharm": {
     "name": "#%% md\n"
    }
   }
  },
  {
   "cell_type": "code",
   "execution_count": 59,
   "outputs": [
    {
     "data": {
      "text/plain": "Downloading:   0%|          | 0.00/466k [00:00<?, ?B/s]",
      "application/vnd.jupyter.widget-view+json": {
       "version_major": 2,
       "version_minor": 0,
       "model_id": "6f77a182ed8a4226975901adf4dff4a8"
      }
     },
     "metadata": {},
     "output_type": "display_data"
    },
    {
     "data": {
      "text/plain": "Downloading:   0%|          | 0.00/350 [00:00<?, ?B/s]",
      "application/vnd.jupyter.widget-view+json": {
       "version_major": 2,
       "version_minor": 0,
       "model_id": "69deb99be16743c08a429b2e9e3f3698"
      }
     },
     "metadata": {},
     "output_type": "display_data"
    },
    {
     "data": {
      "text/plain": "Downloading:   0%|          | 0.00/13.2k [00:00<?, ?B/s]",
      "application/vnd.jupyter.widget-view+json": {
       "version_major": 2,
       "version_minor": 0,
       "model_id": "3146623d61354b7997017c66941e4ea2"
      }
     },
     "metadata": {},
     "output_type": "display_data"
    },
    {
     "data": {
      "text/plain": "Downloading:   0%|          | 0.00/232k [00:00<?, ?B/s]",
      "application/vnd.jupyter.widget-view+json": {
       "version_major": 2,
       "version_minor": 0,
       "model_id": "984e6b1a6fd24e4c9b15dce9fad3b259"
      }
     },
     "metadata": {},
     "output_type": "display_data"
    },
    {
     "data": {
      "text/plain": "Downloading:   0%|          | 0.00/349 [00:00<?, ?B/s]",
      "application/vnd.jupyter.widget-view+json": {
       "version_major": 2,
       "version_minor": 0,
       "model_id": "a9c856a7fc2c44b2a09f7c8dcdfecc45"
      }
     },
     "metadata": {},
     "output_type": "display_data"
    },
    {
     "name": "stderr",
     "output_type": "stream",
     "text": [
      "/home/kpavel/anaconda3/envs/samename/lib/python3.9/site-packages/torch/cuda/__init__.py:83: UserWarning: CUDA initialization: Unexpected error from cudaGetDeviceCount(). Did you run some cuda functions before calling NumCudaDevices() that might have already set an error? Error 804: forward compatibility was attempted on non supported HW (Triggered internally at  ../c10/cuda/CUDAFunctions.cpp:109.)\n",
      "  return torch._C._cuda_getDeviceCount() > 0\n"
     ]
    }
   ],
   "source": [
    "model = SentenceTransformer('all-MiniLM-L6-v2')"
   ],
   "metadata": {
    "collapsed": false,
    "pycharm": {
     "name": "#%%\n"
    }
   }
  },
  {
   "cell_type": "code",
   "execution_count": 106,
   "outputs": [],
   "source": [
    "def inference(company_name, model, limit=30, df_embs=None):\n",
    "    if df_embs is not None:\n",
    "        qvector = model.encode(company_name)\n",
    "    else:\n",
    "        qvector = np.stack(df_embs[df_embs['name'] == company_name].emb)\n",
    "\n",
    "    search_result = qdrant_client.search(\n",
    "        collection_name=col_name,\n",
    "        query_vector=qvector,\n",
    "        query_filter=models.Filter(\n",
    "            must_not=[\n",
    "                models.FieldCondition(\n",
    "                    key=\"name\",\n",
    "                    match=models.MatchValue(value=company_name)\n",
    "                ),\n",
    "            ]\n",
    "        ),\n",
    "        limit=limit,\n",
    "        offset=0\n",
    "    )\n",
    "    return search_result#[r for r in search_result if r.payload['name'] != company_name]"
   ],
   "metadata": {
    "collapsed": false,
    "pycharm": {
     "name": "#%%\n"
    }
   }
  },
  {
   "cell_type": "code",
   "execution_count": 77,
   "outputs": [
    {
     "data": {
      "text/plain": "[ScoredPoint(id=2407, version=4, score=0.8766745, payload={'name': 'Dow Chemical Pacific Ltd.'}, vector=None),\n ScoredPoint(id=2405, version=4, score=0.8710415, payload={'name': 'Dow Chemical International Private Ltd.'}, vector=None),\n ScoredPoint(id=8799, version=6, score=0.86943454, payload={'name': 'The Dow Chemical Company'}, vector=None),\n ScoredPoint(id=2408, version=4, score=0.8345633, payload={'name': 'Dow Chemical Thailand Ltd.'}, vector=None),\n ScoredPoint(id=2403, version=4, score=0.8277112, payload={'name': 'Dow Chemical'}, vector=None),\n ScoredPoint(id=9927, version=8, score=0.81730974, payload={'name': 'Yuanbai Chemicals (Shanghai) Co., Ltd.'}, vector=None),\n ScoredPoint(id=7757, version=7, score=0.81063765, payload={'name': 'Shanghai Yikang Chemicals & Industries Co., Ltd.'}, vector=None),\n ScoredPoint(id=7693, version=7, score=0.80738246, payload={'name': 'Shanghai Origin Chem International Trading Co., Ltd.'}, vector=None),\n ScoredPoint(id=7681, version=7, score=0.80687237, payload={'name': 'Shanghai Manyi Chemical Co., Ltd.'}, vector=None),\n ScoredPoint(id=7699, version=7, score=0.80364966, payload={'name': 'Shanghai Prevision Chemicals Co., Ltd.'}, vector=None),\n ScoredPoint(id=1556, version=2, score=0.7966597, payload={'name': 'China Chem Co., Ltd.'}, vector=None),\n ScoredPoint(id=2406, version=4, score=0.7938091, payload={'name': 'Dow Chemical Pacific'}, vector=None),\n ScoredPoint(id=2520, version=4, score=0.7851604, payload={'name': 'Eastman (Shanghai) Chemical Commercial Co., Ltd.'}, vector=None),\n ScoredPoint(id=7737, version=7, score=0.7815751, payload={'name': 'Shanghai Uniwell Chemical Co., Ltd.'}, vector=None),\n ScoredPoint(id=7754, version=7, score=0.77841353, payload={'name': 'Shanghai Yi Duo Ke Chemical Co., Ltd.'}, vector=None),\n ScoredPoint(id=7661, version=7, score=0.7763757, payload={'name': 'Shanghai Junxin Chemical Co., Ltd.'}, vector=None),\n ScoredPoint(id=7701, version=7, score=0.77480435, payload={'name': 'Shanghai Ranyuan Chemical Technology Co., Ltd.'}, vector=None),\n ScoredPoint(id=7745, version=7, score=0.7729964, payload={'name': 'Shanghai Wo Code Chemical Co., Ltd.'}, vector=None),\n ScoredPoint(id=5015, version=3, score=0.7676929, payload={'name': 'Lord Fine Chemical (Shanghai) Co., Ltd.'}, vector=None),\n ScoredPoint(id=7644, version=7, score=0.76092684, payload={'name': 'Shanghai Huixu Chemical Industry Co., Ltd.'}, vector=None),\n ScoredPoint(id=7752, version=7, score=0.7555706, payload={'name': 'Shanghai Yechuan Chemicals Co., Ltd.'}, vector=None),\n ScoredPoint(id=6383, version=9, score=0.75529647, payload={'name': 'Poly Chemicals (Shanghai) Co., Ltd.'}, vector=None),\n ScoredPoint(id=4772, version=3, score=0.7485047, payload={'name': 'Kun Shan Pan Qing Chemical Co., Ltd.'}, vector=None),\n ScoredPoint(id=7713, version=7, score=0.7435608, payload={'name': 'Shanghai Shengyi Industry Co., Ltd.'}, vector=None),\n ScoredPoint(id=6740, version=9, score=0.74026227, payload={'name': 'Qingdao Jiawen Chemical Co., Ltd.'}, vector=None),\n ScoredPoint(id=9996, version=8, score=0.73805887, payload={'name': 'Zhangjiagang Yuansheng Chemical Industry Co., Ltd.'}, vector=None),\n ScoredPoint(id=7728, version=7, score=0.7374378, payload={'name': 'Shanghai Synthomer Chemicals Co., Ltd.'}, vector=None),\n ScoredPoint(id=8650, version=6, score=0.73358303, payload={'name': 'Taoshi Chemical (Zhangjiagang) Co., Ltd.'}, vector=None),\n ScoredPoint(id=3527, version=1, score=0.73315513, payload={'name': 'Guangzhou Xin Chemical Co., Ltd.'}, vector=None),\n ScoredPoint(id=5433, version=0, score=0.73292947, payload={'name': 'Mitsubishi Chemical China Commerce Ltd.'}, vector=None)]"
     },
     "execution_count": 77,
     "metadata": {},
     "output_type": "execute_result"
    }
   ],
   "source": [
    "inference('Dow Chemical (Shanghai) Co., Ltd.', model)"
   ],
   "metadata": {
    "collapsed": false,
    "pycharm": {
     "name": "#%%\n"
    }
   }
  },
  {
   "cell_type": "code",
   "execution_count": 63,
   "outputs": [
    {
     "data": {
      "text/plain": "                                         name_1  \\\n3621          Dow Chemical (Shanghai) Co., Ltd.   \n25254   Dow Chemical International Private Ltd.   \n43550         Dow Chemical (Shanghai) Co., Ltd.   \n67051         Dow Chemical (Shanghai) Co., Ltd.   \n67332                 Dow Chemical Pacific Ltd.   \n86276                      Dow Chemical Pacific   \n114460               Dow Chemical Thailand Ltd.   \n116796                             Dow Chemical   \n127101        Dow Chemical (Shanghai) Co., Ltd.   \n148353        Dow Chemical (Shanghai) Co., Ltd.   \n\n                                         name_2  is_duplicate  \\\n3621                  Dow Chemical Pacific Ltd.             1   \n25254         Dow Chemical (Shanghai) Co., Ltd.             1   \n43550   Dow Chemical International Private Ltd.             1   \n67051                              Dow Chemical             1   \n67332         Dow Chemical (Shanghai) Co., Ltd.             1   \n86276         Dow Chemical (Shanghai) Co., Ltd.             1   \n114460        Dow Chemical (Shanghai) Co., Ltd.             1   \n116796        Dow Chemical (Shanghai) Co., Ltd.             1   \n127101                     Dow Chemical Pacific             1   \n148353               Dow Chemical Thailand Ltd.             1   \n\n                                                    emb_1  \\\n3621    [-0.028365090489387512, -0.02730587124824524, ...   \n25254   [-0.054589733481407166, -0.02028239332139492, ...   \n43550   [-0.028365090489387512, -0.02730587124824524, ...   \n67051   [-0.028365090489387512, -0.02730587124824524, ...   \n67332   [-0.053025662899017334, 0.003969652112573385, ...   \n86276   [-0.024302493780851364, 0.016313781961798668, ...   \n114460  [-0.05091489478945732, 0.00030382093973457813,...   \n116796  [0.01545174140483141, 0.002613763092085719, -0...   \n127101  [-0.028365090489387512, -0.02730587124824524, ...   \n148353  [-0.028365090489387512, -0.02730587124824524, ...   \n\n                                                    emb_2  \n3621    [-0.053025662899017334, 0.003969652112573385, ...  \n25254   [-0.028365090489387512, -0.02730587124824524, ...  \n43550   [-0.054589733481407166, -0.02028239332139492, ...  \n67051   [0.01545174140483141, 0.002613763092085719, -0...  \n67332   [-0.028365090489387512, -0.02730587124824524, ...  \n86276   [-0.028365090489387512, -0.02730587124824524, ...  \n114460  [-0.028365090489387512, -0.02730587124824524, ...  \n116796  [-0.028365090489387512, -0.02730587124824524, ...  \n127101  [-0.024302493780851364, 0.016313781961798668, ...  \n148353  [-0.05091489478945732, 0.00030382093973457813,...  ",
      "text/html": "<div>\n<style scoped>\n    .dataframe tbody tr th:only-of-type {\n        vertical-align: middle;\n    }\n\n    .dataframe tbody tr th {\n        vertical-align: top;\n    }\n\n    .dataframe thead th {\n        text-align: right;\n    }\n</style>\n<table border=\"1\" class=\"dataframe\">\n  <thead>\n    <tr style=\"text-align: right;\">\n      <th></th>\n      <th>name_1</th>\n      <th>name_2</th>\n      <th>is_duplicate</th>\n      <th>emb_1</th>\n      <th>emb_2</th>\n    </tr>\n  </thead>\n  <tbody>\n    <tr>\n      <th>3621</th>\n      <td>Dow Chemical (Shanghai) Co., Ltd.</td>\n      <td>Dow Chemical Pacific Ltd.</td>\n      <td>1</td>\n      <td>[-0.028365090489387512, -0.02730587124824524, ...</td>\n      <td>[-0.053025662899017334, 0.003969652112573385, ...</td>\n    </tr>\n    <tr>\n      <th>25254</th>\n      <td>Dow Chemical International Private Ltd.</td>\n      <td>Dow Chemical (Shanghai) Co., Ltd.</td>\n      <td>1</td>\n      <td>[-0.054589733481407166, -0.02028239332139492, ...</td>\n      <td>[-0.028365090489387512, -0.02730587124824524, ...</td>\n    </tr>\n    <tr>\n      <th>43550</th>\n      <td>Dow Chemical (Shanghai) Co., Ltd.</td>\n      <td>Dow Chemical International Private Ltd.</td>\n      <td>1</td>\n      <td>[-0.028365090489387512, -0.02730587124824524, ...</td>\n      <td>[-0.054589733481407166, -0.02028239332139492, ...</td>\n    </tr>\n    <tr>\n      <th>67051</th>\n      <td>Dow Chemical (Shanghai) Co., Ltd.</td>\n      <td>Dow Chemical</td>\n      <td>1</td>\n      <td>[-0.028365090489387512, -0.02730587124824524, ...</td>\n      <td>[0.01545174140483141, 0.002613763092085719, -0...</td>\n    </tr>\n    <tr>\n      <th>67332</th>\n      <td>Dow Chemical Pacific Ltd.</td>\n      <td>Dow Chemical (Shanghai) Co., Ltd.</td>\n      <td>1</td>\n      <td>[-0.053025662899017334, 0.003969652112573385, ...</td>\n      <td>[-0.028365090489387512, -0.02730587124824524, ...</td>\n    </tr>\n    <tr>\n      <th>86276</th>\n      <td>Dow Chemical Pacific</td>\n      <td>Dow Chemical (Shanghai) Co., Ltd.</td>\n      <td>1</td>\n      <td>[-0.024302493780851364, 0.016313781961798668, ...</td>\n      <td>[-0.028365090489387512, -0.02730587124824524, ...</td>\n    </tr>\n    <tr>\n      <th>114460</th>\n      <td>Dow Chemical Thailand Ltd.</td>\n      <td>Dow Chemical (Shanghai) Co., Ltd.</td>\n      <td>1</td>\n      <td>[-0.05091489478945732, 0.00030382093973457813,...</td>\n      <td>[-0.028365090489387512, -0.02730587124824524, ...</td>\n    </tr>\n    <tr>\n      <th>116796</th>\n      <td>Dow Chemical</td>\n      <td>Dow Chemical (Shanghai) Co., Ltd.</td>\n      <td>1</td>\n      <td>[0.01545174140483141, 0.002613763092085719, -0...</td>\n      <td>[-0.028365090489387512, -0.02730587124824524, ...</td>\n    </tr>\n    <tr>\n      <th>127101</th>\n      <td>Dow Chemical (Shanghai) Co., Ltd.</td>\n      <td>Dow Chemical Pacific</td>\n      <td>1</td>\n      <td>[-0.028365090489387512, -0.02730587124824524, ...</td>\n      <td>[-0.024302493780851364, 0.016313781961798668, ...</td>\n    </tr>\n    <tr>\n      <th>148353</th>\n      <td>Dow Chemical (Shanghai) Co., Ltd.</td>\n      <td>Dow Chemical Thailand Ltd.</td>\n      <td>1</td>\n      <td>[-0.028365090489387512, -0.02730587124824524, ...</td>\n      <td>[-0.05091489478945732, 0.00030382093973457813,...</td>\n    </tr>\n  </tbody>\n</table>\n</div>"
     },
     "execution_count": 63,
     "metadata": {},
     "output_type": "execute_result"
    }
   ],
   "source": [
    "df[((df.name_1 == 'Dow Chemical (Shanghai) Co., Ltd.') | (df.name_2 == 'Dow Chemical (Shanghai) Co., Ltd.')) & df.is_duplicate == 1]"
   ],
   "metadata": {
    "collapsed": false,
    "pycharm": {
     "name": "#%%\n"
    }
   }
  },
  {
   "cell_type": "markdown",
   "source": [
    "### Calculate metrics"
   ],
   "metadata": {
    "collapsed": false,
    "pycharm": {
     "name": "#%% md\n"
    }
   }
  },
  {
   "cell_type": "code",
   "execution_count": 64,
   "outputs": [],
   "source": [
    "search_scroll = qdrant_client.scroll(\n",
    "    collection_name=col_name,\n",
    "    limit=col.points_count,\n",
    "    offset=0,\n",
    "    with_vectors=True,\n",
    "    with_payload=True,\n",
    ")"
   ],
   "metadata": {
    "collapsed": false,
    "pycharm": {
     "name": "#%%\n"
    }
   }
  },
  {
   "cell_type": "code",
   "execution_count": 111,
   "outputs": [],
   "source": [
    "# Select test dataset\n",
    "df_isdup = df[df.is_duplicate == 1]\n",
    "names = np.unique(np.concatenate([df_isdup.name_1, df_isdup.name_2]))"
   ],
   "metadata": {
    "collapsed": false,
    "pycharm": {
     "name": "#%%\n"
    }
   }
  },
  {
   "cell_type": "code",
   "execution_count": 112,
   "outputs": [
    {
     "data": {
      "text/plain": "array(['ALBEMARLE GREEN CREST ', 'APS Paving Stone Inc',\n       'APS Paving&Stone Inc', 'AUTOMOTIVE PERFORMANCE MATERIAL (APM)',\n       'Achem Technology (Dongguan)', 'Achem Technology Corp.',\n       'Achem Technology Dongguan',\n       'Adams Resources Exploration Corporation, 112 Oil And Gas Assets',\n       'Adams Resources Exploration Corporation, Oil And Gas Assets In Crocket And Irion Counties In Texas',\n       'Adams Resources Exploration Corporation, Oil And Gas Assets Outside The Permian Basin',\n       'Adhesives Research, Inc.', 'Afton Chemical De Mexicosa De Cv',\n       'Afton Chemical Hyderabad Pvt., Ltd.',\n       'Afton Chemical India Private Ltd.',\n       'Afton Chemical Industria De Aditivos Ltda',\n       'Albemarle Corporation', 'Albemarle Corporation (NYSE:ALB)',\n       'Ashland Inc.', 'Ashland Specialty Ingredients Gp',\n       'Automotive Performance Material',\n       'Automotive Performance Materials', 'Avery Denisson (BE)',\n       'Avery Dennison Kunshan Co., Ltd.',\n       'Basf (China) Co., Ltd. Shanghai', 'Basf Auxiliary Chemicals',\n       'Basf Bangladesh Ltd.', 'Basf Chile S A', 'Basf Chile S.A.',\n       'Basf Co., Ltd.', 'Basf Co., Ltd. Yeosu',\n       'Basf Construction Chemicals', 'Basf Construction Chemicals Ua',\n       'Basf Corp.', 'Basf Corporation', 'Basf Finlay Pvt., Ltd.',\n       'Basf Mexicana S.A. De C.V.', 'Basf New Zealand Ltd.',\n       'Basf Pakistan (Private) Ltd.',\n       'Basf Turk Kimya San Ve Tic.Tld.Sti',\n       'Basf Turk Kimya San. Ve Tic.Sti',\n       'Basf Turk Kimya San.Ve Tic Ltd.Sti',\n       \"Basf's Paper Chemicals (Huizhou) Co., Ltd.\",\n       'Bdp International Basf Imp.',\n       'Beijing Oriental Yuhong Waterproof Technology Co., Ltd. (SZSE:002271) - 北京东方雨虹防水技术股份有限公司',\n       'Bharat Adhesives', 'Bharat Heavy Electricals Ltd.',\n       'Bit Mat. Products Of Michigan, Inc.',\n       'Bit-Mat Products of Indiana, Inc.', 'Bolton Adhesives',\n       'Bolton Adhesives B.V.', 'Brenntag Chile Comercial E Ind',\n       'Brenntag Chile Comercial E Industrial Ltda',\n       'Bridgestone (China) Research And Development Co., Ltd.',\n       'Bridgestone (Huizhou) Tire Co., Ltd.',\n       'Bridgestone (Tianjin) Tire Co., Ltd.',\n       'Bridgestone Americas Tire', 'Bridgestone Canada Inc.',\n       'Bridgestone De Costa Rica S.A.',\n       'Bridgestone Firestone Do Brasil',\n       'Bridgestone Golf (Shenzhen) Co., Ltd.',\n       'Bridgestone Hosepower Llc', 'Bridgestone India',\n       'Bridgestone India Automotive',\n       'Bridgestone India Automotive Products Private Ltd.',\n       'Bridgestone India Pvt., Ltd.', 'Bridgestone International Group',\n       'Bridgestone Ncr', 'Bridgestone Neumaticos De',\n       'Bridgestone Stargard Sp Zoo', 'Bridgestone Tire',\n       'Bridgestone Tire Co.',\n       'Bridgestone （Huizhou）Synthetic Rubber Co., Ltd.',\n       'Bridgestone(Shenyang) Tire Co., Ltd.', 'CABOPOL', 'CASALI',\n       'CASALI Spa', 'CELANESE EUROPE BV', 'COCOPAVING', 'CTS',\n       'CTS Corporation (NYSE:CTS)', 'Cabopol - Polymer Compounds, S.A',\n       'Cardiac Science Corporation',\n       'Cardiac Science Holdings (UK) Limited',\n       'Carlisle Coatings & Waterproofing, Inc.',\n       'Carlisle Coatings & Wtrprfng', 'Cebu Toyo Corp',\n       'Celanese Chemicals Europe GmbH',\n       'Chevron Phillips Chemical Co. Lp',\n       'China National Petroleum Waterproof',\n       'China National Petroleum Waterproof (Shenzhen) Co.,Ltd. ',\n       'China Southern Petroleum Exploration and Development Corporation',\n       'Coco Paving Inc.', 'Contitech Antriebssysteme Gmb H',\n       'Contitech Australia (Pty) Ltd.', 'Contitech Chile S.A.',\n       'Contitech Chile Sa', 'Contitech Fluid Mexicana Sa De Cv',\n       'Contitech India Private Ltd.', 'Contitech Mexicana Sa De Cv',\n       'Contitech Transportbandsysteme Gmb H', 'Contitech Usa Inc.',\n       'Daewoo International (America) Corp.',\n       'Daewoo International Corp.',\n       'Diesel Fashion India Reliance Private Ltd.', 'Dow Chemical',\n       'Dow Chemical (Shanghai) Co., Ltd.',\n       'Dow Chemical International Private Ltd.', 'Dow Chemical Pacific',\n       'Dow Chemical Pacific Ltd.', 'Dow Chemical Thailand Ltd.',\n       'Dow Corning (0178) Cdw', 'Dow Corning India Pvt., Ltd.',\n       'Dow Europe Gmb H', 'Dow Europe Gmb H Plant F208',\n       'Dow International Mexicana S.A. De',\n       'Dow International Mexicana Sa De Cv', 'Dow Silicones Corp.',\n       'Dow Silicones Corp. Plant', 'Dsv Air & Sea Inc.',\n       'Dsv Air & Sea S.A. De C.V.', 'Dupont (Korea) Inc.',\n       'Dupont Apollo (Shenzhen) Ltd.',\n       'Dupont Specialty Products Usa Llc', 'Duracell Distributing Inc.',\n       'Duracell Distributing Inc.Duracell',\n       'E.I.Dupont De Nemours & Co. Inc.', 'ENEOS Globe Energy Co., Ltd.',\n       'Eastland Compounders', 'Eastland Compounding',\n       'Eneos Globe Corporation',\n       'Exxonmobil Chemical Americas 22777 Springwoods Village Parkway',\n       'Exxonmobil Chemical Americas On',\n       'Exxonmobil Chemical Americas Po Box 4549 Houston',\n       'Exxonmobil Chemical Co.',\n       'Exxonmobil Chemical Co. Baytown Chemical Plant',\n       'Exxonmobil Petroleum And Chemical', 'Fc Daewoo Textile Llc',\n       'Flex Sol', 'Flex?Computing?(Suzhou) ?Co.,? Ltd.',\n       'GENERAL MEMBRANE S.A.', 'GENERAL MEMBRANE S.P.A.',\n       'Gongguan Heartychem Co., Ltd.', 'Goodyear Chemical Co',\n       'H & V Advanced Materials India Pvt., Ltd.',\n       'H & V Advanced Materials(India) Pvt., Ltd.', 'Heartychem Corp',\n       'Hexpol Compounding', 'Hexpol Compounding (Uk) Ltd.',\n       'Hexpol Compounding Llc', 'Huizhou Lcy Elastomers Corp.',\n       'IKO EU /ALL PLANTS*', 'IKO SLOVAKIA',\n       'Ikea Distribution Service(Shanghai)',\n       'Ikea Distribution Services', 'Ikea Distribution Services Gmb H',\n       'Indian Overseas Bank', 'Indian Oxides And Chemicals Private Ltd.',\n       'Indian Synthetic Rubber Ltd.',\n       'Indian Synthetic Rubber Private Ltd.',\n       'Indian Synthetic Rubber Pvt., Ltd.',\n       'Ineos Styrolution America Llc',\n       'Ineos Styrolution Do Brasil Polimeros Ltda',\n       'Ineos Styrolution India Ltd.', 'Isover Saint-Gobain',\n       'JSR CORPORATION (TSE:4185)', 'JSR Corporation',\n       'JX Nippon Oil & Gas Exploration (Brasil) Ltda',\n       'JX Nippon Oil & Gas Exploration (Malaysia) Limited',\n       'JX Nippon Oil & Gas Exploration (Myanmar) Limited',\n       'JX Nippon Oil & Gas Exploration (Qatar) Limited',\n       'JX Nippon Oil & Gas Exploration (Sarawak), Ltd',\n       'JX Nippon Oil & Gas Exploration Australia Pty Ltd.',\n       'JX Nippon Oil & Gas Exploration Corporation',\n       'JX Nippon Oil & Gas Exploration Technical Services Corporation',\n       'Japan Synthetic Rubber Co', 'Jiangsu Canlon Building Materials',\n       'Jiangsu Canlon Building Materials Co., Ltd.', 'Jsr America Inc.',\n       'Jsr Elastomer America Inc.', 'KVK Corporation',\n       'KVK Corporation (JASDAQ:6484)', 'Kenda Rubber (China) Co., Ltd.',\n       'Kenda Rubber Industries Co., Ltd.',\n       'Kraton Polymers Do Brasil Sa', 'Kraton Polymers Japan Ltd.',\n       'Kraton Polymers Trading Shanghai Co., Ltd.', 'Kraton Polymers Us',\n       'Kraton Polymers Us Llc', 'Kraton Polymers Us Llc.',\n       'Kraton Polymers Us. Llc', 'Kumho Petrochemical Co., Ltd.',\n       'Kumho Tire (Tianjin) Co., Ltd.', 'Kumho Tire Changchun Co. Inc.',\n       'Kumho Tire Georgia Inc.', 'Kumho Tire Goergia Inc.',\n       'Lcy Elastomers Lp', 'M. Holland Co.', 'M. Holland Co. Ccp',\n       'M.Holland Co.', 'M.Holland Co. Ccp', 'Malarkey Roofing Products',\n       'Malarkey Roofing Products Co.',\n       'Marks And Spencer Reliance India Pvt., Ltd.',\n       'Michelin (Shenyang) Tyre Co., Ltd.', 'Michelin Americas Research',\n       'Michelin Group', 'Michelin India Private Ltd.',\n       'Michelin India Tamilnadu Tyres Private Ltd.',\n       'Michelin India Technology Center',\n       'Michelin India Technology Center Llp',\n       'Michelin North America (Canada) Inc.',\n       'Michelin North America Inc.',\n       'Michelin Research And Development Center (Shanghai) Co., Ltd.',\n       'Michelin Shenyang Tire Co., Ltd.', 'Michelin Siam Co., Ltd.',\n       'Midland Asphalt', 'Midland Asphalt Materials Inc',\n       'Mitsubishi Chemical', 'Mitsubishi Chemical China Commerce Ltd.',\n       'Mitsubishi Chemical Performance',\n       'Mitsubishi Electric India Pvt., Ltd.',\n       'Mitsubishi Gas Chemical Engineering Plastics Co., Ltd.',\n       'Nichirin Flex U . S . A . Inc.',\n       'Nippon Oil Exploration (Sarawak) Limited',\n       'Nippon Oil Exploration Limited',\n       'Nippon Oil Exploration U.S.A. Limited', 'Oriental Yuhong',\n       'Owens Corning', 'Owens Corning (NYSE:OC)',\n       'Owens Corning Glass Metal Services', 'Owens Corning Ht, Inc.',\n       'Owens Corning Insulating Systems, LLC',\n       'Owens Corning Sales L L C', 'Owens Corning Sales Llc',\n       'Owens Corning, Masonry Products Business',\n       'Parker Hannifin Canada Division',\n       'Parker Hannifin Distribution Center',\n       'Petro-Canada (International) Holdings BV',\n       'Petro-Canada Energy North Sea Limited', 'Phillips Tuftex Ltd.',\n       'Posco Daewoo (America) Corp.', 'Posco Daewoo America Corp.',\n       'Posco Daewoo America Corp. Toronto B', 'Posco Daewoo Corporation',\n       'Prometeon Tyre Group Industria Brasil Ltda',\n       'Prometeon Tyre Group Srl', 'Pt Bridgestone Tire Indonesia',\n       'RTL-INDUCTIVES OY', 'Recron (Malaysia) Sdn Bhd',\n       'Recron (Malaysia) Sdn.Bhd.',\n       'Red Avenue New Materials Group Co., Ltd (彤程新材料集团股份有限公司)',\n       'Red Avenue New Materials Group Co., Ltd. (SHSE:603650)',\n       'Reliance Bally India Private Ltd.', 'Reliance Brands',\n       'Reliance Chemical Products Ltd.',\n       'Reliance Clothing India Private Ltd.', 'Reliance Commcl Dealers',\n       'Reliance Industries Ltd.', 'Reliance Lifestyle Holding',\n       'Reliance Luxury Fashion Private Ltd.',\n       'Reliance Paul & Shark Fashions Pvt., Ltd.',\n       'Reliance Retail Ltd.', 'Reliance Sibur Elastomers Pvt., Ltd.',\n       'Reliance Spg Mills Ltd.', 'Rhino Rugby France',\n       'Rhino Rugby Ltd.', 'Rhino Rugby South Africa (Pty) Ltd.',\n       'SO.F.TER.', 'SO.F.TER. S.r.l', 'SOFTER / CELANESE',\n       'Sabic Innovative Plastics Mexico S.',\n       'Sabic Innovative Plastics Us Llc', 'Safic Alcan Group',\n       'Safic Alcan Italia Sp A', 'Saint-Gobain Corporation',\n       'Saint-Gobain Isover Austria GmbH',\n       'Saint-Gobain Performance Plastics Corporation',\n       'Saint-Gobain Performance Plastics Inc.',\n       'Shanghai Michelin Tire Co., Ltd.',\n       'Shanghai Michelin Warrior Tyre Co., Ltd.',\n       'Shanghai Synthomer Chemicals Co., Ltd.', 'Shenyang Bridgestone',\n       'Shenzhen Comlink Electronic',\n       'Shenzhen Comlink Electronics Co., Ltd.', 'Sherwin-Williams ',\n       'Sumika Polymers North America',\n       'Sumika Polymers North America Inc.',\n       'Sumitomo Rubber (Changshu) Co., Ltd.', 'Sumitomo Rubber Inds',\n       'Sumitomo Rubber Industries', 'Sumitomo Rubber Industries Usa',\n       'Sumitomo Rubber North America Inc.',\n       'Sumitomo Warehouse (Usa.) Inc.', 'Synthomer (Uk) Ltd.',\n       'Synthomer Llc C Oterminal', 'Synthomer Llc C Oterminal Warehouse',\n       'Synthomer Llc. Peachtree Lenox Bl Bonded Logistics 7320 Statesville',\n       'Synthomer Ltd.', 'Synthomer Srl', 'Synthos Dwory 7 Spolka',\n       'Synthos Dwory SA', 'Synthos Kralupy', 'Synthos rubber',\n       'TECHNPVINYL POLYMERS INDIA LTD.', 'TER Group GmbH',\n       'TER HELL OR STRABEQ', 'THREE BOND EUROPE', 'TOA ROAD',\n       'TOTAL CESKA REPUBLIKA s.r.o.', 'TOTAL CZECH REPUBLIC',\n       'TOTAL FRANCE (ARNAY LE DUC)', 'TOTAL PETROCHEMICALS FRANCE',\n       'TOTAL RUMUNIA', 'TREMCO ILLBRUCK / RPM',\n       'Taiwan Synthetic Rubber Corp. ',\n       'Technovinyl Polymers India Limited',\n       'Technovinyl Polymers India ltd', 'Ter hell & co. Gmbh',\n       'Thai Bridgestone Co., Ltd.',\n       'The Goodyear Tire and Rubber Company',\n       'The Sherwin-Williams Company (NYSE:SHW)',\n       'Three Bond Europe S.A.', 'Toa Road Corporation (TSE:1882)',\n       'Toray Carbon Fibers America, Inc.',\n       'Toray Carbon Fibers Europe S.A.',\n       'Total Petrochemicals France SA', 'Toyo Tire North',\n       'Toyo Tire North America', 'Toyo Trans Inc.',\n       'Tremco illbruck Group GmbH', 'Tsrc Corporation',\n       'Univar Chemicals (Shanghai) Co., Ltd. /Univar China Ltd.',\n       'V.M. Univar Edison', 'Versalis Americas Inc.',\n       'Versalis Pacific Trading (Shanghai)',\n       'Versalis Pacific Trading Shanghai',\n       'Vestas Wind Technology (China) Co., Ltd.',\n       'Vestas Wind Technology India Private Ltd.',\n       'WRIGHT ASPHALT PRODUCTS', 'Warren Plant Bato Bridgestone',\n       'Wright Asphalt Products Co.',\n       'Wright Asphalt Products Company LLC',\n       'Yokohama Corp. Of North Ameri', 'Yokohama Industries Americas',\n       'Yokohama Rubber Co., Ltd. The', 'Yokohama Tire Corp.',\n       'Yokohama Tire Corporation', 'ZEON Corporation (TSE:4205)',\n       'Zeon Advance Polymix Co., Ltd.',\n       'Zeon Advanced Polymix Co., Ltd.', 'Zeon CSC Corporation',\n       'Zeon Chemicals (Thailand) Co., Ltd',\n       'Zeon Chemicals Europe Limited', 'Zeon Chemicals L P',\n       'Zeon Chemicals L.P.', 'Zeon Chemicals Yonezawa Co.,Ltd.',\n       'Zeon Corporation', 'Zeon Korea Co., Ltd',\n       'Zeon Manufacturing Vietnam Co., Ltd',\n       'Zeon Medical (Guangzhou) Inc', 'Zeon Medical Inc.',\n       'Zeon Nano Technology Co., Ltd', 'Zeon North Co., Ltd.',\n       'Zeon Polymix Incorporation', 'Zeon RIM Co., Ltd',\n       'Zeon Research Vietnam Co., Ltd', 'Zeon Specialty Materials Inc.',\n       'Zhuhai Toyo Ink Co., Ltd.', 'tsrc'], dtype=object)"
     },
     "execution_count": 112,
     "metadata": {},
     "output_type": "execute_result"
    }
   ],
   "source": [
    "names"
   ],
   "metadata": {
    "collapsed": false,
    "pycharm": {
     "name": "#%%\n"
    }
   }
  },
  {
   "cell_type": "code",
   "execution_count": null,
   "outputs": [],
   "source": [],
   "metadata": {
    "collapsed": false,
    "pycharm": {
     "name": "#%%\n"
    }
   }
  },
  {
   "cell_type": "code",
   "execution_count": 118,
   "outputs": [
    {
     "name": "stderr",
     "output_type": "stream",
     "text": [
      "100%|██████████| 369/369 [01:00<00:00,  6.12it/s]\n"
     ]
    }
   ],
   "source": [
    "def precision_score_at_k(k):\n",
    "    scores = []\n",
    "    for item in tqdm(names):\n",
    "        # q_name = item.payload['name']\n",
    "        q_name = item\n",
    "        res = inference(q_name, model, limit=k, df_embs=df_embs)\n",
    "        found_name = res[0].payload['name']\n",
    "\n",
    "        # todo p@ k > 1\n",
    "        # ap_k = 1/k * ()\n",
    "        # for i in enumerate(range(11)):\n",
    "\n",
    "        tmpd = df[((df.name_1 == found_name) & (df.name_2 == q_name)) | ((df.name_1 == q_name) & (df.name_2 == found_name))]\n",
    "        tmpd = tmpd[tmpd.is_duplicate == 1]\n",
    "        if len(tmpd) > 0:\n",
    "            scores.append(1)\n",
    "\n",
    "    return len(scores) / len(names)"
   ],
   "metadata": {
    "collapsed": false,
    "pycharm": {
     "name": "#%%\n"
    }
   }
  },
  {
   "cell_type": "code",
   "execution_count": null,
   "outputs": [],
   "source": [
    "map_score = precision_score_at_k(1)\n",
    "map_score"
   ],
   "metadata": {
    "collapsed": false,
    "pycharm": {
     "name": "#%%\n"
    }
   }
  },
  {
   "cell_type": "code",
   "execution_count": null,
   "outputs": [],
   "source": [],
   "metadata": {
    "collapsed": false,
    "pycharm": {
     "name": "#%%\n"
    }
   }
  },
  {
   "cell_type": "code",
   "execution_count": null,
   "outputs": [],
   "source": [],
   "metadata": {
    "collapsed": false,
    "pycharm": {
     "name": "#%%\n"
    }
   }
  },
  {
   "cell_type": "code",
   "execution_count": null,
   "outputs": [],
   "source": [],
   "metadata": {
    "collapsed": false,
    "pycharm": {
     "name": "#%%\n"
    }
   }
  },
  {
   "cell_type": "code",
   "execution_count": null,
   "outputs": [],
   "source": [],
   "metadata": {
    "collapsed": false,
    "pycharm": {
     "name": "#%%\n"
    }
   }
  },
  {
   "cell_type": "code",
   "execution_count": null,
   "outputs": [],
   "source": [],
   "metadata": {
    "collapsed": false,
    "pycharm": {
     "name": "#%%\n"
    }
   }
  },
  {
   "cell_type": "code",
   "execution_count": null,
   "outputs": [],
   "source": [],
   "metadata": {
    "collapsed": false,
    "pycharm": {
     "name": "#%%\n"
    }
   }
  }
 ],
 "metadata": {
  "kernelspec": {
   "display_name": "Python 3",
   "language": "python",
   "name": "python3"
  },
  "language_info": {
   "codemirror_mode": {
    "name": "ipython",
    "version": 2
   },
   "file_extension": ".py",
   "mimetype": "text/x-python",
   "name": "python",
   "nbconvert_exporter": "python",
   "pygments_lexer": "ipython2",
   "version": "2.7.6"
  }
 },
 "nbformat": 4,
 "nbformat_minor": 0
}