{
 "cells": [
  {
   "cell_type": "markdown",
   "source": [
    "# Experiment 2\n",
    "# Sentence embeddings and Qdrant Search"
   ],
   "metadata": {
    "collapsed": false,
    "pycharm": {
     "name": "#%% md\n"
    }
   }
  },
  {
   "cell_type": "markdown",
   "source": [
    "## Unprocessed dataest. Languages: EN"
   ],
   "metadata": {
    "collapsed": false,
    "pycharm": {
     "name": "#%% md\n"
    }
   }
  },
  {
   "cell_type": "code",
   "execution_count": 1,
   "metadata": {
    "collapsed": true,
    "pycharm": {
     "name": "#%%\n"
    }
   },
   "outputs": [],
   "source": [
    "import pandas as pd\n",
    "import numpy as np\n",
    "from sklearn.model_selection import train_test_split\n",
    "from sentence_transformers import SentenceTransformer\n",
    "from sklearn.metrics import accuracy_score, precision_score, recall_score, f1_score\n",
    "from qdrant_client import QdrantClient\n",
    "from qdrant_client.http import models as rest\n",
    "from qdrant_client.http.models import models\n",
    "from tqdm import tqdm"
   ]
  },
  {
   "cell_type": "markdown",
   "source": [
    "### Load datasets"
   ],
   "metadata": {
    "collapsed": false,
    "pycharm": {
     "name": "#%% md\n"
    }
   }
  },
  {
   "cell_type": "code",
   "execution_count": 71,
   "outputs": [],
   "source": [
    "df_emb = pd.read_parquet('../data/df_embs_en.parquet')  # Embeddings from all-MiniLM-L6-v2 pretrain. Vector length is 384."
   ],
   "metadata": {
    "collapsed": false,
    "pycharm": {
     "name": "#%%\n"
    }
   }
  },
  {
   "cell_type": "code",
   "execution_count": 72,
   "outputs": [],
   "source": [
    "df = pd.read_parquet('../data/train.parquet')  # Only EN"
   ],
   "metadata": {
    "collapsed": false,
    "pycharm": {
     "name": "#%%\n"
    }
   }
  },
  {
   "cell_type": "code",
   "execution_count": 73,
   "outputs": [
    {
     "data": {
      "text/plain": "                                         name_1  \\\n0                           Iko Industries Ltd.   \n1                       Apcotex Industries Ltd.   \n2                       Powermax Rubber Factory   \n3                              National Bank Of   \n4                                      R.I.Intl   \n...                                         ...   \n149729          Eoc Polymers India Private Ltd.   \n149730                   Societe Des Transports   \n149731  Computime Electric (Shenzhen) Co., Ltd.   \n149732    Shanghai Haizhige Furniture Co., Ltd.   \n149733                    Bnd Trading Co., Ltd.   \n\n                                                   name_2  is_duplicate  \n0                    Enormous Industrial Trade Pvt., Ltd.             0  \n1                     Technocraft Industries (India) Ltd.             0  \n2                                                 Co. One             0  \n3                                    Action International             0  \n4                              Rass Mfg. India Pvt., Ltd.             0  \n...                                                   ...           ...  \n149729                    Imp. Express India Private Ltd.             0  \n149730                                 Ho Sports Co. Inc.             0  \n149731                                  A S International             0  \n149732                                Sharang Corporation             0  \n149733  Zhong Shan Yue Liang Economy& Trade Imp. & Exp...             0  \n\n[149734 rows x 3 columns]",
      "text/html": "<div>\n<style scoped>\n    .dataframe tbody tr th:only-of-type {\n        vertical-align: middle;\n    }\n\n    .dataframe tbody tr th {\n        vertical-align: top;\n    }\n\n    .dataframe thead th {\n        text-align: right;\n    }\n</style>\n<table border=\"1\" class=\"dataframe\">\n  <thead>\n    <tr style=\"text-align: right;\">\n      <th></th>\n      <th>name_1</th>\n      <th>name_2</th>\n      <th>is_duplicate</th>\n    </tr>\n  </thead>\n  <tbody>\n    <tr>\n      <th>0</th>\n      <td>Iko Industries Ltd.</td>\n      <td>Enormous Industrial Trade Pvt., Ltd.</td>\n      <td>0</td>\n    </tr>\n    <tr>\n      <th>1</th>\n      <td>Apcotex Industries Ltd.</td>\n      <td>Technocraft Industries (India) Ltd.</td>\n      <td>0</td>\n    </tr>\n    <tr>\n      <th>2</th>\n      <td>Powermax Rubber Factory</td>\n      <td>Co. One</td>\n      <td>0</td>\n    </tr>\n    <tr>\n      <th>3</th>\n      <td>National Bank Of</td>\n      <td>Action International</td>\n      <td>0</td>\n    </tr>\n    <tr>\n      <th>4</th>\n      <td>R.I.Intl</td>\n      <td>Rass Mfg. India Pvt., Ltd.</td>\n      <td>0</td>\n    </tr>\n    <tr>\n      <th>...</th>\n      <td>...</td>\n      <td>...</td>\n      <td>...</td>\n    </tr>\n    <tr>\n      <th>149729</th>\n      <td>Eoc Polymers India Private Ltd.</td>\n      <td>Imp. Express India Private Ltd.</td>\n      <td>0</td>\n    </tr>\n    <tr>\n      <th>149730</th>\n      <td>Societe Des Transports</td>\n      <td>Ho Sports Co. Inc.</td>\n      <td>0</td>\n    </tr>\n    <tr>\n      <th>149731</th>\n      <td>Computime Electric (Shenzhen) Co., Ltd.</td>\n      <td>A S International</td>\n      <td>0</td>\n    </tr>\n    <tr>\n      <th>149732</th>\n      <td>Shanghai Haizhige Furniture Co., Ltd.</td>\n      <td>Sharang Corporation</td>\n      <td>0</td>\n    </tr>\n    <tr>\n      <th>149733</th>\n      <td>Bnd Trading Co., Ltd.</td>\n      <td>Zhong Shan Yue Liang Economy&amp; Trade Imp. &amp; Exp...</td>\n      <td>0</td>\n    </tr>\n  </tbody>\n</table>\n<p>149734 rows × 3 columns</p>\n</div>"
     },
     "execution_count": 73,
     "metadata": {},
     "output_type": "execute_result"
    }
   ],
   "source": [
    "df"
   ],
   "metadata": {
    "collapsed": false,
    "pycharm": {
     "name": "#%%\n"
    }
   }
  },
  {
   "cell_type": "code",
   "execution_count": 74,
   "outputs": [],
   "source": [
    "df = df.merge(df_emb, how='left', left_on='name_1', right_on='name')\n",
    "df = df.drop(columns=['name'])\n",
    "df = df.rename({'emb': 'emb_1'}, axis=1)"
   ],
   "metadata": {
    "collapsed": false,
    "pycharm": {
     "name": "#%%\n"
    }
   }
  },
  {
   "cell_type": "code",
   "execution_count": 75,
   "outputs": [],
   "source": [
    "df = df.merge(df_emb, how='left', left_on='name_2', right_on='name')\n",
    "df = df.drop(columns=['name'])\n",
    "df = df.rename({'emb': 'emb_2'}, axis=1)"
   ],
   "metadata": {
    "collapsed": false,
    "pycharm": {
     "name": "#%%\n"
    }
   }
  },
  {
   "cell_type": "code",
   "execution_count": 76,
   "outputs": [
    {
     "data": {
      "text/plain": "                                         name_1  \\\n0                           Iko Industries Ltd.   \n1                       Apcotex Industries Ltd.   \n2                       Powermax Rubber Factory   \n3                              National Bank Of   \n4                                      R.I.Intl   \n...                                         ...   \n149729          Eoc Polymers India Private Ltd.   \n149730                   Societe Des Transports   \n149731  Computime Electric (Shenzhen) Co., Ltd.   \n149732    Shanghai Haizhige Furniture Co., Ltd.   \n149733                    Bnd Trading Co., Ltd.   \n\n                                                   name_2  is_duplicate  \\\n0                    Enormous Industrial Trade Pvt., Ltd.             0   \n1                     Technocraft Industries (India) Ltd.             0   \n2                                                 Co. One             0   \n3                                    Action International             0   \n4                              Rass Mfg. India Pvt., Ltd.             0   \n...                                                   ...           ...   \n149729                    Imp. Express India Private Ltd.             0   \n149730                                 Ho Sports Co. Inc.             0   \n149731                                  A S International             0   \n149732                                Sharang Corporation             0   \n149733  Zhong Shan Yue Liang Economy& Trade Imp. & Exp...             0   \n\n                                                    emb_1  \\\n0       [-0.05934988334774971, 0.06893617659807205, 0....   \n1       [-0.027187837287783623, 0.0036133911926299334,...   \n2       [-0.027730092406272888, 0.06848588585853577, -...   \n3       [-0.018415303900837898, -0.006000360939651728,...   \n4       [-0.07493618130683899, -0.0017950021428987384,...   \n...                                                   ...   \n149729  [-0.06773572415113449, -0.01392741035670042, -...   \n149730  [-0.03525467589497566, -0.03506492078304291, -...   \n149731  [-0.05353596806526184, 0.057930838316679, 0.00...   \n149732  [-0.014642884023487568, 0.0201723612844944, 0....   \n149733  [-0.05821019038558006, -0.015586151741445065, ...   \n\n                                                    emb_2  \n0       [-0.05795738846063614, -0.02890898659825325, -...  \n1       [-0.045615799725055695, 0.012592996470630169, ...  \n2       [-0.053144559264183044, -0.04593741148710251, ...  \n3       [-0.05674505606293678, -0.04642457142472267, -...  \n4       [-0.07074024528265, 0.03370615467429161, -0.10...  \n...                                                   ...  \n149729  [-0.06258784979581833, 0.018974745646119118, 0...  \n149730  [-0.06926314532756805, 0.06603555381298065, -0...  \n149731  [-0.03811235725879669, 0.02773694135248661, -0...  \n149732  [-0.009399804286658764, -0.002773549407720566,...  \n149733  [-0.028075648471713066, 0.036121804267168045, ...  \n\n[149734 rows x 5 columns]",
      "text/html": "<div>\n<style scoped>\n    .dataframe tbody tr th:only-of-type {\n        vertical-align: middle;\n    }\n\n    .dataframe tbody tr th {\n        vertical-align: top;\n    }\n\n    .dataframe thead th {\n        text-align: right;\n    }\n</style>\n<table border=\"1\" class=\"dataframe\">\n  <thead>\n    <tr style=\"text-align: right;\">\n      <th></th>\n      <th>name_1</th>\n      <th>name_2</th>\n      <th>is_duplicate</th>\n      <th>emb_1</th>\n      <th>emb_2</th>\n    </tr>\n  </thead>\n  <tbody>\n    <tr>\n      <th>0</th>\n      <td>Iko Industries Ltd.</td>\n      <td>Enormous Industrial Trade Pvt., Ltd.</td>\n      <td>0</td>\n      <td>[-0.05934988334774971, 0.06893617659807205, 0....</td>\n      <td>[-0.05795738846063614, -0.02890898659825325, -...</td>\n    </tr>\n    <tr>\n      <th>1</th>\n      <td>Apcotex Industries Ltd.</td>\n      <td>Technocraft Industries (India) Ltd.</td>\n      <td>0</td>\n      <td>[-0.027187837287783623, 0.0036133911926299334,...</td>\n      <td>[-0.045615799725055695, 0.012592996470630169, ...</td>\n    </tr>\n    <tr>\n      <th>2</th>\n      <td>Powermax Rubber Factory</td>\n      <td>Co. One</td>\n      <td>0</td>\n      <td>[-0.027730092406272888, 0.06848588585853577, -...</td>\n      <td>[-0.053144559264183044, -0.04593741148710251, ...</td>\n    </tr>\n    <tr>\n      <th>3</th>\n      <td>National Bank Of</td>\n      <td>Action International</td>\n      <td>0</td>\n      <td>[-0.018415303900837898, -0.006000360939651728,...</td>\n      <td>[-0.05674505606293678, -0.04642457142472267, -...</td>\n    </tr>\n    <tr>\n      <th>4</th>\n      <td>R.I.Intl</td>\n      <td>Rass Mfg. India Pvt., Ltd.</td>\n      <td>0</td>\n      <td>[-0.07493618130683899, -0.0017950021428987384,...</td>\n      <td>[-0.07074024528265, 0.03370615467429161, -0.10...</td>\n    </tr>\n    <tr>\n      <th>...</th>\n      <td>...</td>\n      <td>...</td>\n      <td>...</td>\n      <td>...</td>\n      <td>...</td>\n    </tr>\n    <tr>\n      <th>149729</th>\n      <td>Eoc Polymers India Private Ltd.</td>\n      <td>Imp. Express India Private Ltd.</td>\n      <td>0</td>\n      <td>[-0.06773572415113449, -0.01392741035670042, -...</td>\n      <td>[-0.06258784979581833, 0.018974745646119118, 0...</td>\n    </tr>\n    <tr>\n      <th>149730</th>\n      <td>Societe Des Transports</td>\n      <td>Ho Sports Co. Inc.</td>\n      <td>0</td>\n      <td>[-0.03525467589497566, -0.03506492078304291, -...</td>\n      <td>[-0.06926314532756805, 0.06603555381298065, -0...</td>\n    </tr>\n    <tr>\n      <th>149731</th>\n      <td>Computime Electric (Shenzhen) Co., Ltd.</td>\n      <td>A S International</td>\n      <td>0</td>\n      <td>[-0.05353596806526184, 0.057930838316679, 0.00...</td>\n      <td>[-0.03811235725879669, 0.02773694135248661, -0...</td>\n    </tr>\n    <tr>\n      <th>149732</th>\n      <td>Shanghai Haizhige Furniture Co., Ltd.</td>\n      <td>Sharang Corporation</td>\n      <td>0</td>\n      <td>[-0.014642884023487568, 0.0201723612844944, 0....</td>\n      <td>[-0.009399804286658764, -0.002773549407720566,...</td>\n    </tr>\n    <tr>\n      <th>149733</th>\n      <td>Bnd Trading Co., Ltd.</td>\n      <td>Zhong Shan Yue Liang Economy&amp; Trade Imp. &amp; Exp...</td>\n      <td>0</td>\n      <td>[-0.05821019038558006, -0.015586151741445065, ...</td>\n      <td>[-0.028075648471713066, 0.036121804267168045, ...</td>\n    </tr>\n  </tbody>\n</table>\n<p>149734 rows × 5 columns</p>\n</div>"
     },
     "execution_count": 76,
     "metadata": {},
     "output_type": "execute_result"
    }
   ],
   "source": [
    "df"
   ],
   "metadata": {
    "collapsed": false,
    "pycharm": {
     "name": "#%%\n"
    }
   }
  },
  {
   "cell_type": "code",
   "execution_count": 77,
   "outputs": [
    {
     "data": {
      "text/plain": "(149734, 384)"
     },
     "execution_count": 77,
     "metadata": {},
     "output_type": "execute_result"
    }
   ],
   "source": [
    "np.stack(df.emb_1).shape"
   ],
   "metadata": {
    "collapsed": false,
    "pycharm": {
     "name": "#%%\n"
    }
   }
  },
  {
   "cell_type": "markdown",
   "source": [
    "### Add vectors to qdrant"
   ],
   "metadata": {
    "collapsed": false,
    "pycharm": {
     "name": "#%% md\n"
    }
   }
  },
  {
   "cell_type": "code",
   "execution_count": null,
   "outputs": [],
   "source": [
    "!docker pull qdrant/qdrant"
   ],
   "metadata": {
    "collapsed": false,
    "pycharm": {
     "name": "#%%\n"
    }
   }
  },
  {
   "cell_type": "code",
   "execution_count": null,
   "outputs": [],
   "source": [
    "!docker run --name qdrant -d -p 6333:6333 --net=bridge qdrant/qdrant"
   ],
   "metadata": {
    "collapsed": false,
    "pycharm": {
     "name": "#%%\n"
    }
   }
  },
  {
   "cell_type": "code",
   "execution_count": 9,
   "outputs": [],
   "source": [
    "df_embs = pd.read_parquet('../data/df_embs_en.parquet')"
   ],
   "metadata": {
    "collapsed": false,
    "pycharm": {
     "name": "#%%\n"
    }
   }
  },
  {
   "cell_type": "code",
   "execution_count": 10,
   "outputs": [],
   "source": [
    "qdrant_client = QdrantClient(host='0.0.0.0', port=6333)"
   ],
   "metadata": {
    "collapsed": false,
    "pycharm": {
     "name": "#%%\n"
    }
   }
  },
  {
   "cell_type": "code",
   "execution_count": 68,
   "outputs": [],
   "source": [
    "def create_collection_and_upload(vectors, payload, ids, col_name, vec_shape, bs):\n",
    "    qdrant_client.recreate_collection(collection_name=col_name,\n",
    "                                      vectors_config=models.VectorParams(size=vec_shape, distance=models.Distance.COSINE),\n",
    "                                      on_disk_payload=True)\n",
    "    qdrant_client.upload_collection(\n",
    "        collection_name=col_name,\n",
    "        vectors=vectors,\n",
    "        payload=payload,\n",
    "        ids=ids,\n",
    "        batch_size=bs,\n",
    "        parallel=6\n",
    "    )\n",
    "    col = qdrant_client.get_collection(col_name)\n",
    "    return col"
   ],
   "metadata": {
    "collapsed": false,
    "pycharm": {
     "name": "#%%\n"
    }
   }
  },
  {
   "cell_type": "code",
   "execution_count": 69,
   "outputs": [],
   "source": [
    "vectors = np.stack(df_embs.emb)\n",
    "payload = df_embs[['name']].to_dict(orient='records')\n",
    "ids = df_embs.index.values.tolist()\n",
    "col_name = 'companies-EN'\n",
    "vec_shape = vectors.shape[1]\n",
    "bs = 1024"
   ],
   "metadata": {
    "collapsed": false,
    "pycharm": {
     "name": "#%%\n"
    }
   }
  },
  {
   "cell_type": "code",
   "execution_count": 70,
   "outputs": [],
   "source": [
    "col = create_collection_and_upload(vectors, payload, ids, col_name, vec_shape, bs)"
   ],
   "metadata": {
    "collapsed": false,
    "pycharm": {
     "name": "#%%\n"
    }
   }
  },
  {
   "cell_type": "code",
   "execution_count": 14,
   "outputs": [],
   "source": [],
   "metadata": {
    "collapsed": false,
    "pycharm": {
     "name": "#%%\n"
    }
   }
  },
  {
   "cell_type": "markdown",
   "source": [
    "### Similarity search with cosine distance"
   ],
   "metadata": {
    "collapsed": false,
    "pycharm": {
     "name": "#%% md\n"
    }
   }
  },
  {
   "cell_type": "code",
   "execution_count": 20,
   "outputs": [],
   "source": [
    "model = SentenceTransformer('all-MiniLM-L6-v2')"
   ],
   "metadata": {
    "collapsed": false,
    "pycharm": {
     "name": "#%%\n"
    }
   }
  },
  {
   "cell_type": "code",
   "execution_count": 114,
   "outputs": [],
   "source": [
    "from experiments.preprocess import preproc, stopwords\n",
    "\n",
    "\n",
    "def inference(company_name, model, limit=30, df_embs=None, preproc_text=False):\n",
    "    if preproc_text is not None:\n",
    "        company_name = preproc(company_name, stopwords)\n",
    "\n",
    "    if df_embs is None:\n",
    "        qvector = model.encode(company_name)\n",
    "    else:\n",
    "        qvector = np.stack(df_embs[df_embs['name'] == company_name].emb)[0]\n",
    "\n",
    "    search_result = qdrant_client.search(\n",
    "        collection_name=col_name,\n",
    "        query_vector=qvector,\n",
    "        query_filter=models.Filter(\n",
    "            must_not=[\n",
    "                models.FieldCondition(\n",
    "                    key=\"name\",\n",
    "                    match=models.MatchValue(value=company_name)\n",
    "                ),\n",
    "            ]\n",
    "        ),\n",
    "        limit=limit,\n",
    "        offset=0\n",
    "    )\n",
    "    return search_result#[r for r in search_result if r.payload['name'] != company_name]"
   ],
   "metadata": {
    "collapsed": false,
    "pycharm": {
     "name": "#%%\n"
    }
   }
  },
  {
   "cell_type": "code",
   "execution_count": 54,
   "outputs": [
    {
     "name": "stdout",
     "output_type": "stream",
     "text": [
      "[-3.86481360e-02  3.25051323e-03 -4.05685641e-02  4.68646176e-02\n",
      "  3.04586273e-02  1.18689779e-02  6.79872036e-02  3.58943567e-02\n",
      "  3.76277417e-02 -8.06272924e-02  4.35762927e-02  1.09155392e-02\n",
      " -7.25863576e-02  1.50767795e-03 -6.77131712e-02 -4.66056690e-02\n",
      " -7.04153790e-04  2.95533035e-02  2.44878349e-03 -7.07464665e-02\n",
      " -9.96298343e-02 -9.28939581e-02  4.60370556e-02  3.87204438e-02\n",
      " -8.49876627e-02  7.70448446e-02 -2.08164603e-02  7.05066398e-02\n",
      "  1.28157269e-02 -5.57344779e-02  3.96616757e-03  6.31402209e-02\n",
      "  2.90050898e-02  2.62158103e-02  9.24626887e-02  2.24703662e-02\n",
      " -7.77371451e-02 -5.77038117e-02  2.63690539e-02  1.86589046e-03\n",
      "  3.84277217e-02  9.97254811e-03  3.39368396e-02 -8.80111158e-02\n",
      "  8.04794878e-02 -5.65073546e-03  2.58084526e-03 -1.59460101e-02\n",
      " -2.80876784e-03  1.83662064e-02 -4.16462794e-02  1.23528764e-02\n",
      " -1.65041853e-02 -1.19401729e-02  5.21688834e-02  5.41791692e-02\n",
      "  2.27732453e-02 -5.71125336e-02 -2.85425633e-02  1.30495965e-03\n",
      "  8.48037750e-03  2.27029668e-03 -3.79765891e-02  2.52350643e-02\n",
      "  5.37856184e-02  2.29252167e-02  1.89269371e-02 -6.45023480e-04\n",
      "  2.50544865e-02 -1.13334551e-01  4.94094975e-02 -2.95905676e-02\n",
      "  1.59705244e-02  1.77662261e-02 -3.50509658e-02  2.06666347e-02\n",
      "  5.10325767e-02 -5.94075844e-02  8.52910206e-02 -4.88859192e-02\n",
      " -1.50193172e-02  9.94943921e-03  3.92475501e-02  2.57939734e-02\n",
      " -2.76041757e-02  9.21322312e-03  4.49930280e-02  3.21813785e-02\n",
      "  5.86378686e-02 -6.03197441e-02 -8.84523895e-03  7.31533393e-02\n",
      " -4.57365587e-02  4.81092297e-02 -1.35835618e-01  5.21427579e-02\n",
      "  3.57777672e-03  7.13315383e-02 -2.75592934e-02  1.93296131e-02\n",
      "  7.45558664e-02  8.99891406e-02 -1.30605131e-01 -5.92098609e-02\n",
      " -1.05376638e-01 -3.25162075e-02 -3.07471934e-03  7.50475675e-02\n",
      "  2.17537228e-02  4.32150774e-02 -1.05026774e-01  3.89087088e-02\n",
      " -3.26898810e-03 -4.67904173e-02 -1.69945359e-02  7.83708319e-03\n",
      " -2.52338834e-02 -4.41060513e-02  8.95226896e-02 -6.06194809e-02\n",
      "  2.37957798e-02  2.55579483e-02 -7.96575323e-02 -1.67907439e-02\n",
      " -2.90186219e-02 -1.39657017e-02 -1.87688544e-02 -6.41841368e-33\n",
      " -2.11972091e-02  4.80243117e-02  9.66051742e-02 -7.64251314e-03\n",
      " -4.49591801e-02 -1.60834137e-02  2.95567941e-02 -6.67686164e-02\n",
      " -1.00471713e-01  4.73460779e-02 -5.94262630e-02 -5.19301482e-02\n",
      " -9.98247787e-02 -4.20934074e-02  1.34665323e-02 -8.01921040e-02\n",
      "  9.84370476e-04 -2.01048832e-02  5.34045175e-02 -8.53170156e-02\n",
      " -2.16077343e-02  7.04689100e-02 -2.42702682e-02  3.93873192e-02\n",
      "  6.05719611e-02  1.90403778e-03 -3.23883556e-02  3.46378274e-02\n",
      "  4.03182469e-02  4.98452224e-02  1.06527701e-01  3.45311426e-02\n",
      " -6.18701316e-02 -1.55105004e-02 -3.38596366e-02 -2.03531217e-02\n",
      " -9.85131636e-02  2.07640380e-02  4.51014930e-05  4.39290479e-02\n",
      "  9.70272534e-03  7.82009140e-02 -7.34700356e-03 -2.31133346e-02\n",
      " -2.04560701e-02  4.22539562e-02 -7.02686086e-02  1.08756414e-02\n",
      "  7.57970810e-02 -5.59828095e-02 -6.55177236e-02  5.19432360e-03\n",
      "  4.02097441e-02  3.00338436e-02  4.85280752e-02  7.44097866e-03\n",
      " -1.18737342e-02 -7.86176175e-02  2.49613486e-02  6.67077750e-02\n",
      " -1.71275884e-02  4.37909290e-02 -1.70706570e-01  8.51051360e-02\n",
      " -5.78734046e-03  4.58257161e-02  3.85481343e-02  2.77303290e-02\n",
      " -2.03586351e-02  2.77329609e-02  5.42417541e-03 -3.43819708e-02\n",
      "  1.12545006e-01 -8.73714406e-03 -4.66691852e-02  1.89714378e-03\n",
      " -7.27021992e-02 -4.36612358e-03  1.74998362e-02 -1.55093092e-02\n",
      " -5.38909510e-02  2.40423381e-02  1.86994858e-02  3.19450274e-02\n",
      " -3.46084088e-02 -3.85808833e-02  1.89771857e-02  2.86040269e-02\n",
      "  1.72509626e-02 -6.81912107e-03 -1.11637235e-01 -5.14598712e-02\n",
      "  9.19327140e-02 -1.61632313e-03 -5.26124202e-02  2.83129331e-33\n",
      " -2.59242449e-02 -5.11751175e-02 -1.71885025e-02 -3.68600041e-02\n",
      " -5.29407971e-02 -1.17163295e-02  2.04984713e-02 -1.49373598e-02\n",
      "  6.85732812e-02  6.96159601e-02  4.10721898e-02  8.40772782e-03\n",
      "  7.56759271e-02 -1.24263735e-02 -2.06182729e-02  7.94304833e-02\n",
      "  9.10276826e-03  1.91147849e-02 -2.74171364e-02  4.28095367e-03\n",
      "  3.93745750e-02 -1.62353646e-02 -4.73906994e-02  9.67511013e-02\n",
      "  5.33077773e-03  1.24739315e-02  4.32716012e-02 -6.60217032e-02\n",
      " -3.95745318e-03  2.44689710e-03 -2.88057551e-02 -4.40395698e-02\n",
      " -4.92579937e-02  1.20054856e-01 -2.20544506e-02 -4.90660556e-02\n",
      "  2.45838780e-02 -4.34102118e-02 -2.65207011e-02 -1.72579158e-02\n",
      " -2.86545362e-02 -9.58095398e-03  8.20858404e-02  1.39944017e-01\n",
      "  3.68574448e-02 -3.03756259e-02 -9.37148556e-02 -2.31177099e-02\n",
      "  9.45481211e-02  6.35912642e-03 -7.16639534e-02 -2.37484947e-02\n",
      "  1.00063533e-02 -6.51604235e-02 -3.07802837e-02  5.02731688e-02\n",
      " -2.69892421e-02  1.17729902e-02 -5.47769219e-02 -4.25880477e-02\n",
      "  7.32115954e-02  3.88217270e-02 -5.10345474e-02  6.28643669e-03\n",
      "  1.38444258e-02  5.45034148e-02 -2.84671434e-03 -1.61813125e-02\n",
      "  6.58298284e-02 -1.07288472e-01  1.45090267e-01  4.62463535e-02\n",
      "  2.52996031e-02 -4.36879024e-02 -2.49734428e-02 -5.08670807e-02\n",
      " -5.87433204e-02  6.95044771e-02 -4.43850420e-02  6.94634244e-02\n",
      "  1.46255553e-01  1.24739427e-02 -1.19572773e-03  1.45564917e-02\n",
      " -3.35348099e-02 -4.79395464e-02  1.19520128e-02  3.97706255e-02\n",
      "  2.48813648e-02 -2.45638527e-02 -2.59984639e-02  6.88375020e-03\n",
      "  4.55734879e-03  2.08419152e-02 -2.89349724e-02 -1.85849114e-08\n",
      " -4.55024419e-03 -1.13772668e-01  2.52454448e-02 -5.51122315e-02\n",
      " -1.37424842e-02 -1.40943946e-02  3.69261429e-02 -1.45602773e-03\n",
      "  5.52440248e-02  3.87636349e-02  6.59297630e-02  2.51153000e-02\n",
      " -8.42789412e-02  4.92714606e-02 -8.28825533e-02 -7.68539459e-02\n",
      " -1.01317227e-01  5.42337932e-02 -1.74110709e-03 -7.07101151e-02\n",
      " -5.80646992e-02  7.66613409e-02  3.86045128e-02 -4.94712107e-02\n",
      " -3.79567035e-02 -1.60512663e-02 -2.20262688e-02 -6.32177442e-02\n",
      "  1.10701965e-02  8.74102302e-03 -4.30119559e-02  2.28708666e-02\n",
      "  8.89478773e-02  2.26737410e-02  7.10209906e-02  2.04436071e-02\n",
      "  4.51660343e-02  8.21514707e-03 -3.18770073e-02 -2.32001841e-02\n",
      " -3.82839292e-02  4.40389663e-03 -6.05880050e-03  7.09710701e-04\n",
      "  9.30205211e-02 -1.39895594e-02 -3.92387435e-02  5.10433018e-02\n",
      "  8.51742849e-02 -2.53028069e-02  1.71097312e-02 -2.81497668e-02\n",
      "  2.35212006e-04  3.95624712e-03 -8.58359113e-02  3.42344344e-02\n",
      " -7.54747316e-02  1.64618958e-02 -3.34285423e-02 -8.07968825e-02\n",
      "  6.55621737e-02 -6.56452402e-02  3.57163139e-02  5.83402738e-02]\n",
      "(384,)\n"
     ]
    },
    {
     "data": {
      "text/plain": "[ScoredPoint(id=2407, version=3, score=0.8766744, payload={'name': 'Dow Chemical Pacific Ltd.'}, vector=None),\n ScoredPoint(id=2405, version=3, score=0.8710414, payload={'name': 'Dow Chemical International Private Ltd.'}, vector=None),\n ScoredPoint(id=8799, version=7, score=0.8694345, payload={'name': 'The Dow Chemical Company'}, vector=None),\n ScoredPoint(id=2408, version=3, score=0.83456326, payload={'name': 'Dow Chemical Thailand Ltd.'}, vector=None),\n ScoredPoint(id=2403, version=3, score=0.8277112, payload={'name': 'Dow Chemical'}, vector=None),\n ScoredPoint(id=9927, version=6, score=0.81730974, payload={'name': 'Yuanbai Chemicals (Shanghai) Co., Ltd.'}, vector=None),\n ScoredPoint(id=7757, version=9, score=0.81063753, payload={'name': 'Shanghai Yikang Chemicals & Industries Co., Ltd.'}, vector=None),\n ScoredPoint(id=7693, version=9, score=0.80738235, payload={'name': 'Shanghai Origin Chem International Trading Co., Ltd.'}, vector=None),\n ScoredPoint(id=7681, version=9, score=0.8068723, payload={'name': 'Shanghai Manyi Chemical Co., Ltd.'}, vector=None),\n ScoredPoint(id=7699, version=9, score=0.80364966, payload={'name': 'Shanghai Prevision Chemicals Co., Ltd.'}, vector=None),\n ScoredPoint(id=1556, version=1, score=0.7966597, payload={'name': 'China Chem Co., Ltd.'}, vector=None),\n ScoredPoint(id=2406, version=3, score=0.79380906, payload={'name': 'Dow Chemical Pacific'}, vector=None),\n ScoredPoint(id=2520, version=3, score=0.7851604, payload={'name': 'Eastman (Shanghai) Chemical Commercial Co., Ltd.'}, vector=None),\n ScoredPoint(id=7737, version=9, score=0.781575, payload={'name': 'Shanghai Uniwell Chemical Co., Ltd.'}, vector=None),\n ScoredPoint(id=7754, version=9, score=0.7784134, payload={'name': 'Shanghai Yi Duo Ke Chemical Co., Ltd.'}, vector=None),\n ScoredPoint(id=7661, version=9, score=0.7763758, payload={'name': 'Shanghai Junxin Chemical Co., Ltd.'}, vector=None),\n ScoredPoint(id=7701, version=9, score=0.77480435, payload={'name': 'Shanghai Ranyuan Chemical Technology Co., Ltd.'}, vector=None),\n ScoredPoint(id=7745, version=9, score=0.7729964, payload={'name': 'Shanghai Wo Code Chemical Co., Ltd.'}, vector=None),\n ScoredPoint(id=5015, version=2, score=0.7676929, payload={'name': 'Lord Fine Chemical (Shanghai) Co., Ltd.'}, vector=None),\n ScoredPoint(id=7644, version=9, score=0.7609267, payload={'name': 'Shanghai Huixu Chemical Industry Co., Ltd.'}, vector=None),\n ScoredPoint(id=7752, version=9, score=0.7555705, payload={'name': 'Shanghai Yechuan Chemicals Co., Ltd.'}, vector=None),\n ScoredPoint(id=6383, version=8, score=0.7552965, payload={'name': 'Poly Chemicals (Shanghai) Co., Ltd.'}, vector=None),\n ScoredPoint(id=4772, version=2, score=0.74850476, payload={'name': 'Kun Shan Pan Qing Chemical Co., Ltd.'}, vector=None),\n ScoredPoint(id=7713, version=9, score=0.74356055, payload={'name': 'Shanghai Shengyi Industry Co., Ltd.'}, vector=None),\n ScoredPoint(id=6740, version=8, score=0.7402623, payload={'name': 'Qingdao Jiawen Chemical Co., Ltd.'}, vector=None),\n ScoredPoint(id=9996, version=6, score=0.7380588, payload={'name': 'Zhangjiagang Yuansheng Chemical Industry Co., Ltd.'}, vector=None),\n ScoredPoint(id=7728, version=9, score=0.7374378, payload={'name': 'Shanghai Synthomer Chemicals Co., Ltd.'}, vector=None),\n ScoredPoint(id=8650, version=7, score=0.73358315, payload={'name': 'Taoshi Chemical (Zhangjiagang) Co., Ltd.'}, vector=None),\n ScoredPoint(id=3527, version=4, score=0.73315513, payload={'name': 'Guangzhou Xin Chemical Co., Ltd.'}, vector=None),\n ScoredPoint(id=5433, version=5, score=0.73292935, payload={'name': 'Mitsubishi Chemical China Commerce Ltd.'}, vector=None)]"
     },
     "execution_count": 54,
     "metadata": {},
     "output_type": "execute_result"
    }
   ],
   "source": [
    "inference('Dow Chemical (Shanghai) Co., Ltd.', model)"
   ],
   "metadata": {
    "collapsed": false,
    "pycharm": {
     "name": "#%%\n"
    }
   }
  },
  {
   "cell_type": "code",
   "execution_count": 29,
   "outputs": [
    {
     "data": {
      "text/plain": "                                         name_1  \\\n3621          Dow Chemical (Shanghai) Co., Ltd.   \n25254   Dow Chemical International Private Ltd.   \n43550         Dow Chemical (Shanghai) Co., Ltd.   \n67051         Dow Chemical (Shanghai) Co., Ltd.   \n67332                 Dow Chemical Pacific Ltd.   \n86276                      Dow Chemical Pacific   \n114460               Dow Chemical Thailand Ltd.   \n116796                             Dow Chemical   \n127101        Dow Chemical (Shanghai) Co., Ltd.   \n148353        Dow Chemical (Shanghai) Co., Ltd.   \n\n                                         name_2  is_duplicate  \\\n3621                  Dow Chemical Pacific Ltd.             1   \n25254         Dow Chemical (Shanghai) Co., Ltd.             1   \n43550   Dow Chemical International Private Ltd.             1   \n67051                              Dow Chemical             1   \n67332         Dow Chemical (Shanghai) Co., Ltd.             1   \n86276         Dow Chemical (Shanghai) Co., Ltd.             1   \n114460        Dow Chemical (Shanghai) Co., Ltd.             1   \n116796        Dow Chemical (Shanghai) Co., Ltd.             1   \n127101                     Dow Chemical Pacific             1   \n148353               Dow Chemical Thailand Ltd.             1   \n\n                                                    emb_1  \\\n3621    [-0.028365090489387512, -0.02730587124824524, ...   \n25254   [-0.054589733481407166, -0.02028239332139492, ...   \n43550   [-0.028365090489387512, -0.02730587124824524, ...   \n67051   [-0.028365090489387512, -0.02730587124824524, ...   \n67332   [-0.053025662899017334, 0.003969652112573385, ...   \n86276   [-0.024302493780851364, 0.016313781961798668, ...   \n114460  [-0.05091489478945732, 0.00030382093973457813,...   \n116796  [0.01545174140483141, 0.002613763092085719, -0...   \n127101  [-0.028365090489387512, -0.02730587124824524, ...   \n148353  [-0.028365090489387512, -0.02730587124824524, ...   \n\n                                                    emb_2  \n3621    [-0.053025662899017334, 0.003969652112573385, ...  \n25254   [-0.028365090489387512, -0.02730587124824524, ...  \n43550   [-0.054589733481407166, -0.02028239332139492, ...  \n67051   [0.01545174140483141, 0.002613763092085719, -0...  \n67332   [-0.028365090489387512, -0.02730587124824524, ...  \n86276   [-0.028365090489387512, -0.02730587124824524, ...  \n114460  [-0.028365090489387512, -0.02730587124824524, ...  \n116796  [-0.028365090489387512, -0.02730587124824524, ...  \n127101  [-0.024302493780851364, 0.016313781961798668, ...  \n148353  [-0.05091489478945732, 0.00030382093973457813,...  ",
      "text/html": "<div>\n<style scoped>\n    .dataframe tbody tr th:only-of-type {\n        vertical-align: middle;\n    }\n\n    .dataframe tbody tr th {\n        vertical-align: top;\n    }\n\n    .dataframe thead th {\n        text-align: right;\n    }\n</style>\n<table border=\"1\" class=\"dataframe\">\n  <thead>\n    <tr style=\"text-align: right;\">\n      <th></th>\n      <th>name_1</th>\n      <th>name_2</th>\n      <th>is_duplicate</th>\n      <th>emb_1</th>\n      <th>emb_2</th>\n    </tr>\n  </thead>\n  <tbody>\n    <tr>\n      <th>3621</th>\n      <td>Dow Chemical (Shanghai) Co., Ltd.</td>\n      <td>Dow Chemical Pacific Ltd.</td>\n      <td>1</td>\n      <td>[-0.028365090489387512, -0.02730587124824524, ...</td>\n      <td>[-0.053025662899017334, 0.003969652112573385, ...</td>\n    </tr>\n    <tr>\n      <th>25254</th>\n      <td>Dow Chemical International Private Ltd.</td>\n      <td>Dow Chemical (Shanghai) Co., Ltd.</td>\n      <td>1</td>\n      <td>[-0.054589733481407166, -0.02028239332139492, ...</td>\n      <td>[-0.028365090489387512, -0.02730587124824524, ...</td>\n    </tr>\n    <tr>\n      <th>43550</th>\n      <td>Dow Chemical (Shanghai) Co., Ltd.</td>\n      <td>Dow Chemical International Private Ltd.</td>\n      <td>1</td>\n      <td>[-0.028365090489387512, -0.02730587124824524, ...</td>\n      <td>[-0.054589733481407166, -0.02028239332139492, ...</td>\n    </tr>\n    <tr>\n      <th>67051</th>\n      <td>Dow Chemical (Shanghai) Co., Ltd.</td>\n      <td>Dow Chemical</td>\n      <td>1</td>\n      <td>[-0.028365090489387512, -0.02730587124824524, ...</td>\n      <td>[0.01545174140483141, 0.002613763092085719, -0...</td>\n    </tr>\n    <tr>\n      <th>67332</th>\n      <td>Dow Chemical Pacific Ltd.</td>\n      <td>Dow Chemical (Shanghai) Co., Ltd.</td>\n      <td>1</td>\n      <td>[-0.053025662899017334, 0.003969652112573385, ...</td>\n      <td>[-0.028365090489387512, -0.02730587124824524, ...</td>\n    </tr>\n    <tr>\n      <th>86276</th>\n      <td>Dow Chemical Pacific</td>\n      <td>Dow Chemical (Shanghai) Co., Ltd.</td>\n      <td>1</td>\n      <td>[-0.024302493780851364, 0.016313781961798668, ...</td>\n      <td>[-0.028365090489387512, -0.02730587124824524, ...</td>\n    </tr>\n    <tr>\n      <th>114460</th>\n      <td>Dow Chemical Thailand Ltd.</td>\n      <td>Dow Chemical (Shanghai) Co., Ltd.</td>\n      <td>1</td>\n      <td>[-0.05091489478945732, 0.00030382093973457813,...</td>\n      <td>[-0.028365090489387512, -0.02730587124824524, ...</td>\n    </tr>\n    <tr>\n      <th>116796</th>\n      <td>Dow Chemical</td>\n      <td>Dow Chemical (Shanghai) Co., Ltd.</td>\n      <td>1</td>\n      <td>[0.01545174140483141, 0.002613763092085719, -0...</td>\n      <td>[-0.028365090489387512, -0.02730587124824524, ...</td>\n    </tr>\n    <tr>\n      <th>127101</th>\n      <td>Dow Chemical (Shanghai) Co., Ltd.</td>\n      <td>Dow Chemical Pacific</td>\n      <td>1</td>\n      <td>[-0.028365090489387512, -0.02730587124824524, ...</td>\n      <td>[-0.024302493780851364, 0.016313781961798668, ...</td>\n    </tr>\n    <tr>\n      <th>148353</th>\n      <td>Dow Chemical (Shanghai) Co., Ltd.</td>\n      <td>Dow Chemical Thailand Ltd.</td>\n      <td>1</td>\n      <td>[-0.028365090489387512, -0.02730587124824524, ...</td>\n      <td>[-0.05091489478945732, 0.00030382093973457813,...</td>\n    </tr>\n  </tbody>\n</table>\n</div>"
     },
     "execution_count": 29,
     "metadata": {},
     "output_type": "execute_result"
    }
   ],
   "source": [
    "df[((df.name_1 == 'Dow Chemical (Shanghai) Co., Ltd.') | (df.name_2 == 'Dow Chemical (Shanghai) Co., Ltd.')) & df.is_duplicate == 1]"
   ],
   "metadata": {
    "collapsed": false,
    "pycharm": {
     "name": "#%%\n"
    }
   }
  },
  {
   "cell_type": "markdown",
   "source": [
    "### Calculate metrics"
   ],
   "metadata": {
    "collapsed": false,
    "pycharm": {
     "name": "#%% md\n"
    }
   }
  },
  {
   "cell_type": "code",
   "execution_count": 30,
   "outputs": [],
   "source": [
    "search_scroll = qdrant_client.scroll(\n",
    "    collection_name=col_name,\n",
    "    limit=col.points_count,\n",
    "    offset=0,\n",
    "    with_vectors=True,\n",
    "    with_payload=True,\n",
    ")"
   ],
   "metadata": {
    "collapsed": false,
    "pycharm": {
     "name": "#%%\n"
    }
   }
  },
  {
   "cell_type": "code",
   "execution_count": 31,
   "outputs": [],
   "source": [
    "# Select test dataset\n",
    "df_isdup = df[df.is_duplicate == 1]\n",
    "names = np.unique(np.concatenate([df_isdup.name_1, df_isdup.name_2]))"
   ],
   "metadata": {
    "collapsed": false,
    "pycharm": {
     "name": "#%%\n"
    }
   }
  },
  {
   "cell_type": "code",
   "execution_count": 32,
   "outputs": [
    {
     "data": {
      "text/plain": "array(['ALBEMARLE GREEN CREST ', 'APS Paving Stone Inc',\n       'APS Paving&Stone Inc', 'AUTOMOTIVE PERFORMANCE MATERIAL (APM)',\n       'Achem Technology (Dongguan)', 'Achem Technology Corp.',\n       'Achem Technology Dongguan',\n       'Adams Resources Exploration Corporation, 112 Oil And Gas Assets',\n       'Adams Resources Exploration Corporation, Oil And Gas Assets In Crocket And Irion Counties In Texas',\n       'Adams Resources Exploration Corporation, Oil And Gas Assets Outside The Permian Basin',\n       'Adhesives Research, Inc.', 'Afton Chemical De Mexicosa De Cv',\n       'Afton Chemical Hyderabad Pvt., Ltd.',\n       'Afton Chemical India Private Ltd.',\n       'Afton Chemical Industria De Aditivos Ltda',\n       'Albemarle Corporation', 'Albemarle Corporation (NYSE:ALB)',\n       'Ashland Inc.', 'Ashland Specialty Ingredients Gp',\n       'Automotive Performance Material',\n       'Automotive Performance Materials', 'Avery Denisson (BE)',\n       'Avery Dennison Kunshan Co., Ltd.',\n       'Basf (China) Co., Ltd. Shanghai', 'Basf Auxiliary Chemicals',\n       'Basf Bangladesh Ltd.', 'Basf Chile S A', 'Basf Chile S.A.',\n       'Basf Co., Ltd.', 'Basf Co., Ltd. Yeosu',\n       'Basf Construction Chemicals', 'Basf Construction Chemicals Ua',\n       'Basf Corp.', 'Basf Corporation', 'Basf Finlay Pvt., Ltd.',\n       'Basf Mexicana S.A. De C.V.', 'Basf New Zealand Ltd.',\n       'Basf Pakistan (Private) Ltd.',\n       'Basf Turk Kimya San Ve Tic.Tld.Sti',\n       'Basf Turk Kimya San. Ve Tic.Sti',\n       'Basf Turk Kimya San.Ve Tic Ltd.Sti',\n       \"Basf's Paper Chemicals (Huizhou) Co., Ltd.\",\n       'Bdp International Basf Imp.',\n       'Beijing Oriental Yuhong Waterproof Technology Co., Ltd. (SZSE:002271) - 北京东方雨虹防水技术股份有限公司',\n       'Bharat Adhesives', 'Bharat Heavy Electricals Ltd.',\n       'Bit Mat. Products Of Michigan, Inc.',\n       'Bit-Mat Products of Indiana, Inc.', 'Bolton Adhesives',\n       'Bolton Adhesives B.V.', 'Brenntag Chile Comercial E Ind',\n       'Brenntag Chile Comercial E Industrial Ltda',\n       'Bridgestone (China) Research And Development Co., Ltd.',\n       'Bridgestone (Huizhou) Tire Co., Ltd.',\n       'Bridgestone (Tianjin) Tire Co., Ltd.',\n       'Bridgestone Americas Tire', 'Bridgestone Canada Inc.',\n       'Bridgestone De Costa Rica S.A.',\n       'Bridgestone Firestone Do Brasil',\n       'Bridgestone Golf (Shenzhen) Co., Ltd.',\n       'Bridgestone Hosepower Llc', 'Bridgestone India',\n       'Bridgestone India Automotive',\n       'Bridgestone India Automotive Products Private Ltd.',\n       'Bridgestone India Pvt., Ltd.', 'Bridgestone International Group',\n       'Bridgestone Ncr', 'Bridgestone Neumaticos De',\n       'Bridgestone Stargard Sp Zoo', 'Bridgestone Tire',\n       'Bridgestone Tire Co.',\n       'Bridgestone （Huizhou）Synthetic Rubber Co., Ltd.',\n       'Bridgestone(Shenyang) Tire Co., Ltd.', 'CABOPOL', 'CASALI',\n       'CASALI Spa', 'CELANESE EUROPE BV', 'COCOPAVING', 'CTS',\n       'CTS Corporation (NYSE:CTS)', 'Cabopol - Polymer Compounds, S.A',\n       'Cardiac Science Corporation',\n       'Cardiac Science Holdings (UK) Limited',\n       'Carlisle Coatings & Waterproofing, Inc.',\n       'Carlisle Coatings & Wtrprfng', 'Cebu Toyo Corp',\n       'Celanese Chemicals Europe GmbH',\n       'Chevron Phillips Chemical Co. Lp',\n       'China National Petroleum Waterproof',\n       'China National Petroleum Waterproof (Shenzhen) Co.,Ltd. ',\n       'China Southern Petroleum Exploration and Development Corporation',\n       'Coco Paving Inc.', 'Contitech Antriebssysteme Gmb H',\n       'Contitech Australia (Pty) Ltd.', 'Contitech Chile S.A.',\n       'Contitech Chile Sa', 'Contitech Fluid Mexicana Sa De Cv',\n       'Contitech India Private Ltd.', 'Contitech Mexicana Sa De Cv',\n       'Contitech Transportbandsysteme Gmb H', 'Contitech Usa Inc.',\n       'Daewoo International (America) Corp.',\n       'Daewoo International Corp.',\n       'Diesel Fashion India Reliance Private Ltd.', 'Dow Chemical',\n       'Dow Chemical (Shanghai) Co., Ltd.',\n       'Dow Chemical International Private Ltd.', 'Dow Chemical Pacific',\n       'Dow Chemical Pacific Ltd.', 'Dow Chemical Thailand Ltd.',\n       'Dow Corning (0178) Cdw', 'Dow Corning India Pvt., Ltd.',\n       'Dow Europe Gmb H', 'Dow Europe Gmb H Plant F208',\n       'Dow International Mexicana S.A. De',\n       'Dow International Mexicana Sa De Cv', 'Dow Silicones Corp.',\n       'Dow Silicones Corp. Plant', 'Dsv Air & Sea Inc.',\n       'Dsv Air & Sea S.A. De C.V.', 'Dupont (Korea) Inc.',\n       'Dupont Apollo (Shenzhen) Ltd.',\n       'Dupont Specialty Products Usa Llc', 'Duracell Distributing Inc.',\n       'Duracell Distributing Inc.Duracell',\n       'E.I.Dupont De Nemours & Co. Inc.', 'ENEOS Globe Energy Co., Ltd.',\n       'Eastland Compounders', 'Eastland Compounding',\n       'Eneos Globe Corporation',\n       'Exxonmobil Chemical Americas 22777 Springwoods Village Parkway',\n       'Exxonmobil Chemical Americas On',\n       'Exxonmobil Chemical Americas Po Box 4549 Houston',\n       'Exxonmobil Chemical Co.',\n       'Exxonmobil Chemical Co. Baytown Chemical Plant',\n       'Exxonmobil Petroleum And Chemical', 'Fc Daewoo Textile Llc',\n       'Flex Sol', 'Flex?Computing?(Suzhou) ?Co.,? Ltd.',\n       'GENERAL MEMBRANE S.A.', 'GENERAL MEMBRANE S.P.A.',\n       'Gongguan Heartychem Co., Ltd.', 'Goodyear Chemical Co',\n       'H & V Advanced Materials India Pvt., Ltd.',\n       'H & V Advanced Materials(India) Pvt., Ltd.', 'Heartychem Corp',\n       'Hexpol Compounding', 'Hexpol Compounding (Uk) Ltd.',\n       'Hexpol Compounding Llc', 'Huizhou Lcy Elastomers Corp.',\n       'IKO EU /ALL PLANTS*', 'IKO SLOVAKIA',\n       'Ikea Distribution Service(Shanghai)',\n       'Ikea Distribution Services', 'Ikea Distribution Services Gmb H',\n       'Indian Overseas Bank', 'Indian Oxides And Chemicals Private Ltd.',\n       'Indian Synthetic Rubber Ltd.',\n       'Indian Synthetic Rubber Private Ltd.',\n       'Indian Synthetic Rubber Pvt., Ltd.',\n       'Ineos Styrolution America Llc',\n       'Ineos Styrolution Do Brasil Polimeros Ltda',\n       'Ineos Styrolution India Ltd.', 'Isover Saint-Gobain',\n       'JSR CORPORATION (TSE:4185)', 'JSR Corporation',\n       'JX Nippon Oil & Gas Exploration (Brasil) Ltda',\n       'JX Nippon Oil & Gas Exploration (Malaysia) Limited',\n       'JX Nippon Oil & Gas Exploration (Myanmar) Limited',\n       'JX Nippon Oil & Gas Exploration (Qatar) Limited',\n       'JX Nippon Oil & Gas Exploration (Sarawak), Ltd',\n       'JX Nippon Oil & Gas Exploration Australia Pty Ltd.',\n       'JX Nippon Oil & Gas Exploration Corporation',\n       'JX Nippon Oil & Gas Exploration Technical Services Corporation',\n       'Japan Synthetic Rubber Co', 'Jiangsu Canlon Building Materials',\n       'Jiangsu Canlon Building Materials Co., Ltd.', 'Jsr America Inc.',\n       'Jsr Elastomer America Inc.', 'KVK Corporation',\n       'KVK Corporation (JASDAQ:6484)', 'Kenda Rubber (China) Co., Ltd.',\n       'Kenda Rubber Industries Co., Ltd.',\n       'Kraton Polymers Do Brasil Sa', 'Kraton Polymers Japan Ltd.',\n       'Kraton Polymers Trading Shanghai Co., Ltd.', 'Kraton Polymers Us',\n       'Kraton Polymers Us Llc', 'Kraton Polymers Us Llc.',\n       'Kraton Polymers Us. Llc', 'Kumho Petrochemical Co., Ltd.',\n       'Kumho Tire (Tianjin) Co., Ltd.', 'Kumho Tire Changchun Co. Inc.',\n       'Kumho Tire Georgia Inc.', 'Kumho Tire Goergia Inc.',\n       'Lcy Elastomers Lp', 'M. Holland Co.', 'M. Holland Co. Ccp',\n       'M.Holland Co.', 'M.Holland Co. Ccp', 'Malarkey Roofing Products',\n       'Malarkey Roofing Products Co.',\n       'Marks And Spencer Reliance India Pvt., Ltd.',\n       'Michelin (Shenyang) Tyre Co., Ltd.', 'Michelin Americas Research',\n       'Michelin Group', 'Michelin India Private Ltd.',\n       'Michelin India Tamilnadu Tyres Private Ltd.',\n       'Michelin India Technology Center',\n       'Michelin India Technology Center Llp',\n       'Michelin North America (Canada) Inc.',\n       'Michelin North America Inc.',\n       'Michelin Research And Development Center (Shanghai) Co., Ltd.',\n       'Michelin Shenyang Tire Co., Ltd.', 'Michelin Siam Co., Ltd.',\n       'Midland Asphalt', 'Midland Asphalt Materials Inc',\n       'Mitsubishi Chemical', 'Mitsubishi Chemical China Commerce Ltd.',\n       'Mitsubishi Chemical Performance',\n       'Mitsubishi Electric India Pvt., Ltd.',\n       'Mitsubishi Gas Chemical Engineering Plastics Co., Ltd.',\n       'Nichirin Flex U . S . A . Inc.',\n       'Nippon Oil Exploration (Sarawak) Limited',\n       'Nippon Oil Exploration Limited',\n       'Nippon Oil Exploration U.S.A. Limited', 'Oriental Yuhong',\n       'Owens Corning', 'Owens Corning (NYSE:OC)',\n       'Owens Corning Glass Metal Services', 'Owens Corning Ht, Inc.',\n       'Owens Corning Insulating Systems, LLC',\n       'Owens Corning Sales L L C', 'Owens Corning Sales Llc',\n       'Owens Corning, Masonry Products Business',\n       'Parker Hannifin Canada Division',\n       'Parker Hannifin Distribution Center',\n       'Petro-Canada (International) Holdings BV',\n       'Petro-Canada Energy North Sea Limited', 'Phillips Tuftex Ltd.',\n       'Posco Daewoo (America) Corp.', 'Posco Daewoo America Corp.',\n       'Posco Daewoo America Corp. Toronto B', 'Posco Daewoo Corporation',\n       'Prometeon Tyre Group Industria Brasil Ltda',\n       'Prometeon Tyre Group Srl', 'Pt Bridgestone Tire Indonesia',\n       'RTL-INDUCTIVES OY', 'Recron (Malaysia) Sdn Bhd',\n       'Recron (Malaysia) Sdn.Bhd.',\n       'Red Avenue New Materials Group Co., Ltd (彤程新材料集团股份有限公司)',\n       'Red Avenue New Materials Group Co., Ltd. (SHSE:603650)',\n       'Reliance Bally India Private Ltd.', 'Reliance Brands',\n       'Reliance Chemical Products Ltd.',\n       'Reliance Clothing India Private Ltd.', 'Reliance Commcl Dealers',\n       'Reliance Industries Ltd.', 'Reliance Lifestyle Holding',\n       'Reliance Luxury Fashion Private Ltd.',\n       'Reliance Paul & Shark Fashions Pvt., Ltd.',\n       'Reliance Retail Ltd.', 'Reliance Sibur Elastomers Pvt., Ltd.',\n       'Reliance Spg Mills Ltd.', 'Rhino Rugby France',\n       'Rhino Rugby Ltd.', 'Rhino Rugby South Africa (Pty) Ltd.',\n       'SO.F.TER.', 'SO.F.TER. S.r.l', 'SOFTER / CELANESE',\n       'Sabic Innovative Plastics Mexico S.',\n       'Sabic Innovative Plastics Us Llc', 'Safic Alcan Group',\n       'Safic Alcan Italia Sp A', 'Saint-Gobain Corporation',\n       'Saint-Gobain Isover Austria GmbH',\n       'Saint-Gobain Performance Plastics Corporation',\n       'Saint-Gobain Performance Plastics Inc.',\n       'Shanghai Michelin Tire Co., Ltd.',\n       'Shanghai Michelin Warrior Tyre Co., Ltd.',\n       'Shanghai Synthomer Chemicals Co., Ltd.', 'Shenyang Bridgestone',\n       'Shenzhen Comlink Electronic',\n       'Shenzhen Comlink Electronics Co., Ltd.', 'Sherwin-Williams ',\n       'Sumika Polymers North America',\n       'Sumika Polymers North America Inc.',\n       'Sumitomo Rubber (Changshu) Co., Ltd.', 'Sumitomo Rubber Inds',\n       'Sumitomo Rubber Industries', 'Sumitomo Rubber Industries Usa',\n       'Sumitomo Rubber North America Inc.',\n       'Sumitomo Warehouse (Usa.) Inc.', 'Synthomer (Uk) Ltd.',\n       'Synthomer Llc C Oterminal', 'Synthomer Llc C Oterminal Warehouse',\n       'Synthomer Llc. Peachtree Lenox Bl Bonded Logistics 7320 Statesville',\n       'Synthomer Ltd.', 'Synthomer Srl', 'Synthos Dwory 7 Spolka',\n       'Synthos Dwory SA', 'Synthos Kralupy', 'Synthos rubber',\n       'TECHNPVINYL POLYMERS INDIA LTD.', 'TER Group GmbH',\n       'TER HELL OR STRABEQ', 'THREE BOND EUROPE', 'TOA ROAD',\n       'TOTAL CESKA REPUBLIKA s.r.o.', 'TOTAL CZECH REPUBLIC',\n       'TOTAL FRANCE (ARNAY LE DUC)', 'TOTAL PETROCHEMICALS FRANCE',\n       'TOTAL RUMUNIA', 'TREMCO ILLBRUCK / RPM',\n       'Taiwan Synthetic Rubber Corp. ',\n       'Technovinyl Polymers India Limited',\n       'Technovinyl Polymers India ltd', 'Ter hell & co. Gmbh',\n       'Thai Bridgestone Co., Ltd.',\n       'The Goodyear Tire and Rubber Company',\n       'The Sherwin-Williams Company (NYSE:SHW)',\n       'Three Bond Europe S.A.', 'Toa Road Corporation (TSE:1882)',\n       'Toray Carbon Fibers America, Inc.',\n       'Toray Carbon Fibers Europe S.A.',\n       'Total Petrochemicals France SA', 'Toyo Tire North',\n       'Toyo Tire North America', 'Toyo Trans Inc.',\n       'Tremco illbruck Group GmbH', 'Tsrc Corporation',\n       'Univar Chemicals (Shanghai) Co., Ltd. /Univar China Ltd.',\n       'V.M. Univar Edison', 'Versalis Americas Inc.',\n       'Versalis Pacific Trading (Shanghai)',\n       'Versalis Pacific Trading Shanghai',\n       'Vestas Wind Technology (China) Co., Ltd.',\n       'Vestas Wind Technology India Private Ltd.',\n       'WRIGHT ASPHALT PRODUCTS', 'Warren Plant Bato Bridgestone',\n       'Wright Asphalt Products Co.',\n       'Wright Asphalt Products Company LLC',\n       'Yokohama Corp. Of North Ameri', 'Yokohama Industries Americas',\n       'Yokohama Rubber Co., Ltd. The', 'Yokohama Tire Corp.',\n       'Yokohama Tire Corporation', 'ZEON Corporation (TSE:4205)',\n       'Zeon Advance Polymix Co., Ltd.',\n       'Zeon Advanced Polymix Co., Ltd.', 'Zeon CSC Corporation',\n       'Zeon Chemicals (Thailand) Co., Ltd',\n       'Zeon Chemicals Europe Limited', 'Zeon Chemicals L P',\n       'Zeon Chemicals L.P.', 'Zeon Chemicals Yonezawa Co.,Ltd.',\n       'Zeon Corporation', 'Zeon Korea Co., Ltd',\n       'Zeon Manufacturing Vietnam Co., Ltd',\n       'Zeon Medical (Guangzhou) Inc', 'Zeon Medical Inc.',\n       'Zeon Nano Technology Co., Ltd', 'Zeon North Co., Ltd.',\n       'Zeon Polymix Incorporation', 'Zeon RIM Co., Ltd',\n       'Zeon Research Vietnam Co., Ltd', 'Zeon Specialty Materials Inc.',\n       'Zhuhai Toyo Ink Co., Ltd.', 'tsrc'], dtype=object)"
     },
     "execution_count": 32,
     "metadata": {},
     "output_type": "execute_result"
    }
   ],
   "source": [
    "names"
   ],
   "metadata": {
    "collapsed": false,
    "pycharm": {
     "name": "#%%\n"
    }
   }
  },
  {
   "cell_type": "code",
   "execution_count": null,
   "outputs": [],
   "source": [],
   "metadata": {
    "collapsed": false,
    "pycharm": {
     "name": "#%%\n"
    }
   }
  },
  {
   "cell_type": "code",
   "execution_count": 61,
   "outputs": [],
   "source": [
    "def precision_score_at_k(k):\n",
    "    scores = []\n",
    "    for item in tqdm(names):\n",
    "        # q_name = item.payload['name']\n",
    "        q_name = item\n",
    "        res = inference(q_name, model, limit=k, df_embs=df_embs)\n",
    "        found_name = res[0].payload['name']\n",
    "\n",
    "        # todo p@ k > 1\n",
    "        # ap_k = 1/k * ()\n",
    "        # for i in enumerate(range(11)):\n",
    "\n",
    "        tmpd = df[((df.name_1 == found_name) & (df.name_2 == q_name)) | ((df.name_1 == q_name) & (df.name_2 == found_name))]\n",
    "        tmpd = tmpd[tmpd.is_duplicate == 1]\n",
    "        if len(tmpd) > 0:\n",
    "            scores.append(1)\n",
    "\n",
    "    return len(scores) / len(names)"
   ],
   "metadata": {
    "collapsed": false,
    "pycharm": {
     "name": "#%%\n"
    }
   }
  },
  {
   "cell_type": "code",
   "execution_count": 62,
   "outputs": [
    {
     "name": "stderr",
     "output_type": "stream",
     "text": [
      "100%|██████████| 369/369 [00:39<00:00,  9.33it/s]\n"
     ]
    },
    {
     "data": {
      "text/plain": "0.5853658536585366"
     },
     "execution_count": 62,
     "metadata": {},
     "output_type": "execute_result"
    }
   ],
   "source": [
    "map_score = precision_score_at_k(1)\n",
    "map_score"
   ],
   "metadata": {
    "collapsed": false,
    "pycharm": {
     "name": "#%%\n"
    }
   }
  },
  {
   "cell_type": "markdown",
   "source": [
    "P@1 = 0.58\n",
    "We need preprocessing."
   ],
   "metadata": {
    "collapsed": false,
    "pycharm": {
     "name": "#%% md\n"
    }
   }
  },
  {
   "cell_type": "markdown",
   "source": [
    "## Qdrant + preproc + all langs"
   ],
   "metadata": {
    "collapsed": false,
    "pycharm": {
     "name": "#%% md\n"
    }
   }
  },
  {
   "cell_type": "code",
   "execution_count": 81,
   "outputs": [],
   "source": [
    "df_emb = pd.read_parquet('../data/df_embs_preproc.parquet')  # Embeddings from distiluse-base-multilingual-cased-v2 pretrain. Vector length is 512."
   ],
   "metadata": {
    "collapsed": false,
    "pycharm": {
     "name": "#%%\n"
    }
   }
  },
  {
   "cell_type": "code",
   "execution_count": 82,
   "outputs": [],
   "source": [
    "df = pd.read_parquet('../data/all_lang_train.parquet')  # Only EN"
   ],
   "metadata": {
    "collapsed": false,
    "pycharm": {
     "name": "#%%\n"
    }
   }
  },
  {
   "cell_type": "code",
   "execution_count": 83,
   "outputs": [
    {
     "data": {
      "text/plain": "                                              name_1  \\\n0                                Iko Industries Ltd.   \n1                            Apcotex Industries Ltd.   \n2                  Rishichem Distributors Pvt., Ltd.   \n3                            Powermax Rubber Factory   \n4                                          Tress A/S   \n...                                              ...   \n497567                              BIT-MAT PRODUCTS   \n497568                         Bnd Trading Co., Ltd.   \n497569  Xeikon Industrial Co., Ltd. Of Dongguan City   \n497570            Shanghai Kechuan Trading Co., Ltd.   \n497571                        Dih Wei Industries Co.   \n\n                                                   name_2  is_duplicate  \n0                    Enormous Industrial Trade Pvt., Ltd.             0  \n1                     Technocraft Industries (India) Ltd.             0  \n2                                                     Dsa             0  \n3                                                 Co. One             0  \n4                        Longyou Industries Park Zhejiang             0  \n...                                                   ...           ...  \n497567               The Goodyear Tire and Rubber Company             0  \n497568  Zhong Shan Yue Liang Economy& Trade Imp. & Exp...             0  \n497569        Yi Cheng Trading Co., Ltd. Of Dongguan City             0  \n497570                       Shanghai M&G Stationery Inc.             0  \n497571                    Burlington Industries Corporate             0  \n\n[497572 rows x 3 columns]",
      "text/html": "<div>\n<style scoped>\n    .dataframe tbody tr th:only-of-type {\n        vertical-align: middle;\n    }\n\n    .dataframe tbody tr th {\n        vertical-align: top;\n    }\n\n    .dataframe thead th {\n        text-align: right;\n    }\n</style>\n<table border=\"1\" class=\"dataframe\">\n  <thead>\n    <tr style=\"text-align: right;\">\n      <th></th>\n      <th>name_1</th>\n      <th>name_2</th>\n      <th>is_duplicate</th>\n    </tr>\n  </thead>\n  <tbody>\n    <tr>\n      <th>0</th>\n      <td>Iko Industries Ltd.</td>\n      <td>Enormous Industrial Trade Pvt., Ltd.</td>\n      <td>0</td>\n    </tr>\n    <tr>\n      <th>1</th>\n      <td>Apcotex Industries Ltd.</td>\n      <td>Technocraft Industries (India) Ltd.</td>\n      <td>0</td>\n    </tr>\n    <tr>\n      <th>2</th>\n      <td>Rishichem Distributors Pvt., Ltd.</td>\n      <td>Dsa</td>\n      <td>0</td>\n    </tr>\n    <tr>\n      <th>3</th>\n      <td>Powermax Rubber Factory</td>\n      <td>Co. One</td>\n      <td>0</td>\n    </tr>\n    <tr>\n      <th>4</th>\n      <td>Tress A/S</td>\n      <td>Longyou Industries Park Zhejiang</td>\n      <td>0</td>\n    </tr>\n    <tr>\n      <th>...</th>\n      <td>...</td>\n      <td>...</td>\n      <td>...</td>\n    </tr>\n    <tr>\n      <th>497567</th>\n      <td>BIT-MAT PRODUCTS</td>\n      <td>The Goodyear Tire and Rubber Company</td>\n      <td>0</td>\n    </tr>\n    <tr>\n      <th>497568</th>\n      <td>Bnd Trading Co., Ltd.</td>\n      <td>Zhong Shan Yue Liang Economy&amp; Trade Imp. &amp; Exp...</td>\n      <td>0</td>\n    </tr>\n    <tr>\n      <th>497569</th>\n      <td>Xeikon Industrial Co., Ltd. Of Dongguan City</td>\n      <td>Yi Cheng Trading Co., Ltd. Of Dongguan City</td>\n      <td>0</td>\n    </tr>\n    <tr>\n      <th>497570</th>\n      <td>Shanghai Kechuan Trading Co., Ltd.</td>\n      <td>Shanghai M&amp;G Stationery Inc.</td>\n      <td>0</td>\n    </tr>\n    <tr>\n      <th>497571</th>\n      <td>Dih Wei Industries Co.</td>\n      <td>Burlington Industries Corporate</td>\n      <td>0</td>\n    </tr>\n  </tbody>\n</table>\n<p>497572 rows × 3 columns</p>\n</div>"
     },
     "execution_count": 83,
     "metadata": {},
     "output_type": "execute_result"
    }
   ],
   "source": [
    "df"
   ],
   "metadata": {
    "collapsed": false,
    "pycharm": {
     "name": "#%%\n"
    }
   }
  },
  {
   "cell_type": "code",
   "execution_count": 84,
   "outputs": [],
   "source": [
    "df = df.merge(df_emb, how='left', left_on='name_1', right_on='name')\n",
    "df = df.drop(columns=['name'])\n",
    "df = df.rename({'emb': 'emb_1'}, axis=1)"
   ],
   "metadata": {
    "collapsed": false,
    "pycharm": {
     "name": "#%%\n"
    }
   }
  },
  {
   "cell_type": "code",
   "execution_count": 85,
   "outputs": [],
   "source": [
    "df = df.merge(df_emb, how='left', left_on='name_2', right_on='name')\n",
    "df = df.drop(columns=['name'])\n",
    "df = df.rename({'emb': 'emb_2'}, axis=1)"
   ],
   "metadata": {
    "collapsed": false,
    "pycharm": {
     "name": "#%%\n"
    }
   }
  },
  {
   "cell_type": "code",
   "execution_count": 86,
   "outputs": [
    {
     "data": {
      "text/plain": "                                              name_1  \\\n0                                Iko Industries Ltd.   \n1                            Apcotex Industries Ltd.   \n2                  Rishichem Distributors Pvt., Ltd.   \n3                            Powermax Rubber Factory   \n4                                          Tress A/S   \n...                                              ...   \n497567                              BIT-MAT PRODUCTS   \n497568                         Bnd Trading Co., Ltd.   \n497569  Xeikon Industrial Co., Ltd. Of Dongguan City   \n497570            Shanghai Kechuan Trading Co., Ltd.   \n497571                        Dih Wei Industries Co.   \n\n                                                   name_2  is_duplicate  \\\n0                    Enormous Industrial Trade Pvt., Ltd.             0   \n1                     Technocraft Industries (India) Ltd.             0   \n2                                                     Dsa             0   \n3                                                 Co. One             0   \n4                        Longyou Industries Park Zhejiang             0   \n...                                                   ...           ...   \n497567               The Goodyear Tire and Rubber Company             0   \n497568  Zhong Shan Yue Liang Economy& Trade Imp. & Exp...             0   \n497569        Yi Cheng Trading Co., Ltd. Of Dongguan City             0   \n497570                       Shanghai M&G Stationery Inc.             0   \n497571                    Burlington Industries Corporate             0   \n\n                            name_preproc_x  \\\n0                           Iko Industries   \n1                       Apcotex Industries   \n2                   Rishichem Distributors   \n3                  Powermax Rubber Factory   \n4                                Tress A/S   \n...                                    ...   \n497567                    BIT-MAT PRODUCTS   \n497568                         Bnd Trading   \n497569  Xeikon Industrial Of Dongguan City   \n497570            Shanghai Kechuan Trading   \n497571                  Dih Wei Industries   \n\n                                                    emb_1  \\\n0       [0.017819033935666084, -0.014882056973874569, ...   \n1       [0.013420317322015762, -0.023446308448910713, ...   \n2       [-0.01495872437953949, -0.03767695277929306, -...   \n3       [-0.02500852569937706, 0.012965007685124874, -...   \n4       [0.025902049615979195, -0.002849553246051073, ...   \n...                                                   ...   \n497567  [0.005421825684607029, -0.017194371670484543, ...   \n497568  [0.027749311178922653, -0.04488192871212959, -...   \n497569  [-0.024616584181785583, 0.006875607650727034, ...   \n497570  [0.021050529554486275, 0.03309483453631401, -0...   \n497571  [0.014502156525850296, -0.015578724443912506, ...   \n\n                               name_preproc_y  \\\n0                   Enormous Industrial Trade   \n1                      Technocraft Industries   \n2                                         Dsa   \n3                                         One   \n4            Longyou Industries Park Zhejiang   \n...                                       ...   \n497567   The Goodyear Tire and Rubber Company   \n497568  Zhong Shan Yue Liang Economy& Trade .   \n497569      Yi Cheng Trading Of Dongguan City   \n497570                Shanghai M&G Stationery   \n497571        Burlington Industries Corporate   \n\n                                                    emb_2  \n0       [0.026229966431856155, -0.07940708845853806, -...  \n1       [-0.045590683817863464, -0.005337950307875872,...  \n2       [0.03230986371636391, 0.015820275992155075, -0...  \n3       [0.04849866405129433, -0.08649260550737381, -0...  \n4       [0.03905995562672615, 0.11018368601799011, -0....  \n...                                                   ...  \n497567  [-0.040851492434740067, -0.025978924706578255,...  \n497568  [0.005387855693697929, 0.0054251644760370255, ...  \n497569  [0.015609915368258953, 0.044810373336076736, 0...  \n497570  [0.043589092791080475, 0.06722193956375122, -0...  \n497571  [-0.008553791791200638, -0.09174346923828125, ...  \n\n[497572 rows x 7 columns]",
      "text/html": "<div>\n<style scoped>\n    .dataframe tbody tr th:only-of-type {\n        vertical-align: middle;\n    }\n\n    .dataframe tbody tr th {\n        vertical-align: top;\n    }\n\n    .dataframe thead th {\n        text-align: right;\n    }\n</style>\n<table border=\"1\" class=\"dataframe\">\n  <thead>\n    <tr style=\"text-align: right;\">\n      <th></th>\n      <th>name_1</th>\n      <th>name_2</th>\n      <th>is_duplicate</th>\n      <th>name_preproc_x</th>\n      <th>emb_1</th>\n      <th>name_preproc_y</th>\n      <th>emb_2</th>\n    </tr>\n  </thead>\n  <tbody>\n    <tr>\n      <th>0</th>\n      <td>Iko Industries Ltd.</td>\n      <td>Enormous Industrial Trade Pvt., Ltd.</td>\n      <td>0</td>\n      <td>Iko Industries</td>\n      <td>[0.017819033935666084, -0.014882056973874569, ...</td>\n      <td>Enormous Industrial Trade</td>\n      <td>[0.026229966431856155, -0.07940708845853806, -...</td>\n    </tr>\n    <tr>\n      <th>1</th>\n      <td>Apcotex Industries Ltd.</td>\n      <td>Technocraft Industries (India) Ltd.</td>\n      <td>0</td>\n      <td>Apcotex Industries</td>\n      <td>[0.013420317322015762, -0.023446308448910713, ...</td>\n      <td>Technocraft Industries</td>\n      <td>[-0.045590683817863464, -0.005337950307875872,...</td>\n    </tr>\n    <tr>\n      <th>2</th>\n      <td>Rishichem Distributors Pvt., Ltd.</td>\n      <td>Dsa</td>\n      <td>0</td>\n      <td>Rishichem Distributors</td>\n      <td>[-0.01495872437953949, -0.03767695277929306, -...</td>\n      <td>Dsa</td>\n      <td>[0.03230986371636391, 0.015820275992155075, -0...</td>\n    </tr>\n    <tr>\n      <th>3</th>\n      <td>Powermax Rubber Factory</td>\n      <td>Co. One</td>\n      <td>0</td>\n      <td>Powermax Rubber Factory</td>\n      <td>[-0.02500852569937706, 0.012965007685124874, -...</td>\n      <td>One</td>\n      <td>[0.04849866405129433, -0.08649260550737381, -0...</td>\n    </tr>\n    <tr>\n      <th>4</th>\n      <td>Tress A/S</td>\n      <td>Longyou Industries Park Zhejiang</td>\n      <td>0</td>\n      <td>Tress A/S</td>\n      <td>[0.025902049615979195, -0.002849553246051073, ...</td>\n      <td>Longyou Industries Park Zhejiang</td>\n      <td>[0.03905995562672615, 0.11018368601799011, -0....</td>\n    </tr>\n    <tr>\n      <th>...</th>\n      <td>...</td>\n      <td>...</td>\n      <td>...</td>\n      <td>...</td>\n      <td>...</td>\n      <td>...</td>\n      <td>...</td>\n    </tr>\n    <tr>\n      <th>497567</th>\n      <td>BIT-MAT PRODUCTS</td>\n      <td>The Goodyear Tire and Rubber Company</td>\n      <td>0</td>\n      <td>BIT-MAT PRODUCTS</td>\n      <td>[0.005421825684607029, -0.017194371670484543, ...</td>\n      <td>The Goodyear Tire and Rubber Company</td>\n      <td>[-0.040851492434740067, -0.025978924706578255,...</td>\n    </tr>\n    <tr>\n      <th>497568</th>\n      <td>Bnd Trading Co., Ltd.</td>\n      <td>Zhong Shan Yue Liang Economy&amp; Trade Imp. &amp; Exp...</td>\n      <td>0</td>\n      <td>Bnd Trading</td>\n      <td>[0.027749311178922653, -0.04488192871212959, -...</td>\n      <td>Zhong Shan Yue Liang Economy&amp; Trade .</td>\n      <td>[0.005387855693697929, 0.0054251644760370255, ...</td>\n    </tr>\n    <tr>\n      <th>497569</th>\n      <td>Xeikon Industrial Co., Ltd. Of Dongguan City</td>\n      <td>Yi Cheng Trading Co., Ltd. Of Dongguan City</td>\n      <td>0</td>\n      <td>Xeikon Industrial Of Dongguan City</td>\n      <td>[-0.024616584181785583, 0.006875607650727034, ...</td>\n      <td>Yi Cheng Trading Of Dongguan City</td>\n      <td>[0.015609915368258953, 0.044810373336076736, 0...</td>\n    </tr>\n    <tr>\n      <th>497570</th>\n      <td>Shanghai Kechuan Trading Co., Ltd.</td>\n      <td>Shanghai M&amp;G Stationery Inc.</td>\n      <td>0</td>\n      <td>Shanghai Kechuan Trading</td>\n      <td>[0.021050529554486275, 0.03309483453631401, -0...</td>\n      <td>Shanghai M&amp;G Stationery</td>\n      <td>[0.043589092791080475, 0.06722193956375122, -0...</td>\n    </tr>\n    <tr>\n      <th>497571</th>\n      <td>Dih Wei Industries Co.</td>\n      <td>Burlington Industries Corporate</td>\n      <td>0</td>\n      <td>Dih Wei Industries</td>\n      <td>[0.014502156525850296, -0.015578724443912506, ...</td>\n      <td>Burlington Industries Corporate</td>\n      <td>[-0.008553791791200638, -0.09174346923828125, ...</td>\n    </tr>\n  </tbody>\n</table>\n<p>497572 rows × 7 columns</p>\n</div>"
     },
     "execution_count": 86,
     "metadata": {},
     "output_type": "execute_result"
    }
   ],
   "source": [
    "df"
   ],
   "metadata": {
    "collapsed": false,
    "pycharm": {
     "name": "#%%\n"
    }
   }
  },
  {
   "cell_type": "code",
   "execution_count": 87,
   "outputs": [
    {
     "data": {
      "text/plain": "(497572, 512)"
     },
     "execution_count": 87,
     "metadata": {},
     "output_type": "execute_result"
    }
   ],
   "source": [
    "np.stack(df.emb_1).shape"
   ],
   "metadata": {
    "collapsed": false,
    "pycharm": {
     "name": "#%%\n"
    }
   }
  },
  {
   "cell_type": "code",
   "execution_count": 101,
   "outputs": [],
   "source": [
    "df_names = pd.read_parquet('../data/df_names_preproc.parquet')"
   ],
   "metadata": {
    "collapsed": false,
    "pycharm": {
     "name": "#%%\n"
    }
   }
  },
  {
   "cell_type": "code",
   "execution_count": 102,
   "outputs": [],
   "source": [
    "df_names = df_names.merge(df_emb[['name', 'emb']], how='left', left_on='Names', right_on='name')\n",
    "df_names = df_names.drop(columns=['Names', 'languages_langdetect'])\n",
    "df_names = df_names.rename({'name': 'original_name', 'name_preproc':'preprocessed_name'}, axis=1)"
   ],
   "metadata": {
    "collapsed": false,
    "pycharm": {
     "name": "#%%\n"
    }
   }
  },
  {
   "cell_type": "code",
   "execution_count": 103,
   "outputs": [
    {
     "data": {
      "text/plain": "                               preprocessed_name  \\\n0                                 Iko Industries   \n1                             Apcotex Industries   \n2                         Rishichem Distributors   \n3                        Powermax Rubber Factory   \n4                                      Tress A/S   \n...                                          ...   \n18017                          Plastic Packaging   \n18018  Hengshui Mechanical & Electrical Building   \n18019                   Jiangsu Baoli Investment   \n18020                                 Lanxess AG   \n18021                          TGI IMPORT EXPORT   \n\n                                           original_name  \\\n0                                    Iko Industries Ltd.   \n1                                Apcotex Industries Ltd.   \n2                      Rishichem Distributors Pvt., Ltd.   \n3                                Powermax Rubber Factory   \n4                                              Tress A/S   \n...                                                  ...   \n18017                       Plastic Packaging (Pty) Ltd.   \n18018  'Hengshui Mechanical & Electrical Building Co....   \n18019  Jiangsu Baoli International Investment Co., Lt...   \n18020                                         Lanxess AG   \n18021                        TGI IMPORT EXPORT CO., LTD.   \n\n                                                     emb  \n0      [0.017819033935666084, -0.014882056973874569, ...  \n1      [0.013420317322015762, -0.023446308448910713, ...  \n2      [-0.01495872437953949, -0.03767695277929306, -...  \n3      [-0.02500852569937706, 0.012965007685124874, -...  \n4      [0.025902049615979195, -0.002849553246051073, ...  \n...                                                  ...  \n18017  [-0.10133685171604156, 0.09970243275165558, -0...  \n18018  [0.028690272942185402, 0.07035619765520096, -0...  \n18019  [0.0056513226591050625, 0.03347638249397278, 0...  \n18020  [-0.03159470111131668, 0.009131425991654396, -...  \n18021  [-0.04757768660783768, 0.02819589339196682, 0....  \n\n[18022 rows x 3 columns]",
      "text/html": "<div>\n<style scoped>\n    .dataframe tbody tr th:only-of-type {\n        vertical-align: middle;\n    }\n\n    .dataframe tbody tr th {\n        vertical-align: top;\n    }\n\n    .dataframe thead th {\n        text-align: right;\n    }\n</style>\n<table border=\"1\" class=\"dataframe\">\n  <thead>\n    <tr style=\"text-align: right;\">\n      <th></th>\n      <th>preprocessed_name</th>\n      <th>original_name</th>\n      <th>emb</th>\n    </tr>\n  </thead>\n  <tbody>\n    <tr>\n      <th>0</th>\n      <td>Iko Industries</td>\n      <td>Iko Industries Ltd.</td>\n      <td>[0.017819033935666084, -0.014882056973874569, ...</td>\n    </tr>\n    <tr>\n      <th>1</th>\n      <td>Apcotex Industries</td>\n      <td>Apcotex Industries Ltd.</td>\n      <td>[0.013420317322015762, -0.023446308448910713, ...</td>\n    </tr>\n    <tr>\n      <th>2</th>\n      <td>Rishichem Distributors</td>\n      <td>Rishichem Distributors Pvt., Ltd.</td>\n      <td>[-0.01495872437953949, -0.03767695277929306, -...</td>\n    </tr>\n    <tr>\n      <th>3</th>\n      <td>Powermax Rubber Factory</td>\n      <td>Powermax Rubber Factory</td>\n      <td>[-0.02500852569937706, 0.012965007685124874, -...</td>\n    </tr>\n    <tr>\n      <th>4</th>\n      <td>Tress A/S</td>\n      <td>Tress A/S</td>\n      <td>[0.025902049615979195, -0.002849553246051073, ...</td>\n    </tr>\n    <tr>\n      <th>...</th>\n      <td>...</td>\n      <td>...</td>\n      <td>...</td>\n    </tr>\n    <tr>\n      <th>18017</th>\n      <td>Plastic Packaging</td>\n      <td>Plastic Packaging (Pty) Ltd.</td>\n      <td>[-0.10133685171604156, 0.09970243275165558, -0...</td>\n    </tr>\n    <tr>\n      <th>18018</th>\n      <td>Hengshui Mechanical &amp; Electrical Building</td>\n      <td>'Hengshui Mechanical &amp; Electrical Building Co....</td>\n      <td>[0.028690272942185402, 0.07035619765520096, -0...</td>\n    </tr>\n    <tr>\n      <th>18019</th>\n      <td>Jiangsu Baoli Investment</td>\n      <td>Jiangsu Baoli International Investment Co., Lt...</td>\n      <td>[0.0056513226591050625, 0.03347638249397278, 0...</td>\n    </tr>\n    <tr>\n      <th>18020</th>\n      <td>Lanxess AG</td>\n      <td>Lanxess AG</td>\n      <td>[-0.03159470111131668, 0.009131425991654396, -...</td>\n    </tr>\n    <tr>\n      <th>18021</th>\n      <td>TGI IMPORT EXPORT</td>\n      <td>TGI IMPORT EXPORT CO., LTD.</td>\n      <td>[-0.04757768660783768, 0.02819589339196682, 0....</td>\n    </tr>\n  </tbody>\n</table>\n<p>18022 rows × 3 columns</p>\n</div>"
     },
     "execution_count": 103,
     "metadata": {},
     "output_type": "execute_result"
    }
   ],
   "source": [
    "df_names"
   ],
   "metadata": {
    "collapsed": false,
    "pycharm": {
     "name": "#%%\n"
    }
   }
  },
  {
   "cell_type": "code",
   "execution_count": null,
   "outputs": [],
   "source": [],
   "metadata": {
    "collapsed": false,
    "pycharm": {
     "name": "#%%\n"
    }
   }
  },
  {
   "cell_type": "markdown",
   "source": [
    "### Add vectors to qdrant"
   ],
   "metadata": {
    "collapsed": false,
    "pycharm": {
     "name": "#%% md\n"
    }
   }
  },
  {
   "cell_type": "code",
   "execution_count": null,
   "outputs": [],
   "source": [
    "!docker pull qdrant/qdrant"
   ],
   "metadata": {
    "collapsed": false,
    "pycharm": {
     "name": "#%%\n"
    }
   }
  },
  {
   "cell_type": "code",
   "execution_count": null,
   "outputs": [],
   "source": [
    "!docker run --name qdrant -d -p 6333:6333 --net=bridge qdrant/qdrant"
   ],
   "metadata": {
    "collapsed": false,
    "pycharm": {
     "name": "#%%\n"
    }
   }
  },
  {
   "cell_type": "code",
   "execution_count": 90,
   "outputs": [],
   "source": [
    "qdrant_client = QdrantClient(host='0.0.0.0', port=6333)"
   ],
   "metadata": {
    "collapsed": false,
    "pycharm": {
     "name": "#%%\n"
    }
   }
  },
  {
   "cell_type": "code",
   "execution_count": 104,
   "outputs": [],
   "source": [
    "vectors = np.stack(df_emb.emb)\n",
    "payload = df_names[['original_name', 'preprocessed_name']].to_dict(orient='records')\n",
    "ids = df_emb.index.values.tolist()\n",
    "col_name = 'companies-all-preprocessed'\n",
    "vec_shape = vectors.shape[1]\n",
    "bs = 1024\n",
    "col = create_collection_and_upload(vectors, payload, ids, col_name, vec_shape, bs)"
   ],
   "metadata": {
    "collapsed": false,
    "pycharm": {
     "name": "#%%\n"
    }
   }
  },
  {
   "cell_type": "code",
   "execution_count": 105,
   "outputs": [],
   "source": [
    "model = SentenceTransformer('distiluse-base-multilingual-cased-v2')"
   ],
   "metadata": {
    "collapsed": false,
    "pycharm": {
     "name": "#%%\n"
    }
   }
  },
  {
   "cell_type": "code",
   "execution_count": 115,
   "outputs": [
    {
     "data": {
      "text/plain": "[ScoredPoint(id=5474, version=5, score=1.0, payload={'original_name': 'Dow Chemical International Private Ltd.', 'preprocessed_name': 'Dow Chemical'}, vector=None),\n ScoredPoint(id=3748, version=3, score=1.0, payload={'original_name': 'Dow Chemical Pacific', 'preprocessed_name': 'Dow Chemical'}, vector=None),\n ScoredPoint(id=608, version=1, score=1.0, payload={'original_name': 'Dow Chemical Thailand Ltd.', 'preprocessed_name': 'Dow Chemical'}, vector=None),\n ScoredPoint(id=9176, version=9, score=1.0, payload={'original_name': 'Dow Chemical Pacific Ltd.', 'preprocessed_name': 'Dow Chemical'}, vector=None),\n ScoredPoint(id=2892, version=4, score=1.0, payload={'original_name': 'Dow Chemical', 'preprocessed_name': 'Dow Chemical'}, vector=None),\n ScoredPoint(id=6647, version=10, score=1.0, payload={'original_name': 'Dow Chemical (Shanghai) Co., Ltd.', 'preprocessed_name': 'Dow Chemical'}, vector=None),\n ScoredPoint(id=1306, version=2, score=0.90410197, payload={'original_name': 'Dro Chemicals Inc.', 'preprocessed_name': 'Dro Chemicals'}, vector=None),\n ScoredPoint(id=2159, version=4, score=0.88294184, payload={'original_name': 'Dycon Chemicals', 'preprocessed_name': 'Dycon Chemicals'}, vector=None),\n ScoredPoint(id=13577, version=13, score=0.87897015, payload={'original_name': 'Dattatrey Chemicals', 'preprocessed_name': 'Dattatrey Chemicals'}, vector=None),\n ScoredPoint(id=8733, version=9, score=0.8487075, payload={'original_name': 'The Dow Chemical Company', 'preprocessed_name': 'The Dow Chemical Company'}, vector=None),\n ScoredPoint(id=8858, version=9, score=0.83672774, payload={'original_name': 'Wego Chemical Llc', 'preprocessed_name': 'Wego Chemical'}, vector=None),\n ScoredPoint(id=3637, version=3, score=0.82678676, payload={'original_name': 'Ceyenar Chemicals Private Ltd.', 'preprocessed_name': 'Ceyenar Chemicals'}, vector=None),\n ScoredPoint(id=12778, version=12, score=0.8208933, payload={'original_name': 'Yuanbai Chemicals (Shanghai) Co., Ltd.', 'preprocessed_name': 'Yuanbai Chemicals'}, vector=None),\n ScoredPoint(id=9013, version=9, score=0.81261456, payload={'original_name': 'Kaypan Chemicals', 'preprocessed_name': 'Kaypan Chemicals'}, vector=None),\n ScoredPoint(id=7733, version=8, score=0.81084096, payload={'original_name': 'Wanhua Chemical (America) Co., Ltd.', 'preprocessed_name': 'Wanhua Chemical'}, vector=None),\n ScoredPoint(id=7507, version=8, score=0.7959529, payload={'original_name': 'Symtake Chemical Co., Ltd.', 'preprocessed_name': 'Symtake Chemical'}, vector=None),\n ScoredPoint(id=2163, version=4, score=0.7932298, payload={'original_name': 'Equistar Chemicals Lp (Edison)', 'preprocessed_name': 'Equistar Chemicals'}, vector=None),\n ScoredPoint(id=1429, version=2, score=0.7886524, payload={'original_name': 'Idex Chemical Sdn Bhd', 'preprocessed_name': 'Idex Chemical'}, vector=None),\n ScoredPoint(id=1664, version=2, score=0.78434175, payload={'original_name': 'Yasir Chemical', 'preprocessed_name': 'Yasir Chemical'}, vector=None),\n ScoredPoint(id=469, version=1, score=0.78401077, payload={'original_name': 'Vohra Chemical Co.', 'preprocessed_name': 'Vohra Chemical'}, vector=None),\n ScoredPoint(id=4012, version=3, score=0.78359157, payload={'original_name': 'Idex Chemicals Sdn Bhd (880547 D)', 'preprocessed_name': 'Idex Chemicals'}, vector=None),\n ScoredPoint(id=1725, version=2, score=0.78195727, payload={'original_name': 'Kip Chemicals', 'preprocessed_name': 'Kip Chemicals'}, vector=None),\n ScoredPoint(id=9200, version=9, score=0.7783582, payload={'original_name': 'Imporient Chemicals (Pvt) Ltd.', 'preprocessed_name': 'Imporient Chemicals'}, vector=None),\n ScoredPoint(id=5725, version=5, score=0.7782461, payload={'original_name': 'Chembond Chemicals Ltd.', 'preprocessed_name': 'Chembond Chemicals'}, vector=None),\n ScoredPoint(id=17963, version=14, score=0.7749777, payload={'original_name': 'MD Chemicals', 'preprocessed_name': 'MD Chemicals'}, vector=None),\n ScoredPoint(id=4292, version=0, score=0.7737301, payload={'original_name': 'Symtake Chemical Hk Co., Ltd.', 'preprocessed_name': 'Symtake Chemical Hk'}, vector=None),\n ScoredPoint(id=8152, version=8, score=0.7736237, payload={'original_name': 'Choksey Chemicals Pvt., Ltd.', 'preprocessed_name': 'Choksey Chemicals'}, vector=None),\n ScoredPoint(id=7308, version=8, score=0.7734465, payload={'original_name': 'Taoshi Chemical (Zhangjiagang) Co., Ltd.', 'preprocessed_name': 'Taoshi Chemical'}, vector=None),\n ScoredPoint(id=1541, version=2, score=0.7733351, payload={'original_name': 'Keyang Fine Chemical (Suzhou) Co., Ltd.', 'preprocessed_name': 'Keyang Fine Chemical'}, vector=None),\n ScoredPoint(id=3816, version=3, score=0.77254224, payload={'original_name': 'Lidorr Chemicals Ltd.', 'preprocessed_name': 'Lidorr Chemicals'}, vector=None)]"
     },
     "execution_count": 115,
     "metadata": {},
     "output_type": "execute_result"
    }
   ],
   "source": [
    "inference('Dow Chemical International Private Ltd.', model, preproc_text=True)"
   ],
   "metadata": {
    "collapsed": false,
    "pycharm": {
     "name": "#%%\n"
    }
   }
  },
  {
   "cell_type": "code",
   "execution_count": null,
   "outputs": [],
   "source": [
    "# Select test dataset\n",
    "df_isdup = df[df.is_duplicate == 1]\n",
    "names = np.unique(np.concatenate([df_isdup.name_1, df_isdup.name_2]))"
   ],
   "metadata": {
    "collapsed": false,
    "pycharm": {
     "name": "#%%\n"
    }
   }
  },
  {
   "cell_type": "code",
   "execution_count": null,
   "outputs": [],
   "source": [
    "map_score = precision_score_at_k(1)\n",
    "map_score"
   ],
   "metadata": {
    "collapsed": false,
    "pycharm": {
     "name": "#%%\n"
    }
   }
  },
  {
   "cell_type": "code",
   "execution_count": null,
   "outputs": [],
   "source": [],
   "metadata": {
    "collapsed": false,
    "pycharm": {
     "name": "#%%\n"
    }
   }
  },
  {
   "cell_type": "code",
   "execution_count": null,
   "outputs": [],
   "source": [],
   "metadata": {
    "collapsed": false,
    "pycharm": {
     "name": "#%%\n"
    }
   }
  },
  {
   "cell_type": "code",
   "execution_count": null,
   "outputs": [],
   "source": [],
   "metadata": {
    "collapsed": false,
    "pycharm": {
     "name": "#%%\n"
    }
   }
  },
  {
   "cell_type": "code",
   "execution_count": null,
   "outputs": [],
   "source": [],
   "metadata": {
    "collapsed": false,
    "pycharm": {
     "name": "#%%\n"
    }
   }
  },
  {
   "cell_type": "code",
   "execution_count": null,
   "outputs": [],
   "source": [],
   "metadata": {
    "collapsed": false,
    "pycharm": {
     "name": "#%%\n"
    }
   }
  },
  {
   "cell_type": "code",
   "execution_count": null,
   "outputs": [],
   "source": [],
   "metadata": {
    "collapsed": false,
    "pycharm": {
     "name": "#%%\n"
    }
   }
  }
 ],
 "metadata": {
  "kernelspec": {
   "display_name": "Python 3",
   "language": "python",
   "name": "python3"
  },
  "language_info": {
   "codemirror_mode": {
    "name": "ipython",
    "version": 2
   },
   "file_extension": ".py",
   "mimetype": "text/x-python",
   "name": "python",
   "nbconvert_exporter": "python",
   "pygments_lexer": "ipython2",
   "version": "2.7.6"
  }
 },
 "nbformat": 4,
 "nbformat_minor": 0
}