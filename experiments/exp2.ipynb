{
 "cells": [
  {
   "cell_type": "markdown",
   "source": [
    "# Experiment 2\n",
    "# Sentence embeddings and Qdrant Search"
   ],
   "metadata": {
    "collapsed": false,
    "pycharm": {
     "name": "#%% md\n"
    }
   }
  },
  {
   "cell_type": "markdown",
   "source": [
    "## Unprocessed dataest. Languages: EN"
   ],
   "metadata": {
    "collapsed": false,
    "pycharm": {
     "name": "#%% md\n"
    }
   }
  },
  {
   "cell_type": "code",
   "execution_count": 109,
   "metadata": {
    "collapsed": true,
    "pycharm": {
     "name": "#%%\n"
    }
   },
   "outputs": [],
   "source": [
    "import pandas as pd\n",
    "import numpy as np\n",
    "from sklearn.model_selection import train_test_split\n",
    "from sentence_transformers import SentenceTransformer\n",
    "from sklearn.metrics import accuracy_score, precision_score, recall_score, f1_score\n",
    "from qdrant_client import QdrantClient\n",
    "from qdrant_client.http import models as rest\n",
    "from qdrant_client.http.models import models\n",
    "from tqdm import tqdm"
   ]
  },
  {
   "cell_type": "markdown",
   "source": [
    "### Load datasets"
   ],
   "metadata": {
    "collapsed": false,
    "pycharm": {
     "name": "#%% md\n"
    }
   }
  },
  {
   "cell_type": "code",
   "execution_count": 9,
   "outputs": [],
   "source": [
    "df_emb = pd.read_parquet('../data/df_embs.parquet')  # Embeddings from all-MiniLM-L6-v2 pretrain. Vector length is 512."
   ],
   "metadata": {
    "collapsed": false,
    "pycharm": {
     "name": "#%%\n"
    }
   }
  },
  {
   "cell_type": "code",
   "execution_count": 15,
   "outputs": [],
   "source": [
    "df = pd.read_parquet('../data/train.parquet')  # Only EN"
   ],
   "metadata": {
    "collapsed": false,
    "pycharm": {
     "name": "#%%\n"
    }
   }
  },
  {
   "cell_type": "code",
   "execution_count": 16,
   "outputs": [
    {
     "data": {
      "text/plain": "                                         name_1  \\\n0                           Iko Industries Ltd.   \n1                       Apcotex Industries Ltd.   \n2                       Powermax Rubber Factory   \n3                              National Bank Of   \n4                                      R.I.Intl   \n...                                         ...   \n149729          Eoc Polymers India Private Ltd.   \n149730                   Societe Des Transports   \n149731  Computime Electric (Shenzhen) Co., Ltd.   \n149732    Shanghai Haizhige Furniture Co., Ltd.   \n149733                    Bnd Trading Co., Ltd.   \n\n                                                   name_2  is_duplicate  \n0                    Enormous Industrial Trade Pvt., Ltd.             0  \n1                     Technocraft Industries (India) Ltd.             0  \n2                                                 Co. One             0  \n3                                    Action International             0  \n4                              Rass Mfg. India Pvt., Ltd.             0  \n...                                                   ...           ...  \n149729                    Imp. Express India Private Ltd.             0  \n149730                                 Ho Sports Co. Inc.             0  \n149731                                  A S International             0  \n149732                                Sharang Corporation             0  \n149733  Zhong Shan Yue Liang Economy& Trade Imp. & Exp...             0  \n\n[149734 rows x 3 columns]",
      "text/html": "<div>\n<style scoped>\n    .dataframe tbody tr th:only-of-type {\n        vertical-align: middle;\n    }\n\n    .dataframe tbody tr th {\n        vertical-align: top;\n    }\n\n    .dataframe thead th {\n        text-align: right;\n    }\n</style>\n<table border=\"1\" class=\"dataframe\">\n  <thead>\n    <tr style=\"text-align: right;\">\n      <th></th>\n      <th>name_1</th>\n      <th>name_2</th>\n      <th>is_duplicate</th>\n    </tr>\n  </thead>\n  <tbody>\n    <tr>\n      <th>0</th>\n      <td>Iko Industries Ltd.</td>\n      <td>Enormous Industrial Trade Pvt., Ltd.</td>\n      <td>0</td>\n    </tr>\n    <tr>\n      <th>1</th>\n      <td>Apcotex Industries Ltd.</td>\n      <td>Technocraft Industries (India) Ltd.</td>\n      <td>0</td>\n    </tr>\n    <tr>\n      <th>2</th>\n      <td>Powermax Rubber Factory</td>\n      <td>Co. One</td>\n      <td>0</td>\n    </tr>\n    <tr>\n      <th>3</th>\n      <td>National Bank Of</td>\n      <td>Action International</td>\n      <td>0</td>\n    </tr>\n    <tr>\n      <th>4</th>\n      <td>R.I.Intl</td>\n      <td>Rass Mfg. India Pvt., Ltd.</td>\n      <td>0</td>\n    </tr>\n    <tr>\n      <th>...</th>\n      <td>...</td>\n      <td>...</td>\n      <td>...</td>\n    </tr>\n    <tr>\n      <th>149729</th>\n      <td>Eoc Polymers India Private Ltd.</td>\n      <td>Imp. Express India Private Ltd.</td>\n      <td>0</td>\n    </tr>\n    <tr>\n      <th>149730</th>\n      <td>Societe Des Transports</td>\n      <td>Ho Sports Co. Inc.</td>\n      <td>0</td>\n    </tr>\n    <tr>\n      <th>149731</th>\n      <td>Computime Electric (Shenzhen) Co., Ltd.</td>\n      <td>A S International</td>\n      <td>0</td>\n    </tr>\n    <tr>\n      <th>149732</th>\n      <td>Shanghai Haizhige Furniture Co., Ltd.</td>\n      <td>Sharang Corporation</td>\n      <td>0</td>\n    </tr>\n    <tr>\n      <th>149733</th>\n      <td>Bnd Trading Co., Ltd.</td>\n      <td>Zhong Shan Yue Liang Economy&amp; Trade Imp. &amp; Exp...</td>\n      <td>0</td>\n    </tr>\n  </tbody>\n</table>\n<p>149734 rows × 3 columns</p>\n</div>"
     },
     "execution_count": 16,
     "metadata": {},
     "output_type": "execute_result"
    }
   ],
   "source": [
    "df"
   ],
   "metadata": {
    "collapsed": false,
    "pycharm": {
     "name": "#%%\n"
    }
   }
  },
  {
   "cell_type": "code",
   "execution_count": 17,
   "outputs": [],
   "source": [
    "df = df.merge(df_emb, how='left', left_on='name_1', right_on='name')\n",
    "df = df.drop(columns=['name'])\n",
    "df = df.rename({'emb': 'emb_1'}, axis=1)"
   ],
   "metadata": {
    "collapsed": false,
    "pycharm": {
     "name": "#%%\n"
    }
   }
  },
  {
   "cell_type": "code",
   "execution_count": 18,
   "outputs": [],
   "source": [
    "df = df.merge(df_emb, how='left', left_on='name_2', right_on='name')\n",
    "df = df.drop(columns=['name'])\n",
    "df = df.rename({'emb': 'emb_2'}, axis=1)"
   ],
   "metadata": {
    "collapsed": false,
    "pycharm": {
     "name": "#%%\n"
    }
   }
  },
  {
   "cell_type": "code",
   "execution_count": 20,
   "outputs": [
    {
     "data": {
      "text/plain": "                                         name_1  \\\n0                           Iko Industries Ltd.   \n1                       Apcotex Industries Ltd.   \n2                       Powermax Rubber Factory   \n3                              National Bank Of   \n4                                      R.I.Intl   \n...                                         ...   \n149729          Eoc Polymers India Private Ltd.   \n149730                   Societe Des Transports   \n149731  Computime Electric (Shenzhen) Co., Ltd.   \n149732    Shanghai Haizhige Furniture Co., Ltd.   \n149733                    Bnd Trading Co., Ltd.   \n\n                                                   name_2  is_duplicate  \\\n0                    Enormous Industrial Trade Pvt., Ltd.             0   \n1                     Technocraft Industries (India) Ltd.             0   \n2                                                 Co. One             0   \n3                                    Action International             0   \n4                              Rass Mfg. India Pvt., Ltd.             0   \n...                                                   ...           ...   \n149729                    Imp. Express India Private Ltd.             0   \n149730                                 Ho Sports Co. Inc.             0   \n149731                                  A S International             0   \n149732                                Sharang Corporation             0   \n149733  Zhong Shan Yue Liang Economy& Trade Imp. & Exp...             0   \n\n                                                    emb_1  \\\n0       [-0.0183494221419096, -0.00905199721455574, 0....   \n1       [-0.019763024523854256, -0.024556715041399002,...   \n2       [-0.02500852569937706, 0.012965007685124874, -...   \n3       [-0.024452747777104378, 0.020691601559519768, ...   \n4       [-0.013006784953176975, 0.03725733980536461, -...   \n...                                                   ...   \n149729  [-0.05212598294019699, 0.12076789140701294, 0....   \n149730  [-0.05330152064561844, -0.07089784741401672, 0...   \n149731  [-0.07178869843482971, 0.0024943070020526648, ...   \n149732  [-0.052497878670692444, 0.04104209691286087, -...   \n149733  [-0.03648974001407623, -0.06122106686234474, 0...   \n\n                                                    emb_2  \n0       [-0.018555620685219765, -0.05678172409534454, ...  \n1       [-0.06599077582359314, 0.04381170868873596, -0...  \n2       [0.0013258784310892224, -0.08776025474071503, ...  \n3       [-0.023129969835281372, 0.004134805407375097, ...  \n4       [-0.022258969023823738, 0.07864850014448166, 0...  \n...                                                   ...  \n149729  [-0.08675865083932877, 0.06544617563486099, -0...  \n149730  [-0.017611868679523468, 0.0801854059100151, 0....  \n149731  [-0.033666517585515976, 0.030529430136084557, ...  \n149732  [-0.03629408776760101, 0.002414196962490678, 0...  \n149733  [-0.04280753806233406, 0.0029897436033934355, ...  \n\n[149734 rows x 5 columns]",
      "text/html": "<div>\n<style scoped>\n    .dataframe tbody tr th:only-of-type {\n        vertical-align: middle;\n    }\n\n    .dataframe tbody tr th {\n        vertical-align: top;\n    }\n\n    .dataframe thead th {\n        text-align: right;\n    }\n</style>\n<table border=\"1\" class=\"dataframe\">\n  <thead>\n    <tr style=\"text-align: right;\">\n      <th></th>\n      <th>name_1</th>\n      <th>name_2</th>\n      <th>is_duplicate</th>\n      <th>emb_1</th>\n      <th>emb_2</th>\n    </tr>\n  </thead>\n  <tbody>\n    <tr>\n      <th>0</th>\n      <td>Iko Industries Ltd.</td>\n      <td>Enormous Industrial Trade Pvt., Ltd.</td>\n      <td>0</td>\n      <td>[-0.0183494221419096, -0.00905199721455574, 0....</td>\n      <td>[-0.018555620685219765, -0.05678172409534454, ...</td>\n    </tr>\n    <tr>\n      <th>1</th>\n      <td>Apcotex Industries Ltd.</td>\n      <td>Technocraft Industries (India) Ltd.</td>\n      <td>0</td>\n      <td>[-0.019763024523854256, -0.024556715041399002,...</td>\n      <td>[-0.06599077582359314, 0.04381170868873596, -0...</td>\n    </tr>\n    <tr>\n      <th>2</th>\n      <td>Powermax Rubber Factory</td>\n      <td>Co. One</td>\n      <td>0</td>\n      <td>[-0.02500852569937706, 0.012965007685124874, -...</td>\n      <td>[0.0013258784310892224, -0.08776025474071503, ...</td>\n    </tr>\n    <tr>\n      <th>3</th>\n      <td>National Bank Of</td>\n      <td>Action International</td>\n      <td>0</td>\n      <td>[-0.024452747777104378, 0.020691601559519768, ...</td>\n      <td>[-0.023129969835281372, 0.004134805407375097, ...</td>\n    </tr>\n    <tr>\n      <th>4</th>\n      <td>R.I.Intl</td>\n      <td>Rass Mfg. India Pvt., Ltd.</td>\n      <td>0</td>\n      <td>[-0.013006784953176975, 0.03725733980536461, -...</td>\n      <td>[-0.022258969023823738, 0.07864850014448166, 0...</td>\n    </tr>\n    <tr>\n      <th>...</th>\n      <td>...</td>\n      <td>...</td>\n      <td>...</td>\n      <td>...</td>\n      <td>...</td>\n    </tr>\n    <tr>\n      <th>149729</th>\n      <td>Eoc Polymers India Private Ltd.</td>\n      <td>Imp. Express India Private Ltd.</td>\n      <td>0</td>\n      <td>[-0.05212598294019699, 0.12076789140701294, 0....</td>\n      <td>[-0.08675865083932877, 0.06544617563486099, -0...</td>\n    </tr>\n    <tr>\n      <th>149730</th>\n      <td>Societe Des Transports</td>\n      <td>Ho Sports Co. Inc.</td>\n      <td>0</td>\n      <td>[-0.05330152064561844, -0.07089784741401672, 0...</td>\n      <td>[-0.017611868679523468, 0.0801854059100151, 0....</td>\n    </tr>\n    <tr>\n      <th>149731</th>\n      <td>Computime Electric (Shenzhen) Co., Ltd.</td>\n      <td>A S International</td>\n      <td>0</td>\n      <td>[-0.07178869843482971, 0.0024943070020526648, ...</td>\n      <td>[-0.033666517585515976, 0.030529430136084557, ...</td>\n    </tr>\n    <tr>\n      <th>149732</th>\n      <td>Shanghai Haizhige Furniture Co., Ltd.</td>\n      <td>Sharang Corporation</td>\n      <td>0</td>\n      <td>[-0.052497878670692444, 0.04104209691286087, -...</td>\n      <td>[-0.03629408776760101, 0.002414196962490678, 0...</td>\n    </tr>\n    <tr>\n      <th>149733</th>\n      <td>Bnd Trading Co., Ltd.</td>\n      <td>Zhong Shan Yue Liang Economy&amp; Trade Imp. &amp; Exp...</td>\n      <td>0</td>\n      <td>[-0.03648974001407623, -0.06122106686234474, 0...</td>\n      <td>[-0.04280753806233406, 0.0029897436033934355, ...</td>\n    </tr>\n  </tbody>\n</table>\n<p>149734 rows × 5 columns</p>\n</div>"
     },
     "execution_count": 20,
     "metadata": {},
     "output_type": "execute_result"
    }
   ],
   "source": [
    "df"
   ],
   "metadata": {
    "collapsed": false,
    "pycharm": {
     "name": "#%%\n"
    }
   }
  },
  {
   "cell_type": "code",
   "execution_count": 21,
   "outputs": [
    {
     "data": {
      "text/plain": "(149734, 512)"
     },
     "execution_count": 21,
     "metadata": {},
     "output_type": "execute_result"
    }
   ],
   "source": [
    "np.stack(df.emb_1).shape"
   ],
   "metadata": {
    "collapsed": false,
    "pycharm": {
     "name": "#%%\n"
    }
   }
  },
  {
   "cell_type": "markdown",
   "source": [
    "### Add vectors to qdrant"
   ],
   "metadata": {
    "collapsed": false,
    "pycharm": {
     "name": "#%% md\n"
    }
   }
  },
  {
   "cell_type": "code",
   "execution_count": null,
   "outputs": [],
   "source": [
    "!docker pull qdrant/qdrant"
   ],
   "metadata": {
    "collapsed": false,
    "pycharm": {
     "name": "#%%\n"
    }
   }
  },
  {
   "cell_type": "code",
   "execution_count": null,
   "outputs": [],
   "source": [
    "!docker run --name qdrant -d -p 6333:6333 --net=bridge qdrant/qdrant"
   ],
   "metadata": {
    "collapsed": false,
    "pycharm": {
     "name": "#%%\n"
    }
   }
  },
  {
   "cell_type": "code",
   "execution_count": 51,
   "outputs": [],
   "source": [
    "df_embs = pd.read_parquet('../data/df_embs_en.parquet')"
   ],
   "metadata": {
    "collapsed": false,
    "pycharm": {
     "name": "#%%\n"
    }
   }
  },
  {
   "cell_type": "code",
   "execution_count": 52,
   "outputs": [],
   "source": [
    "qdrant_client = QdrantClient(host='0.0.0.0', port=6333)"
   ],
   "metadata": {
    "collapsed": false,
    "pycharm": {
     "name": "#%%\n"
    }
   }
  },
  {
   "cell_type": "code",
   "execution_count": 53,
   "outputs": [],
   "source": [
    "vectors = np.stack(df_embs.emb)\n",
    "payload = df_embs[['name']].to_dict(orient='records')\n",
    "ids = df_embs.index.values.tolist()"
   ],
   "metadata": {
    "collapsed": false,
    "pycharm": {
     "name": "#%%\n"
    }
   }
  },
  {
   "cell_type": "code",
   "execution_count": 54,
   "outputs": [],
   "source": [
    "col_name = 'companies-EN'\n",
    "vec_shape = vectors.shape[1]\n",
    "bs = 1024"
   ],
   "metadata": {
    "collapsed": false,
    "pycharm": {
     "name": "#%%\n"
    }
   }
  },
  {
   "cell_type": "code",
   "execution_count": 55,
   "outputs": [],
   "source": [
    "qdrant_client.recreate_collection(collection_name=col_name,\n",
    "                                  vectors_config=models.VectorParams(size=vec_shape, distance=models.Distance.COSINE),\n",
    "                                  on_disk_payload=True)"
   ],
   "metadata": {
    "collapsed": false,
    "pycharm": {
     "name": "#%%\n"
    }
   }
  },
  {
   "cell_type": "code",
   "execution_count": 56,
   "outputs": [],
   "source": [
    "qdrant_client.upload_collection(\n",
    "    collection_name=col_name,\n",
    "    vectors=vectors,\n",
    "    payload=payload,\n",
    "    ids=ids,\n",
    "    batch_size=bs,\n",
    "    parallel=6\n",
    ")"
   ],
   "metadata": {
    "collapsed": false,
    "pycharm": {
     "name": "#%%\n"
    }
   }
  },
  {
   "cell_type": "code",
   "execution_count": 57,
   "outputs": [],
   "source": [
    "col = qdrant_client.get_collection(col_name)"
   ],
   "metadata": {
    "collapsed": false,
    "pycharm": {
     "name": "#%%\n"
    }
   }
  },
  {
   "cell_type": "code",
   "execution_count": 58,
   "outputs": [
    {
     "data": {
      "text/plain": "10106"
     },
     "execution_count": 58,
     "metadata": {},
     "output_type": "execute_result"
    }
   ],
   "source": [
    "col.points_count"
   ],
   "metadata": {
    "collapsed": false,
    "pycharm": {
     "name": "#%%\n"
    }
   }
  },
  {
   "cell_type": "markdown",
   "source": [
    "### Similarity search with cosine distance"
   ],
   "metadata": {
    "collapsed": false,
    "pycharm": {
     "name": "#%% md\n"
    }
   }
  },
  {
   "cell_type": "code",
   "execution_count": 59,
   "outputs": [
    {
     "data": {
      "text/plain": "Downloading:   0%|          | 0.00/466k [00:00<?, ?B/s]",
      "application/vnd.jupyter.widget-view+json": {
       "version_major": 2,
       "version_minor": 0,
       "model_id": "6f77a182ed8a4226975901adf4dff4a8"
      }
     },
     "metadata": {},
     "output_type": "display_data"
    },
    {
     "data": {
      "text/plain": "Downloading:   0%|          | 0.00/350 [00:00<?, ?B/s]",
      "application/vnd.jupyter.widget-view+json": {
       "version_major": 2,
       "version_minor": 0,
       "model_id": "69deb99be16743c08a429b2e9e3f3698"
      }
     },
     "metadata": {},
     "output_type": "display_data"
    },
    {
     "data": {
      "text/plain": "Downloading:   0%|          | 0.00/13.2k [00:00<?, ?B/s]",
      "application/vnd.jupyter.widget-view+json": {
       "version_major": 2,
       "version_minor": 0,
       "model_id": "3146623d61354b7997017c66941e4ea2"
      }
     },
     "metadata": {},
     "output_type": "display_data"
    },
    {
     "data": {
      "text/plain": "Downloading:   0%|          | 0.00/232k [00:00<?, ?B/s]",
      "application/vnd.jupyter.widget-view+json": {
       "version_major": 2,
       "version_minor": 0,
       "model_id": "984e6b1a6fd24e4c9b15dce9fad3b259"
      }
     },
     "metadata": {},
     "output_type": "display_data"
    },
    {
     "data": {
      "text/plain": "Downloading:   0%|          | 0.00/349 [00:00<?, ?B/s]",
      "application/vnd.jupyter.widget-view+json": {
       "version_major": 2,
       "version_minor": 0,
       "model_id": "a9c856a7fc2c44b2a09f7c8dcdfecc45"
      }
     },
     "metadata": {},
     "output_type": "display_data"
    },
    {
     "name": "stderr",
     "output_type": "stream",
     "text": [
      "/home/kpavel/anaconda3/envs/samename/lib/python3.9/site-packages/torch/cuda/__init__.py:83: UserWarning: CUDA initialization: Unexpected error from cudaGetDeviceCount(). Did you run some cuda functions before calling NumCudaDevices() that might have already set an error? Error 804: forward compatibility was attempted on non supported HW (Triggered internally at  ../c10/cuda/CUDAFunctions.cpp:109.)\n",
      "  return torch._C._cuda_getDeviceCount() > 0\n"
     ]
    }
   ],
   "source": [
    "model = SentenceTransformer('all-MiniLM-L6-v2')"
   ],
   "metadata": {
    "collapsed": false,
    "pycharm": {
     "name": "#%%\n"
    }
   }
  },
  {
   "cell_type": "code",
   "execution_count": 106,
   "outputs": [],
   "source": [
    "def inference(company_name, model, limit=30, df_embs=None):\n",
    "    if df_embs is not None:\n",
    "        qvector = model.encode(company_name)\n",
    "    else:\n",
    "        qvector = np.stack(df_embs[df_embs['name'] == company_name].emb)\n",
    "\n",
    "    search_result = qdrant_client.search(\n",
    "        collection_name=col_name,\n",
    "        query_vector=qvector,\n",
    "        query_filter=models.Filter(\n",
    "            must_not=[\n",
    "                models.FieldCondition(\n",
    "                    key=\"name\",\n",
    "                    match=models.MatchValue(value=company_name)\n",
    "                ),\n",
    "            ]\n",
    "        ),\n",
    "        limit=limit,\n",
    "        offset=0\n",
    "    )\n",
    "    return search_result#[r for r in search_result if r.payload['name'] != company_name]"
   ],
   "metadata": {
    "collapsed": false,
    "pycharm": {
     "name": "#%%\n"
    }
   }
  },
  {
   "cell_type": "code",
   "execution_count": 77,
   "outputs": [
    {
     "data": {
      "text/plain": "[ScoredPoint(id=2407, version=4, score=0.8766745, payload={'name': 'Dow Chemical Pacific Ltd.'}, vector=None),\n ScoredPoint(id=2405, version=4, score=0.8710415, payload={'name': 'Dow Chemical International Private Ltd.'}, vector=None),\n ScoredPoint(id=8799, version=6, score=0.86943454, payload={'name': 'The Dow Chemical Company'}, vector=None),\n ScoredPoint(id=2408, version=4, score=0.8345633, payload={'name': 'Dow Chemical Thailand Ltd.'}, vector=None),\n ScoredPoint(id=2403, version=4, score=0.8277112, payload={'name': 'Dow Chemical'}, vector=None),\n ScoredPoint(id=9927, version=8, score=0.81730974, payload={'name': 'Yuanbai Chemicals (Shanghai) Co., Ltd.'}, vector=None),\n ScoredPoint(id=7757, version=7, score=0.81063765, payload={'name': 'Shanghai Yikang Chemicals & Industries Co., Ltd.'}, vector=None),\n ScoredPoint(id=7693, version=7, score=0.80738246, payload={'name': 'Shanghai Origin Chem International Trading Co., Ltd.'}, vector=None),\n ScoredPoint(id=7681, version=7, score=0.80687237, payload={'name': 'Shanghai Manyi Chemical Co., Ltd.'}, vector=None),\n ScoredPoint(id=7699, version=7, score=0.80364966, payload={'name': 'Shanghai Prevision Chemicals Co., Ltd.'}, vector=None),\n ScoredPoint(id=1556, version=2, score=0.7966597, payload={'name': 'China Chem Co., Ltd.'}, vector=None),\n ScoredPoint(id=2406, version=4, score=0.7938091, payload={'name': 'Dow Chemical Pacific'}, vector=None),\n ScoredPoint(id=2520, version=4, score=0.7851604, payload={'name': 'Eastman (Shanghai) Chemical Commercial Co., Ltd.'}, vector=None),\n ScoredPoint(id=7737, version=7, score=0.7815751, payload={'name': 'Shanghai Uniwell Chemical Co., Ltd.'}, vector=None),\n ScoredPoint(id=7754, version=7, score=0.77841353, payload={'name': 'Shanghai Yi Duo Ke Chemical Co., Ltd.'}, vector=None),\n ScoredPoint(id=7661, version=7, score=0.7763757, payload={'name': 'Shanghai Junxin Chemical Co., Ltd.'}, vector=None),\n ScoredPoint(id=7701, version=7, score=0.77480435, payload={'name': 'Shanghai Ranyuan Chemical Technology Co., Ltd.'}, vector=None),\n ScoredPoint(id=7745, version=7, score=0.7729964, payload={'name': 'Shanghai Wo Code Chemical Co., Ltd.'}, vector=None),\n ScoredPoint(id=5015, version=3, score=0.7676929, payload={'name': 'Lord Fine Chemical (Shanghai) Co., Ltd.'}, vector=None),\n ScoredPoint(id=7644, version=7, score=0.76092684, payload={'name': 'Shanghai Huixu Chemical Industry Co., Ltd.'}, vector=None),\n ScoredPoint(id=7752, version=7, score=0.7555706, payload={'name': 'Shanghai Yechuan Chemicals Co., Ltd.'}, vector=None),\n ScoredPoint(id=6383, version=9, score=0.75529647, payload={'name': 'Poly Chemicals (Shanghai) Co., Ltd.'}, vector=None),\n ScoredPoint(id=4772, version=3, score=0.7485047, payload={'name': 'Kun Shan Pan Qing Chemical Co., Ltd.'}, vector=None),\n ScoredPoint(id=7713, version=7, score=0.7435608, payload={'name': 'Shanghai Shengyi Industry Co., Ltd.'}, vector=None),\n ScoredPoint(id=6740, version=9, score=0.74026227, payload={'name': 'Qingdao Jiawen Chemical Co., Ltd.'}, vector=None),\n ScoredPoint(id=9996, version=8, score=0.73805887, payload={'name': 'Zhangjiagang Yuansheng Chemical Industry Co., Ltd.'}, vector=None),\n ScoredPoint(id=7728, version=7, score=0.7374378, payload={'name': 'Shanghai Synthomer Chemicals Co., Ltd.'}, vector=None),\n ScoredPoint(id=8650, version=6, score=0.73358303, payload={'name': 'Taoshi Chemical (Zhangjiagang) Co., Ltd.'}, vector=None),\n ScoredPoint(id=3527, version=1, score=0.73315513, payload={'name': 'Guangzhou Xin Chemical Co., Ltd.'}, vector=None),\n ScoredPoint(id=5433, version=0, score=0.73292947, payload={'name': 'Mitsubishi Chemical China Commerce Ltd.'}, vector=None)]"
     },
     "execution_count": 77,
     "metadata": {},
     "output_type": "execute_result"
    }
   ],
   "source": [
    "inference('Dow Chemical (Shanghai) Co., Ltd.', model)"
   ],
   "metadata": {
    "collapsed": false,
    "pycharm": {
     "name": "#%%\n"
    }
   }
  },
  {
   "cell_type": "code",
   "execution_count": 63,
   "outputs": [
    {
     "data": {
      "text/plain": "                                         name_1  \\\n3621          Dow Chemical (Shanghai) Co., Ltd.   \n25254   Dow Chemical International Private Ltd.   \n43550         Dow Chemical (Shanghai) Co., Ltd.   \n67051         Dow Chemical (Shanghai) Co., Ltd.   \n67332                 Dow Chemical Pacific Ltd.   \n86276                      Dow Chemical Pacific   \n114460               Dow Chemical Thailand Ltd.   \n116796                             Dow Chemical   \n127101        Dow Chemical (Shanghai) Co., Ltd.   \n148353        Dow Chemical (Shanghai) Co., Ltd.   \n\n                                         name_2  is_duplicate  \\\n3621                  Dow Chemical Pacific Ltd.             1   \n25254         Dow Chemical (Shanghai) Co., Ltd.             1   \n43550   Dow Chemical International Private Ltd.             1   \n67051                              Dow Chemical             1   \n67332         Dow Chemical (Shanghai) Co., Ltd.             1   \n86276         Dow Chemical (Shanghai) Co., Ltd.             1   \n114460        Dow Chemical (Shanghai) Co., Ltd.             1   \n116796        Dow Chemical (Shanghai) Co., Ltd.             1   \n127101                     Dow Chemical Pacific             1   \n148353               Dow Chemical Thailand Ltd.             1   \n\n                                                    emb_1  \\\n3621    [-0.028365090489387512, -0.02730587124824524, ...   \n25254   [-0.054589733481407166, -0.02028239332139492, ...   \n43550   [-0.028365090489387512, -0.02730587124824524, ...   \n67051   [-0.028365090489387512, -0.02730587124824524, ...   \n67332   [-0.053025662899017334, 0.003969652112573385, ...   \n86276   [-0.024302493780851364, 0.016313781961798668, ...   \n114460  [-0.05091489478945732, 0.00030382093973457813,...   \n116796  [0.01545174140483141, 0.002613763092085719, -0...   \n127101  [-0.028365090489387512, -0.02730587124824524, ...   \n148353  [-0.028365090489387512, -0.02730587124824524, ...   \n\n                                                    emb_2  \n3621    [-0.053025662899017334, 0.003969652112573385, ...  \n25254   [-0.028365090489387512, -0.02730587124824524, ...  \n43550   [-0.054589733481407166, -0.02028239332139492, ...  \n67051   [0.01545174140483141, 0.002613763092085719, -0...  \n67332   [-0.028365090489387512, -0.02730587124824524, ...  \n86276   [-0.028365090489387512, -0.02730587124824524, ...  \n114460  [-0.028365090489387512, -0.02730587124824524, ...  \n116796  [-0.028365090489387512, -0.02730587124824524, ...  \n127101  [-0.024302493780851364, 0.016313781961798668, ...  \n148353  [-0.05091489478945732, 0.00030382093973457813,...  ",
      "text/html": "<div>\n<style scoped>\n    .dataframe tbody tr th:only-of-type {\n        vertical-align: middle;\n    }\n\n    .dataframe tbody tr th {\n        vertical-align: top;\n    }\n\n    .dataframe thead th {\n        text-align: right;\n    }\n</style>\n<table border=\"1\" class=\"dataframe\">\n  <thead>\n    <tr style=\"text-align: right;\">\n      <th></th>\n      <th>name_1</th>\n      <th>name_2</th>\n      <th>is_duplicate</th>\n      <th>emb_1</th>\n      <th>emb_2</th>\n    </tr>\n  </thead>\n  <tbody>\n    <tr>\n      <th>3621</th>\n      <td>Dow Chemical (Shanghai) Co., Ltd.</td>\n      <td>Dow Chemical Pacific Ltd.</td>\n      <td>1</td>\n      <td>[-0.028365090489387512, -0.02730587124824524, ...</td>\n      <td>[-0.053025662899017334, 0.003969652112573385, ...</td>\n    </tr>\n    <tr>\n      <th>25254</th>\n      <td>Dow Chemical International Private Ltd.</td>\n      <td>Dow Chemical (Shanghai) Co., Ltd.</td>\n      <td>1</td>\n      <td>[-0.054589733481407166, -0.02028239332139492, ...</td>\n      <td>[-0.028365090489387512, -0.02730587124824524, ...</td>\n    </tr>\n    <tr>\n      <th>43550</th>\n      <td>Dow Chemical (Shanghai) Co., Ltd.</td>\n      <td>Dow Chemical International Private Ltd.</td>\n      <td>1</td>\n      <td>[-0.028365090489387512, -0.02730587124824524, ...</td>\n      <td>[-0.054589733481407166, -0.02028239332139492, ...</td>\n    </tr>\n    <tr>\n      <th>67051</th>\n      <td>Dow Chemical (Shanghai) Co., Ltd.</td>\n      <td>Dow Chemical</td>\n      <td>1</td>\n      <td>[-0.028365090489387512, -0.02730587124824524, ...</td>\n      <td>[0.01545174140483141, 0.002613763092085719, -0...</td>\n    </tr>\n    <tr>\n      <th>67332</th>\n      <td>Dow Chemical Pacific Ltd.</td>\n      <td>Dow Chemical (Shanghai) Co., Ltd.</td>\n      <td>1</td>\n      <td>[-0.053025662899017334, 0.003969652112573385, ...</td>\n      <td>[-0.028365090489387512, -0.02730587124824524, ...</td>\n    </tr>\n    <tr>\n      <th>86276</th>\n      <td>Dow Chemical Pacific</td>\n      <td>Dow Chemical (Shanghai) Co., Ltd.</td>\n      <td>1</td>\n      <td>[-0.024302493780851364, 0.016313781961798668, ...</td>\n      <td>[-0.028365090489387512, -0.02730587124824524, ...</td>\n    </tr>\n    <tr>\n      <th>114460</th>\n      <td>Dow Chemical Thailand Ltd.</td>\n      <td>Dow Chemical (Shanghai) Co., Ltd.</td>\n      <td>1</td>\n      <td>[-0.05091489478945732, 0.00030382093973457813,...</td>\n      <td>[-0.028365090489387512, -0.02730587124824524, ...</td>\n    </tr>\n    <tr>\n      <th>116796</th>\n      <td>Dow Chemical</td>\n      <td>Dow Chemical (Shanghai) Co., Ltd.</td>\n      <td>1</td>\n      <td>[0.01545174140483141, 0.002613763092085719, -0...</td>\n      <td>[-0.028365090489387512, -0.02730587124824524, ...</td>\n    </tr>\n    <tr>\n      <th>127101</th>\n      <td>Dow Chemical (Shanghai) Co., Ltd.</td>\n      <td>Dow Chemical Pacific</td>\n      <td>1</td>\n      <td>[-0.028365090489387512, -0.02730587124824524, ...</td>\n      <td>[-0.024302493780851364, 0.016313781961798668, ...</td>\n    </tr>\n    <tr>\n      <th>148353</th>\n      <td>Dow Chemical (Shanghai) Co., Ltd.</td>\n      <td>Dow Chemical Thailand Ltd.</td>\n      <td>1</td>\n      <td>[-0.028365090489387512, -0.02730587124824524, ...</td>\n      <td>[-0.05091489478945732, 0.00030382093973457813,...</td>\n    </tr>\n  </tbody>\n</table>\n</div>"
     },
     "execution_count": 63,
     "metadata": {},
     "output_type": "execute_result"
    }
   ],
   "source": [
    "df[((df.name_1 == 'Dow Chemical (Shanghai) Co., Ltd.') | (df.name_2 == 'Dow Chemical (Shanghai) Co., Ltd.')) & df.is_duplicate == 1]"
   ],
   "metadata": {
    "collapsed": false,
    "pycharm": {
     "name": "#%%\n"
    }
   }
  },
  {
   "cell_type": "markdown",
   "source": [
    "### Calculate metrics"
   ],
   "metadata": {
    "collapsed": false,
    "pycharm": {
     "name": "#%% md\n"
    }
   }
  },
  {
   "cell_type": "code",
   "execution_count": 64,
   "outputs": [],
   "source": [
    "search_scroll = qdrant_client.scroll(\n",
    "    collection_name=col_name,\n",
    "    limit=col.points_count,\n",
    "    offset=0,\n",
    "    with_vectors=True,\n",
    "    with_payload=True,\n",
    ")"
   ],
   "metadata": {
    "collapsed": false,
    "pycharm": {
     "name": "#%%\n"
    }
   }
  },
  {
   "cell_type": "code",
   "execution_count": null,
   "outputs": [],
   "source": [
    "# Select test dataset"
   ],
   "metadata": {
    "collapsed": false,
    "pycharm": {
     "name": "#%%\n"
    }
   }
  },
  {
   "cell_type": "code",
   "execution_count": null,
   "outputs": [],
   "source": [],
   "metadata": {
    "collapsed": false,
    "pycharm": {
     "name": "#%%\n"
    }
   }
  },
  {
   "cell_type": "code",
   "execution_count": 108,
   "outputs": [
    {
     "name": "stdout",
     "output_type": "stream",
     "text": [
      "                       name_1                 name_2  is_duplicate  \\\n",
      "65277  ALBEMARLE GREEN CREST   Albemarle Corporation             1   \n",
      "\n",
      "                                                   emb_1  \\\n",
      "65277  [-0.002928944304585457, -0.01655099168419838, ...   \n",
      "\n",
      "                                                   emb_2  \n",
      "65277  [-0.03400878980755806, -0.09580172598361969, 0...  \n"
     ]
    }
   ],
   "source": [
    "def precision_score_at_k(k):\n",
    "    scores = []\n",
    "    for item in tqdm(search_scroll[0]):\n",
    "        q_name = item.payload['name']\n",
    "        res = inference(q_name, model, limit=k, df_embs=df_embs)\n",
    "        found_name = res[0].payload['name']\n",
    "\n",
    "        tmpd = df[((df.name_1 == found_name) & (df.name_2 == q_name)) | ((df.name_1 == q_name) & (df.name_2 == found_name))]\n",
    "        tmpd = tmpd[tmpd.is_duplicate == 1]\n",
    "        if len(tmpd) > 0:\n",
    "            scores.append(1)\n",
    "            print(tmpd)\n",
    "            break\n",
    "\n",
    "precision_score_at_k(1)\n"
   ],
   "metadata": {
    "collapsed": false,
    "pycharm": {
     "name": "#%%\n"
    }
   }
  },
  {
   "cell_type": "code",
   "execution_count": 103,
   "outputs": [
    {
     "data": {
      "text/plain": "                                         name_1  \\\n0                           Iko Industries Ltd.   \n1                       Apcotex Industries Ltd.   \n2                       Powermax Rubber Factory   \n3                              National Bank Of   \n4                                      R.I.Intl   \n...                                         ...   \n149729          Eoc Polymers India Private Ltd.   \n149730                   Societe Des Transports   \n149731  Computime Electric (Shenzhen) Co., Ltd.   \n149732    Shanghai Haizhige Furniture Co., Ltd.   \n149733                    Bnd Trading Co., Ltd.   \n\n                                                   name_2  is_duplicate  \\\n0                    Enormous Industrial Trade Pvt., Ltd.             0   \n1                     Technocraft Industries (India) Ltd.             0   \n2                                                 Co. One             0   \n3                                    Action International             0   \n4                              Rass Mfg. India Pvt., Ltd.             0   \n...                                                   ...           ...   \n149729                    Imp. Express India Private Ltd.             0   \n149730                                 Ho Sports Co. Inc.             0   \n149731                                  A S International             0   \n149732                                Sharang Corporation             0   \n149733  Zhong Shan Yue Liang Economy& Trade Imp. & Exp...             0   \n\n                                                    emb_1  \\\n0       [-0.0183494221419096, -0.00905199721455574, 0....   \n1       [-0.019763024523854256, -0.024556715041399002,...   \n2       [-0.02500852569937706, 0.012965007685124874, -...   \n3       [-0.024452747777104378, 0.020691601559519768, ...   \n4       [-0.013006784953176975, 0.03725733980536461, -...   \n...                                                   ...   \n149729  [-0.05212598294019699, 0.12076789140701294, 0....   \n149730  [-0.05330152064561844, -0.07089784741401672, 0...   \n149731  [-0.07178869843482971, 0.0024943070020526648, ...   \n149732  [-0.052497878670692444, 0.04104209691286087, -...   \n149733  [-0.03648974001407623, -0.06122106686234474, 0...   \n\n                                                    emb_2  \n0       [-0.018555620685219765, -0.05678172409534454, ...  \n1       [-0.06599077582359314, 0.04381170868873596, -0...  \n2       [0.0013258784310892224, -0.08776025474071503, ...  \n3       [-0.023129969835281372, 0.004134805407375097, ...  \n4       [-0.022258969023823738, 0.07864850014448166, 0...  \n...                                                   ...  \n149729  [-0.08675865083932877, 0.06544617563486099, -0...  \n149730  [-0.017611868679523468, 0.0801854059100151, 0....  \n149731  [-0.033666517585515976, 0.030529430136084557, ...  \n149732  [-0.03629408776760101, 0.002414196962490678, 0...  \n149733  [-0.04280753806233406, 0.0029897436033934355, ...  \n\n[149734 rows x 5 columns]",
      "text/html": "<div>\n<style scoped>\n    .dataframe tbody tr th:only-of-type {\n        vertical-align: middle;\n    }\n\n    .dataframe tbody tr th {\n        vertical-align: top;\n    }\n\n    .dataframe thead th {\n        text-align: right;\n    }\n</style>\n<table border=\"1\" class=\"dataframe\">\n  <thead>\n    <tr style=\"text-align: right;\">\n      <th></th>\n      <th>name_1</th>\n      <th>name_2</th>\n      <th>is_duplicate</th>\n      <th>emb_1</th>\n      <th>emb_2</th>\n    </tr>\n  </thead>\n  <tbody>\n    <tr>\n      <th>0</th>\n      <td>Iko Industries Ltd.</td>\n      <td>Enormous Industrial Trade Pvt., Ltd.</td>\n      <td>0</td>\n      <td>[-0.0183494221419096, -0.00905199721455574, 0....</td>\n      <td>[-0.018555620685219765, -0.05678172409534454, ...</td>\n    </tr>\n    <tr>\n      <th>1</th>\n      <td>Apcotex Industries Ltd.</td>\n      <td>Technocraft Industries (India) Ltd.</td>\n      <td>0</td>\n      <td>[-0.019763024523854256, -0.024556715041399002,...</td>\n      <td>[-0.06599077582359314, 0.04381170868873596, -0...</td>\n    </tr>\n    <tr>\n      <th>2</th>\n      <td>Powermax Rubber Factory</td>\n      <td>Co. One</td>\n      <td>0</td>\n      <td>[-0.02500852569937706, 0.012965007685124874, -...</td>\n      <td>[0.0013258784310892224, -0.08776025474071503, ...</td>\n    </tr>\n    <tr>\n      <th>3</th>\n      <td>National Bank Of</td>\n      <td>Action International</td>\n      <td>0</td>\n      <td>[-0.024452747777104378, 0.020691601559519768, ...</td>\n      <td>[-0.023129969835281372, 0.004134805407375097, ...</td>\n    </tr>\n    <tr>\n      <th>4</th>\n      <td>R.I.Intl</td>\n      <td>Rass Mfg. India Pvt., Ltd.</td>\n      <td>0</td>\n      <td>[-0.013006784953176975, 0.03725733980536461, -...</td>\n      <td>[-0.022258969023823738, 0.07864850014448166, 0...</td>\n    </tr>\n    <tr>\n      <th>...</th>\n      <td>...</td>\n      <td>...</td>\n      <td>...</td>\n      <td>...</td>\n      <td>...</td>\n    </tr>\n    <tr>\n      <th>149729</th>\n      <td>Eoc Polymers India Private Ltd.</td>\n      <td>Imp. Express India Private Ltd.</td>\n      <td>0</td>\n      <td>[-0.05212598294019699, 0.12076789140701294, 0....</td>\n      <td>[-0.08675865083932877, 0.06544617563486099, -0...</td>\n    </tr>\n    <tr>\n      <th>149730</th>\n      <td>Societe Des Transports</td>\n      <td>Ho Sports Co. Inc.</td>\n      <td>0</td>\n      <td>[-0.05330152064561844, -0.07089784741401672, 0...</td>\n      <td>[-0.017611868679523468, 0.0801854059100151, 0....</td>\n    </tr>\n    <tr>\n      <th>149731</th>\n      <td>Computime Electric (Shenzhen) Co., Ltd.</td>\n      <td>A S International</td>\n      <td>0</td>\n      <td>[-0.07178869843482971, 0.0024943070020526648, ...</td>\n      <td>[-0.033666517585515976, 0.030529430136084557, ...</td>\n    </tr>\n    <tr>\n      <th>149732</th>\n      <td>Shanghai Haizhige Furniture Co., Ltd.</td>\n      <td>Sharang Corporation</td>\n      <td>0</td>\n      <td>[-0.052497878670692444, 0.04104209691286087, -...</td>\n      <td>[-0.03629408776760101, 0.002414196962490678, 0...</td>\n    </tr>\n    <tr>\n      <th>149733</th>\n      <td>Bnd Trading Co., Ltd.</td>\n      <td>Zhong Shan Yue Liang Economy&amp; Trade Imp. &amp; Exp...</td>\n      <td>0</td>\n      <td>[-0.03648974001407623, -0.06122106686234474, 0...</td>\n      <td>[-0.04280753806233406, 0.0029897436033934355, ...</td>\n    </tr>\n  </tbody>\n</table>\n<p>149734 rows × 5 columns</p>\n</div>"
     },
     "execution_count": 103,
     "metadata": {},
     "output_type": "execute_result"
    }
   ],
   "source": [
    "df"
   ],
   "metadata": {
    "collapsed": false,
    "pycharm": {
     "name": "#%%\n"
    }
   }
  },
  {
   "cell_type": "code",
   "execution_count": null,
   "outputs": [],
   "source": [],
   "metadata": {
    "collapsed": false,
    "pycharm": {
     "name": "#%%\n"
    }
   }
  },
  {
   "cell_type": "code",
   "execution_count": null,
   "outputs": [],
   "source": [],
   "metadata": {
    "collapsed": false,
    "pycharm": {
     "name": "#%%\n"
    }
   }
  },
  {
   "cell_type": "code",
   "execution_count": null,
   "outputs": [],
   "source": [],
   "metadata": {
    "collapsed": false,
    "pycharm": {
     "name": "#%%\n"
    }
   }
  },
  {
   "cell_type": "code",
   "execution_count": null,
   "outputs": [],
   "source": [],
   "metadata": {
    "collapsed": false,
    "pycharm": {
     "name": "#%%\n"
    }
   }
  },
  {
   "cell_type": "code",
   "execution_count": null,
   "outputs": [],
   "source": [],
   "metadata": {
    "collapsed": false,
    "pycharm": {
     "name": "#%%\n"
    }
   }
  },
  {
   "cell_type": "code",
   "execution_count": null,
   "outputs": [],
   "source": [],
   "metadata": {
    "collapsed": false,
    "pycharm": {
     "name": "#%%\n"
    }
   }
  }
 ],
 "metadata": {
  "kernelspec": {
   "display_name": "Python 3",
   "language": "python",
   "name": "python3"
  },
  "language_info": {
   "codemirror_mode": {
    "name": "ipython",
    "version": 2
   },
   "file_extension": ".py",
   "mimetype": "text/x-python",
   "name": "python",
   "nbconvert_exporter": "python",
   "pygments_lexer": "ipython2",
   "version": "2.7.6"
  }
 },
 "nbformat": 4,
 "nbformat_minor": 0
}