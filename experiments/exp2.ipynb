{
 "cells": [
  {
   "cell_type": "markdown",
   "source": [
    "# Experiment 2\n",
    "# Sentence embeddings and Qdrant Search"
   ],
   "metadata": {
    "collapsed": false,
    "pycharm": {
     "name": "#%% md\n"
    }
   }
  },
  {
   "cell_type": "markdown",
   "source": [
    "## Unprocessed dataest. Languages: EN"
   ],
   "metadata": {
    "collapsed": false,
    "pycharm": {
     "name": "#%% md\n"
    }
   }
  },
  {
   "cell_type": "code",
   "execution_count": 1,
   "metadata": {
    "collapsed": true,
    "pycharm": {
     "name": "#%%\n"
    }
   },
   "outputs": [],
   "source": [
    "import pandas as pd\n",
    "import numpy as np\n",
    "from sklearn.model_selection import train_test_split\n",
    "from sentence_transformers import SentenceTransformer\n",
    "from sklearn.metrics import accuracy_score, precision_score, recall_score, f1_score\n",
    "from qdrant_client import QdrantClient\n",
    "from qdrant_client.http import models as rest\n",
    "from qdrant_client.http.models import models\n",
    "from tqdm import tqdm"
   ]
  },
  {
   "cell_type": "markdown",
   "source": [
    "### Load datasets"
   ],
   "metadata": {
    "collapsed": false,
    "pycharm": {
     "name": "#%% md\n"
    }
   }
  },
  {
   "cell_type": "code",
   "execution_count": 39,
   "outputs": [],
   "source": [
    "df_embs = pd.read_parquet('../data/df_embs_2.parquet')"
   ],
   "metadata": {
    "collapsed": false,
    "pycharm": {
     "name": "#%%\n"
    }
   }
  },
  {
   "cell_type": "code",
   "execution_count": 40,
   "outputs": [],
   "source": [
    "df = pd.read_parquet('../data/all_lang_train.parquet')"
   ],
   "metadata": {
    "collapsed": false,
    "pycharm": {
     "name": "#%%\n"
    }
   }
  },
  {
   "cell_type": "code",
   "execution_count": 41,
   "outputs": [
    {
     "data": {
      "text/plain": "                                              name_1  \\\n0                                Iko Industries Ltd.   \n1                            Apcotex Industries Ltd.   \n2                  Rishichem Distributors Pvt., Ltd.   \n3                            Powermax Rubber Factory   \n4                                          Tress A/S   \n...                                              ...   \n497567                              BIT-MAT PRODUCTS   \n497568                         Bnd Trading Co., Ltd.   \n497569  Xeikon Industrial Co., Ltd. Of Dongguan City   \n497570            Shanghai Kechuan Trading Co., Ltd.   \n497571                        Dih Wei Industries Co.   \n\n                                                   name_2  is_duplicate  \n0                    Enormous Industrial Trade Pvt., Ltd.             0  \n1                     Technocraft Industries (India) Ltd.             0  \n2                                                     Dsa             0  \n3                                                 Co. One             0  \n4                        Longyou Industries Park Zhejiang             0  \n...                                                   ...           ...  \n497567               The Goodyear Tire and Rubber Company             0  \n497568  Zhong Shan Yue Liang Economy& Trade Imp. & Exp...             0  \n497569        Yi Cheng Trading Co., Ltd. Of Dongguan City             0  \n497570                       Shanghai M&G Stationery Inc.             0  \n497571                    Burlington Industries Corporate             0  \n\n[497572 rows x 3 columns]",
      "text/html": "<div>\n<style scoped>\n    .dataframe tbody tr th:only-of-type {\n        vertical-align: middle;\n    }\n\n    .dataframe tbody tr th {\n        vertical-align: top;\n    }\n\n    .dataframe thead th {\n        text-align: right;\n    }\n</style>\n<table border=\"1\" class=\"dataframe\">\n  <thead>\n    <tr style=\"text-align: right;\">\n      <th></th>\n      <th>name_1</th>\n      <th>name_2</th>\n      <th>is_duplicate</th>\n    </tr>\n  </thead>\n  <tbody>\n    <tr>\n      <th>0</th>\n      <td>Iko Industries Ltd.</td>\n      <td>Enormous Industrial Trade Pvt., Ltd.</td>\n      <td>0</td>\n    </tr>\n    <tr>\n      <th>1</th>\n      <td>Apcotex Industries Ltd.</td>\n      <td>Technocraft Industries (India) Ltd.</td>\n      <td>0</td>\n    </tr>\n    <tr>\n      <th>2</th>\n      <td>Rishichem Distributors Pvt., Ltd.</td>\n      <td>Dsa</td>\n      <td>0</td>\n    </tr>\n    <tr>\n      <th>3</th>\n      <td>Powermax Rubber Factory</td>\n      <td>Co. One</td>\n      <td>0</td>\n    </tr>\n    <tr>\n      <th>4</th>\n      <td>Tress A/S</td>\n      <td>Longyou Industries Park Zhejiang</td>\n      <td>0</td>\n    </tr>\n    <tr>\n      <th>...</th>\n      <td>...</td>\n      <td>...</td>\n      <td>...</td>\n    </tr>\n    <tr>\n      <th>497567</th>\n      <td>BIT-MAT PRODUCTS</td>\n      <td>The Goodyear Tire and Rubber Company</td>\n      <td>0</td>\n    </tr>\n    <tr>\n      <th>497568</th>\n      <td>Bnd Trading Co., Ltd.</td>\n      <td>Zhong Shan Yue Liang Economy&amp; Trade Imp. &amp; Exp...</td>\n      <td>0</td>\n    </tr>\n    <tr>\n      <th>497569</th>\n      <td>Xeikon Industrial Co., Ltd. Of Dongguan City</td>\n      <td>Yi Cheng Trading Co., Ltd. Of Dongguan City</td>\n      <td>0</td>\n    </tr>\n    <tr>\n      <th>497570</th>\n      <td>Shanghai Kechuan Trading Co., Ltd.</td>\n      <td>Shanghai M&amp;G Stationery Inc.</td>\n      <td>0</td>\n    </tr>\n    <tr>\n      <th>497571</th>\n      <td>Dih Wei Industries Co.</td>\n      <td>Burlington Industries Corporate</td>\n      <td>0</td>\n    </tr>\n  </tbody>\n</table>\n<p>497572 rows × 3 columns</p>\n</div>"
     },
     "execution_count": 41,
     "metadata": {},
     "output_type": "execute_result"
    }
   ],
   "source": [
    "df"
   ],
   "metadata": {
    "collapsed": false,
    "pycharm": {
     "name": "#%%\n"
    }
   }
  },
  {
   "cell_type": "code",
   "execution_count": 42,
   "outputs": [],
   "source": [
    "df = df.merge(df_embs, how='left', left_on='name_1', right_on='name')\n",
    "df = df.drop(columns=['name'])\n",
    "df = df.rename({'emb': 'emb_1'}, axis=1)"
   ],
   "metadata": {
    "collapsed": false,
    "pycharm": {
     "name": "#%%\n"
    }
   }
  },
  {
   "cell_type": "code",
   "execution_count": 43,
   "outputs": [],
   "source": [
    "df = df.merge(df_embs, how='left', left_on='name_2', right_on='name')\n",
    "df = df.drop(columns=['name'])\n",
    "df = df.rename({'emb': 'emb_2'}, axis=1)"
   ],
   "metadata": {
    "collapsed": false,
    "pycharm": {
     "name": "#%%\n"
    }
   }
  },
  {
   "cell_type": "code",
   "execution_count": 44,
   "outputs": [
    {
     "data": {
      "text/plain": "                                              name_1  \\\n0                                Iko Industries Ltd.   \n1                            Apcotex Industries Ltd.   \n2                  Rishichem Distributors Pvt., Ltd.   \n3                            Powermax Rubber Factory   \n4                                          Tress A/S   \n...                                              ...   \n497567                              BIT-MAT PRODUCTS   \n497568                         Bnd Trading Co., Ltd.   \n497569  Xeikon Industrial Co., Ltd. Of Dongguan City   \n497570            Shanghai Kechuan Trading Co., Ltd.   \n497571                        Dih Wei Industries Co.   \n\n                                                   name_2  is_duplicate  \\\n0                    Enormous Industrial Trade Pvt., Ltd.             0   \n1                     Technocraft Industries (India) Ltd.             0   \n2                                                     Dsa             0   \n3                                                 Co. One             0   \n4                        Longyou Industries Park Zhejiang             0   \n...                                                   ...           ...   \n497567               The Goodyear Tire and Rubber Company             0   \n497568  Zhong Shan Yue Liang Economy& Trade Imp. & Exp...             0   \n497569        Yi Cheng Trading Co., Ltd. Of Dongguan City             0   \n497570                       Shanghai M&G Stationery Inc.             0   \n497571                    Burlington Industries Corporate             0   \n\n                  name_preproc_x  \\\n0                            iko   \n1                        apcotex   \n2         rishichem distributors   \n3        powermax rubber factory   \n4                          tress   \n...                          ...   \n497567          bit mat products   \n497568               bnd trading   \n497569   xeikon of dongguan city   \n497570  shanghai kechuan trading   \n497571                   dih wei   \n\n                                                    emb_1  \\\n0       [-0.05934986099600792, 0.06893619149923325, 0....   \n1       [-0.027187814936041832, 0.0036133553367108107,...   \n2       [-0.029004117473959923, 0.02204391174018383, -...   \n3       [-0.02773008868098259, 0.06848593056201935, -0...   \n4       [-0.07435113191604614, 0.0670902281999588, -0....   \n...                                                   ...   \n497567  [-0.032756511121988297, 0.010041077621281147, ...   \n497568  [-0.05821019038558006, -0.015586151741445065, ...   \n497569  [-0.07554799318313599, 0.06064029037952423, -0...   \n497570  [-0.050915852189064026, -0.010859746485948563,...   \n497571  [-0.042453598231077194, 0.015086648985743523, ...   \n\n                              name_preproc_y  \\\n0                             enormous trade   \n1                                technocraft   \n2                                        dsa   \n3                                        one   \n4                      longyou park zhejiang   \n...                                      ...   \n497567  the goodyear tire and rubber company   \n497568   zhong shan yue liang economy& trade   \n497569     yi cheng trading of dongguan city   \n497570               shanghai m&g stationery   \n497571                  burlington corporate   \n\n                                                    emb_2  \n0       [-0.05795746296644211, -0.028908999636769295, ...  \n1       [-0.045615799725055695, 0.012592996470630169, ...  \n2       [-0.1476079523563385, 0.003658777102828026, -0...  \n3       [-0.053144607692956924, -0.04593740776181221, ...  \n4       [0.0423990860581398, 0.04695170372724533, 0.08...  \n...                                                   ...  \n497567  [-0.055517975240945816, 0.023900089785456657, ...  \n497568  [-0.028075631707906723, 0.03612184897065163, 0...  \n497569  [-0.05994296446442604, 0.019235583022236824, 0...  \n497570  [-0.08534333854913712, 0.024522045627236366, 0...  \n497571  [-0.010184734128415585, -0.0009397707763127983...  \n\n[497572 rows x 7 columns]",
      "text/html": "<div>\n<style scoped>\n    .dataframe tbody tr th:only-of-type {\n        vertical-align: middle;\n    }\n\n    .dataframe tbody tr th {\n        vertical-align: top;\n    }\n\n    .dataframe thead th {\n        text-align: right;\n    }\n</style>\n<table border=\"1\" class=\"dataframe\">\n  <thead>\n    <tr style=\"text-align: right;\">\n      <th></th>\n      <th>name_1</th>\n      <th>name_2</th>\n      <th>is_duplicate</th>\n      <th>name_preproc_x</th>\n      <th>emb_1</th>\n      <th>name_preproc_y</th>\n      <th>emb_2</th>\n    </tr>\n  </thead>\n  <tbody>\n    <tr>\n      <th>0</th>\n      <td>Iko Industries Ltd.</td>\n      <td>Enormous Industrial Trade Pvt., Ltd.</td>\n      <td>0</td>\n      <td>iko</td>\n      <td>[-0.05934986099600792, 0.06893619149923325, 0....</td>\n      <td>enormous trade</td>\n      <td>[-0.05795746296644211, -0.028908999636769295, ...</td>\n    </tr>\n    <tr>\n      <th>1</th>\n      <td>Apcotex Industries Ltd.</td>\n      <td>Technocraft Industries (India) Ltd.</td>\n      <td>0</td>\n      <td>apcotex</td>\n      <td>[-0.027187814936041832, 0.0036133553367108107,...</td>\n      <td>technocraft</td>\n      <td>[-0.045615799725055695, 0.012592996470630169, ...</td>\n    </tr>\n    <tr>\n      <th>2</th>\n      <td>Rishichem Distributors Pvt., Ltd.</td>\n      <td>Dsa</td>\n      <td>0</td>\n      <td>rishichem distributors</td>\n      <td>[-0.029004117473959923, 0.02204391174018383, -...</td>\n      <td>dsa</td>\n      <td>[-0.1476079523563385, 0.003658777102828026, -0...</td>\n    </tr>\n    <tr>\n      <th>3</th>\n      <td>Powermax Rubber Factory</td>\n      <td>Co. One</td>\n      <td>0</td>\n      <td>powermax rubber factory</td>\n      <td>[-0.02773008868098259, 0.06848593056201935, -0...</td>\n      <td>one</td>\n      <td>[-0.053144607692956924, -0.04593740776181221, ...</td>\n    </tr>\n    <tr>\n      <th>4</th>\n      <td>Tress A/S</td>\n      <td>Longyou Industries Park Zhejiang</td>\n      <td>0</td>\n      <td>tress</td>\n      <td>[-0.07435113191604614, 0.0670902281999588, -0....</td>\n      <td>longyou park zhejiang</td>\n      <td>[0.0423990860581398, 0.04695170372724533, 0.08...</td>\n    </tr>\n    <tr>\n      <th>...</th>\n      <td>...</td>\n      <td>...</td>\n      <td>...</td>\n      <td>...</td>\n      <td>...</td>\n      <td>...</td>\n      <td>...</td>\n    </tr>\n    <tr>\n      <th>497567</th>\n      <td>BIT-MAT PRODUCTS</td>\n      <td>The Goodyear Tire and Rubber Company</td>\n      <td>0</td>\n      <td>bit mat products</td>\n      <td>[-0.032756511121988297, 0.010041077621281147, ...</td>\n      <td>the goodyear tire and rubber company</td>\n      <td>[-0.055517975240945816, 0.023900089785456657, ...</td>\n    </tr>\n    <tr>\n      <th>497568</th>\n      <td>Bnd Trading Co., Ltd.</td>\n      <td>Zhong Shan Yue Liang Economy&amp; Trade Imp. &amp; Exp...</td>\n      <td>0</td>\n      <td>bnd trading</td>\n      <td>[-0.05821019038558006, -0.015586151741445065, ...</td>\n      <td>zhong shan yue liang economy&amp; trade</td>\n      <td>[-0.028075631707906723, 0.03612184897065163, 0...</td>\n    </tr>\n    <tr>\n      <th>497569</th>\n      <td>Xeikon Industrial Co., Ltd. Of Dongguan City</td>\n      <td>Yi Cheng Trading Co., Ltd. Of Dongguan City</td>\n      <td>0</td>\n      <td>xeikon of dongguan city</td>\n      <td>[-0.07554799318313599, 0.06064029037952423, -0...</td>\n      <td>yi cheng trading of dongguan city</td>\n      <td>[-0.05994296446442604, 0.019235583022236824, 0...</td>\n    </tr>\n    <tr>\n      <th>497570</th>\n      <td>Shanghai Kechuan Trading Co., Ltd.</td>\n      <td>Shanghai M&amp;G Stationery Inc.</td>\n      <td>0</td>\n      <td>shanghai kechuan trading</td>\n      <td>[-0.050915852189064026, -0.010859746485948563,...</td>\n      <td>shanghai m&amp;g stationery</td>\n      <td>[-0.08534333854913712, 0.024522045627236366, 0...</td>\n    </tr>\n    <tr>\n      <th>497571</th>\n      <td>Dih Wei Industries Co.</td>\n      <td>Burlington Industries Corporate</td>\n      <td>0</td>\n      <td>dih wei</td>\n      <td>[-0.042453598231077194, 0.015086648985743523, ...</td>\n      <td>burlington corporate</td>\n      <td>[-0.010184734128415585, -0.0009397707763127983...</td>\n    </tr>\n  </tbody>\n</table>\n<p>497572 rows × 7 columns</p>\n</div>"
     },
     "execution_count": 44,
     "metadata": {},
     "output_type": "execute_result"
    }
   ],
   "source": [
    "df"
   ],
   "metadata": {
    "collapsed": false,
    "pycharm": {
     "name": "#%%\n"
    }
   }
  },
  {
   "cell_type": "code",
   "execution_count": 45,
   "outputs": [
    {
     "data": {
      "text/plain": "(497572, 384)"
     },
     "execution_count": 45,
     "metadata": {},
     "output_type": "execute_result"
    }
   ],
   "source": [
    "np.stack(df.emb_1).shape"
   ],
   "metadata": {
    "collapsed": false,
    "pycharm": {
     "name": "#%%\n"
    }
   }
  },
  {
   "cell_type": "markdown",
   "source": [
    "### Add vectors to qdrant"
   ],
   "metadata": {
    "collapsed": false,
    "pycharm": {
     "name": "#%% md\n"
    }
   }
  },
  {
   "cell_type": "code",
   "execution_count": null,
   "outputs": [],
   "source": [
    "# !docker pull qdrant/qdrant"
   ],
   "metadata": {
    "collapsed": false,
    "pycharm": {
     "name": "#%%\n"
    }
   }
  },
  {
   "cell_type": "code",
   "execution_count": null,
   "outputs": [],
   "source": [
    "# !docker run --name qdrant -d -p 6333:6333 --net=bridge qdrant/qdrant"
   ],
   "metadata": {
    "collapsed": false,
    "pycharm": {
     "name": "#%%\n"
    }
   }
  },
  {
   "cell_type": "code",
   "execution_count": 63,
   "outputs": [],
   "source": [
    "# df_embs = pd.read_parquet('../data/df_embs_preproc_1.parquet')"
   ],
   "metadata": {
    "collapsed": false,
    "pycharm": {
     "name": "#%%\n"
    }
   }
  },
  {
   "cell_type": "code",
   "execution_count": 46,
   "outputs": [],
   "source": [
    "qdrant_client = QdrantClient(host='0.0.0.0', port=6333)"
   ],
   "metadata": {
    "collapsed": false,
    "pycharm": {
     "name": "#%%\n"
    }
   }
  },
  {
   "cell_type": "code",
   "execution_count": 2,
   "outputs": [],
   "source": [
    "def create_collection_and_upload(vectors, payload, ids, col_name, vec_shape, bs):\n",
    "    qdrant_client.recreate_collection(collection_name=col_name,\n",
    "                                      vectors_config=models.VectorParams(size=vec_shape, distance=models.Distance.COSINE),\n",
    "                                      on_disk_payload=True)\n",
    "    qdrant_client.upload_collection(\n",
    "        collection_name=col_name,\n",
    "        vectors=vectors,\n",
    "        payload=payload,\n",
    "        ids=ids,\n",
    "        batch_size=bs,\n",
    "        parallel=6\n",
    "    )\n",
    "    col = qdrant_client.get_collection(col_name)\n",
    "    return col"
   ],
   "metadata": {
    "collapsed": false,
    "pycharm": {
     "name": "#%%\n"
    }
   }
  },
  {
   "cell_type": "code",
   "execution_count": 48,
   "outputs": [],
   "source": [
    "vectors = np.stack(df_embs.emb)\n",
    "payload = df_embs.rename({'name': 'original_name'}, axis=1)[['original_name']].to_dict(orient='records')\n",
    "ids = df_embs.index.values.tolist()\n",
    "col_name = 'companies'\n",
    "vec_shape = vectors.shape[1]\n",
    "bs = 1024"
   ],
   "metadata": {
    "collapsed": false,
    "pycharm": {
     "name": "#%%\n"
    }
   }
  },
  {
   "cell_type": "code",
   "execution_count": 49,
   "outputs": [],
   "source": [
    "col = create_collection_and_upload(vectors, payload, ids, col_name, vec_shape, bs)"
   ],
   "metadata": {
    "collapsed": false,
    "pycharm": {
     "name": "#%%\n"
    }
   }
  },
  {
   "cell_type": "code",
   "execution_count": 50,
   "outputs": [
    {
     "data": {
      "text/plain": "18022"
     },
     "execution_count": 50,
     "metadata": {},
     "output_type": "execute_result"
    }
   ],
   "source": [
    "col.points_count"
   ],
   "metadata": {
    "collapsed": false,
    "pycharm": {
     "name": "#%%\n"
    }
   }
  },
  {
   "cell_type": "markdown",
   "source": [
    "### Similarity search with cosine distance"
   ],
   "metadata": {
    "collapsed": false,
    "pycharm": {
     "name": "#%% md\n"
    }
   }
  },
  {
   "cell_type": "code",
   "execution_count": 51,
   "outputs": [],
   "source": [
    "model = SentenceTransformer('all-MiniLM-L6-v2')"
   ],
   "metadata": {
    "collapsed": false,
    "pycharm": {
     "name": "#%%\n"
    }
   }
  },
  {
   "cell_type": "code",
   "execution_count": 3,
   "outputs": [],
   "source": [
    "from experiments.preprocess import preproc, stopwords"
   ],
   "metadata": {
    "collapsed": false,
    "pycharm": {
     "name": "#%%\n"
    }
   }
  },
  {
   "cell_type": "code",
   "execution_count": 4,
   "outputs": [],
   "source": [
    "def inference(company_name_original, col_name, model, limit=30, df_embs=None, preproc_text=False, debug=False):\n",
    "    if preproc_text:\n",
    "        company_name = preproc(company_name_original, stopwords)\n",
    "    else:\n",
    "        company_name = company_name_original\n",
    "\n",
    "    if debug:\n",
    "        print(f'company name:{company_name}')\n",
    "\n",
    "    if df_embs is None:\n",
    "        qvector = model.encode(company_name)\n",
    "    else:\n",
    "        qvector = np.stack(df_embs[df_embs['name'] == company_name].emb)[0]\n",
    "\n",
    "    search_result = qdrant_client.search(\n",
    "        collection_name=col_name,\n",
    "        query_vector=qvector,\n",
    "        query_filter=models.Filter(\n",
    "            must_not=[\n",
    "                models.FieldCondition(\n",
    "                    key=\"original_name\",\n",
    "                    match=models.MatchValue(value=company_name_original)\n",
    "                ),\n",
    "            ]\n",
    "        ),\n",
    "        limit=limit,\n",
    "        offset=0\n",
    "    )\n",
    "    return search_result#[r for r in search_result if r.payload['name'] != company_name]"
   ],
   "metadata": {
    "collapsed": false,
    "pycharm": {
     "name": "#%%\n"
    }
   }
  },
  {
   "cell_type": "code",
   "execution_count": 54,
   "outputs": [
    {
     "data": {
      "text/plain": "[ScoredPoint(id=9176, version=10, score=0.8766744, payload={'original_name': 'Dow Chemical Pacific Ltd.'}, vector=None),\n ScoredPoint(id=5474, version=5, score=0.8710414, payload={'original_name': 'Dow Chemical International Private Ltd.'}, vector=None),\n ScoredPoint(id=8733, version=10, score=0.8694346, payload={'original_name': 'The Dow Chemical Company'}, vector=None),\n ScoredPoint(id=608, version=4, score=0.83456326, payload={'original_name': 'Dow Chemical Thailand Ltd.'}, vector=None),\n ScoredPoint(id=2892, version=1, score=0.8277112, payload={'original_name': 'Dow Chemical'}, vector=None),\n ScoredPoint(id=12778, version=15, score=0.81730974, payload={'original_name': 'Yuanbai Chemicals (Shanghai) Co., Ltd.'}, vector=None),\n ScoredPoint(id=6102, version=5, score=0.8106376, payload={'original_name': 'Shanghai Yikang Chemicals & Industries Co., Ltd.'}, vector=None),\n ScoredPoint(id=566, version=4, score=0.8073822, payload={'original_name': 'Shanghai Origin Chem International Trading Co., Ltd.'}, vector=None),\n ScoredPoint(id=9193, version=10, score=0.8068723, payload={'original_name': 'Shanghai Manyi Chemical Co., Ltd.'}, vector=None),\n ScoredPoint(id=5526, version=5, score=0.80364966, payload={'original_name': 'Shanghai Prevision Chemicals Co., Ltd.'}, vector=None),\n ScoredPoint(id=264, version=4, score=0.7966597, payload={'original_name': 'China Chem Co., Ltd.'}, vector=None),\n ScoredPoint(id=3748, version=2, score=0.79380906, payload={'original_name': 'Dow Chemical Pacific'}, vector=None),\n ScoredPoint(id=8365, version=10, score=0.7851604, payload={'original_name': 'Eastman (Shanghai) Chemical Commercial Co., Ltd.'}, vector=None),\n ScoredPoint(id=8855, version=10, score=0.7815751, payload={'original_name': 'Shanghai Uniwell Chemical Co., Ltd.'}, vector=None),\n ScoredPoint(id=7178, version=9, score=0.7784134, payload={'original_name': 'Shanghai Yi Duo Ke Chemical Co., Ltd.'}, vector=None),\n ScoredPoint(id=5456, version=5, score=0.7763756, payload={'original_name': 'Shanghai Junxin Chemical Co., Ltd.'}, vector=None),\n ScoredPoint(id=17812, version=12, score=0.77622634, payload={'original_name': 'Zhangzhou Hongtai Chemical Co., Ltd'}, vector=None),\n ScoredPoint(id=8414, version=10, score=0.77480435, payload={'original_name': 'Shanghai Ranyuan Chemical Technology Co., Ltd.'}, vector=None),\n ScoredPoint(id=9170, version=10, score=0.7729964, payload={'original_name': 'Shanghai Wo Code Chemical Co., Ltd.'}, vector=None),\n ScoredPoint(id=35, version=4, score=0.76769304, payload={'original_name': 'Lord Fine Chemical (Shanghai) Co., Ltd.'}, vector=None),\n ScoredPoint(id=10535, version=11, score=0.7647465, payload={'original_name': 'Shenzhen Runbei Chemical Co., Ltd.'}, vector=None),\n ScoredPoint(id=5563, version=5, score=0.7609267, payload={'original_name': 'Shanghai Huixu Chemical Industry Co., Ltd.'}, vector=None),\n ScoredPoint(id=1384, version=0, score=0.7555704, payload={'original_name': 'Shanghai Yechuan Chemicals Co., Ltd.'}, vector=None),\n ScoredPoint(id=8138, version=9, score=0.75529647, payload={'original_name': 'Poly Chemicals (Shanghai) Co., Ltd.'}, vector=None),\n ScoredPoint(id=10798, version=11, score=0.74850476, payload={'original_name': 'Kun Shan Pan Qing Chemical Co., Ltd.'}, vector=None),\n ScoredPoint(id=1223, version=0, score=0.74356055, payload={'original_name': 'Shanghai Shengyi Industry Co., Ltd.'}, vector=None),\n ScoredPoint(id=10505, version=11, score=0.74026215, payload={'original_name': 'Qingdao Jiawen Chemical Co., Ltd.'}, vector=None),\n ScoredPoint(id=1017, version=4, score=0.7380588, payload={'original_name': 'Zhangjiagang Yuansheng Chemical Industry Co., Ltd.'}, vector=None),\n ScoredPoint(id=6386, version=6, score=0.7374378, payload={'original_name': 'Shanghai Synthomer Chemicals Co., Ltd.'}, vector=None),\n ScoredPoint(id=7308, version=9, score=0.73358315, payload={'original_name': 'Taoshi Chemical (Zhangjiagang) Co., Ltd.'}, vector=None)]"
     },
     "execution_count": 54,
     "metadata": {},
     "output_type": "execute_result"
    }
   ],
   "source": [
    "inference('Dow Chemical (Shanghai) Co., Ltd.', col_name, model, preproc_text=False)"
   ],
   "metadata": {
    "collapsed": false,
    "pycharm": {
     "name": "#%%\n"
    }
   }
  },
  {
   "cell_type": "code",
   "execution_count": 55,
   "outputs": [
    {
     "data": {
      "text/plain": "                                         name_1  \\\n11987         Dow Chemical (Shanghai) Co., Ltd.   \n84089   Dow Chemical International Private Ltd.   \n145164        Dow Chemical (Shanghai) Co., Ltd.   \n223104        Dow Chemical (Shanghai) Co., Ltd.   \n223944                Dow Chemical Pacific Ltd.   \n286950                     Dow Chemical Pacific   \n381110               Dow Chemical Thailand Ltd.   \n388593                             Dow Chemical   \n422738        Dow Chemical (Shanghai) Co., Ltd.   \n493048        Dow Chemical (Shanghai) Co., Ltd.   \n\n                                         name_2  is_duplicate name_preproc_x  \\\n11987                 Dow Chemical Pacific Ltd.             1   dow chemical   \n84089         Dow Chemical (Shanghai) Co., Ltd.             1   dow chemical   \n145164  Dow Chemical International Private Ltd.             1   dow chemical   \n223104                             Dow Chemical             1   dow chemical   \n223944        Dow Chemical (Shanghai) Co., Ltd.             1   dow chemical   \n286950        Dow Chemical (Shanghai) Co., Ltd.             1   dow chemical   \n381110        Dow Chemical (Shanghai) Co., Ltd.             1   dow chemical   \n388593        Dow Chemical (Shanghai) Co., Ltd.             1   dow chemical   \n422738                     Dow Chemical Pacific             1   dow chemical   \n493048               Dow Chemical Thailand Ltd.             1   dow chemical   \n\n                                                    emb_1 name_preproc_y  \\\n11987   [-0.03864812105894089, 0.0032505786512047052, ...   dow chemical   \n84089   [-0.03750493377447128, 0.0004331097879912704, ...   dow chemical   \n145164  [-0.03864812105894089, 0.0032505786512047052, ...   dow chemical   \n223104  [-0.03864812105894089, 0.0032505786512047052, ...   dow chemical   \n223944  [-0.03055720031261444, 0.0038767859805375338, ...   dow chemical   \n286950  [-0.03130755200982094, -0.012462282553315163, ...   dow chemical   \n381110  [-0.04509812220931053, 0.03672919049859047, -0...   dow chemical   \n388593  [-0.06868678331375122, -0.01470722071826458, -...   dow chemical   \n422738  [-0.03864812105894089, 0.0032505786512047052, ...   dow chemical   \n493048  [-0.03864812105894089, 0.0032505786512047052, ...   dow chemical   \n\n                                                    emb_2  \n11987   [-0.03055720031261444, 0.0038767859805375338, ...  \n84089   [-0.03864812105894089, 0.0032505786512047052, ...  \n145164  [-0.03750493377447128, 0.0004331097879912704, ...  \n223104  [-0.06868678331375122, -0.01470722071826458, -...  \n223944  [-0.03864812105894089, 0.0032505786512047052, ...  \n286950  [-0.03864812105894089, 0.0032505786512047052, ...  \n381110  [-0.03864812105894089, 0.0032505786512047052, ...  \n388593  [-0.03864812105894089, 0.0032505786512047052, ...  \n422738  [-0.03130755200982094, -0.012462282553315163, ...  \n493048  [-0.04509812220931053, 0.03672919049859047, -0...  ",
      "text/html": "<div>\n<style scoped>\n    .dataframe tbody tr th:only-of-type {\n        vertical-align: middle;\n    }\n\n    .dataframe tbody tr th {\n        vertical-align: top;\n    }\n\n    .dataframe thead th {\n        text-align: right;\n    }\n</style>\n<table border=\"1\" class=\"dataframe\">\n  <thead>\n    <tr style=\"text-align: right;\">\n      <th></th>\n      <th>name_1</th>\n      <th>name_2</th>\n      <th>is_duplicate</th>\n      <th>name_preproc_x</th>\n      <th>emb_1</th>\n      <th>name_preproc_y</th>\n      <th>emb_2</th>\n    </tr>\n  </thead>\n  <tbody>\n    <tr>\n      <th>11987</th>\n      <td>Dow Chemical (Shanghai) Co., Ltd.</td>\n      <td>Dow Chemical Pacific Ltd.</td>\n      <td>1</td>\n      <td>dow chemical</td>\n      <td>[-0.03864812105894089, 0.0032505786512047052, ...</td>\n      <td>dow chemical</td>\n      <td>[-0.03055720031261444, 0.0038767859805375338, ...</td>\n    </tr>\n    <tr>\n      <th>84089</th>\n      <td>Dow Chemical International Private Ltd.</td>\n      <td>Dow Chemical (Shanghai) Co., Ltd.</td>\n      <td>1</td>\n      <td>dow chemical</td>\n      <td>[-0.03750493377447128, 0.0004331097879912704, ...</td>\n      <td>dow chemical</td>\n      <td>[-0.03864812105894089, 0.0032505786512047052, ...</td>\n    </tr>\n    <tr>\n      <th>145164</th>\n      <td>Dow Chemical (Shanghai) Co., Ltd.</td>\n      <td>Dow Chemical International Private Ltd.</td>\n      <td>1</td>\n      <td>dow chemical</td>\n      <td>[-0.03864812105894089, 0.0032505786512047052, ...</td>\n      <td>dow chemical</td>\n      <td>[-0.03750493377447128, 0.0004331097879912704, ...</td>\n    </tr>\n    <tr>\n      <th>223104</th>\n      <td>Dow Chemical (Shanghai) Co., Ltd.</td>\n      <td>Dow Chemical</td>\n      <td>1</td>\n      <td>dow chemical</td>\n      <td>[-0.03864812105894089, 0.0032505786512047052, ...</td>\n      <td>dow chemical</td>\n      <td>[-0.06868678331375122, -0.01470722071826458, -...</td>\n    </tr>\n    <tr>\n      <th>223944</th>\n      <td>Dow Chemical Pacific Ltd.</td>\n      <td>Dow Chemical (Shanghai) Co., Ltd.</td>\n      <td>1</td>\n      <td>dow chemical</td>\n      <td>[-0.03055720031261444, 0.0038767859805375338, ...</td>\n      <td>dow chemical</td>\n      <td>[-0.03864812105894089, 0.0032505786512047052, ...</td>\n    </tr>\n    <tr>\n      <th>286950</th>\n      <td>Dow Chemical Pacific</td>\n      <td>Dow Chemical (Shanghai) Co., Ltd.</td>\n      <td>1</td>\n      <td>dow chemical</td>\n      <td>[-0.03130755200982094, -0.012462282553315163, ...</td>\n      <td>dow chemical</td>\n      <td>[-0.03864812105894089, 0.0032505786512047052, ...</td>\n    </tr>\n    <tr>\n      <th>381110</th>\n      <td>Dow Chemical Thailand Ltd.</td>\n      <td>Dow Chemical (Shanghai) Co., Ltd.</td>\n      <td>1</td>\n      <td>dow chemical</td>\n      <td>[-0.04509812220931053, 0.03672919049859047, -0...</td>\n      <td>dow chemical</td>\n      <td>[-0.03864812105894089, 0.0032505786512047052, ...</td>\n    </tr>\n    <tr>\n      <th>388593</th>\n      <td>Dow Chemical</td>\n      <td>Dow Chemical (Shanghai) Co., Ltd.</td>\n      <td>1</td>\n      <td>dow chemical</td>\n      <td>[-0.06868678331375122, -0.01470722071826458, -...</td>\n      <td>dow chemical</td>\n      <td>[-0.03864812105894089, 0.0032505786512047052, ...</td>\n    </tr>\n    <tr>\n      <th>422738</th>\n      <td>Dow Chemical (Shanghai) Co., Ltd.</td>\n      <td>Dow Chemical Pacific</td>\n      <td>1</td>\n      <td>dow chemical</td>\n      <td>[-0.03864812105894089, 0.0032505786512047052, ...</td>\n      <td>dow chemical</td>\n      <td>[-0.03130755200982094, -0.012462282553315163, ...</td>\n    </tr>\n    <tr>\n      <th>493048</th>\n      <td>Dow Chemical (Shanghai) Co., Ltd.</td>\n      <td>Dow Chemical Thailand Ltd.</td>\n      <td>1</td>\n      <td>dow chemical</td>\n      <td>[-0.03864812105894089, 0.0032505786512047052, ...</td>\n      <td>dow chemical</td>\n      <td>[-0.04509812220931053, 0.03672919049859047, -0...</td>\n    </tr>\n  </tbody>\n</table>\n</div>"
     },
     "execution_count": 55,
     "metadata": {},
     "output_type": "execute_result"
    }
   ],
   "source": [
    "df[((df.name_1 == 'Dow Chemical (Shanghai) Co., Ltd.') | (df.name_2 == 'Dow Chemical (Shanghai) Co., Ltd.')) & df.is_duplicate == 1]"
   ],
   "metadata": {
    "collapsed": false,
    "pycharm": {
     "name": "#%%\n"
    }
   }
  },
  {
   "cell_type": "markdown",
   "source": [
    "### Calculate metrics"
   ],
   "metadata": {
    "collapsed": false,
    "pycharm": {
     "name": "#%% md\n"
    }
   }
  },
  {
   "cell_type": "code",
   "execution_count": 56,
   "outputs": [],
   "source": [
    "# Select test dataset\n",
    "df_isdup = df[df.is_duplicate == 1]\n",
    "names = np.unique(np.concatenate([df_isdup.name_1, df_isdup.name_2]))"
   ],
   "metadata": {
    "collapsed": false,
    "pycharm": {
     "name": "#%%\n"
    }
   }
  },
  {
   "cell_type": "code",
   "execution_count": 57,
   "outputs": [
    {
     "data": {
      "text/plain": "array([' Alfagomma', ' CONTITECH TRANSPORTBANDSYSTEME GMBH',\n       ' SO.F.TER. SPA', ..., 'ФИЛИАЛ КОМПАНИИ ЭКСОН НЕФТЕГАЗ ЛИМИТЕД',\n       'ФИЛИАЛ КОМПАНИИ\"ЭКСОН НЕФТЕГАЗ ЛИМИТЕД\"', 'ХИМИНВЕСТ ГРУПП, ООО'],\n      dtype=object)"
     },
     "execution_count": 57,
     "metadata": {},
     "output_type": "execute_result"
    }
   ],
   "source": [
    "names"
   ],
   "metadata": {
    "collapsed": false,
    "pycharm": {
     "name": "#%%\n"
    }
   }
  },
  {
   "cell_type": "code",
   "execution_count": null,
   "outputs": [],
   "source": [],
   "metadata": {
    "collapsed": false,
    "pycharm": {
     "name": "#%%\n"
    }
   }
  },
  {
   "cell_type": "code",
   "execution_count": 5,
   "outputs": [],
   "source": [
    "def precision_score_at_k(k, names, unique_groups, model, df_embs, col_name, debug, preproc_text=False):\n",
    "    scores = []\n",
    "    for item in tqdm(names):\n",
    "        q_name = item\n",
    "        res = inference(q_name, col_name, model, limit=k, df_embs=df_embs, preproc_text=preproc_text, debug=debug)\n",
    "        found_name = res[0].payload['original_name']\n",
    "        if debug:\n",
    "            print(res)\n",
    "            print(f'q_name {q_name}')\n",
    "            print(f'found_name {found_name}')\n",
    "\n",
    "        # todo p@ k > 1\n",
    "        # ap_k = 1/k * ()\n",
    "        # for i in enumerate(range(11)):\n",
    "\n",
    "        for ugroup in unique_groups:\n",
    "            if q_name in ugroup:\n",
    "                if debug:\n",
    "                    print(ugroup)\n",
    "                if found_name in ugroup:\n",
    "                    scores.append((q_name, found_name))\n",
    "                    if debug:\n",
    "                        print('GOOD')\n",
    "                break\n",
    "\n",
    "        if debug:\n",
    "            break\n",
    "\n",
    "    return scores #len(scores) / len(names)"
   ],
   "metadata": {
    "collapsed": false,
    "pycharm": {
     "name": "#%%\n"
    }
   }
  },
  {
   "cell_type": "code",
   "execution_count": 6,
   "outputs": [],
   "source": [
    "# DATASET GROUPINGS\n",
    "def get_unique_groups(names, df_isdup):\n",
    "    company_groups = []\n",
    "    for company_name in tqdm(names):\n",
    "        tmpdf_names_1 = set(df_isdup[df_isdup.name_2 == company_name].name_1.tolist())\n",
    "        tmpdf_names_2 = set(df_isdup[df_isdup.name_1 == company_name].name_2.tolist())\n",
    "        tmpdf_names_1.update(tmpdf_names_2)\n",
    "        tmpdf_names_1.update([company_name])\n",
    "        for comp_name in tmpdf_names_1.copy():\n",
    "            tmpdf_names_1_ = set(df_isdup[df_isdup.name_2 == comp_name].name_1.tolist())\n",
    "            tmpdf_names_2_ = set(df_isdup[df_isdup.name_1 == comp_name].name_2.tolist())\n",
    "            tmpdf_names_1_.update(tmpdf_names_2_)\n",
    "            tmpdf_names_1.update(tmpdf_names_1_)\n",
    "\n",
    "        tmpdf_names_1 = sorted(tmpdf_names_1)\n",
    "        company_groups.append(tmpdf_names_1)\n",
    "\n",
    "    unique_groups = []\n",
    "    for group in company_groups:\n",
    "        if group not in unique_groups:\n",
    "            unique_groups.append(group)\n",
    "\n",
    "    return unique_groups"
   ],
   "metadata": {
    "collapsed": false,
    "pycharm": {
     "name": "#%%\n"
    }
   }
  },
  {
   "cell_type": "code",
   "execution_count": 60,
   "outputs": [
    {
     "name": "stderr",
     "output_type": "stream",
     "text": [
      "100%|██████████| 1394/1394 [00:11<00:00, 124.62it/s]\n"
     ]
    }
   ],
   "source": [
    "unique_groups = get_unique_groups(names, df[df.is_duplicate == 1])"
   ],
   "metadata": {
    "collapsed": false,
    "pycharm": {
     "name": "#%%\n"
    }
   }
  },
  {
   "cell_type": "code",
   "execution_count": 61,
   "outputs": [
    {
     "data": {
      "text/plain": "             name name_preproc  \\\n16508   Alfagomma    alfagomma   \n\n                                                     emb  \n16508  [-0.062376949936151505, 0.05818292871117592, -...  ",
      "text/html": "<div>\n<style scoped>\n    .dataframe tbody tr th:only-of-type {\n        vertical-align: middle;\n    }\n\n    .dataframe tbody tr th {\n        vertical-align: top;\n    }\n\n    .dataframe thead th {\n        text-align: right;\n    }\n</style>\n<table border=\"1\" class=\"dataframe\">\n  <thead>\n    <tr style=\"text-align: right;\">\n      <th></th>\n      <th>name</th>\n      <th>name_preproc</th>\n      <th>emb</th>\n    </tr>\n  </thead>\n  <tbody>\n    <tr>\n      <th>16508</th>\n      <td>Alfagomma</td>\n      <td>alfagomma</td>\n      <td>[-0.062376949936151505, 0.05818292871117592, -...</td>\n    </tr>\n  </tbody>\n</table>\n</div>"
     },
     "execution_count": 61,
     "metadata": {},
     "output_type": "execute_result"
    }
   ],
   "source": [
    "df_embs[df_embs.name == names[0]]"
   ],
   "metadata": {
    "collapsed": false,
    "pycharm": {
     "name": "#%%\n"
    }
   }
  },
  {
   "cell_type": "code",
   "execution_count": 62,
   "outputs": [
    {
     "name": "stderr",
     "output_type": "stream",
     "text": [
      "100%|██████████| 1394/1394 [01:45<00:00, 13.18it/s]\n"
     ]
    }
   ],
   "source": [
    "map_score = precision_score_at_k(1,\n",
    "                                 names,#[19:],\n",
    "                                 unique_groups,\n",
    "                                 model,\n",
    "                                 df_embs,#.rename({'name':'tmp', 'name_preproc': 'name'}, axis=1),\n",
    "                                 col_name,\n",
    "                                 debug=False, preproc_text=False\n",
    "                                 )\n",
    "# map_score"
   ],
   "metadata": {
    "collapsed": false,
    "pycharm": {
     "name": "#%%\n"
    }
   }
  },
  {
   "cell_type": "code",
   "execution_count": 63,
   "outputs": [
    {
     "name": "stdout",
     "output_type": "stream",
     "text": [
      "Precision@1=0.5746054519368723\n"
     ]
    }
   ],
   "source": [
    "print(f'Precision@1={len(map_score) / len(names)}')"
   ],
   "metadata": {
    "collapsed": false,
    "pycharm": {
     "name": "#%%\n"
    }
   }
  },
  {
   "cell_type": "markdown",
   "source": [
    "# Qdrant + Preprocess"
   ],
   "metadata": {
    "collapsed": false,
    "pycharm": {
     "name": "#%% md\n"
    }
   }
  },
  {
   "cell_type": "code",
   "execution_count": 64,
   "outputs": [],
   "source": [
    "df_emb = pd.read_parquet('../data/df_embs_preproc_1.parquet')"
   ],
   "metadata": {
    "collapsed": false,
    "pycharm": {
     "name": "#%%\n"
    }
   }
  },
  {
   "cell_type": "code",
   "execution_count": 65,
   "outputs": [],
   "source": [
    "df = pd.read_parquet('../data/all_lang_train.parquet')"
   ],
   "metadata": {
    "collapsed": false,
    "pycharm": {
     "name": "#%%\n"
    }
   }
  },
  {
   "cell_type": "code",
   "execution_count": 66,
   "outputs": [
    {
     "data": {
      "text/plain": "                                              name_1  \\\n0                                Iko Industries Ltd.   \n1                            Apcotex Industries Ltd.   \n2                  Rishichem Distributors Pvt., Ltd.   \n3                            Powermax Rubber Factory   \n4                                          Tress A/S   \n...                                              ...   \n497567                              BIT-MAT PRODUCTS   \n497568                         Bnd Trading Co., Ltd.   \n497569  Xeikon Industrial Co., Ltd. Of Dongguan City   \n497570            Shanghai Kechuan Trading Co., Ltd.   \n497571                        Dih Wei Industries Co.   \n\n                                                   name_2  is_duplicate  \n0                    Enormous Industrial Trade Pvt., Ltd.             0  \n1                     Technocraft Industries (India) Ltd.             0  \n2                                                     Dsa             0  \n3                                                 Co. One             0  \n4                        Longyou Industries Park Zhejiang             0  \n...                                                   ...           ...  \n497567               The Goodyear Tire and Rubber Company             0  \n497568  Zhong Shan Yue Liang Economy& Trade Imp. & Exp...             0  \n497569        Yi Cheng Trading Co., Ltd. Of Dongguan City             0  \n497570                       Shanghai M&G Stationery Inc.             0  \n497571                    Burlington Industries Corporate             0  \n\n[497572 rows x 3 columns]",
      "text/html": "<div>\n<style scoped>\n    .dataframe tbody tr th:only-of-type {\n        vertical-align: middle;\n    }\n\n    .dataframe tbody tr th {\n        vertical-align: top;\n    }\n\n    .dataframe thead th {\n        text-align: right;\n    }\n</style>\n<table border=\"1\" class=\"dataframe\">\n  <thead>\n    <tr style=\"text-align: right;\">\n      <th></th>\n      <th>name_1</th>\n      <th>name_2</th>\n      <th>is_duplicate</th>\n    </tr>\n  </thead>\n  <tbody>\n    <tr>\n      <th>0</th>\n      <td>Iko Industries Ltd.</td>\n      <td>Enormous Industrial Trade Pvt., Ltd.</td>\n      <td>0</td>\n    </tr>\n    <tr>\n      <th>1</th>\n      <td>Apcotex Industries Ltd.</td>\n      <td>Technocraft Industries (India) Ltd.</td>\n      <td>0</td>\n    </tr>\n    <tr>\n      <th>2</th>\n      <td>Rishichem Distributors Pvt., Ltd.</td>\n      <td>Dsa</td>\n      <td>0</td>\n    </tr>\n    <tr>\n      <th>3</th>\n      <td>Powermax Rubber Factory</td>\n      <td>Co. One</td>\n      <td>0</td>\n    </tr>\n    <tr>\n      <th>4</th>\n      <td>Tress A/S</td>\n      <td>Longyou Industries Park Zhejiang</td>\n      <td>0</td>\n    </tr>\n    <tr>\n      <th>...</th>\n      <td>...</td>\n      <td>...</td>\n      <td>...</td>\n    </tr>\n    <tr>\n      <th>497567</th>\n      <td>BIT-MAT PRODUCTS</td>\n      <td>The Goodyear Tire and Rubber Company</td>\n      <td>0</td>\n    </tr>\n    <tr>\n      <th>497568</th>\n      <td>Bnd Trading Co., Ltd.</td>\n      <td>Zhong Shan Yue Liang Economy&amp; Trade Imp. &amp; Exp...</td>\n      <td>0</td>\n    </tr>\n    <tr>\n      <th>497569</th>\n      <td>Xeikon Industrial Co., Ltd. Of Dongguan City</td>\n      <td>Yi Cheng Trading Co., Ltd. Of Dongguan City</td>\n      <td>0</td>\n    </tr>\n    <tr>\n      <th>497570</th>\n      <td>Shanghai Kechuan Trading Co., Ltd.</td>\n      <td>Shanghai M&amp;G Stationery Inc.</td>\n      <td>0</td>\n    </tr>\n    <tr>\n      <th>497571</th>\n      <td>Dih Wei Industries Co.</td>\n      <td>Burlington Industries Corporate</td>\n      <td>0</td>\n    </tr>\n  </tbody>\n</table>\n<p>497572 rows × 3 columns</p>\n</div>"
     },
     "execution_count": 66,
     "metadata": {},
     "output_type": "execute_result"
    }
   ],
   "source": [
    "df"
   ],
   "metadata": {
    "collapsed": false,
    "pycharm": {
     "name": "#%%\n"
    }
   }
  },
  {
   "cell_type": "code",
   "execution_count": 67,
   "outputs": [],
   "source": [
    "df = df.merge(df_emb, how='left', left_on='name_1', right_on='name')\n",
    "df = df.drop(columns=['name'])\n",
    "df = df.rename({'emb': 'emb_1'}, axis=1)"
   ],
   "metadata": {
    "collapsed": false,
    "pycharm": {
     "name": "#%%\n"
    }
   }
  },
  {
   "cell_type": "code",
   "execution_count": 68,
   "outputs": [],
   "source": [
    "df = df.merge(df_emb, how='left', left_on='name_2', right_on='name')\n",
    "df = df.drop(columns=['name'])\n",
    "df = df.rename({'emb': 'emb_2'}, axis=1)"
   ],
   "metadata": {
    "collapsed": false,
    "pycharm": {
     "name": "#%%\n"
    }
   }
  },
  {
   "cell_type": "code",
   "execution_count": 69,
   "outputs": [
    {
     "data": {
      "text/plain": "                                              name_1  \\\n0                                Iko Industries Ltd.   \n1                            Apcotex Industries Ltd.   \n2                  Rishichem Distributors Pvt., Ltd.   \n3                            Powermax Rubber Factory   \n4                                          Tress A/S   \n...                                              ...   \n497567                              BIT-MAT PRODUCTS   \n497568                         Bnd Trading Co., Ltd.   \n497569  Xeikon Industrial Co., Ltd. Of Dongguan City   \n497570            Shanghai Kechuan Trading Co., Ltd.   \n497571                        Dih Wei Industries Co.   \n\n                                                   name_2  is_duplicate  \\\n0                    Enormous Industrial Trade Pvt., Ltd.             0   \n1                     Technocraft Industries (India) Ltd.             0   \n2                                                     Dsa             0   \n3                                                 Co. One             0   \n4                        Longyou Industries Park Zhejiang             0   \n...                                                   ...           ...   \n497567               The Goodyear Tire and Rubber Company             0   \n497568  Zhong Shan Yue Liang Economy& Trade Imp. & Exp...             0   \n497569        Yi Cheng Trading Co., Ltd. Of Dongguan City             0   \n497570                       Shanghai M&G Stationery Inc.             0   \n497571                    Burlington Industries Corporate             0   \n\n                  name_preproc_x  \\\n0                            iko   \n1                        apcotex   \n2         rishichem distributors   \n3        powermax rubber factory   \n4                          tress   \n...                          ...   \n497567          bit mat products   \n497568               bnd trading   \n497569   xeikon of dongguan city   \n497570  shanghai kechuan trading   \n497571                   dih wei   \n\n                                                    emb_1  \\\n0       [0.008997186087071896, -0.01706981100142002, -...   \n1       [0.005421018227934837, 0.017310479655861855, -...   \n2       [-0.010888855904340744, -0.04686060547828674, ...   \n3       [-0.017552083358168602, -0.0015446854522451758...   \n4       [0.044657666236162186, -0.05069291591644287, -...   \n...                                                   ...   \n497567  [0.01473778486251831, -0.036650754511356354, 0...   \n497568  [0.04614870250225067, -0.05307731777429581, -0...   \n497569  [-0.03605031222105026, 0.06106617674231529, -0...   \n497570  [0.025122083723545074, 0.03761020302772522, -0...   \n497571  [0.03775554522871971, 0.013192269019782543, -0...   \n\n                              name_preproc_y  \\\n0                             enormous trade   \n1                                technocraft   \n2                                        dsa   \n3                                        one   \n4                      longyou park zhejiang   \n...                                      ...   \n497567  the goodyear tire and rubber company   \n497568   zhong shan yue liang economy& trade   \n497569     yi cheng trading of dongguan city   \n497570               shanghai m&g stationery   \n497571                  burlington corporate   \n\n                                                    emb_2  \n0       [0.02667689323425293, -0.046701788902282715, -...  \n1       [-0.055486664175987244, 0.04864133894443512, -...  \n2       [0.0220376867800951, 0.02404574118554592, -0.0...  \n3       [0.04439183324575424, -0.08115479350090027, -0...  \n4       [0.037980083376169205, 0.13952958583831787, -0...  \n...                                                   ...  \n497567  [-0.02824639342725277, -0.03880760073661804, 0...  \n497568  [0.014954282902181149, 0.009358176961541176, -...  \n497569  [0.007113339379429817, 0.023789547383785248, -...  \n497570  [0.023444771766662598, 0.08165428787469864, -0...  \n497571  [-0.02609579637646675, -0.07743903249502182, 0...  \n\n[497572 rows x 7 columns]",
      "text/html": "<div>\n<style scoped>\n    .dataframe tbody tr th:only-of-type {\n        vertical-align: middle;\n    }\n\n    .dataframe tbody tr th {\n        vertical-align: top;\n    }\n\n    .dataframe thead th {\n        text-align: right;\n    }\n</style>\n<table border=\"1\" class=\"dataframe\">\n  <thead>\n    <tr style=\"text-align: right;\">\n      <th></th>\n      <th>name_1</th>\n      <th>name_2</th>\n      <th>is_duplicate</th>\n      <th>name_preproc_x</th>\n      <th>emb_1</th>\n      <th>name_preproc_y</th>\n      <th>emb_2</th>\n    </tr>\n  </thead>\n  <tbody>\n    <tr>\n      <th>0</th>\n      <td>Iko Industries Ltd.</td>\n      <td>Enormous Industrial Trade Pvt., Ltd.</td>\n      <td>0</td>\n      <td>iko</td>\n      <td>[0.008997186087071896, -0.01706981100142002, -...</td>\n      <td>enormous trade</td>\n      <td>[0.02667689323425293, -0.046701788902282715, -...</td>\n    </tr>\n    <tr>\n      <th>1</th>\n      <td>Apcotex Industries Ltd.</td>\n      <td>Technocraft Industries (India) Ltd.</td>\n      <td>0</td>\n      <td>apcotex</td>\n      <td>[0.005421018227934837, 0.017310479655861855, -...</td>\n      <td>technocraft</td>\n      <td>[-0.055486664175987244, 0.04864133894443512, -...</td>\n    </tr>\n    <tr>\n      <th>2</th>\n      <td>Rishichem Distributors Pvt., Ltd.</td>\n      <td>Dsa</td>\n      <td>0</td>\n      <td>rishichem distributors</td>\n      <td>[-0.010888855904340744, -0.04686060547828674, ...</td>\n      <td>dsa</td>\n      <td>[0.0220376867800951, 0.02404574118554592, -0.0...</td>\n    </tr>\n    <tr>\n      <th>3</th>\n      <td>Powermax Rubber Factory</td>\n      <td>Co. One</td>\n      <td>0</td>\n      <td>powermax rubber factory</td>\n      <td>[-0.017552083358168602, -0.0015446854522451758...</td>\n      <td>one</td>\n      <td>[0.04439183324575424, -0.08115479350090027, -0...</td>\n    </tr>\n    <tr>\n      <th>4</th>\n      <td>Tress A/S</td>\n      <td>Longyou Industries Park Zhejiang</td>\n      <td>0</td>\n      <td>tress</td>\n      <td>[0.044657666236162186, -0.05069291591644287, -...</td>\n      <td>longyou park zhejiang</td>\n      <td>[0.037980083376169205, 0.13952958583831787, -0...</td>\n    </tr>\n    <tr>\n      <th>...</th>\n      <td>...</td>\n      <td>...</td>\n      <td>...</td>\n      <td>...</td>\n      <td>...</td>\n      <td>...</td>\n      <td>...</td>\n    </tr>\n    <tr>\n      <th>497567</th>\n      <td>BIT-MAT PRODUCTS</td>\n      <td>The Goodyear Tire and Rubber Company</td>\n      <td>0</td>\n      <td>bit mat products</td>\n      <td>[0.01473778486251831, -0.036650754511356354, 0...</td>\n      <td>the goodyear tire and rubber company</td>\n      <td>[-0.02824639342725277, -0.03880760073661804, 0...</td>\n    </tr>\n    <tr>\n      <th>497568</th>\n      <td>Bnd Trading Co., Ltd.</td>\n      <td>Zhong Shan Yue Liang Economy&amp; Trade Imp. &amp; Exp...</td>\n      <td>0</td>\n      <td>bnd trading</td>\n      <td>[0.04614870250225067, -0.05307731777429581, -0...</td>\n      <td>zhong shan yue liang economy&amp; trade</td>\n      <td>[0.014954282902181149, 0.009358176961541176, -...</td>\n    </tr>\n    <tr>\n      <th>497569</th>\n      <td>Xeikon Industrial Co., Ltd. Of Dongguan City</td>\n      <td>Yi Cheng Trading Co., Ltd. Of Dongguan City</td>\n      <td>0</td>\n      <td>xeikon of dongguan city</td>\n      <td>[-0.03605031222105026, 0.06106617674231529, -0...</td>\n      <td>yi cheng trading of dongguan city</td>\n      <td>[0.007113339379429817, 0.023789547383785248, -...</td>\n    </tr>\n    <tr>\n      <th>497570</th>\n      <td>Shanghai Kechuan Trading Co., Ltd.</td>\n      <td>Shanghai M&amp;G Stationery Inc.</td>\n      <td>0</td>\n      <td>shanghai kechuan trading</td>\n      <td>[0.025122083723545074, 0.03761020302772522, -0...</td>\n      <td>shanghai m&amp;g stationery</td>\n      <td>[0.023444771766662598, 0.08165428787469864, -0...</td>\n    </tr>\n    <tr>\n      <th>497571</th>\n      <td>Dih Wei Industries Co.</td>\n      <td>Burlington Industries Corporate</td>\n      <td>0</td>\n      <td>dih wei</td>\n      <td>[0.03775554522871971, 0.013192269019782543, -0...</td>\n      <td>burlington corporate</td>\n      <td>[-0.02609579637646675, -0.07743903249502182, 0...</td>\n    </tr>\n  </tbody>\n</table>\n<p>497572 rows × 7 columns</p>\n</div>"
     },
     "execution_count": 69,
     "metadata": {},
     "output_type": "execute_result"
    }
   ],
   "source": [
    "df"
   ],
   "metadata": {
    "collapsed": false,
    "pycharm": {
     "name": "#%%\n"
    }
   }
  },
  {
   "cell_type": "code",
   "execution_count": 70,
   "outputs": [
    {
     "data": {
      "text/plain": "(497572, 512)"
     },
     "execution_count": 70,
     "metadata": {},
     "output_type": "execute_result"
    }
   ],
   "source": [
    "np.stack(df.emb_1).shape"
   ],
   "metadata": {
    "collapsed": false,
    "pycharm": {
     "name": "#%%\n"
    }
   }
  },
  {
   "cell_type": "code",
   "execution_count": 71,
   "outputs": [],
   "source": [
    "df_names = pd.read_parquet('../data/df_names_preproc.parquet')"
   ],
   "metadata": {
    "collapsed": false,
    "pycharm": {
     "name": "#%%\n"
    }
   }
  },
  {
   "cell_type": "code",
   "execution_count": 72,
   "outputs": [],
   "source": [
    "df_names = df_names.merge(df_emb[['name', 'emb']], how='left', left_on='Names', right_on='name')\n",
    "df_names = df_names.drop(columns=['Names', 'languages_langdetect'])\n",
    "df_names = df_names.rename({'name': 'original_name', 'name_preproc':'preprocessed_name'}, axis=1)"
   ],
   "metadata": {
    "collapsed": false,
    "pycharm": {
     "name": "#%%\n"
    }
   }
  },
  {
   "cell_type": "code",
   "execution_count": 73,
   "outputs": [
    {
     "data": {
      "text/plain": "                               preprocessed_name  \\\n0                                            iko   \n1                                        apcotex   \n2                         rishichem distributors   \n3                        powermax rubber factory   \n4                                          tress   \n...                                          ...   \n18017                          plastic packaging   \n18018  hengshui mechanical & electrical building   \n18019                   jiangsu baoli investment   \n18020                                 lanxess ag   \n18021                          tgi import export   \n\n                                           original_name  \\\n0                                    Iko Industries Ltd.   \n1                                Apcotex Industries Ltd.   \n2                      Rishichem Distributors Pvt., Ltd.   \n3                                Powermax Rubber Factory   \n4                                              Tress A/S   \n...                                                  ...   \n18017                       Plastic Packaging (Pty) Ltd.   \n18018  'Hengshui Mechanical & Electrical Building Co....   \n18019  Jiangsu Baoli International Investment Co., Lt...   \n18020                                         Lanxess AG   \n18021                        TGI IMPORT EXPORT CO., LTD.   \n\n                                                     emb  \n0      [0.008997186087071896, -0.01706981100142002, -...  \n1      [0.005421018227934837, 0.017310479655861855, -...  \n2      [-0.010888855904340744, -0.04686060547828674, ...  \n3      [-0.017552083358168602, -0.0015446854522451758...  \n4      [0.044657666236162186, -0.05069291591644287, -...  \n...                                                  ...  \n18017  [-0.10477159172296524, 0.09692458808422089, -0...  \n18018  [0.024205442517995834, 0.06279519945383072, -0...  \n18019  [0.007433122955262661, -0.0124862901866436, 0....  \n18020  [0.00656414870172739, -0.008185080252587795, -...  \n18021  [0.018487459048628807, 0.00880183931440115, -0...  \n\n[18022 rows x 3 columns]",
      "text/html": "<div>\n<style scoped>\n    .dataframe tbody tr th:only-of-type {\n        vertical-align: middle;\n    }\n\n    .dataframe tbody tr th {\n        vertical-align: top;\n    }\n\n    .dataframe thead th {\n        text-align: right;\n    }\n</style>\n<table border=\"1\" class=\"dataframe\">\n  <thead>\n    <tr style=\"text-align: right;\">\n      <th></th>\n      <th>preprocessed_name</th>\n      <th>original_name</th>\n      <th>emb</th>\n    </tr>\n  </thead>\n  <tbody>\n    <tr>\n      <th>0</th>\n      <td>iko</td>\n      <td>Iko Industries Ltd.</td>\n      <td>[0.008997186087071896, -0.01706981100142002, -...</td>\n    </tr>\n    <tr>\n      <th>1</th>\n      <td>apcotex</td>\n      <td>Apcotex Industries Ltd.</td>\n      <td>[0.005421018227934837, 0.017310479655861855, -...</td>\n    </tr>\n    <tr>\n      <th>2</th>\n      <td>rishichem distributors</td>\n      <td>Rishichem Distributors Pvt., Ltd.</td>\n      <td>[-0.010888855904340744, -0.04686060547828674, ...</td>\n    </tr>\n    <tr>\n      <th>3</th>\n      <td>powermax rubber factory</td>\n      <td>Powermax Rubber Factory</td>\n      <td>[-0.017552083358168602, -0.0015446854522451758...</td>\n    </tr>\n    <tr>\n      <th>4</th>\n      <td>tress</td>\n      <td>Tress A/S</td>\n      <td>[0.044657666236162186, -0.05069291591644287, -...</td>\n    </tr>\n    <tr>\n      <th>...</th>\n      <td>...</td>\n      <td>...</td>\n      <td>...</td>\n    </tr>\n    <tr>\n      <th>18017</th>\n      <td>plastic packaging</td>\n      <td>Plastic Packaging (Pty) Ltd.</td>\n      <td>[-0.10477159172296524, 0.09692458808422089, -0...</td>\n    </tr>\n    <tr>\n      <th>18018</th>\n      <td>hengshui mechanical &amp; electrical building</td>\n      <td>'Hengshui Mechanical &amp; Electrical Building Co....</td>\n      <td>[0.024205442517995834, 0.06279519945383072, -0...</td>\n    </tr>\n    <tr>\n      <th>18019</th>\n      <td>jiangsu baoli investment</td>\n      <td>Jiangsu Baoli International Investment Co., Lt...</td>\n      <td>[0.007433122955262661, -0.0124862901866436, 0....</td>\n    </tr>\n    <tr>\n      <th>18020</th>\n      <td>lanxess ag</td>\n      <td>Lanxess AG</td>\n      <td>[0.00656414870172739, -0.008185080252587795, -...</td>\n    </tr>\n    <tr>\n      <th>18021</th>\n      <td>tgi import export</td>\n      <td>TGI IMPORT EXPORT CO., LTD.</td>\n      <td>[0.018487459048628807, 0.00880183931440115, -0...</td>\n    </tr>\n  </tbody>\n</table>\n<p>18022 rows × 3 columns</p>\n</div>"
     },
     "execution_count": 73,
     "metadata": {},
     "output_type": "execute_result"
    }
   ],
   "source": [
    "df_names"
   ],
   "metadata": {
    "collapsed": false,
    "pycharm": {
     "name": "#%%\n"
    }
   }
  },
  {
   "cell_type": "code",
   "execution_count": 15,
   "outputs": [],
   "source": [],
   "metadata": {
    "collapsed": false,
    "pycharm": {
     "name": "#%%\n"
    }
   }
  },
  {
   "cell_type": "markdown",
   "source": [
    "### Add vectors to qdrant"
   ],
   "metadata": {
    "collapsed": false,
    "pycharm": {
     "name": "#%% md\n"
    }
   }
  },
  {
   "cell_type": "code",
   "execution_count": null,
   "outputs": [],
   "source": [
    "# !docker pull qdrant/qdrant"
   ],
   "metadata": {
    "collapsed": false,
    "pycharm": {
     "name": "#%%\n"
    }
   }
  },
  {
   "cell_type": "code",
   "execution_count": null,
   "outputs": [],
   "source": [
    "# !docker run --name qdrant -d -p 6333:6333 --net=bridge qdrant/qdrant"
   ],
   "metadata": {
    "collapsed": false,
    "pycharm": {
     "name": "#%%\n"
    }
   }
  },
  {
   "cell_type": "code",
   "execution_count": 74,
   "outputs": [],
   "source": [
    "qdrant_client = QdrantClient(host='0.0.0.0', port=6333)"
   ],
   "metadata": {
    "collapsed": false,
    "pycharm": {
     "name": "#%%\n"
    }
   }
  },
  {
   "cell_type": "code",
   "execution_count": 75,
   "outputs": [],
   "source": [
    "vectors = np.stack(df_emb.emb)\n",
    "payload = df_names[['original_name', 'preprocessed_name']].to_dict(orient='records')\n",
    "ids = df_emb.index.values.tolist()\n",
    "col_name = 'companies'\n",
    "vec_shape = vectors.shape[1]\n",
    "bs = 1024\n",
    "col = create_collection_and_upload(vectors, payload, ids, col_name, vec_shape, bs)"
   ],
   "metadata": {
    "collapsed": false,
    "pycharm": {
     "name": "#%%\n"
    }
   }
  },
  {
   "cell_type": "code",
   "execution_count": 76,
   "outputs": [],
   "source": [
    "model = SentenceTransformer('distiluse-base-multilingual-cased-v2')"
   ],
   "metadata": {
    "collapsed": false,
    "pycharm": {
     "name": "#%%\n"
    }
   }
  },
  {
   "cell_type": "code",
   "execution_count": 46,
   "outputs": [],
   "source": [
    "model = SentenceTransformer('all-MiniLM-L6-v2')"
   ],
   "metadata": {
    "collapsed": false,
    "pycharm": {
     "name": "#%%\n"
    }
   }
  },
  {
   "cell_type": "code",
   "execution_count": 77,
   "outputs": [
    {
     "data": {
      "text/plain": "[ScoredPoint(id=6647, version=8, score=1.0, payload={'original_name': 'Dow Chemical (Shanghai) Co., Ltd.', 'preprocessed_name': 'dow chemical'}, vector=None),\n ScoredPoint(id=608, version=0, score=1.0, payload={'original_name': 'Dow Chemical Thailand Ltd.', 'preprocessed_name': 'dow chemical'}, vector=None),\n ScoredPoint(id=2892, version=2, score=1.0, payload={'original_name': 'Dow Chemical', 'preprocessed_name': 'dow chemical'}, vector=None),\n ScoredPoint(id=3748, version=3, score=1.0, payload={'original_name': 'Dow Chemical Pacific', 'preprocessed_name': 'dow chemical'}, vector=None),\n ScoredPoint(id=9176, version=6, score=1.0, payload={'original_name': 'Dow Chemical Pacific Ltd.', 'preprocessed_name': 'dow chemical'}, vector=None),\n ScoredPoint(id=469, version=0, score=0.93736213, payload={'original_name': 'Vohra Chemical Co.', 'preprocessed_name': 'vohra chemical'}, vector=None),\n ScoredPoint(id=2417, version=2, score=0.92631656, payload={'original_name': 'Intl Chemical Industries', 'preprocessed_name': 'intl chemical'}, vector=None),\n ScoredPoint(id=3127, version=3, score=0.9256832, payload={'original_name': 'Afton Chemical India Private Ltd.', 'preprocessed_name': 'afton chemical'}, vector=None),\n ScoredPoint(id=967, version=0, score=0.9146034, payload={'original_name': 'Gj Chemical Co. Inc.', 'preprocessed_name': 'gj chemical'}, vector=None),\n ScoredPoint(id=7283, version=7, score=0.9130437, payload={'original_name': 'Lg Chemical Ltd.', 'preprocessed_name': 'lg chemical'}, vector=None),\n ScoredPoint(id=3648, version=3, score=0.9107827, payload={'original_name': 'Apollo Chemicals Ltd.', 'preprocessed_name': 'apollo chemicals'}, vector=None),\n ScoredPoint(id=1306, version=4, score=0.910133, payload={'original_name': 'Dro Chemicals Inc.', 'preprocessed_name': 'dro chemicals'}, vector=None),\n ScoredPoint(id=241, version=0, score=0.9099097, payload={'original_name': 'Vesta Chemicals', 'preprocessed_name': 'vesta chemicals'}, vector=None),\n ScoredPoint(id=6843, version=8, score=0.9084787, payload={'original_name': 'Lanya Chemical (India) Pvt., Ltd.', 'preprocessed_name': 'lanya chemical'}, vector=None),\n ScoredPoint(id=2159, version=2, score=0.9081153, payload={'original_name': 'Dycon Chemicals', 'preprocessed_name': 'dycon chemicals'}, vector=None),\n ScoredPoint(id=16605, version=14, score=0.9053997, payload={'original_name': 'Lotte Chemical Corporation (KOSE:A011170)', 'preprocessed_name': 'lotte chemical'}, vector=None),\n ScoredPoint(id=13577, version=12, score=0.90512276, payload={'original_name': 'Dattatrey Chemicals', 'preprocessed_name': 'dattatrey chemicals'}, vector=None),\n ScoredPoint(id=3146, version=3, score=0.9012607, payload={'original_name': 'Reda Chemicals Co., Ltd.', 'preprocessed_name': 'reda chemicals'}, vector=None),\n ScoredPoint(id=7507, version=7, score=0.8987918, payload={'original_name': 'Symtake Chemical Co., Ltd.', 'preprocessed_name': 'symtake chemical'}, vector=None),\n ScoredPoint(id=12422, version=13, score=0.8949568, payload={'original_name': 'Andes Chemical Peru Srl .', 'preprocessed_name': 'andes chemical'}, vector=None),\n ScoredPoint(id=2163, version=2, score=0.89208174, payload={'original_name': 'Equistar Chemicals Lp (Edison)', 'preprocessed_name': 'equistar chemicals'}, vector=None),\n ScoredPoint(id=809, version=0, score=0.89011586, payload={'original_name': 'Bando Chemicals Industries Ltd.', 'preprocessed_name': 'bando chemicals'}, vector=None),\n ScoredPoint(id=8833, version=6, score=0.8899607, payload={'original_name': 'Sur Quimica Sa', 'preprocessed_name': 'sur quimica'}, vector=None),\n ScoredPoint(id=6246, version=8, score=0.8899607, payload={'original_name': 'Sur Quimica S.A.', 'preprocessed_name': 'sur quimica'}, vector=None),\n ScoredPoint(id=1138, version=4, score=0.8887677, payload={'original_name': 'Sys Chemicals Co., Ltd.', 'preprocessed_name': 'sys chemicals'}, vector=None),\n ScoredPoint(id=6987, version=8, score=0.88801205, payload={'original_name': 'Sumitomo Chemical Co.Ltd.', 'preprocessed_name': 'sumitomo chemical'}, vector=None),\n ScoredPoint(id=8858, version=6, score=0.8844891, payload={'original_name': 'Wego Chemical Llc', 'preprocessed_name': 'wego chemical'}, vector=None),\n ScoredPoint(id=629, version=0, score=0.8841437, payload={'original_name': 'Gme Chemicals (S) Pte., Ltd.', 'preprocessed_name': 'gme chemicals pte'}, vector=None),\n ScoredPoint(id=10389, version=10, score=0.8814663, payload={'original_name': 'Apus Quimica', 'preprocessed_name': 'apus quimica'}, vector=None),\n ScoredPoint(id=529, version=0, score=0.8812227, payload={'original_name': 'United Chemical Industries', 'preprocessed_name': 'united chemical'}, vector=None)]"
     },
     "execution_count": 77,
     "metadata": {},
     "output_type": "execute_result"
    }
   ],
   "source": [
    "inference('Dow Chemical International Private Ltd.', col_name, model, preproc_text=True)"
   ],
   "metadata": {
    "collapsed": false,
    "pycharm": {
     "name": "#%%\n"
    }
   }
  },
  {
   "cell_type": "code",
   "execution_count": 78,
   "outputs": [],
   "source": [
    "# Select test dataset\n",
    "df_isdup = df[df.is_duplicate == 1]\n",
    "names = np.unique(np.concatenate([df_isdup.name_1, df_isdup.name_2]))"
   ],
   "metadata": {
    "collapsed": false,
    "pycharm": {
     "name": "#%%\n"
    }
   }
  },
  {
   "cell_type": "code",
   "execution_count": 49,
   "outputs": [
    {
     "data": {
      "text/plain": "             name_1                                            name_2  \\\n18065        A.P.I.  A.P.I. APPLICAZIONI PLASTICHE INDUSTRIALI S.P.A.   \n277795          API  A.P.I. APPLICAZIONI PLASTICHE INDUSTRIALI S.P.A.   \n431643  Trinseo API  A.P.I. APPLICAZIONI PLASTICHE INDUSTRIALI S.P.A.   \n\n        is_duplicate name_preproc_x  \\\n18065              1            api   \n277795             1            api   \n431643             1    trinseo api   \n\n                                                    emb_1  \\\n18065   [-0.1123679056763649, 0.022189512848854065, -0...   \n277795  [-0.1123679056763649, 0.022189512848854065, -0...   \n431643  [-0.09881430119276047, 0.01207094918936491, -0...   \n\n                      name_preproc_y  \\\n18065   api applicazioni plastiche i   \n277795  api applicazioni plastiche i   \n431643  api applicazioni plastiche i   \n\n                                                    emb_2  \n18065   [-0.12707926332950592, 0.05647152289748192, -0...  \n277795  [-0.12707926332950592, 0.05647152289748192, -0...  \n431643  [-0.12707926332950592, 0.05647152289748192, -0...  ",
      "text/html": "<div>\n<style scoped>\n    .dataframe tbody tr th:only-of-type {\n        vertical-align: middle;\n    }\n\n    .dataframe tbody tr th {\n        vertical-align: top;\n    }\n\n    .dataframe thead th {\n        text-align: right;\n    }\n</style>\n<table border=\"1\" class=\"dataframe\">\n  <thead>\n    <tr style=\"text-align: right;\">\n      <th></th>\n      <th>name_1</th>\n      <th>name_2</th>\n      <th>is_duplicate</th>\n      <th>name_preproc_x</th>\n      <th>emb_1</th>\n      <th>name_preproc_y</th>\n      <th>emb_2</th>\n    </tr>\n  </thead>\n  <tbody>\n    <tr>\n      <th>18065</th>\n      <td>A.P.I.</td>\n      <td>A.P.I. APPLICAZIONI PLASTICHE INDUSTRIALI S.P.A.</td>\n      <td>1</td>\n      <td>api</td>\n      <td>[-0.1123679056763649, 0.022189512848854065, -0...</td>\n      <td>api applicazioni plastiche i</td>\n      <td>[-0.12707926332950592, 0.05647152289748192, -0...</td>\n    </tr>\n    <tr>\n      <th>277795</th>\n      <td>API</td>\n      <td>A.P.I. APPLICAZIONI PLASTICHE INDUSTRIALI S.P.A.</td>\n      <td>1</td>\n      <td>api</td>\n      <td>[-0.1123679056763649, 0.022189512848854065, -0...</td>\n      <td>api applicazioni plastiche i</td>\n      <td>[-0.12707926332950592, 0.05647152289748192, -0...</td>\n    </tr>\n    <tr>\n      <th>431643</th>\n      <td>Trinseo API</td>\n      <td>A.P.I. APPLICAZIONI PLASTICHE INDUSTRIALI S.P.A.</td>\n      <td>1</td>\n      <td>trinseo api</td>\n      <td>[-0.09881430119276047, 0.01207094918936491, -0...</td>\n      <td>api applicazioni plastiche i</td>\n      <td>[-0.12707926332950592, 0.05647152289748192, -0...</td>\n    </tr>\n  </tbody>\n</table>\n</div>"
     },
     "execution_count": 49,
     "metadata": {},
     "output_type": "execute_result"
    }
   ],
   "source": [
    "df_isdup[df_isdup.name_2 == 'A.P.I. APPLICAZIONI PLASTICHE INDUSTRIALI S.P.A.']"
   ],
   "metadata": {
    "collapsed": false,
    "pycharm": {
     "name": "#%%\n"
    }
   }
  },
  {
   "cell_type": "code",
   "execution_count": null,
   "outputs": [],
   "source": [
    "df_isdup[df_isdup.name_1 == 'A.P.I. Applicazioni Plastiche Industriali SPA']"
   ],
   "metadata": {
    "collapsed": false,
    "pycharm": {
     "name": "#%%\n"
    }
   }
  },
  {
   "cell_type": "code",
   "execution_count": 114,
   "outputs": [
    {
     "data": {
      "text/plain": "       name_1                                            name_2  is_duplicate  \\\n29979     API     A.P.I. Applicazioni Plastiche Industriali SPA             1   \n277795    API  A.P.I. APPLICAZIONI PLASTICHE INDUSTRIALI S.P.A.             1   \n329198    API                                       Trinseo API             1   \n390564    API                                            A.P.I.             1   \n\n       name_preproc_x                                              emb_1  \\\n29979             api  [0.019749535247683525, -0.014046860858798027, ...   \n277795            api  [0.019749535247683525, -0.014046860858798027, ...   \n329198            api  [0.019749535247683525, -0.014046860858798027, ...   \n390564            api  [0.019749535247683525, -0.014046860858798027, ...   \n\n                                name_preproc_y  \\\n29979   api applicazioni plastiche industriali   \n277795  api applicazioni plastiche industriali   \n329198                             trinseo api   \n390564                                     api   \n\n                                                    emb_2  \n29979   [-0.03701728209853172, -0.023362185806035995, ...  \n277795  [-0.03701728209853172, -0.023362185806035995, ...  \n329198  [0.012135565280914307, -0.020962947979569435, ...  \n390564  [0.019749535247683525, -0.014046860858798027, ...  ",
      "text/html": "<div>\n<style scoped>\n    .dataframe tbody tr th:only-of-type {\n        vertical-align: middle;\n    }\n\n    .dataframe tbody tr th {\n        vertical-align: top;\n    }\n\n    .dataframe thead th {\n        text-align: right;\n    }\n</style>\n<table border=\"1\" class=\"dataframe\">\n  <thead>\n    <tr style=\"text-align: right;\">\n      <th></th>\n      <th>name_1</th>\n      <th>name_2</th>\n      <th>is_duplicate</th>\n      <th>name_preproc_x</th>\n      <th>emb_1</th>\n      <th>name_preproc_y</th>\n      <th>emb_2</th>\n    </tr>\n  </thead>\n  <tbody>\n    <tr>\n      <th>29979</th>\n      <td>API</td>\n      <td>A.P.I. Applicazioni Plastiche Industriali SPA</td>\n      <td>1</td>\n      <td>api</td>\n      <td>[0.019749535247683525, -0.014046860858798027, ...</td>\n      <td>api applicazioni plastiche industriali</td>\n      <td>[-0.03701728209853172, -0.023362185806035995, ...</td>\n    </tr>\n    <tr>\n      <th>277795</th>\n      <td>API</td>\n      <td>A.P.I. APPLICAZIONI PLASTICHE INDUSTRIALI S.P.A.</td>\n      <td>1</td>\n      <td>api</td>\n      <td>[0.019749535247683525, -0.014046860858798027, ...</td>\n      <td>api applicazioni plastiche industriali</td>\n      <td>[-0.03701728209853172, -0.023362185806035995, ...</td>\n    </tr>\n    <tr>\n      <th>329198</th>\n      <td>API</td>\n      <td>Trinseo API</td>\n      <td>1</td>\n      <td>api</td>\n      <td>[0.019749535247683525, -0.014046860858798027, ...</td>\n      <td>trinseo api</td>\n      <td>[0.012135565280914307, -0.020962947979569435, ...</td>\n    </tr>\n    <tr>\n      <th>390564</th>\n      <td>API</td>\n      <td>A.P.I.</td>\n      <td>1</td>\n      <td>api</td>\n      <td>[0.019749535247683525, -0.014046860858798027, ...</td>\n      <td>api</td>\n      <td>[0.019749535247683525, -0.014046860858798027, ...</td>\n    </tr>\n  </tbody>\n</table>\n</div>"
     },
     "execution_count": 114,
     "metadata": {},
     "output_type": "execute_result"
    }
   ],
   "source": [
    "df_isdup[df_isdup.name_1 == 'API']"
   ],
   "metadata": {
    "collapsed": false,
    "pycharm": {
     "name": "#%%\n"
    }
   }
  },
  {
   "cell_type": "code",
   "execution_count": 87,
   "outputs": [],
   "source": [],
   "metadata": {
    "collapsed": false,
    "pycharm": {
     "name": "#%%\n"
    }
   }
  },
  {
   "cell_type": "code",
   "execution_count": 79,
   "outputs": [
    {
     "name": "stderr",
     "output_type": "stream",
     "text": [
      "100%|██████████| 1394/1394 [00:10<00:00, 127.06it/s]\n"
     ]
    }
   ],
   "source": [
    "unique_groups = get_unique_groups(names, df_isdup)"
   ],
   "metadata": {
    "collapsed": false,
    "pycharm": {
     "name": "#%%\n"
    }
   }
  },
  {
   "cell_type": "code",
   "execution_count": 52,
   "outputs": [
    {
     "data": {
      "text/plain": "[[' Alfagomma', 'ALFAGOMMA INDUSTRIAL SPA'],\n [' CONTITECH TRANSPORTBANDSYSTEME GMBH', 'ContiTech Thermopol Inc.'],\n [' SO.F.TER. SPA', 'Softer Us Inc.'],\n [' TOTAL OIL INDIA PRIVATE LIMITED,  TOTAL',\n  'Total Oil India Limited',\n  'Total Oil India Private Limited'],\n ['*** ПОЛИМАРКЕТ, ООО', 'ООО \"Полимаркет\"', 'ООО Полимаркет'],\n ['A. WESTENSEE & PARTNER ROHSTOFF GMBH', 'awp-rohstoffe'],\n ['A.P.I.',\n  'A.P.I. APPLICAZIONI PLASTICHE INDUSTRIALI S.P.A.',\n  'A.P.I. Applicazioni Plastiche Industriali SPA',\n  'API',\n  'Trinseo API'],\n ['ABENA INTERNATIONAL A/S', 'ООО\"АБЕНА\"'],\n ['ABRO INDUSTRIES, INC.', 'ООО \"АБРО ИНДАСТРИС\"'],\n ['ADI (SALAMBO)', 'ADI COMMERCE', 'ADI commerce ltd'],\n ['ADRIATICA BITUMI', 'ADRIATICA BITUMI S.P.A.', 'Adriatica Bitumi Spa'],\n ['AGILENT TECHNOLOGIES MFG GMBH & SHIPPING DEPARTMENT',\n  'ООО \"АДЖИЛЕНТ ТЕКНОЛОДЖИЗ\"'],\n ['AGIP',\n  'AGIP  ( ENI GROUP)',\n  'Azienda Generale Italiana Petroli',\n  'agip spa'],\n ['ALBEMARLE GREEN CREST ',\n  'Albemarle Corporation',\n  'Albemarle Corporation (NYSE:ALB)'],\n ['ALFA LAVAL LUND AB', 'ОАО \"АЛЬФА ЛАВАЛЬ ПОТОК\"'],\n ['ALIBESA',\n  'Andaluza De Ligantes Bituminosos Y Betunes Sa (En Liquidacion)',\n  'Andaluza de Ligante Bituminosos y Betunes S.A.'],\n ['ALPHA TRADING', 'Alpha Trading S.p.a'],\n ['AMOLPLASTIC LEETKOOH CO.', 'Amol Plastic Leetkooh Co, Ltd'],\n ['ANKARA INSAAT',\n  'ANKARA INSAAT TICARET ve SANAYI LIMITED SIRKETI',\n  'ANKARA İNŞAAT '],\n ['ANSER Sp.z o.o', 'Zaklady Chemiczne Anser Sp. z o.o.'],\n ['APLIX', 'Aplix S.A.', 'SA APLIX'],\n ['APPIA LIANTS OUEST', 'APPIA LIANTS OUEST ( ALO)'],\n ['APS', 'APS Paving Stone Inc', 'APS Paving&Stone Inc'],\n ['ARLANXEO ', 'ARLANXEO BRASIL S.A.'],\n ['ARMACELL POLAND SP. Z.O.O\"', 'ООО \"АРМАСЕЛЛЬ\"'],\n ['AS TEKNİK MÜHENDİSLİK YAPI VE YALITIM MALZEMELERİ ALÜMİNYUM VE PLASTİK SAN. TİC. A.Ş.',\n  'YALTEKS YALITIM MALZEMELERI SAN. VE TIC. A.Ş',\n  'Yalteks Yalitim Malzemeleri Sanayi Ve Ticaret Anonim Sirketi'],\n ['ASFALTOS CHOVA ', 'Asfaltos Chova Sa'],\n ['ASIA PHARM PACK',\n  'ОБЩЕСТВО С ОГРАНИЧЕННОЙ ОТВЕТСТВЕННОСТЬЮ ASIA PHARM PACK'],\n ['ASPA', 'ASPA GmbH'],\n ['ASSA', 'ASSA Roofing Solutions'],\n ['AUTOMOTIVE PERFORMANCE MATERIAL (APM)',\n  'Automotive Performance Material',\n  'Automotive Performance Materials'],\n ['Achem Technology (Dongguan)',\n  'Achem Technology Corp.',\n  'Achem Technology Dongguan'],\n ['Adams Resources Exploration Corporation, 112 Oil And Gas Assets',\n  'Adams Resources Exploration Corporation, Oil And Gas Assets In Crocket And Irion Counties In Texas',\n  'Adams Resources Exploration Corporation, Oil And Gas Assets Outside The Permian Basin'],\n ['Adhesives Research, Inc.'],\n ['Afton Chemical De Mexicosa De Cv',\n  'Afton Chemical Hyderabad Pvt., Ltd.',\n  'Afton Chemical India Private Ltd.',\n  'Afton Chemical Industria De Aditivos Ltda'],\n ['Alan L Grant', 'Alan L Grant Polymer Inc.'],\n ['Arlanxeo',\n  'Arlanxeo Brasil Sa',\n  'Arlanxeo Canada Inc.',\n  'Arlanxeo Corp.',\n  'Arlanxeo International Group',\n  'Arlanxeo Singapore Pte.',\n  'Arlanxeo Singapore Pte. Lt',\n  'Arlanxeo Singapore Pte., Ltd.',\n  'Arlanxeo Singapore Pte., Ltd. Tearlanxeo Canada Inc. 1265 Vidal',\n  'Arlanxeo Usa Llc',\n  'Ktn Underwood Arlanxeo Usa Llc'],\n ['Ashland', 'Ashland Inc.', 'Ashland Specialty Ingredients Gp'],\n ['Asphalt, tar and bitumen', 'PLASTISAVIO S.P.A'],\n ['Auriquimica Ltda', 'Auriquimica Ltda Cnpj', 'Auriquimica Ltda Filial'],\n ['Avebe', 'Avebe Nederland B.V.'],\n ['Avery Denisson (BE)', 'Avery Dennison Kunshan Co., Ltd.'],\n ['BAL TABAN',\n  'BAL TABAN GRANUL AYAKKABICILIK SANAYI VE TICARET LIMITED SIRKETI,'],\n ['BASF CENRTAL ASIA LLP', 'BASF Central Asia LLP'],\n ['BASF Petronas Chemicals Sdn Bhd', 'BASF RUS GMBH'],\n ['BAXTER S.A.', 'ЗАО КОМПАНИЯ \"БАКСТЕР\"'],\n ['BAZALT GROUP (DORTMUNDER GUSSASPHALT GMBH & CO. KG, DGA)',\n  'Dortmunder Gussasphalt GmbH & Co. KG',\n  'Dortmunder Gussasphalt Gmbh & Co. Kg'],\n ['BIESTERFELD PLASTIC GMBH', 'ООО \"БИСТЕРФЕЛЬД РУС\"', 'ООО\"БИСТЕРФЕЛЬД РУС\"'],\n ['BINNE',\n  'Binne & Sohn GmbH & Co KG',\n  'Binné & Sohn GmbH & Co. KG Dachbaustoffwerk'],\n ['BIT-MAT PRODUCTS',\n  'Bit Mat. Products Of Michigan, Inc.',\n  'Bit-Mat Products of Indiana, Inc.'],\n ['BITBAU', 'Bitbau Dörr', 'Bitbau Dörr GmbH'],\n ['BITOUMINA SA', 'Bitoumina S.A.'],\n ['BITUFA', 'Bitufa Waterproofing B.V.'],\n ['BITUMENKA', 'Bitumenka D.D.'],\n ['BITUMIX', 'BITUMIX S.A.'],\n ['BITUMTEC (FORMER TOTALERG)', 'BITUMTEC S.R.L.', 'Bitumtec Srl'],\n ['BITUVER',\n  'Isover Saint-Gobain',\n  'SAINT-GOBAIN',\n  'Saint-Gobain Corporation',\n  'Saint-Gobain Isover Austria GmbH'],\n ['BLUFIXX', 'Blufixx GmbH'],\n ['BOCHEM / SUDAL',\n  'Bochem Sp. z o.o. Zakłady Chemiczne',\n  'Zaklady Chemiczne BOCHEM Sp. z.o.o.'],\n ['BODO MOLLER CHEMIE GMBH', 'ООО \"БОДО МЕЛЛЕР ХЕМИ РУССИЯ\"'],\n ['BOFER INSAAT ALUMINIUM SAN. VE TIC. LTD. STI', 'ООО\"БОФФЕР\"'],\n ['BOSCH THERMOTECHNIK GMBH', 'ООО \"БОШ ТЕРМОТЕХНИКА\"'],\n ['BOSTIC', 'Bo9stic Co.', 'Bostik A/S'],\n ['BOSTIK GMBH',\n  'BOSTIK INC',\n  'BOSTIK SA',\n  'BOSTIK SP.Z.O.O.',\n  'ООО \"БОСТИК\"'],\n ['BOSTIK NEDERLAND B.V.', 'Бостик'],\n ['BRAAS GMBH', 'ООО \"БРААС-ДСК 1\"'],\n ['BST ELASTOMERS CO.',\n  'JSR CORPORATION (TSE:4185)',\n  'JSR Corporation',\n  'Japan Synthetic Rubber Co',\n  'Jsr America Inc.',\n  'Jsr Bst Elastomer',\n  'Jsr Tradig Inc.',\n  'LTD.'],\n ['BUHLER AG', 'ООО\"БЮЛЕР СЕРВИС\"'],\n ['BULMARKET DM ', 'Bulmarket DM Ltd.'],\n ['Basf (China) Co., Ltd. Shanghai',\n  'Basf Auxiliary Chemicals',\n  'Basf Bangladesh Ltd.',\n  'Basf Chile S A',\n  'Basf Chile S.A.',\n  'Basf Co., Ltd.',\n  'Basf Co., Ltd. Yeosu',\n  'Basf Colors & Effects Usa Llc',\n  'Basf Construction Chemicals',\n  'Basf Construction Chemicals Ua',\n  'Basf Corp.',\n  'Basf Corporation',\n  'Basf De Costa Rica Sociedad Anonima',\n  'Basf Finlay Pvt., Ltd.',\n  'Basf India',\n  'Basf India Ltd.',\n  'Basf Japan Ltd.',\n  'Basf Japan Ltd. 6 10 1 Roppongi',\n  'Basf Mexicana S.A. De C.V.',\n  'Basf New Zealand Ltd.',\n  'Basf Pakistan (Private) Ltd.',\n  'Basf Pakistan Ltd.',\n  'Basf Peruana S.A.',\n  'Basf Quimica Colombiana S.A.',\n  'Basf Sa',\n  'Basf Turk Kimya San Ve Tic.Tld.Sti',\n  'Basf Turk Kimya San. Ve Tic.Sti',\n  'Basf Turk Kimya San.Ve Tic Ltd.Sti',\n  \"Basf's Paper Chemicals (Huizhou) Co., Ltd.\",\n  'Bdp International Basf Imp.'],\n ['Beijing Oriental Yuhong Waterproof Technology Co., Ltd. (SZSE:002271) - 北京东方雨虹防水技术股份有限公司',\n  'Oriental Yuhong'],\n ['Bharat Adhesives',\n  'Bharat Electronics Ltd.',\n  'Bharat Heavy Electricals Ltd.'],\n ['Bharat Bijlee Ltd.',\n  'Bharat Electronics Ltd.',\n  'Bharat Enterprises',\n  'Bharat Heavy Electricals Ltd.',\n  'Bharat Polymers',\n  'Bharat Rubber Works Pvt., Ltd.'],\n ['Bharat Adhesives',\n  'Bharat Bijlee Ltd.',\n  'Bharat Electronics Ltd.',\n  'Bharat Enterprises',\n  'Bharat Heavy Electricals Ltd.',\n  'Bharat Polymers',\n  'Bharat Rubber Works Pvt., Ltd.'],\n ['Bharat Adhesives',\n  'Bharat Bijlee Ltd.',\n  'Bharat Electronics Ltd.',\n  'Bharat Enterprises',\n  'Bharat Heavy Electricals Ltd.',\n  'Bharat Polymers'],\n ['Bharat Bijlee Ltd.',\n  'Bharat Electronics Ltd.',\n  'Bharat Enterprises',\n  'Bharat Polymers',\n  'Bharat Rubber Works Pvt., Ltd.'],\n ['Biesterfeld International Gmb H', 'Biesterfeld Simko Distribuicao Sa'],\n ['Binex Line Corp.',\n  'Binex Line Corp. Chicago',\n  'Binex Line Corp. Seattle',\n  'Binex Line Corp. Vancouver'],\n ['BIT-MAT PRODUCTS',\n  'Bit Mat. Products Of Michigan, Inc.',\n  'Bit-Mat Products of Indiana, Inc.',\n  'klink group'],\n ['Bolton Adhesives', 'Bolton Adhesives B.V.'],\n ['Brenntag Australia (Pty) Ltd.',\n  'Brenntag Chile Comercial E Ind',\n  'Brenntag Chile Comercial E Industrial Ltda',\n  'Brenntag Colombia S.A.',\n  'Brenntag Ecuador S.A.',\n  'Brenntag Group',\n  'Brenntag Ingredients Inc.',\n  'Brenntag Mexico S.A. De C.V.',\n  'Brenntag Peru S.A.C.',\n  'Brenntag Vietnam Co., Ltd.'],\n ['Bridgestone (China) Research And Development Co., Ltd.',\n  'Bridgestone (Huizhou) Tire Co., Ltd.',\n  'Bridgestone (Tianjin) Tire Co., Ltd.',\n  'Bridgestone Americas Tire',\n  'Bridgestone Canada Inc.',\n  'Bridgestone De Costa Rica S.A.',\n  'Bridgestone De Costa Rica Sociedad Anoni',\n  'Bridgestone De Mexico S.A. De C.V.',\n  'Bridgestone Do Brasil Industria & Comercio Ltda',\n  'Bridgestone Do Brasil Industria E Comenrcio Ltda',\n  'Bridgestone Do Brasil Industria E Comercio Ltda',\n  'Bridgestone Firestone De Argentina Saic',\n  'Bridgestone Firestone De Mexico Sa De Cv',\n  'Bridgestone Firestone Do Brasil',\n  'Bridgestone Firestone Venezolana',\n  'Bridgestone Firestone Venezolana C',\n  'Bridgestone Golf (Shenzhen) Co., Ltd.',\n  'Bridgestone Hosepower Llc',\n  'Bridgestone India',\n  'Bridgestone India Automotive',\n  'Bridgestone India Automotive Products Private Ltd.',\n  'Bridgestone India Pvt., Ltd.',\n  'Bridgestone International Group',\n  'Bridgestone Ncr',\n  'Bridgestone Neumaticos De',\n  'Bridgestone Neumaticos De Monterreysa De Cv',\n  'Bridgestone Stargard Sp Zoo',\n  'Bridgestone Tire',\n  'Bridgestone Tire Co.',\n  'Bridgestone （Huizhou）Synthetic Rubber Co., Ltd.',\n  'Bridgestone(Shenyang) Tire Co., Ltd.',\n  'Pt Bridgestone Tire Indonesia',\n  'Shenyang Bridgestone',\n  'Thai Bridgestone Co., Ltd.',\n  'Warren Plant Bato Bridgestone'],\n ['C.O.I.M. S.P.A. CHIMICA ORGANICA INDUSTRIALE MILANESE',\n  'C.O.I.M. S.p.A.',\n  'Coim S.p.A.'],\n ['CABOPOL', 'Cabopol - Polymer Compounds, S.A'],\n ['CALZATURIFICIO FRANCESCHETTI S.R.L.', 'FRANCHESCETTI '],\n ['CARDINAL S.R.L.', 'Cardinal Srl'],\n ['CASALI', 'CASALI Spa'],\n ['CDI Energy Products  Divison of Fenner Advanced Sealing Technologies',\n  'Fenner Advanced Sealing Technologies, Inc.',\n  'Fenner Drives, Inc.',\n  'Fenner Dunlop (Atlanta), Inc.',\n  'Fenner Dunlop (Charlotte) Inc.',\n  'Fenner Dunlop (Toledo), Llc',\n  'Fenner Dunlop Holdings, Inc.',\n  'Fenner Precision, Inc.',\n  'Fenner USA'],\n ['CELANESE EUROPE BV',\n  'CELANESE EUROPE BV - EX SOFTER',\n  'Celanese Chemicals Europe GmbH'],\n ['CENGIZ İNŞAAT',\n  'Cengiz Insaat Sanayi ve Ticaret A.S.',\n  'Cengiz insaat Sanayi Ve Ticaret A S'],\n ['CLOPAY',\n  'CLOPAY BUILDING PRODUCTS',\n  'Clopay Building Products Company, Inc.'],\n ['COBALT HOLDINGS', 'Cobalt Holdings, Llc'],\n ['COCOPAVING', 'Coco Paving Inc.'],\n ['COLQUIMICA', 'ColquÍmica - IndÚstria Nacional De Colas, S.A.'],\n ['COPERNIT S.P.A.', 'ООО\"КОПЕРНИТ И К\"'],\n ['COPERNIT ag', 'copernit spa'],\n ['CRAFCO, INC.', 'Crafco'],\n ['CROSSPOLIMERI S.P.A.', 'CROSSPOLIMERI SPA'],\n ['CTS', 'CTS Corporation (NYSE:CTS)'],\n ['Cardiac Science Corporation', 'Cardiac Science Holdings (UK) Limited'],\n ['Carlisle Coatings & Waterproofing, Inc.', 'Carlisle Coatings & Wtrprfng'],\n ['Cebu Toyo Corp',\n  'Shanghai Toyo Ink Mfg. Co., Ltd.',\n  'Toyo Trans Inc.',\n  'Zhuhai Toyo Ink Co., Ltd.'],\n ['Celanese Materials Mexico', 'Celanese Operations Mexico S De Rl De Cv'],\n ['Ceva Freight Llc',\n  'Ceva Freight Management',\n  'Ceva Freight Management Mexico'],\n ['Chevron Phillips Chemical Co. Lp', 'Phillips Tuftex Ltd.'],\n ['China National Petroleum Waterproof',\n  'China National Petroleum Waterproof (Shenzhen) Co.,Ltd. '],\n ['China Southern Petroleum Exploration and Development Corporation',\n  'JX Nippon Oil & Gas Exploration (Brasil) Ltda',\n  'JX Nippon Oil & Gas Exploration (Malaysia) Limited',\n  'JX Nippon Oil & Gas Exploration (Myanmar) Limited',\n  'JX Nippon Oil & Gas Exploration (Qatar) Limited',\n  'JX Nippon Oil & Gas Exploration (Sarawak), Ltd',\n  'JX Nippon Oil & Gas Exploration Australia Pty Ltd.',\n  'JX Nippon Oil & Gas Exploration Corporation',\n  'JX Nippon Oil & Gas Exploration Technical Services Corporation',\n  'Nippon Oil Exploration (Sarawak) Limited',\n  'Nippon Oil Exploration Limited',\n  'Nippon Oil Exploration U.S.A. Limited'],\n ['Compogal', 'КОМПОГАЛ'],\n ['Continental Automotive, Inc.\\xa0', 'КОНТИНЕНТАЛ АУТОМОТИВЕ ПРОДАКТС СРЛ'],\n ['Continental Matador Rubber, s.r.o. ', 'КОНТИНЕНТАЛ МАТАДОР ТРАК ТАЕРЗ СРО'],\n ['Contitech Antriebssysteme Gmb H',\n  'Contitech Australia (Pty) Ltd.',\n  'Contitech Chile S.A.',\n  'Contitech Chile Sa',\n  'Contitech Fluid Mexicana Sa De Cv',\n  'Contitech India Private Ltd.',\n  'Contitech Mexicana Sa De Cv',\n  'Contitech Transportbandsysteme Gmb H',\n  'Contitech Usa Inc.'],\n ['Conveyor Rollers (Bridge) Limited', 'KV Rollers'],\n ['DALPO', 'Dalpo Poznan Sp Z O O SpOlka Komandytowa', 'Dalpo Sp. z o.o.'],\n ['DANIŞ YAPI ', 'Danis Yapi Madencilik Sanayi Ve Ticaret Anonim Sirketi'],\n ['DANOSA', 'DANOSA FRANCE'],\n ['DEBOER SCHOTEN ', 'De Boer Green Solutions NV'],\n ['DELAVAL INTERNATIONAL AB', 'DELAVAL INTERNATIONAL AB\"', 'ЗАО \"ДЕЛАВАЛЬ\"'],\n ['DELTA ACM', 'Delta Roofing, Inc.'],\n ['DEMO S.R.L.', 'ООО\"ДЕМО\"'],\n ['DITECPESA', 'Ditecpesa S.A.'],\n ['DOPPELMAYR CABLE CAR GMBH & CO. KG',\n  'DOPPELMAYR SEILBAHNEN GMBH',\n  'ООО\"ДОППЕЛЬМАЙР РАША\"'],\n ['DORKEN GMBH. & CO. KG', 'ООО\"ДЁРКЕН\"'],\n ['DRAGON POLAND', 'DRAGON POLAND Sp. z o.o. Sp.K.'],\n ['DUKT', 'Dukt Sp. Z O.o.'],\n ['DYNASOL ELASTOMEROS, S.A.U', 'Dynasol'],\n ['Daewoo International (America) Corp.',\n  'Daewoo International Corp.',\n  'Daewoo Paper Mfg.Cd. Ltd.',\n  'Daewoo Spinning Mills',\n  'Fc Daewoo Textile Llc',\n  'Posco Daewoo (America) Corp.',\n  'Posco Daewoo America Corp.',\n  'Posco Daewoo America Corp. Toronto B',\n  'Posco Daewoo Corporation'],\n ['Dana', 'Dana Industrias Ltda'],\n ['Danisco (China) Co., Ltd.', 'Danisco (India) Pvt., Ltd.'],\n ['Daramic, LLC', 'Daramic, Llc, Zweigniederlassung Norderstedt'],\n ['Del Corona & Scardigli Mexico', 'Del Corona & Scardigli Usa'],\n ['Denka Company', 'Denka Kabushiki-gaisha'],\n ['Diesel Fashion India Reliance Private Ltd.',\n  'Marks And Spencer Reliance India Pvt., Ltd.',\n  'Reliance Bally India Private Ltd.',\n  'Reliance Brands',\n  'Reliance Chemical Products Ltd.',\n  'Reliance Clothing India Private Ltd.',\n  'Reliance Commcl Dealers',\n  'Reliance Industries Ltd.',\n  'Reliance Lifestyle Holding',\n  'Reliance Luxury Fashion Private Ltd.',\n  'Reliance Paul & Shark Fashions Pvt., Ltd.',\n  'Reliance Retail Ltd.',\n  'Reliance Sibur Elastomers Pvt., Ltd.',\n  'Reliance Spg Mills Ltd.',\n  'Ryohin Keikaku Reliance India Private Ltd.'],\n ['Double Coin', 'Double Coin Holding'],\n ['Dow Brasil Industria & Comercio De Produtos Quimicos Lt',\n  'Dow Brasil Industria E Comercio De Produtos Quimicos Lt',\n  'Dow Brasil Sudeste Industrial Ltda',\n  'Dow Silicones Corp.',\n  'Dow Silicones Corp. Plant'],\n ['Dow Brasil Industria & Comercio De Produtos Quimicos Lt',\n  'Dow Brasil Industria E Comercio De Produtos Quimicos Lt',\n  'Dow Brasil Sudeste Industrial Ltda',\n  'Dow Silicones Corp.'],\n ['Dow Chemical',\n  'Dow Chemical (Shanghai) Co., Ltd.',\n  'Dow Chemical International Private Ltd.',\n  'Dow Chemical Pacific',\n  'Dow Chemical Pacific Ltd.',\n  'Dow Chemical Thailand Ltd.',\n  'Dow International Mexicana S.A. De',\n  'Dow International Mexicana Sa De Cv',\n  'Dow Quimica Mexicana Sa Cv'],\n ['Dow Corning (0178) Cdw', 'Dow Corning India Pvt., Ltd.'],\n ['Dow Europe Gmb H', 'Dow Europe Gmb H Plant F208'],\n ['Dow Brasil Industria & Comercio De Produtos Quimicos Lt',\n  'Dow Brasil Industria E Comercio De Produtos Quimicos Lt',\n  'Dow Silicones Corp.',\n  'Dow Silicones Corp. Plant'],\n ['DowDuPont', 'DuPont', 'The Dow Chemical Company'],\n ['Dsv Air & Sea Inc.', 'Dsv Air & Sea S.A. De C.V.'],\n ['Dunlop Slazenger International Inc.', 'Fenner Dunlop Americas'],\n ['Dupont (Korea) Inc.',\n  'Dupont Apollo (Shenzhen) Ltd.',\n  'Dupont Do Brasil Sa',\n  'Dupont Mexico',\n  'Dupont Nutrition Usa Inc.C O Ceva',\n  'Dupont Specialty Products Usa Llc',\n  'Dupont Teijin Films',\n  'E.I.Dupont De Nemours & Co. Inc.'],\n ['Duracell Distributing Inc.', 'Duracell Distributing Inc.Duracell'],\n ['Dynasol Elastomeros Sa De Cv',\n  'Dynasol Llc',\n  'Liaoning North Dynasol Synthetic Rubber Co., Ltd.'],\n ['EIFFAGE', 'EIFFAGE CONSTRUCTION ALPES DAUPHINE', 'Eiffage SA (ENXTPA:FGR)'],\n ['EMAM Asfaltos', 'ЕМАМ АСФАЛЬТОС'],\n ['EMULBIT', 'EMULBIT Sp. z o.o.'],\n ['ENEOS Globe Energy Co., Ltd.', 'Eneos Globe Corporation'],\n ['EPIROC DRILLING SOLUTIONS LLC', 'ООО\"ЭПИРОК РУС\"'],\n ['ERGON ASPHALT', 'Ergon Asphalt & Emulsions, Inc.'],\n ['ESHA', 'Esha Strasse GmbH'],\n ['ESSO', 'Eosso Brothers, Inc'],\n ['EUROVIA CZECHY',\n  'EUROVIA POLSKA',\n  'EUROVIA VINCI',\n  'Eurovia CS',\n  'Eurovia Polska S A'],\n ['EVOBUS GMBH ERSATZTEILLOGISTIC-CENTER', 'ООО \"ЕВОБУС РУССЛЭНД\"'],\n ['Eastland Compounders', 'Eastland Compounding'],\n ['Elastron Kimya Sanayi Ve Ticaret A.Ş.',\n  'Elastron Kimya Sanayi Ve Ticaret Anonim Sirketi'],\n ['Eni Jr286 Inc.',\n  'Eni Jr286 Inc. (Code 26 273374500)',\n  'Eni Shipping Inc. Houston'],\n ['Eterna S A', 'Eterna S.A.'],\n ['Evonik Corp.',\n  'Evonik Corporation C/O Stockhausen',\n  'Evonik Cryo Llc',\n  'Evonik Cyro Llc',\n  'Evonik Cyro Llc Mobile',\n  'Evonik Degussa Brasil Ltda',\n  'Evonik India'],\n ['Exel Logistics Inc.', 'Exel Logistics Warehouse'],\n ['Exxonmobil Asia Pacific R & D Co., Ltd.',\n  'Exxonmobil Chemical Americas 22777 Springwoods Village Parkway',\n  'Exxonmobil Chemical Americas On',\n  'Exxonmobil Chemical Americas Po Box 4549 Houston',\n  'Exxonmobil Chemical Asia Pacific',\n  'Exxonmobil Chemical Co.',\n  'Exxonmobil Chemical Co. Baytown Chemical Plant',\n  'Exxonmobil Japan Godo Kaisha',\n  'Exxonmobil Petroleum And Chemical',\n  'Exxonmobil Quimica Ltda',\n  'Exxonmobil Servicios Petroleros Mexico Sa De Cv'],\n ['Exxonmobil Asia Pacific R & D Co., Ltd.',\n  'Exxonmobil Chemical Americas 22777 Springwoods Village Parkway',\n  'Exxonmobil Chemical Americas On',\n  'Exxonmobil Chemical Americas Po Box 4549 Houston',\n  'Exxonmobil Chemical Asia Pacific',\n  'Exxonmobil Chemical Co.',\n  'Exxonmobil Chemical Co. Baytown Chemical Plant',\n  'Exxonmobil Japan Godo Kaisha',\n  'Exxonmobil Quimica Ltda',\n  'Exxonmobil Servicios Petroleros Mexico Sa De Cv'],\n ['Exxonmobil Asia Pacific R & D Co., Ltd.',\n  'Exxonmobil Chemical Americas 22777 Springwoods Village Parkway',\n  'Exxonmobil Chemical Americas On',\n  'Exxonmobil Chemical Americas Po Box 4549 Houston',\n  'Exxonmobil Chemical Asia Pacific',\n  'Exxonmobil Chemical Co.',\n  'Exxonmobil Chemical Co. Baytown Chemical Plant',\n  'Exxonmobil Petroleum And Chemical',\n  'Exxonmobil Quimica Ltda',\n  'Exxonmobil Servicios Petroleros Mexico Sa De Cv'],\n ['FAMOS GMBH', 'FAMOS GmbH & Co. KG'],\n ['FATIH ÖKÇE',\n  'Fatih Okce Sanayi Ve Ticaret Anonim Sirketi',\n  'Fatih Ökçe Sanayi ve Ticaret A.Ş.'],\n ['FOLLMANN CHEMIE GMBH', 'ООО\"ФОЛЬМАНН\"'],\n ['FORBO EUROCOL DEUTSCHLAND GMBH', 'ООО \"ФОРБО ЕВРОКОЛ РУС\"'],\n ['FORBO SIEGLING GMBH', 'ООО\"ФОРБО СИГЛИНГ СНГ\"'],\n ['FORD IEO',\n  'FORD WERKE GMBH',\n  'ОБЩЕСТВО С ОГРАНИЧЕННОЙ ОТВЕТСТВЕННОСТЬЮ \"ФОРД СОЛЛЕРС ЕЛАБУГА\"'],\n ['FOURNY', 'Fourny NV'],\n ['FRAGMAT', 'FRAGMAT TIM d.d.', 'Fragmat TIM d.o.o.'],\n ['Farmacap Industria E Comercio Ltda',\n  'Farmacap Industries Stria E Com Rcio Ltda'],\n ['Flex Sol',\n  'Flex?Computing?(Suzhou) ?Co.,? Ltd.',\n  'Hansa Flex Usa',\n  'K Flex India Private Ltd.',\n  'K Flex Usa',\n  \"L'ISOLANTE K-FLEX SPA\",\n  'LISOLANTE K-FLEX SPA',\n  'Nichirin Flex U . S . A . Inc.',\n  'Nitro Flex X S.A.C.',\n  'Planika Flex D.O.O'],\n ['Flex Sol',\n  'Flex?Computing?(Suzhou) ?Co.,? Ltd.',\n  'Hansa Flex Usa',\n  'K Flex Usa',\n  'Nichirin Flex U . S . A . Inc.',\n  'Nitro Flex X S.A.C.'],\n ['Freudenberg Nok Componentes Brasil Ltda',\n  'Freudenberg Nok De Mexico Sa De Cv',\n  'Freudenberg Nok Pvt., Ltd.'],\n ['GARLAND', 'The Garland Company, Inc.'],\n ['GENERAL MEMBRANE', 'GENERAL MEMBRANE S.A.', 'GENERAL MEMBRANE S.P.A.'],\n ['GEORG BOERNER',\n  'GEORG BÖRNER Chemisches Werk für Dach- und Bautenschutz GmbH & Co. KG',\n  'Georg Borner Chemisches Werk Fur Dach- Und Bautenschutz Gmbh & Co. Kg'],\n ['GOLDENPLAST', 'GOLDENPLAST SPA'],\n ['GOTER',\n  'GOTER (ИТАЛИЯ)',\n  'GOTER S.R.L.',\n  'GOTER THERMOPLASTIC COMPOUNDS S.P.A',\n  'Goter Thermoplastic Compounds Spa'],\n ['GRISARD', 'GRISARD AG'],\n ['GUMMIWERK KRAIBURG GMBH&CO.KG', 'KRAIBURG BULGARIA EOOD\"', 'ООО\"КРАЙБУРГ\"'],\n ['GYMAP GROUP', 'Gymap Sas', 'STE GYMAP'],\n ['Gardner Gibson ', 'ГАРДНЕР ГИБСОН'],\n ['Gates Corporation', 'Gates USA'],\n ['Gates Fluid Power Technologies',\n  'Gates Fluid Power Technologies (Changzhou) Co., Ltd.'],\n ['General Electric Plastics Gmbh', 'General Electric Plastics Italia Srl'],\n ['Gestion Soprema Canada Inc.',\n  'SOPREMA ALPIARCA',\n  'SOPREMA BLONIE',\n  'SOPREMA CASTELLBISBAL',\n  'SOPREMA DRUMMONDVILLE',\n  'SOPREMA GROBBENDONK',\n  'SOPREMA GmbH',\n  'SOPREMA OBERROSSBACH',\n  'SOPREMA Polska Sp. z o.o.',\n  'SOPREMA S.A.S.',\n  'SOPREMA S.R.L.',\n  'SOPREMA SALGAREDA',\n  'SOPREMA SOURGES',\n  'Soprema Canada',\n  'Soprema Iberia',\n  'Soprema Iberia S.L.',\n  'Soprema NV',\n  'Soprema Polska Sp Z O O',\n  'Soprema S.A.',\n  'Soprema sas',\n  'Soprema, S.A.',\n  'soprema Soprema sas'],\n ['Giti Radial Tire (Anhui) Co.',\n  'Giti Tire (Hualin) Co., Ltd.',\n  'Giti Tire (Usa) Ltd.',\n  'Giti Tire Mfg.',\n  'Giti Tire Mfg. (Usa)',\n  'Giti Tire Mfg. (Usa) Ltd.',\n  'Giti Tire Mfg. L.T.D.'],\n ['Gongguan Heartychem Co., Ltd.', 'Heartychem Corp'],\n ['Goodyear ', 'Goodyear Chemical Co', 'The Goodyear Tire and Rubber Company'],\n ['Gymap Compound Sas', 'Gymap Sas', 'STE GYMAP'],\n ['GYMAP GROUP', 'Gymap Compound Sas', 'Gymap Sas', 'STE GYMAP'],\n ['H & V Advanced Materials India Pvt., Ltd.',\n  'H & V Advanced Materials(India) Pvt., Ltd.'],\n ['HELIOS KEMOSTIK TOVARNA LEPIL IN KEMICNIH IZDELKOV, D.O.O',\n  'ООО \"ХЕЛИОС РУС\"'],\n ['HEVEA B.V.', 'HEVEA BV', 'HeveaChem International'],\n ['HEXPOL', 'Hexpol AB (Publ) (OM:HPOL B)'],\n ['HILTI AKTIENGESELLSCHAFT', 'ЗАО \"ХИЛТИ ДИСТРИБЬЮШН ЛТД\"'],\n ['HIRA Middle East', 'Hira Industries L.L.C.'],\n ['HP PELZER S.R.O.', 'ООО \"ХП ПЕЛЬЦЕР РУС\"'],\n ['HUBEI GUOCHUANG HI-TECH MATERIAL',\n  'HUBEI GUOCHUANG HI-TECH MATERIAL IN',\n  'Hubei Guochuang Hi-tech Material Co.,Ltd (SZSE:002377)'],\n ['HUESKER SYNTHETIC GMBH', 'ООО\"ХЮСКЕР\"'],\n ['Helm AG', 'Helm U.S. Corporation'],\n ['Hempro a.d. (BELEX:HMBG)', 'IZOBIT (HEMPRO)'],\n ['Hexpol Compounding',\n  'Hexpol Compounding (Uk) Ltd.',\n  'Hexpol Compounding Llc'],\n ['Hikari Glass (H.K.) Limited', 'Hikari Glass Co Ltd'],\n ['Huizhou Lcy Elastomers Corp.', 'Lcy Elastomers Lp'],\n ['ICOPAL', 'ICOPAL KFT.'],\n ['IKO',\n  'IKO EU /ALL PLANTS*',\n  'IKO SAS',\n  'IKO SLOVAKIA',\n  'IKO Slovakia, s.r.o.',\n  'Iko Europe',\n  'iko sales',\n  'АЙКО'],\n ['INRECO', 'Inreco A/S'],\n ['INRECO - EMULSJA SP. Z O.O.', 'INRECO EMULSJE'],\n ['ISOLAGO S.A.', 'Isolago - Indústria de Plásticos S.A.'],\n ['ISOLIERERZEUGNISSE GROSSRÖHRSDORF GMBH',\n  'Isoliererzeugnisse GroBrohrsdorf Gmbh'],\n ['ISRL', 'Indian Synthetic Rubber Ltd'],\n ['IZOBUD', 'Izobud Group of Companies'],\n ['IZOLACJA - JAROCIN SPÓŁKA AKCYJNA', 'IZOLACJA JAROCIN'],\n ['Ibaraki Zeon Kasei Co.,Ltd.',\n  'ZEON Corporation (TSE:4205)',\n  'ZEON KASEI CO., LTD.',\n  'Zeon Logistical Materials Co.,Ltd.'],\n ['Ikea Distribution Service(Shanghai)',\n  'Ikea Distribution Services',\n  'Ikea Distribution Services Gmb H'],\n ['Iko Industries Ltd.', 'Iko Midwest Inc.'],\n ['Indian Overseas Bank', 'Indian Oxides And Chemicals Private Ltd.'],\n ['Indian Synthetic Rubber Ltd.',\n  'Indian Synthetic Rubber Private Ltd.',\n  'Indian Synthetic Rubber Pvt., Ltd.'],\n ['Industrias Negromex ', 'NEGROMEX'],\n ['Ineos Oligomers',\n  'Ineos Styrolution America Llc',\n  'Ineos Styrolution Do Brasil Polimeros Ltda',\n  'Ineos Styrolution India Ltd.',\n  'Ineos Usa Llc'],\n ['Intertex World Resources Ltd.', 'ИНТЕРТЕКС ВОРЛД РЕСУРСИС ИНК.'],\n ['Izolacja-Matizol SA Przedsiębiorstwo Materiałów Izolacyjnych',\n  'PMI Izolacja Matizol S.A.',\n  'SELENA (IZOLACJA MATIZOL)'],\n ['JOHNS MANSVILLE', 'ДЖОНС МАНСВИЛ'],\n ['JOSS', 'Joss Elastomers & Chemicals B.V.', 'Joss Holding B.V.'],\n ['JOWAT MANUFACTURING (SEA) SDN.BHD. NO.25,LENGKUK TEKNOLOGI', 'ООО \"ЙОВАТ\"'],\n ['JOWAT SE\"',\n  'JOWAT SE\"/ЧЕРЕЗ ТЕРМИНАЛ A.C.\"POL-SAD\",ПОЛЬША',\n  'JOWAT SE\"/ЧЕРЕЗ ТЕРМИНАЛ В ПОЛЬШЕ',\n  'ООО\"ЙОВАТ\"'],\n ['BST ELASTOMERS CO.',\n  'JSR CORPORATION (TSE:4185)',\n  'JSR Corporation',\n  'Japan Synthetic Rubber Co',\n  'Jsr America Inc.',\n  'Jsr Bst Elastomer',\n  'Jsr Elastomer America Inc.',\n  'Jsr Tradig Inc.',\n  'LTD.'],\n ['JV OJSC UZKABEL', 'СП АО УЗКАБЕЛЬ'],\n ['Jiangsu Baoli International',\n  'Jiangsu Baoli International Investment Co., Ltd. (SZSE:300135)'],\n ['Jiangsu Canlon Building Materials',\n  'Jiangsu Canlon Building Materials Co., Ltd.'],\n ['JSR Corporation', 'Jsr America Inc.', 'Jsr Elastomer America Inc.'],\n ['Flex Sol',\n  'Hansa Flex Usa',\n  'K Flex India Private Ltd.',\n  'K Flex Usa',\n  \"L'ISOLANTE K-FLEX SPA\",\n  'LISOLANTE K-FLEX SPA',\n  'Nichirin Flex U . S . A . Inc.',\n  'Nitro Flex X S.A.C.',\n  'Planika Flex D.O.O'],\n ['Flex Sol',\n  'Flex?Computing?(Suzhou) ?Co.,? Ltd.',\n  'Hansa Flex Usa',\n  'K Flex India Private Ltd.',\n  'K Flex Usa',\n  'K Flex Usa Llc. 100 Nomaco',\n  \"L'ISOLANTE K-FLEX SPA\",\n  'LISOLANTE K-FLEX SPA',\n  'Nichirin Flex U . S . A . Inc.',\n  'Nitro Flex X S.A.C.',\n  'Planika Flex D.O.O'],\n ['K Flex Usa',\n  'K Flex Usa Llc. 100 Nomaco',\n  \"L'ISOLANTE K-FLEX SPA\",\n  'LISOLANTE K-FLEX SPA'],\n ['K-FLEX POLSKA SP. Z.O.O.\"', 'ООО \"К-ФЛЕКС\"'],\n ['K-Flex USA', 'K-Flex USA LLC'],\n ['KAWASAKI HEAVY INDUSTRIES, LTD.', 'ООО\"КАВАСАКИ ГАЗ ТУРБИН СЕРВИС РУС\"'],\n ['KERABIT', 'KerabitPro Oy'],\n ['KILDAIR SERVICES', 'Kildair Service ULC', 'Kildair Service, Ltd.'],\n ['KIMBERLY-CLARK', 'KIMBERLY-CLARK ', 'ООО\"КИМБЕРЛИ-КЛАРК\"'],\n ['KIMBERLY-CLARK (NANJING) CARE PRODUCTS CO., LTD.',\n  'KIMBERLY-CLARK EUROPE LTD',\n  'ООО \"КИМБЕРЛИ-КЛАРК\"'],\n ['KLEIBERIT', 'Kleiberit Chimie Sarl'],\n ['KNAUF AQUAPANEL GMBH & CO. KG', 'ООО\"КНАУФ АКВАПАНЕЛЬ\"'],\n ['KRONES AG', 'ООО \"КРОНЕС\"'],\n ['KUMHO PETROCHEMICAL CO., LTD. (KOSE:A011780)',\n  'Kumho',\n  'Kumho Petrochemical',\n  'kkpc'],\n ['KVK', 'KVK Corporation', 'KVK Corporation (JASDAQ:6484)'],\n ['Kenda Farben India Pvt., Ltd.',\n  'Kenda Rubber (China) Co., Ltd.',\n  'Kenda Rubber (Tianjin) Co., Ltd.',\n  'Kenda Rubber Industries Co., Ltd.',\n  'Pt . Kenda Rubber Indonesia'],\n ['Korea Petroleum Industries Company (KOSE:A004090)',\n  'Korea- ERS- Korea Petroleum'],\n ['Kraton', 'Kraton polymers '],\n ['Kraton Polymers Do Brasil Sa',\n  'Kraton Polymers Japan Ltd.',\n  'Kraton Polymers Nederland Bv',\n  'Kraton Polymers Trading Shanghai Co., Ltd.',\n  'Kraton Polymers Us',\n  'Kraton Polymers Us Llc',\n  'Kraton Polymers Us Llc.',\n  'Kraton Polymers Us. Llc'],\n ['Kumho Petrochemical Co., Ltd.',\n  'Kumho Tire (Tianjin) Co., Ltd.',\n  'Kumho Tire Changchun Co. Inc.',\n  'Kumho Tire Georgia Inc.',\n  'Kumho Tire Goergia Inc.'],\n ['Kuraray America Inc.',\n  'Kuraray India Private Ltd.',\n  'Kuraray Mexico S. De R.L. De C.V.'],\n ['Flex Sol',\n  'Hansa Flex Usa',\n  'K Flex India Private Ltd.',\n  'K Flex Usa',\n  'K Flex Usa Llc. 100 Nomaco',\n  \"L'ISOLANTE K-FLEX SPA\",\n  'LISOLANTE K-FLEX SPA',\n  'Nichirin Flex U . S . A . Inc.',\n  'Nitro Flex X S.A.C.',\n  'Planika Flex D.O.O'],\n ['LAGAN BITUMEN LTD', 'Lagan Bitumen Limited'],\n ['LECTRA S.A.', 'LECTRA SA', 'ООО\"ЛЕКТРА РУССЛАНД\"'],\n ['LG Chem', 'LG Chem Ltd.', 'LGChem '],\n ['LINDNER AKTIENGESELLSCHAFT', 'ООО\"ЛИНДНЕР\"'],\n ['LION COPOLYMER HOLDINGS LLC', 'LION ELASTOMERS, LLC'],\n ['LOTOS ASFALT', 'LOTOS Asfalt Sp. z o.o.'],\n ['LOTTE Versalis Elastomers Co., Ltd.',\n  'Lotte Chemical Corporation (KOSE:A011170)'],\n ['Leman Usa', 'Leman Usa. Atlanta'],\n ['Lohmann GmbH & Co. KG'],\n ['Lusocopla - Fábrica de Colas Industriais, Lda', 'lusocopla'],\n ['M. Holland Co.', 'M.Holland Co.'],\n ['M. Holland Co. Ccp', 'M.Holland Co. Ccp'],\n ['M.F.P. Michelin',\n  'Michelin (Shenyang) Tyre Co., Ltd.',\n  'Michelin Aircraft Tire',\n  'Michelin Americas Research',\n  'Michelin Espana Portugal Sa',\n  'Michelin Group',\n  'Michelin India Private Ltd.',\n  'Michelin India Tamilnadu Tyres Private Ltd.',\n  'Michelin India Technology Center',\n  'Michelin India Technology Center Llp',\n  'Michelin Na Asrc',\n  'Michelin North America (Canada) Inc.',\n  'Michelin North America Inc.',\n  'Michelin Research And Development Center (Shanghai) Co., Ltd.',\n  'Michelin Shenyang Tire Co., Ltd.',\n  'Michelin Siam Co., Ltd.',\n  'Michelin Tyre Plc',\n  'Shanghai Michelin Tire Co., Ltd.',\n  'Shanghai Michelin Warrior Tyre Co., Ltd.',\n  'Sociedade Michelin De Participacoes Ind E Comercio Ltda',\n  'Sociedade Michelin De Participacoes Indust E Comercio L'],\n ['MAKYOL',\n  'Makyol Insaat Sanayi Turizm ve Ticaret A.S.',\n  'Makyol insaat Sanayi Turizm Ve Ticaret A S'],\n ['MALARKEY', 'Malarkey Roofing Products', 'Malarkey Roofing Products Co.'],\n ['MANEKI JAPAN CO., LIMITED', 'ООО\"МАНЕКИ-РУС\"'],\n ['MANITOU BF', 'ООО \"МАНИТУ ВОСТОК\"'],\n ['MAPEI S.P.A.', 'ЗАО \"МАПЕИ\"'],\n ['MARANGONI RETREADING SYSTEMS DEUTSCHLAND',\n  'Marangoni Retreading Systems Deutschland GmbH '],\n ['MARATHON', 'Marathon Oil Corporation (NYSE:MRO)'],\n ['MARTIN ASPHALT', 'Martin Asphalt Co.'],\n ['MCT GMBH & CO. KG',\n  'MCT Misch & Compoundier Technik GmbH',\n  'Mct Misch + Compoundiertechnik Gmbh & Co Kg'],\n ['MICHELIN HUNGARIA KFT',\n  'MICHELIN HUNGARIA TYRE MANUFACTURE LTD',\n  'MICHELIN POLSKA,SIMOREP ET CIE,SIMOREP & CIE',\n  'МИШЛЕН'],\n ['MICHELIN HUNGARIA KFT',\n  'MICHELIN HUNGARIA TYRE MANUFACTURE LTD',\n  'MICHELIN POLSKA,SIMOREP ET CIE,SIMOREP & CIE',\n  'Michelin',\n  'Michelin tires',\n  'МИШЛЕН'],\n ['MICHELIN POLSKA S.A.', 'ООО \"МИШЛЕН РУССКАЯ КОМПАНИЯ ПО ПРОИЗВОДСТВУ ШИН\"'],\n ['MICHELIN REIFENWERKE AG & CO KGAA', 'Мишлен'],\n ['MITAS A.S.', 'Mitas Tires North America'],\n ['MOGAT',\n  'Mogat-Werke Adolf Boving Bitumen- Und Dachpappenfabrik Gesellschaft Mit Beschrankter Haftung',\n  'Mogat-Werke Adolf Böving Bitumen- und Dachpappen Fabrik GmbH'],\n ['MONDELEZ EUROPE GMBH',\n  'MONDELEZ POLSKA PRODUCTION SP.Z.O.O',\n  'ООО\"МОН\\'ДЭЛИС РУСЬ\"',\n  'ООО\"МОНДЭЛИС РУСЬ\"'],\n ['MONDELEZ EUROPE GMBH',\n  'MONDELEZ POLSKA PRODUCTION SP.Z.O.O',\n  'ООО\"МОНДЭЛИС РУСЬ\"'],\n ['MONDI', 'Mondi Limited', 'Mondi Scunthorpe Limited', 'Mondi Styria GmbH'],\n ['MULTIBASE', 'Multibase Inc.'],\n ['Maxwell',\n  'Maxwell Polymers Llp',\n  'Vetus & Maxwell Marine India Pvt., Ltd.'],\n ['MICHELIN HUNGARIA TYRE MANUFACTURE LTD',\n  'MICHELIN POLSKA,SIMOREP ET CIE,SIMOREP & CIE',\n  'Michelin',\n  'Michelin tires',\n  'МИШЛЕН'],\n ['Midland Asphalt', 'Midland Asphalt Materials Inc'],\n ['Mitsubishi Chemical',\n  'Mitsubishi Chemical China Commerce Ltd.',\n  'Mitsubishi Chemical Performance',\n  'Mitsubishi Gas Chemical Engineering Plastics Co., Ltd.'],\n ['Mitsubishi Chemical',\n  'Mitsubishi Chemical China Commerce Ltd.',\n  'Mitsubishi Chemical Performance',\n  'Mitsubishi Electric India Pvt., Ltd.',\n  'Mitsubishi Gas Chemical Engineering Plastics Co., Ltd.'],\n ['Mitsubishi Chemical China Commerce Ltd.',\n  'Mitsubishi Chemical Performance',\n  'Mitsubishi Electric India Pvt., Ltd.'],\n ['Mitsui & Co (Canada)', 'Mitsui & Co Usa Inc.', 'Mitsui & Co., Ltd.'],\n ['Mondi Osterburken GmbH',\n  'NORDENIA',\n  'Nordenia deutschland osterburken gmbh'],\n ['NAFTNA INDUSTRIJA SRBIJE',\n  'NIS ( GPN SUBCIDIARY)',\n  'Naftna Industrija Srbije a.d. (BELEX:NIIS)'],\n ['NETAFIM LTD.', 'ООО\"НЕТАФИМ СНГ\"'],\n ['NEXEO SOLUTIONS EUROPE B.V.', 'ООО\"НЕКСЕО СОЛЮШЕНС РУС\"'],\n ['NEXT RETAIL LIMITED', 'ООО\"НЭКСТ\"'],\n ['NKNH', 'Nizhnekamsk', 'Nizhnekamskneftekhim', 'OAO Nizhnekamskneftekhim'],\n ['OBO BETTERMANN PRODUKTION DEUTSCHLAND GMBH & CO.KG',\n  'OBO BETTERMANN PRODUKTION DEUTSCHLAND GMBH & CO.KG/REVIVAL EXPRESS CHOP (UA)',\n  'ООО \"ОБО БЕТТЕРМАНН\"',\n  'ООО\"ОБО БЕТТЕРМАНН\"'],\n ['OBO BETTERMANN PRODUKTION DEUTSCHLAND GMBH & CO.KG',\n  'OBO BETTERMANN PRODUKTION DEUTSCHLAND GMBH & CO.KG/REVIVAL EXPRESS CHOP (UA)',\n  'ООО\"ОБО БЕТТЕРМАНН\"'],\n ['OLD CASTLE', 'Oldcastle Building Products, Inc.'],\n ['OMV ALL PLANTS',\n  'OMV Aktiengesellschaft',\n  'OMV Aktiengesellschaft (WBAG:OMV)'],\n ['OMÜR TABAN', 'ÖMÜR TABAN'],\n ['ONDULINE US PLANTS/ ONDULINE NORTH AMERICA INC',\n  'Onduline Polska Sp. z o.o.',\n  'Onduline S.A.',\n  'Ондулин'],\n ['ONUR TAAHHÜT ',\n  'Onur Taahhut Tasimacilik Insaat Ticaret ve Sanayi AS',\n  'Onur Taahhut Tasimacilik Ve Ticaret Ltd Sti'],\n ['ORAC N.V.', 'ООО\"ОРАК\"'],\n ['ORZEŁ S.A. ', 'Orzel Spolka Akcyjna', 'Orzel Spolka Akcyjna (WSE:ORL)'],\n ['OWENS CORNING',\n  'Owens Corning',\n  'Owens Corning (NYSE:OC)',\n  'Owens Corning Glass Metal Services',\n  'Owens Corning Ht, Inc.',\n  'Owens Corning Insulating Systems, LLC',\n  'Owens Corning Sales L L C',\n  'Owens Corning Sales Llc',\n  'Owens Corning, Masonry Products Business'],\n ['ONDULINE US PLANTS/ ONDULINE NORTH AMERICA INC',\n  'Onduline Polska Sp. z o.o.',\n  'Onduline S.A.'],\n [\"Ozsahin Sun'i Kosele Sanayii Ve Ticaret A S\",\n  'Ozsahin Suni Kosele Sanayii Ve Ticaret Anonim Sirketi',\n  'ÖZŞAHIN A.Ş'],\n ['OÜ PIGIPADA', 'PIGIPADA Limited liability company', 'Pigipada Oü'],\n ['P.B.M. Polimer Bitumen Modifiers Di Leonardo Baccarelli E C. Sas',\n  'PBM (BACARELLI)'],\n ['P.GROUP SO.F.TER. DEUTSCHLAND GmbH',\n  'SO.F.TER.',\n  'SO.F.TER. S.r.l',\n  'SOFTER / CELANESE'],\n ['PARKER HANNIFIN', 'PARKER HANNIFIN USA'],\n ['PARKER KAWAKAMI', 'Parker Kawakami Co., Ltd.'],\n ['PAUL BAUDER GMBH & CO KG',\n  'PAUL BAUDER GMBH & CO KG, BOCHUM PLANT',\n  'PAUL BAUDER GMBH & CO KG, LANDSBERG PLANT',\n  'PAUL BAUDER GMBH & CO KG, STUTTGART PLANT',\n  'PAUL BAUDER GMBH & CO.KG, ACHIM PLANT',\n  'Paul Bauder GmbH & Co. KG',\n  'Paul Bauder ag'],\n ['PAUL HARTMANN AG', 'ООО \"ПАУЛЬ ХАРТМАНН\"'],\n ['PAVIMENTAL', 'Pavimental S.p.A.'],\n ['PEREL OY', 'ООО\"ПЕРЕЛ РАША\"'],\n ['PERETTI BITUMI', 'Perretti Petroli S.p.a.'],\n ['PERI GMBH', 'ООО\"ПЕРИ\"'],\n ['PETROTEKNO', 'PETROTEKNO, S.A. de C.V.'],\n ['PLASTAY GROUP', 'Plastay Kimya', 'Plastay Kimya Sanayi Ve Ticaret A S'],\n ['POLYGLASS', 'POLYGLASS S.P.A.'],\n ['POLYONE', 'PolyOne Corporation (NYSE:POL)'],\n ['PORR', 'porr ag'],\n ['POWER ADHESIVES', 'Power Adhesives Ltd'],\n ['PROBIGALP', 'Probigalp - Ligantes Betuminosos, S.A.'],\n ['PROBISA',\n  'Probisa Productos Bituminosos',\n  'Probisa Productos Bituminosos S.L.U.'],\n ['PUMA ENERGY ESPANA', 'Puma Energy International B.V'],\n ['Pafra Adhesives Limited', 'Pafra Adhesives Ltd '],\n ['Panda Logistics Usa Inc.', 'Panda Logistics Usa Inc. (New York)'],\n ['Parker Hannifin Canada Division', 'Parker Hannifin Distribution Center'],\n ['Parker Hannifin Industria E Comercio Ltda',\n  'Parker Hannifin Industries E Com Ltda'],\n ['Petro-Canada (International) Holdings BV',\n  'Petro-Canada Denmark GmbH',\n  'Petro-Canada Energy North Sea Limited',\n  'Petro-Canada Oil Sands Inc.',\n  'Petro-Canada Resources (USA) Inc.',\n  'Petro. Canada'],\n ['Petro-Canada Cooperative Holding UA', 'Petro-Canada Resources (USA) Inc'],\n ['Pikasan Plastik Kauçuk Sanayi A.Ş.', 'PİKASAN'],\n ['Pirelli De Venezuela C.A.',\n  'Pirelli Neumaticos Argentina Sa',\n  'Pirelli Neumaticos S.A. De C.V.',\n  'Pirelli Neumaticos S.A. De Cv',\n  'Pirelli Neumaticos S.A.I.C.',\n  'Pirelli Neumaticos Sa',\n  'Pirelli Neumaticos Sa De',\n  'Pirelli Neumaticos Sa De Cv Boulev',\n  'Pirelli Neumaticos Sa De Cv.',\n  'Pirelli Pneus Ltda',\n  'Pirelli Tire Llc',\n  'Pirelli Tyre Co., Ltd.'],\n ['Polyglass', 'Polyglass America (MAPEI)', 'ПОЛИГЛАС'],\n ['Prometeon Tyre Group Industria Brasil Ltda', 'Prometeon Tyre Group Srl'],\n ['Pt Sika Indonesia',\n  'Sika (Cambodia) Ltd.',\n  'Sika (Cambodia) Ltd. Warehouse',\n  'Sika (China) Ltd.',\n  'Sika (Singapore) Pte., Ltd.',\n  'Sika Colombia S.A.',\n  'Sika Corporation',\n  'Sika India Private Ltd.',\n  'Sika Kimia Sdn. Bhd.',\n  'Sika Lanka (Pvt) Ltd.',\n  'Sika Ltd. (Vietnam)',\n  'Sika Mexicana S.A. De C.V.',\n  'Sika Pakistan (Pvt) Ltd.',\n  'Sika S A.',\n  'Sika S.A. Chile',\n  'Sika Sa',\n  'Sika Thailand'],\n ['QUANDT DACHBAHNEN',\n  'W. Quandt Dachbahnen und Dachstoffe GmbH',\n  'W. Quandt Gmbh & Co. Kg'],\n ['RASCO BITUMENTECHNIC GMBH', 'Rasco Bitumentechnik Gmbh'],\n ['RAVAGO', 'Ravago SA'],\n ['REHAU AG+CO', 'ООО \"РЕХАУ ПРОДУКЦИОН\"', 'ООО \"РЕХАУ\"'],\n ['ROGITEX', 'Rogitex International Inc.'],\n ['ROMPETROL', 'Rompetrol Rafinare S.A.'],\n ['ROTOFLEX AG', 'АО \"РОТОФЛЕКС\"'],\n ['RTL-INDUCTIVES OY'],\n ['Ravago Distribution Sa',\n  'Ravago Group',\n  'Ravago Ltd. (Hk)',\n  'Ravago Mfg. India Private Ltd.',\n  'Ravago Shah Polymers Pvt., Ltd.'],\n ['Recron (Malaysia) Sdn Bhd', 'Recron (Malaysia) Sdn.Bhd.'],\n ['Red Avenue New Materials Group Co., Ltd (彤程新材料集团股份有限公司)',\n  'Red Avenue New Materials Group Co., Ltd. (SHSE:603650)'],\n ['Rhenocoll-Werk', 'Rhenocoll-Werk E.K.'],\n ['Rhino Rugby',\n  'Rhino Rugby France',\n  'Rhino Rugby Ltd.',\n  'Rhino Rugby South Africa (Pty) Ltd.'],\n ['Rhino Sport And Leisure', 'Rhino Sports + Leisure Llc'],\n ['SAFIC ALCAN', 'Safic-Alcan Polska Sp. z o.o.'],\n ['SAKHALIN ENERGY INVESTMENT CO. LTD',\n  'ФИЛИАЛ КОМПАНИИ \"САХАЛИН ЭНЕРДЖИ ИНВЕСТМЕНТ КОМПАНИ ЛТД.\"'],\n ['SANYHOT', 'Sanyhot Adhesivos'],\n ['SELENA FM S.A.', 'ООО \"СЕЛЕНА ВОСТОК\"'],\n ['SERVICOM (OFF-SPEC)', 'Servicom S.A. (BVMT:SERVI) - سرفيكوم'],\n ['SHOWA REKISEI',\n  'SHOWA SHELL',\n  'Showa Rekisei Industries Co.,Ltd.',\n  'Showa Shell Sekiyu K.K.'],\n ['SIA\"CENTRUM EUROPA\"', 'ООО \"ЦЕНТРУМ\"'],\n ['SIEMENS AKTIENGESELLSCHAFT', 'ООО\"СИМЕНС ТЕХНОЛОГИИ ГАЗОВЫХ ТУРБИН\"'],\n ['SIKA SUPPLY CENTER AG\"', 'ООО \"ЗИКА\"'],\n ['SIMGE-MAT', 'Simge Mat Madencilik Asfalt Ticaret Ve Sanayi Anonim Sirketi'],\n ['SKF LUBRICATION SYSTEMS GERMANY GMBH', 'ООО\"СКФ ТВЕРЬ\"'],\n ['SOUDAL', 'Soudal N.V.', 'Soudal NV'],\n ['SOUDAL NV', 'SOUDAL NV BY', 'ООО \"СОУДАЛ\"'],\n ['SPC Europe Limited', 'SPC Spain ', 'SPC-JEVSA SLU'],\n ['SUPER BETON', 'Super Beton Ltd.'],\n ['SUPERBETON', 'SUPERBETON S.P.A.'],\n ['SWISSPOR (VAPAROID)', 'SWISSPOR POLSKA', 'Swisspor Polska Sp. z o.o.'],\n ['Sabic Innovative Plastics Mexico S.', 'Sabic Innovative Plastics Us Llc'],\n ['Safic Alcan Group', 'Safic Alcan Italia Sp A'],\n ['Saint Gobain Canada Inc.',\n  'Saint Gobain Colombia Sas',\n  'Saint Gobain India Pvt., Ltd.',\n  'Saint Gobain Performance Plastics',\n  'Saint Gobain Vietnam Co., Ltd.'],\n ['Saint-Gobain Performance Plastics Corporation',\n  'Saint-Gobain Performance Plastics Inc.'],\n ['Savino Del Bene',\n  'Savino Del Bene Chile S.A.',\n  'Savino Del Bene Poland Sp. Z O.O.',\n  'Savino Del Bene Usa Inc.'],\n ['Shanghai Synthomer Chemicals Co., Ltd.',\n  'Synthomer (Uk) Ltd.',\n  'Synthomer Llc',\n  'Synthomer Llc C Oterminal',\n  'Synthomer Llc C Oterminal Warehouse',\n  'Synthomer Llc. Peachtree Lenox Bl Bonded Logistics 7320 Statesville',\n  'Synthomer Ltd.',\n  'Synthomer Srl'],\n ['Shenzhen Comlink Electronic', 'Shenzhen Comlink Electronics Co., Ltd.'],\n ['Sherwin-Williams ', 'The Sherwin-Williams Company (NYSE:SHW)'],\n ['Sodex Ag', 'СОДЕКС АГ'],\n ['Soprema', 'Soprema Chilliwack', 'Soprema Drummondville', 'СОПРЕМА'],\n ['Stemaco', 'Stemaco USA'],\n ['Sumika Polymers Mexico S De Rl De Cv',\n  'Sumika Polymers North America',\n  'Sumika Polymers North America Inc.'],\n ['Sumimoto', 'Sumitomo Chemical Co.Ltd.'],\n ['Sumitomo Bakelite (Nantong) Co., Ltd.',\n  'Sumitomo Industrias Pesadas Do Brasil Ltda',\n  'Sumitomo Rubber (Changshu) Co., Ltd.',\n  'Sumitomo Rubber Do Brasil Ltda',\n  'Sumitomo Rubber Inds',\n  'Sumitomo Rubber Industries',\n  'Sumitomo Rubber Industries Usa',\n  'Sumitomo Rubber Industriesusa',\n  'Sumitomo Rubber North America Inc.',\n  'Sumitomo Rubber Usa 10 Sheridan',\n  'Sumitomo Rubber Usa Llc',\n  'Sumitomo Rubber(Hunan) Co. Ltd.',\n  'Sumitomo Warehouse (Usa.) Inc.'],\n ['Sumitomo Chemical Do Brasil Representacoes Limitada',\n  'Sumitomo Corporation Do Brasil Sa',\n  'Sumitomo Rubber (Changshu) Co., Ltd.',\n  'Sumitomo Rubber Do Brasil Ltda',\n  'Sumitomo Rubber Inds',\n  'Sumitomo Rubber Industries',\n  'Sumitomo Rubber Industries Usa',\n  'Sumitomo Rubber Industriesusa',\n  'Sumitomo Rubber North America Inc.',\n  'Sumitomo Rubber Usa 10 Sheridan',\n  'Sumitomo Rubber Usa Llc',\n  'Sumitomo Rubber(Hunan) Co. Ltd.'],\n ['Sumitomo Corp. Of America',\n  'Sumitomo Corporation Do Brasil Sa',\n  'Sumitomo Corporation Of America',\n  'Sumitomo Industrias Pesadas Do Brasil Ltda',\n  'Sumitomo Rubber Do Brasil Ltda'],\n ['Sumitomo Chemical Do Brasil Representacoes Limitada',\n  'Sumitomo Corp. Of America',\n  'Sumitomo Corporation Do Brasil Sa',\n  'Sumitomo Corporation Of America',\n  'Sumitomo Industrias Pesadas Do Brasil Ltda',\n  'Sumitomo Rubber (Changshu) Co., Ltd.',\n  'Sumitomo Rubber Do Brasil Ltda',\n  'Sumitomo Rubber Inds',\n  'Sumitomo Rubber Industries',\n  'Sumitomo Rubber Industries Usa',\n  'Sumitomo Rubber Industriesusa',\n  'Sumitomo Rubber North America Inc.',\n  'Sumitomo Rubber Usa 10 Sheridan',\n  'Sumitomo Rubber Usa Llc',\n  'Sumitomo Rubber(Hunan) Co. Ltd.'],\n ['Sumitomo Bakelite (Nantong) Co., Ltd.',\n  'Sumitomo Corp. Of America',\n  'Sumitomo Corporation Do Brasil Sa',\n  'Sumitomo Corporation Of America',\n  'Sumitomo Industrias Pesadas Do Brasil Ltda',\n  'Sumitomo Rubber (Changshu) Co., Ltd.',\n  'Sumitomo Rubber Do Brasil Ltda',\n  'Sumitomo Rubber Inds',\n  'Sumitomo Rubber Industries',\n  'Sumitomo Rubber Industries Usa',\n  'Sumitomo Rubber Industriesusa',\n  'Sumitomo Rubber North America Inc.',\n  'Sumitomo Rubber Usa 10 Sheridan',\n  'Sumitomo Rubber Usa Llc',\n  'Sumitomo Rubber(Hunan) Co. Ltd.',\n  'Sumitomo Warehouse (Usa.) Inc.'],\n ['Sumitomo Bakelite (Nantong) Co., Ltd.',\n  'Sumitomo Chemical Do Brasil Representacoes Limitada',\n  'Sumitomo Corporation Do Brasil Sa',\n  'Sumitomo Industrias Pesadas Do Brasil Ltda',\n  'Sumitomo Rubber (Changshu) Co., Ltd.',\n  'Sumitomo Rubber Do Brasil Ltda',\n  'Sumitomo Rubber Inds',\n  'Sumitomo Rubber Industries',\n  'Sumitomo Rubber Industries Usa',\n  'Sumitomo Rubber Industriesusa',\n  'Sumitomo Rubber North America Inc.',\n  'Sumitomo Rubber Usa 10 Sheridan',\n  'Sumitomo Rubber Usa Llc',\n  'Sumitomo Rubber(Hunan) Co. Ltd.',\n  'Sumitomo Warehouse (Usa.) Inc.'],\n ['Sumitomo Bakelite (Nantong) Co., Ltd.',\n  'Sumitomo Chemical Do Brasil Representacoes Limitada',\n  'Sumitomo Corp. Of America',\n  'Sumitomo Corporation Do Brasil Sa',\n  'Sumitomo Corporation Of America',\n  'Sumitomo Industrias Pesadas Do Brasil Ltda',\n  'Sumitomo Rubber (Changshu) Co., Ltd.',\n  'Sumitomo Rubber Do Brasil Ltda',\n  'Sumitomo Rubber Inds',\n  'Sumitomo Rubber Industries',\n  'Sumitomo Rubber Industries Usa',\n  'Sumitomo Rubber Industriesusa',\n  'Sumitomo Rubber North America Inc.',\n  'Sumitomo Rubber Usa 10 Sheridan',\n  'Sumitomo Rubber Usa Llc',\n  'Sumitomo Rubber(Hunan) Co. Ltd.',\n  'Sumitomo Warehouse (Usa.) Inc.'],\n ['Sunflag (Nigeria) Ltd.',\n  'Sunflag (Tanzania) Ltd.',\n  'Sunflag Nigeria Ltd.',\n  'Sunflag Thailand Ltd.'],\n ['Synthos',\n  'Synthos Dwory 7 Spolka',\n  'Synthos Dwory SA',\n  'Synthos Kralupy',\n  'Synthos rubber'],\n ['T.L. Squire', 'T.L. Squire & Co. Inc.'],\n ['TAKATA AG\"', 'ООО \"ТАКАТА РУС\"'],\n ['TECHNONIKOL ', 'TechnoNikol Ltd.', 'Technonikol'],\n ['TECHNPVINYL POLYMERS INDIA LTD.',\n  'Technovinyl Polymers India Limited',\n  'Technovinyl Polymers India ltd'],\n ['TECNOFILM', 'Tecnofilm Spa'],\n ['TER Group GmbH', 'TER HELL OR STRABEQ', 'Ter hell & co. Gmbh'],\n ['TERMOCOMPO',\n  'Termocompo - IndUstria TermoplAstica, Lda',\n  'Termocompo - Indústria Termoplástica, Lda'],\n ['TERMOPRENE POLYMERS', 'Thermoprene, Inc.'],\n ['TETRA PAK INTERNATIONAL SA', 'АО\"ТЕТРА ПАК\"'],\n ['TETRA PAK TECHNICAL SERVICE AB', 'АО \"ТЕТРА ПАК\"'],\n ['THREE BOND EUROPE', 'Three Bond Europe S.A.'],\n ['TIM IZOLIRKA ', 'Tim Izolirka D.O.O.'],\n ['TOA ROAD', 'Toa Road Corporation (TSE:1882)'],\n ['TOTAL BITUMEN*',\n  'TOTAL CESKA REPUBLIKA s.r.o.',\n  'TOTAL CZECH REPUBLIC',\n  'TOTAL FRANCE (ARNAY LE DUC)',\n  'TOTAL PETROCHEMICALS FRANCE',\n  'TOTAL POLSKA',\n  'TOTAL Polska Sp. z o.o.',\n  'TOTAL RUMUNIA',\n  'Total Bitumen Deutschland GmbH',\n  'Total Bitumen GmbH',\n  'Total Petrochemicals France SA',\n  'Total Romania S.A.'],\n ['TREMCO ILLBRUCK / RPM', 'Tremco illbruck Group GmbH'],\n ['TUBA TABAN', 'TUBA TERMO KAUÇUK TABAN SAN. VE TİC. LTD'],\n ['TUERMERLEIM', 'Turmerleim Gmbh', 'TÜRMERLEIM GmbH'],\n ['Taiwan Synthetic Rubber Corp. ', 'Tsrc Corporation', 'tsrc'],\n ['Thuan Loi Rubber', 'Thuan Loi Rubber Co., Ltd.'],\n ['Tohpe Corporation', 'Tope Seizo, K.K.'],\n ['Tokyo Zairyo (India) Private Limited',\n  'Tokyo Zairyo (U.S.A.) Inc.',\n  'Tokyo Zairyo (m) Sdn Bhd',\n  'Tokyo Zairyo Co., Ltd.'],\n ['Toray Carbon Fibers America, Inc.', 'Toray Carbon Fibers Europe S.A.'],\n ['Toyo Tire North',\n  'Toyo Tire North America',\n  'Toyo Tires Zhangjiagang Co., Ltd.',\n  'Toyo Trans Inc.',\n  'Zhuhai Toyo Ink Co., Ltd.'],\n ['Cebu Toyo Corp',\n  'Shanghai Toyo Ink Mfg. Co., Ltd.',\n  'Toyo Tire North',\n  'Toyo Tire North America',\n  'Toyo Tires Zhangjiagang Co., Ltd.',\n  'Toyo Trans Inc.',\n  'Zhuhai Toyo Ink Co., Ltd.'],\n ['Trinseo Europe Gmb H Tax Id Be0806160466',\n  'Trinseo Europe Gmb H Trade Register 20162359',\n  'Trinseo Europe Gmb H Trade Register 20162359 Tax Id Be0806160466',\n  'Trinseo Europe Gmb H Vat Id Nl819885150 B01',\n  'Trinseo Llc',\n  'Trinseo Llc (Us)'],\n ['US PLY INC.', 'US Ply '],\n ['Univar Chemicals (Shanghai) Co., Ltd. /Univar China Ltd.',\n  'V.M. Univar Edison'],\n ['VALLEY ASPHALT', 'Valley Asphalt Corp.'],\n ['VAPAROID', 'Vaparoid AG'],\n ['VARO ENERGY', 'Varo Energy B.V.'],\n ['VEBEL S.R.L.', 'Verel Srl'],\n ['VEDAG', 'VEDAG GMBH (BAMBERG)'],\n ['VEDAG GmbH\\xa0', 'ВЕДАГ ГМБХ'],\n ['VERSALIS', 'Versalis S.p.A. '],\n ['VETROASFALTO', 'Vetroasfalto S.p.a.'],\n ['Versalis Americas Inc.',\n  'Versalis Pacific Trading (Shanghai)',\n  'Versalis Pacific Trading Shanghai',\n  'Versalis Sp A'],\n ['Vestas Wind Technology (China) Co., Ltd.',\n  'Vestas Wind Technology India Private Ltd.'],\n ['W. R. Grace Canada Corp', 'WRGRACE', 'Wrgrace & Co. Of Canada Ltd.'],\n ['WAKOL', 'Wakol Gmbh'],\n ['WARDEN ASPHALT', 'Warden Asphalt Co.'],\n ['WERNER JANIKOWO', 'Werner Janikowo Sp Z O O'],\n ['WINTERSTEIGER AG', 'ООО \"ВИНТЕРШТАЙГЕР\"'],\n ['WRIGHT ASPHALT PRODUCTS',\n  'Wright Asphalt Products Co.',\n  'Wright Asphalt Products Company LLC'],\n ['Yokohama',\n  'Yokohama Corp. Of North Ameri',\n  'Yokohama Industries Americas',\n  'Yokohama Re Mfg.',\n  'Yokohama Rubber Co., Ltd. The',\n  'Yokohama Tire Corp.',\n  'Yokohama Tire Corporation',\n  'Yokohama Tyre'],\n ['Yokohama',\n  'Yokohama Corp. Of North Ameri',\n  'Yokohama India Pvt., Ltd.',\n  'Yokohama Industries Americas',\n  'Yokohama Re Mfg.',\n  'Yokohama Rubber Co., Ltd. The',\n  'Yokohama Tire Canada',\n  'Yokohama Tire Corp.',\n  'Yokohama Tire Corporation',\n  'Yokohama Tire Mfg. Virgini',\n  'Yokohama Tyre'],\n ['Yokohama Corp. Of North Ameri',\n  'Yokohama India Pvt., Ltd.',\n  'Yokohama Industries Americas',\n  'Yokohama Re Mfg.',\n  'Yokohama Rubber Co., Ltd. The',\n  'Yokohama Tire Canada',\n  'Yokohama Tire Corp.',\n  'Yokohama Tire Corporation',\n  'Yokohama Tire Mfg. Virgini',\n  'Yokohama Tyre'],\n ['Youngnam Spinning', 'Youngnam Spinning Co., Ltd.'],\n ['ZANOTTI S.P.A\"', 'ООО\"ЗАНОТТИ\"'],\n ['ZEON Corporation', 'Zeon'],\n ['Ibaraki Zeon Kasei Co.,Ltd.',\n  'ZEON Corporation (TSE:4205)',\n  'ZEON KASEI CO., LTD.',\n  'ZS Elastomers Co., Ltd.',\n  'Zeon (Shanghai) Co., Ltd.',\n  'Zeon Advance Polymix Co., Ltd.',\n  'Zeon Asia Malaysia Sdn. Bhd.',\n  'Zeon Asia Pte Ltd',\n  'Zeon CSC Corporation',\n  'Zeon Chemicals (Thailand) Co., Ltd',\n  'Zeon Chemicals Europe Limited',\n  'Zeon Chemicals L P',\n  'Zeon Chemicals L.P.',\n  'Zeon Chemicals Yonezawa Co.,Ltd.',\n  'Zeon Corporation',\n  'Zeon Europe Gmbh',\n  'Zeon F&B Co., Ltd',\n  'Zeon France',\n  'Zeon India Private Limited',\n  'Zeon Italia Srl',\n  'Zeon Kasei (Changshu) Co.,Ltd',\n  'Zeon Kasei Mexico S.A. de C.V.',\n  'Zeon Korea Co., Ltd',\n  'Zeon Logistical Materials Co.,Ltd.',\n  'Zeon Manufacturing Vietnam Co., Ltd',\n  'Zeon Medical (Guangzhou) Inc',\n  'Zeon Medical Inc.',\n  'Zeon Nano Technology Co., Ltd',\n  'Zeon North Co., Ltd.',\n  'Zeon Polymix Incorporation',\n  'Zeon RIM Co., Ltd',\n  'Zeon Research Vietnam Co., Ltd',\n  'Zeon Shinhwa (Zeshin) Inc.',\n  'Zeon Trading (Shanghai) Co., Ltd.',\n  'Zeon do Brasil Ltda'],\n ['Ibaraki Zeon Kasei Co.,Ltd.',\n  'ZEON Corporation (TSE:4205)',\n  'ZEON KASEI CO., LTD.',\n  'ZS Elastomers Co., Ltd.',\n  'Zeon (Shanghai) Co., Ltd.',\n  'Zeon Advance Polymix Co., Ltd.',\n  'Zeon Asia Malaysia Sdn. Bhd.',\n  'Zeon Asia Pte Ltd',\n  'Zeon CSC Corporation',\n  'Zeon Chemicals (Thailand) Co., Ltd',\n  'Zeon Chemicals Europe Limited',\n  'Zeon Chemicals L.P.',\n  'Zeon Chemicals Yonezawa Co.,Ltd.',\n  'Zeon Europe Gmbh',\n  'Zeon F&B Co., Ltd',\n  'Zeon India Private Limited',\n  'Zeon Kasei (Changshu) Co.,Ltd',\n  'Zeon Kasei Mexico S.A. de C.V.',\n  'Zeon Korea Co., Ltd',\n  'Zeon Logistical Materials Co.,Ltd.',\n  'Zeon Manufacturing Vietnam Co., Ltd',\n  'Zeon Medical (Guangzhou) Inc',\n  'Zeon Medical Inc.',\n  'Zeon Nano Technology Co., Ltd',\n  'Zeon North Co., Ltd.',\n  'Zeon Polymix Incorporation',\n  'Zeon RIM Co., Ltd',\n  'Zeon Research Vietnam Co., Ltd',\n  'Zeon Shinhwa (Zeshin) Inc.',\n  'Zeon Trading (Shanghai) Co., Ltd.',\n  'Zeon do Brasil Ltda'],\n ['ZEON Corporation (TSE:4205)',\n  'ZEON KASEI CO., LTD.',\n  'ZS Elastomers Co., Ltd.',\n  'Zeon (Shanghai) Co., Ltd.',\n  'Zeon Advance Polymix Co., Ltd.',\n  'Zeon Asia Malaysia Sdn. Bhd.',\n  'Zeon Asia Pte Ltd',\n  'Zeon CSC Corporation',\n  'Zeon Chemicals (Thailand) Co., Ltd',\n  'Zeon Chemicals Europe Limited',\n  'Zeon Chemicals L.P.',\n  'Zeon Chemicals Yonezawa Co.,Ltd.',\n  'Zeon Europe Gmbh',\n  'Zeon F&B Co., Ltd',\n  'Zeon India Private Limited',\n  'Zeon Kasei (Changshu) Co.,Ltd',\n  'Zeon Kasei Mexico S.A. de C.V.',\n  'Zeon Korea Co., Ltd',\n  'Zeon Manufacturing Vietnam Co., Ltd',\n  'Zeon Medical (Guangzhou) Inc',\n  'Zeon Medical Inc.',\n  'Zeon Nano Technology Co., Ltd',\n  'Zeon North Co., Ltd.',\n  'Zeon Polymix Incorporation',\n  'Zeon RIM Co., Ltd',\n  'Zeon Research Vietnam Co., Ltd',\n  'Zeon Shinhwa (Zeshin) Inc.',\n  'Zeon Trading (Shanghai) Co., Ltd.',\n  'Zeon do Brasil Ltda'],\n ['Zeon (Shanghai) Co. Ltd.',\n  'Zeon Advanced Polymix Co., Ltd.',\n  'Zeon Belts Private Ltd.',\n  'Zeon Chemicals L P',\n  'Zeon Chemicals L.P.',\n  'Zeon Corporation',\n  'Zeon Produtos Quimicos Do Brasil Ltda',\n  'Zeon Specialty Materials Inc.',\n  'Zeon Trading （Shanghai）Co. Ltd.'],\n ['ZEON Corporation (TSE:4205)',\n  'Zeon (Shanghai) Co. Ltd.',\n  'Zeon Advanced Polymix Co., Ltd.',\n  'Zeon Belts Private Ltd.',\n  'Zeon Chemicals L P',\n  'Zeon Chemicals L.P.',\n  'Zeon Corporation',\n  'Zeon Produtos Quimicos Do Brasil Ltda',\n  'Zeon Specialty Materials Inc.',\n  'Zeon Trading （Shanghai）Co. Ltd.'],\n ['ZEON Corporation (TSE:4205)',\n  'ZEON KASEI CO., LTD.',\n  'ZS Elastomers Co., Ltd.',\n  'Zeon (Shanghai) Co. Ltd.',\n  'Zeon (Shanghai) Co., Ltd.',\n  'Zeon Advance Polymix Co., Ltd.',\n  'Zeon Advanced Polymix Co., Ltd.',\n  'Zeon Asia Malaysia Sdn. Bhd.',\n  'Zeon Asia Pte Ltd',\n  'Zeon Belts Private Ltd.',\n  'Zeon CSC Corporation',\n  'Zeon Chemicals (Thailand) Co., Ltd',\n  'Zeon Chemicals Europe Limited',\n  'Zeon Chemicals L P',\n  'Zeon Chemicals L.P.',\n  'Zeon Chemicals Yonezawa Co.,Ltd.',\n  'Zeon Corporation',\n  'Zeon Europe Gmbh',\n  'Zeon F&B Co., Ltd',\n  'Zeon India Private Limited',\n  'Zeon Kasei (Changshu) Co.,Ltd',\n  'Zeon Kasei Mexico S.A. de C.V.',\n  'Zeon Korea Co., Ltd',\n  'Zeon Manufacturing Vietnam Co., Ltd',\n  'Zeon Medical (Guangzhou) Inc',\n  'Zeon Medical Inc.',\n  'Zeon Nano Technology Co., Ltd',\n  'Zeon North Co., Ltd.',\n  'Zeon Polymix Incorporation',\n  'Zeon Produtos Quimicos Do Brasil Ltda',\n  'Zeon RIM Co., Ltd',\n  'Zeon Research Vietnam Co., Ltd',\n  'Zeon Shinhwa (Zeshin) Inc.',\n  'Zeon Specialty Materials Inc.',\n  'Zeon Trading (Shanghai) Co., Ltd.',\n  'Zeon Trading （Shanghai）Co. Ltd.',\n  'Zeon do Brasil Ltda'],\n ['ZEON Corporation (TSE:4205)',\n  'ZEON KASEI CO., LTD.',\n  'ZS Elastomers Co., Ltd.',\n  'Zeon (Shanghai) Co., Ltd.',\n  'Zeon Advance Polymix Co., Ltd.',\n  'Zeon Asia Malaysia Sdn. Bhd.',\n  'Zeon Asia Pte Ltd',\n  'Zeon CSC Corporation',\n  'Zeon Chemicals (Thailand) Co., Ltd',\n  'Zeon Chemicals Europe Limited',\n  'Zeon Chemicals L.P.',\n  'Zeon Chemicals Yonezawa Co.,Ltd.',\n  'Zeon Europe Gmbh',\n  'Zeon F&B Co., Ltd',\n  'Zeon France',\n  'Zeon India Private Limited',\n  'Zeon Italia Srl',\n  'Zeon Kasei (Changshu) Co.,Ltd',\n  'Zeon Kasei Mexico S.A. de C.V.',\n  'Zeon Korea Co., Ltd',\n  'Zeon Manufacturing Vietnam Co., Ltd',\n  'Zeon Medical (Guangzhou) Inc',\n  'Zeon Medical Inc.',\n  'Zeon Nano Technology Co., Ltd',\n  'Zeon North Co., Ltd.',\n  'Zeon Polymix Incorporation',\n  'Zeon RIM Co., Ltd',\n  'Zeon Research Vietnam Co., Ltd',\n  'Zeon Shinhwa (Zeshin) Inc.',\n  'Zeon Trading (Shanghai) Co., Ltd.',\n  'Zeon do Brasil Ltda'],\n ['ZEON Corporation (TSE:4205)',\n  'Zeon Europe Gmbh',\n  'Zeon France',\n  'Zeon Italia Srl'],\n ['Ziylan Taban San.Tic.A.S.',\n  'Ziylan Taban Sanayii Ve Ticaret Anonim Sirketi',\n  'ZİYLAN TABAN'],\n ['Bit Mat. Products Of Michigan, Inc.',\n  'Bit-Mat Products of Indiana, Inc.',\n  'klink group'],\n ['konimpex', 'КОНИМПЕКС'],\n ['pirelli tyre russia', 'ПИРЕЛЛИ ТАЙР РУССИЯ'],\n ['«ГК Полипласт» ',\n  'ООО «Полипласт Новомосковск»',\n  'ООО «Полипласт Северо-запад»',\n  'ООО «Полипласт-УралСиб»'],\n ['АЙКХОФФ БЕРГБАУТЕХНИК ГМБХ', 'ООО\"АЙКХОФФ СИБИРЬ\"'],\n ['АО\"ЕГОРЬЕВСК-ОБУВЬ\"'],\n ['ОАО \"СЕВЕРОМОРСКИЙ АЛЬЯНС\"',\n  'РОССИЙСКИЕ МОРСКИЕ СУДА М-0251\"НОРТЕРН ЭНТЕРПРАЙС И М-0344\"МОРСКОЙ БРИЗ ОАО\"СЕВЕРОМОРСКИЙ АЛЬЯНС\"'],\n ['ООО \"КЬЮ ЭКСПРЕСС\"'],\n ['ООО \"МАНДЕРС\"'],\n ['ООО \"МЕДИАИНВЕСТ\"', 'ООО\"МЕДИАИНВЕСТ\"'],\n ['OBO BETTERMANN PRODUKTION DEUTSCHLAND GMBH & CO.KG',\n  'ООО \"ОБО БЕТТЕРМАНН\"',\n  'ООО\"ОБО БЕТТЕРМАНН\"'],\n ['ООО \"СТАРКОМ\"'],\n ['ООО \"ХИММАРКЕТ\"'],\n ['ООО \"ХУСКВАРНА\"'],\n ['ООО Руспласт', 'РУСПЛАСТ, ООО (ЛОБАНОВО)'],\n ['ООО Химинвест групп', 'ХИМИНВЕСТ ГРУПП, ООО'],\n ['ООО\"АРТСАНА РУС\"'],\n ['ООО\"ВЕРТИКАЛЬ СПОРТ\"'],\n ['ООО\"ГУЧЧИ РУС\"'],\n ['ООО\"ГЭЛАКСИ КАРГО СЕРВИС\"'],\n ['ООО\"ДОМ ОДЕЖДЫ\"'],\n ['ООО\"ИМПОРТ МОДА\"'],\n ['ООО\"ИМПЭКС\"'],\n ['ООО\"КАМИМП\"'],\n ['ООО\"ЛО ТРЕЙД\"'],\n ['MONDELEZ EUROPE GMBH', 'ООО\"МОН\\'ДЭЛИС РУСЬ\"', 'ООО\"МОНДЭЛИС РУСЬ\"'],\n ['ООО\"НОВЫЙ МИР\"'],\n ['ООО\"ОЗОН ГИЙИМ РСЙ\"'],\n ['ООО\"ОЛИМП\"'],\n ['ООО\"ОРТГРАФ\"'],\n ['ООО\"ПРИВАТ ТРЭЙД\"'],\n ['ООО\"СПЕЦИАЛЬНОЕ ОБОРУДОВАНИЕ\"'],\n ['ООО\"ФАВОРИТ СТАЙЛ'],\n ['ООО\"ЭЛ КЕРАМИКА\"'],\n ['ООО\"ЭССИЭЙ ХАЙДЖИН ПРОДАКТС РАША СВЕТОГОРСКИЙ ФИЛИАЛ',\n  'ООО\"ЭССИЭЙ ХАЙДЖИН ПРОДАКТС РАША\"'],\n ['ONDULINE US PLANTS/ ONDULINE NORTH AMERICA INC',\n  'Onduline Polska Sp. z o.o.',\n  'Ондулин'],\n ['ФИЛИАЛ КОМПАНИИ ЭКСОН НЕФТЕГАЗ ЛИМИТЕД',\n  'ФИЛИАЛ КОМПАНИИ\"ЭКСОН НЕФТЕГАЗ ЛИМИТЕД\"']]"
     },
     "execution_count": 52,
     "metadata": {},
     "output_type": "execute_result"
    }
   ],
   "source": [
    "unique_groups"
   ],
   "metadata": {
    "collapsed": false,
    "pycharm": {
     "name": "#%%\n"
    }
   }
  },
  {
   "cell_type": "code",
   "execution_count": null,
   "outputs": [],
   "source": [],
   "metadata": {
    "collapsed": false,
    "pycharm": {
     "name": "#%%\n"
    }
   }
  },
  {
   "cell_type": "code",
   "execution_count": 161,
   "outputs": [
    {
     "data": {
      "text/plain": "                                                 name_1     name_2  \\\n1328                              Lohmann GmbH & Co. KG  SO.F.TER.   \n4332    ANKARA INSAAT TICARET ve SANAYI LIMITED SIRKETI  SO.F.TER.   \n12029                                       POLYMERTEAM  SO.F.TER.   \n13804                                 Joss Holding B.V.  SO.F.TER.   \n22179                                         MCASPHALT  SO.F.TER.   \n...                                                 ...        ...   \n483258                                       PAVIMENTAL  SO.F.TER.   \n485337                                         PROTRADE  SO.F.TER.   \n490856                                             PORR  SO.F.TER.   \n492066                          Rompetrol Rafinare S.A.  SO.F.TER.   \n493966                    KVK Corporation (JASDAQ:6484)  SO.F.TER.   \n\n        is_duplicate                                   name_preproc_x  \\\n1328               0                                     lohmann & kg   \n4332               0  ankara insaat ticaret ve sanayi limited sirketi   \n12029              0                                      polymerteam   \n13804              0                                  joss holding bv   \n22179              0                                        mcasphalt   \n...              ...                                              ...   \n483258             0                                       pavimental   \n485337             0                                         protrade   \n490856             0                                             porr   \n492066             0                               rompetrol rafinare   \n493966             0                                              kvk   \n\n                                                    emb_1 name_preproc_y  \\\n1328    [-0.00794435478746891, 0.024964027106761932, 0...         softer   \n4332    [0.024160169064998627, -0.051298387348651886, ...         softer   \n12029   [-0.007658825255930424, 0.023627055808901787, ...         softer   \n13804   [0.0007745528127998114, 0.012520086951553822, ...         softer   \n22179   [0.049031779170036316, -0.008015838451683521, ...         softer   \n...                                                   ...            ...   \n483258  [-0.004661908373236656, -0.006784559227526188,...         softer   \n485337  [0.000575021025724709, -0.023494573310017586, ...         softer   \n490856  [0.011393015272915363, -0.007374722044914961, ...         softer   \n492066  [0.005357269197702408, -0.008388257585465908, ...         softer   \n493966  [0.016695046797394753, 0.02653193101286888, -0...         softer   \n\n                                                    emb_2  \n1328    [-0.06651424616575241, -0.02606678567826748, 0...  \n4332    [-0.06651424616575241, -0.02606678567826748, 0...  \n12029   [-0.06651424616575241, -0.02606678567826748, 0...  \n13804   [-0.06651424616575241, -0.02606678567826748, 0...  \n22179   [-0.06651424616575241, -0.02606678567826748, 0...  \n...                                                   ...  \n483258  [-0.06651424616575241, -0.02606678567826748, 0...  \n485337  [-0.06651424616575241, -0.02606678567826748, 0...  \n490856  [-0.06651424616575241, -0.02606678567826748, 0...  \n492066  [-0.06651424616575241, -0.02606678567826748, 0...  \n493966  [-0.06651424616575241, -0.02606678567826748, 0...  \n\n[98 rows x 7 columns]",
      "text/html": "<div>\n<style scoped>\n    .dataframe tbody tr th:only-of-type {\n        vertical-align: middle;\n    }\n\n    .dataframe tbody tr th {\n        vertical-align: top;\n    }\n\n    .dataframe thead th {\n        text-align: right;\n    }\n</style>\n<table border=\"1\" class=\"dataframe\">\n  <thead>\n    <tr style=\"text-align: right;\">\n      <th></th>\n      <th>name_1</th>\n      <th>name_2</th>\n      <th>is_duplicate</th>\n      <th>name_preproc_x</th>\n      <th>emb_1</th>\n      <th>name_preproc_y</th>\n      <th>emb_2</th>\n    </tr>\n  </thead>\n  <tbody>\n    <tr>\n      <th>1328</th>\n      <td>Lohmann GmbH &amp; Co. KG</td>\n      <td>SO.F.TER.</td>\n      <td>0</td>\n      <td>lohmann &amp; kg</td>\n      <td>[-0.00794435478746891, 0.024964027106761932, 0...</td>\n      <td>softer</td>\n      <td>[-0.06651424616575241, -0.02606678567826748, 0...</td>\n    </tr>\n    <tr>\n      <th>4332</th>\n      <td>ANKARA INSAAT TICARET ve SANAYI LIMITED SIRKETI</td>\n      <td>SO.F.TER.</td>\n      <td>0</td>\n      <td>ankara insaat ticaret ve sanayi limited sirketi</td>\n      <td>[0.024160169064998627, -0.051298387348651886, ...</td>\n      <td>softer</td>\n      <td>[-0.06651424616575241, -0.02606678567826748, 0...</td>\n    </tr>\n    <tr>\n      <th>12029</th>\n      <td>POLYMERTEAM</td>\n      <td>SO.F.TER.</td>\n      <td>0</td>\n      <td>polymerteam</td>\n      <td>[-0.007658825255930424, 0.023627055808901787, ...</td>\n      <td>softer</td>\n      <td>[-0.06651424616575241, -0.02606678567826748, 0...</td>\n    </tr>\n    <tr>\n      <th>13804</th>\n      <td>Joss Holding B.V.</td>\n      <td>SO.F.TER.</td>\n      <td>0</td>\n      <td>joss holding bv</td>\n      <td>[0.0007745528127998114, 0.012520086951553822, ...</td>\n      <td>softer</td>\n      <td>[-0.06651424616575241, -0.02606678567826748, 0...</td>\n    </tr>\n    <tr>\n      <th>22179</th>\n      <td>MCASPHALT</td>\n      <td>SO.F.TER.</td>\n      <td>0</td>\n      <td>mcasphalt</td>\n      <td>[0.049031779170036316, -0.008015838451683521, ...</td>\n      <td>softer</td>\n      <td>[-0.06651424616575241, -0.02606678567826748, 0...</td>\n    </tr>\n    <tr>\n      <th>...</th>\n      <td>...</td>\n      <td>...</td>\n      <td>...</td>\n      <td>...</td>\n      <td>...</td>\n      <td>...</td>\n      <td>...</td>\n    </tr>\n    <tr>\n      <th>483258</th>\n      <td>PAVIMENTAL</td>\n      <td>SO.F.TER.</td>\n      <td>0</td>\n      <td>pavimental</td>\n      <td>[-0.004661908373236656, -0.006784559227526188,...</td>\n      <td>softer</td>\n      <td>[-0.06651424616575241, -0.02606678567826748, 0...</td>\n    </tr>\n    <tr>\n      <th>485337</th>\n      <td>PROTRADE</td>\n      <td>SO.F.TER.</td>\n      <td>0</td>\n      <td>protrade</td>\n      <td>[0.000575021025724709, -0.023494573310017586, ...</td>\n      <td>softer</td>\n      <td>[-0.06651424616575241, -0.02606678567826748, 0...</td>\n    </tr>\n    <tr>\n      <th>490856</th>\n      <td>PORR</td>\n      <td>SO.F.TER.</td>\n      <td>0</td>\n      <td>porr</td>\n      <td>[0.011393015272915363, -0.007374722044914961, ...</td>\n      <td>softer</td>\n      <td>[-0.06651424616575241, -0.02606678567826748, 0...</td>\n    </tr>\n    <tr>\n      <th>492066</th>\n      <td>Rompetrol Rafinare S.A.</td>\n      <td>SO.F.TER.</td>\n      <td>0</td>\n      <td>rompetrol rafinare</td>\n      <td>[0.005357269197702408, -0.008388257585465908, ...</td>\n      <td>softer</td>\n      <td>[-0.06651424616575241, -0.02606678567826748, 0...</td>\n    </tr>\n    <tr>\n      <th>493966</th>\n      <td>KVK Corporation (JASDAQ:6484)</td>\n      <td>SO.F.TER.</td>\n      <td>0</td>\n      <td>kvk</td>\n      <td>[0.016695046797394753, 0.02653193101286888, -0...</td>\n      <td>softer</td>\n      <td>[-0.06651424616575241, -0.02606678567826748, 0...</td>\n    </tr>\n  </tbody>\n</table>\n<p>98 rows × 7 columns</p>\n</div>"
     },
     "execution_count": 161,
     "metadata": {},
     "output_type": "execute_result"
    }
   ],
   "source": [
    "df[df.name_2 == 'SO.F.TER.']"
   ],
   "metadata": {
    "collapsed": false,
    "pycharm": {
     "name": "#%%\n"
    }
   }
  },
  {
   "cell_type": "code",
   "execution_count": 163,
   "outputs": [
    {
     "data": {
      "text/plain": "               name_1          name_2  is_duplicate name_preproc_x  \\\n86652  Softer Us Inc.   SO.F.TER. SPA             1      softer us   \n\n                                                   emb_1 name_preproc_y  \\\n86652  [-0.09364961832761765, -0.05149330943822861, 0...         softer   \n\n                                                   emb_2  \n86652  [-0.06651424616575241, -0.02606678567826748, 0...  ",
      "text/html": "<div>\n<style scoped>\n    .dataframe tbody tr th:only-of-type {\n        vertical-align: middle;\n    }\n\n    .dataframe tbody tr th {\n        vertical-align: top;\n    }\n\n    .dataframe thead th {\n        text-align: right;\n    }\n</style>\n<table border=\"1\" class=\"dataframe\">\n  <thead>\n    <tr style=\"text-align: right;\">\n      <th></th>\n      <th>name_1</th>\n      <th>name_2</th>\n      <th>is_duplicate</th>\n      <th>name_preproc_x</th>\n      <th>emb_1</th>\n      <th>name_preproc_y</th>\n      <th>emb_2</th>\n    </tr>\n  </thead>\n  <tbody>\n    <tr>\n      <th>86652</th>\n      <td>Softer Us Inc.</td>\n      <td>SO.F.TER. SPA</td>\n      <td>1</td>\n      <td>softer us</td>\n      <td>[-0.09364961832761765, -0.05149330943822861, 0...</td>\n      <td>softer</td>\n      <td>[-0.06651424616575241, -0.02606678567826748, 0...</td>\n    </tr>\n  </tbody>\n</table>\n</div>"
     },
     "execution_count": 163,
     "metadata": {},
     "output_type": "execute_result"
    }
   ],
   "source": [
    "df[df.name_2 == ' SO.F.TER. SPA']"
   ],
   "metadata": {
    "collapsed": false,
    "pycharm": {
     "name": "#%%\n"
    }
   }
  },
  {
   "cell_type": "code",
   "execution_count": 56,
   "outputs": [
    {
     "data": {
      "text/plain": "array(['Fenner Dunlop (Toledo), Llc'], dtype=object)"
     },
     "execution_count": 56,
     "metadata": {},
     "output_type": "execute_result"
    }
   ],
   "source": [
    "names[names == 'Fenner Dunlop (Toledo), Llc']"
   ],
   "metadata": {
    "collapsed": false,
    "pycharm": {
     "name": "#%%\n"
    }
   }
  },
  {
   "cell_type": "code",
   "execution_count": 197,
   "outputs": [
    {
     "data": {
      "text/plain": "               name_1          name_2  is_duplicate name_preproc_x  \\\n86652  Softer Us Inc.   SO.F.TER. SPA             1      softer us   \n\n                                                   emb_1 name_preproc_y  \\\n86652  [-0.09364961832761765, -0.05149330943822861, 0...         softer   \n\n                                                   emb_2  \n86652  [-0.06651424616575241, -0.02606678567826748, 0...  ",
      "text/html": "<div>\n<style scoped>\n    .dataframe tbody tr th:only-of-type {\n        vertical-align: middle;\n    }\n\n    .dataframe tbody tr th {\n        vertical-align: top;\n    }\n\n    .dataframe thead th {\n        text-align: right;\n    }\n</style>\n<table border=\"1\" class=\"dataframe\">\n  <thead>\n    <tr style=\"text-align: right;\">\n      <th></th>\n      <th>name_1</th>\n      <th>name_2</th>\n      <th>is_duplicate</th>\n      <th>name_preproc_x</th>\n      <th>emb_1</th>\n      <th>name_preproc_y</th>\n      <th>emb_2</th>\n    </tr>\n  </thead>\n  <tbody>\n    <tr>\n      <th>86652</th>\n      <td>Softer Us Inc.</td>\n      <td>SO.F.TER. SPA</td>\n      <td>1</td>\n      <td>softer us</td>\n      <td>[-0.09364961832761765, -0.05149330943822861, 0...</td>\n      <td>softer</td>\n      <td>[-0.06651424616575241, -0.02606678567826748, 0...</td>\n    </tr>\n  </tbody>\n</table>\n</div>"
     },
     "execution_count": 197,
     "metadata": {},
     "output_type": "execute_result"
    }
   ],
   "source": [
    "df[df.name_2 == ' SO.F.TER. SPA']"
   ],
   "metadata": {
    "collapsed": false,
    "pycharm": {
     "name": "#%%\n"
    }
   }
  },
  {
   "cell_type": "code",
   "execution_count": 186,
   "outputs": [
    {
     "data": {
      "text/plain": "Empty DataFrame\nColumns: [name_1, name_2, is_duplicate, name_preproc_x, emb_1, name_preproc_y, emb_2]\nIndex: []",
      "text/html": "<div>\n<style scoped>\n    .dataframe tbody tr th:only-of-type {\n        vertical-align: middle;\n    }\n\n    .dataframe tbody tr th {\n        vertical-align: top;\n    }\n\n    .dataframe thead th {\n        text-align: right;\n    }\n</style>\n<table border=\"1\" class=\"dataframe\">\n  <thead>\n    <tr style=\"text-align: right;\">\n      <th></th>\n      <th>name_1</th>\n      <th>name_2</th>\n      <th>is_duplicate</th>\n      <th>name_preproc_x</th>\n      <th>emb_1</th>\n      <th>name_preproc_y</th>\n      <th>emb_2</th>\n    </tr>\n  </thead>\n  <tbody>\n  </tbody>\n</table>\n</div>"
     },
     "execution_count": 186,
     "metadata": {},
     "output_type": "execute_result"
    }
   ],
   "source": [
    "df[(df.name_2 == 'Softer Us Inc.') & (df.is_duplicate != 1)]"
   ],
   "metadata": {
    "collapsed": false,
    "pycharm": {
     "name": "#%%\n"
    }
   }
  },
  {
   "cell_type": "code",
   "execution_count": 83,
   "outputs": [
    {
     "data": {
      "text/plain": "'alibesa'"
     },
     "execution_count": 83,
     "metadata": {},
     "output_type": "execute_result"
    }
   ],
   "source": [
    "preproc('ALIBESA', stopwords)"
   ],
   "metadata": {
    "collapsed": false,
    "pycharm": {
     "name": "#%%\n"
    }
   }
  },
  {
   "cell_type": "code",
   "execution_count": 25,
   "outputs": [],
   "source": [
    "names_test = [n[0] for n in unique_groups]"
   ],
   "metadata": {
    "collapsed": false,
    "pycharm": {
     "name": "#%%\n"
    }
   }
  },
  {
   "cell_type": "code",
   "execution_count": null,
   "outputs": [],
   "source": [
    "unique_groups = get_unique_groups(names, df_isdup)"
   ],
   "metadata": {
    "collapsed": false,
    "pycharm": {
     "name": "#%%\n"
    }
   }
  },
  {
   "cell_type": "code",
   "execution_count": 81,
   "outputs": [
    {
     "name": "stderr",
     "output_type": "stream",
     "text": [
      "100%|██████████| 1394/1394 [01:47<00:00, 12.98it/s]\n"
     ]
    }
   ],
   "source": [
    "map_score = precision_score_at_k(1,\n",
    "                                 names,#[19:],\n",
    "                                 unique_groups,\n",
    "                                 model,\n",
    "                                 df_emb.rename({'name':'tmp', 'name_preproc': 'name'}, axis=1),\n",
    "                                 col_name,\n",
    "                                 debug=False, preproc_text=True\n",
    "                                 )"
   ],
   "metadata": {
    "collapsed": false,
    "pycharm": {
     "name": "#%%\n"
    }
   }
  },
  {
   "cell_type": "code",
   "execution_count": 54,
   "outputs": [
    {
     "data": {
      "text/plain": "0.6183644189383071"
     },
     "execution_count": 54,
     "metadata": {},
     "output_type": "execute_result"
    }
   ],
   "source": [
    "len(map_score) / len(names)"
   ],
   "metadata": {
    "collapsed": false,
    "pycharm": {
     "name": "#%%\n"
    }
   }
  },
  {
   "cell_type": "code",
   "execution_count": 82,
   "outputs": [
    {
     "name": "stdout",
     "output_type": "stream",
     "text": [
      "Precision@1=0.4569583931133429\n"
     ]
    }
   ],
   "source": [
    "print(f'Precision@1={len(map_score) / len(names)}')"
   ],
   "metadata": {
    "collapsed": false,
    "pycharm": {
     "name": "#%%\n"
    }
   }
  },
  {
   "cell_type": "code",
   "execution_count": null,
   "outputs": [],
   "source": [],
   "metadata": {
    "collapsed": false,
    "pycharm": {
     "name": "#%%\n"
    }
   }
  },
  {
   "cell_type": "code",
   "execution_count": null,
   "outputs": [],
   "source": [],
   "metadata": {
    "collapsed": false,
    "pycharm": {
     "name": "#%%\n"
    }
   }
  },
  {
   "cell_type": "code",
   "execution_count": null,
   "outputs": [],
   "source": [],
   "metadata": {
    "collapsed": false,
    "pycharm": {
     "name": "#%%\n"
    }
   }
  },
  {
   "cell_type": "markdown",
   "source": [
    "# Experiment 3\n",
    "# Quaterion"
   ],
   "metadata": {
    "collapsed": false,
    "pycharm": {
     "name": "#%% md\n"
    }
   }
  },
  {
   "cell_type": "code",
   "execution_count": 7,
   "outputs": [],
   "source": [
    "df_emb = pd.read_parquet('../data/df_embs_preproc_2.parquet')"
   ],
   "metadata": {
    "collapsed": false,
    "pycharm": {
     "name": "#%%\n"
    }
   }
  },
  {
   "cell_type": "code",
   "execution_count": 8,
   "outputs": [],
   "source": [
    "df = pd.read_parquet('../data/all_lang_train.parquet')"
   ],
   "metadata": {
    "collapsed": false,
    "pycharm": {
     "name": "#%%\n"
    }
   }
  },
  {
   "cell_type": "code",
   "execution_count": 9,
   "outputs": [],
   "source": [
    "df = df.merge(df_emb, how='left', left_on='name_1', right_on='name')\n",
    "df = df.drop(columns=['name'])\n",
    "df = df.rename({'emb': 'emb_1'}, axis=1)"
   ],
   "metadata": {
    "collapsed": false,
    "pycharm": {
     "name": "#%%\n"
    }
   }
  },
  {
   "cell_type": "code",
   "execution_count": 10,
   "outputs": [],
   "source": [
    "df = df.merge(df_emb, how='left', left_on='name_2', right_on='name')\n",
    "df = df.drop(columns=['name'])\n",
    "df = df.rename({'emb': 'emb_2'}, axis=1)"
   ],
   "metadata": {
    "collapsed": false,
    "pycharm": {
     "name": "#%%\n"
    }
   }
  },
  {
   "cell_type": "code",
   "execution_count": 11,
   "outputs": [
    {
     "data": {
      "text/plain": "                                              name_1  \\\n0                                Iko Industries Ltd.   \n1                            Apcotex Industries Ltd.   \n2                  Rishichem Distributors Pvt., Ltd.   \n3                            Powermax Rubber Factory   \n4                                          Tress A/S   \n...                                              ...   \n497567                              BIT-MAT PRODUCTS   \n497568                         Bnd Trading Co., Ltd.   \n497569  Xeikon Industrial Co., Ltd. Of Dongguan City   \n497570            Shanghai Kechuan Trading Co., Ltd.   \n497571                        Dih Wei Industries Co.   \n\n                                                   name_2  is_duplicate  \\\n0                    Enormous Industrial Trade Pvt., Ltd.             0   \n1                     Technocraft Industries (India) Ltd.             0   \n2                                                     Dsa             0   \n3                                                 Co. One             0   \n4                        Longyou Industries Park Zhejiang             0   \n...                                                   ...           ...   \n497567               The Goodyear Tire and Rubber Company             0   \n497568  Zhong Shan Yue Liang Economy& Trade Imp. & Exp...             0   \n497569        Yi Cheng Trading Co., Ltd. Of Dongguan City             0   \n497570                       Shanghai M&G Stationery Inc.             0   \n497571                    Burlington Industries Corporate             0   \n\n                  name_preproc_x  \\\n0                            iko   \n1                        apcotex   \n2         rishichem distributors   \n3        powermax rubber factory   \n4                          tress   \n...                          ...   \n497567          bit mat products   \n497568               bnd trading   \n497569   xeikon of dongguan city   \n497570  shanghai kechuan trading   \n497571                   dih wei   \n\n                                                    emb_1  \\\n0       [-0.09832967817783356, 0.07520564645528793, 0....   \n1       [-0.040096644312143326, 0.01942046545445919, -...   \n2       [-0.015067839995026588, -0.02670854702591896, ...   \n3       [-0.027730092406272888, 0.06848588585853577, -...   \n4       [-0.02364397421479225, 0.08266414701938629, -0...   \n...                                                   ...   \n497567  [-0.030496124178171158, 0.008710866793990135, ...   \n497568  [-0.09089754521846771, -0.051476895809173584, ...   \n497569  [-0.02690267749130726, 0.08781823515892029, 0....   \n497570  [-0.026555752381682396, -0.06021178886294365, ...   \n497571  [-0.06549340486526489, 0.09935610741376877, 0....   \n\n                              name_preproc_y  \\\n0                             enormous trade   \n1                                technocraft   \n2                                        dsa   \n3                                        one   \n4                      longyou park zhejiang   \n...                                      ...   \n497567  the goodyear tire and rubber company   \n497568   zhong shan yue liang economy& trade   \n497569     yi cheng trading of dongguan city   \n497570               shanghai m&g stationery   \n497571                  burlington corporate   \n\n                                                    emb_2  \n0       [-0.05738343298435211, 0.058508045971393585, -...  \n1       [-0.03547694534063339, 0.033784572035074234, 0...  \n2       [-0.1476079523563385, 0.003658777102828026, -0...  \n3       [-0.03424311801791191, -0.01212331559509039, -...  \n4       [0.04394970461726189, 0.06074526533484459, 0.0...  \n...                                                   ...  \n497567  [-0.055517930537462234, 0.02390013262629509, 0...  \n497568  [-0.02577291801571846, 0.009628668427467346, 0...  \n497569  [-0.034574463963508606, 0.01867447979748249, 0...  \n497570  [-0.06080954894423485, 0.023097140714526176, 0...  \n497571  [0.011539981700479984, 0.005159880965948105, 0...  \n\n[497572 rows x 7 columns]",
      "text/html": "<div>\n<style scoped>\n    .dataframe tbody tr th:only-of-type {\n        vertical-align: middle;\n    }\n\n    .dataframe tbody tr th {\n        vertical-align: top;\n    }\n\n    .dataframe thead th {\n        text-align: right;\n    }\n</style>\n<table border=\"1\" class=\"dataframe\">\n  <thead>\n    <tr style=\"text-align: right;\">\n      <th></th>\n      <th>name_1</th>\n      <th>name_2</th>\n      <th>is_duplicate</th>\n      <th>name_preproc_x</th>\n      <th>emb_1</th>\n      <th>name_preproc_y</th>\n      <th>emb_2</th>\n    </tr>\n  </thead>\n  <tbody>\n    <tr>\n      <th>0</th>\n      <td>Iko Industries Ltd.</td>\n      <td>Enormous Industrial Trade Pvt., Ltd.</td>\n      <td>0</td>\n      <td>iko</td>\n      <td>[-0.09832967817783356, 0.07520564645528793, 0....</td>\n      <td>enormous trade</td>\n      <td>[-0.05738343298435211, 0.058508045971393585, -...</td>\n    </tr>\n    <tr>\n      <th>1</th>\n      <td>Apcotex Industries Ltd.</td>\n      <td>Technocraft Industries (India) Ltd.</td>\n      <td>0</td>\n      <td>apcotex</td>\n      <td>[-0.040096644312143326, 0.01942046545445919, -...</td>\n      <td>technocraft</td>\n      <td>[-0.03547694534063339, 0.033784572035074234, 0...</td>\n    </tr>\n    <tr>\n      <th>2</th>\n      <td>Rishichem Distributors Pvt., Ltd.</td>\n      <td>Dsa</td>\n      <td>0</td>\n      <td>rishichem distributors</td>\n      <td>[-0.015067839995026588, -0.02670854702591896, ...</td>\n      <td>dsa</td>\n      <td>[-0.1476079523563385, 0.003658777102828026, -0...</td>\n    </tr>\n    <tr>\n      <th>3</th>\n      <td>Powermax Rubber Factory</td>\n      <td>Co. One</td>\n      <td>0</td>\n      <td>powermax rubber factory</td>\n      <td>[-0.027730092406272888, 0.06848588585853577, -...</td>\n      <td>one</td>\n      <td>[-0.03424311801791191, -0.01212331559509039, -...</td>\n    </tr>\n    <tr>\n      <th>4</th>\n      <td>Tress A/S</td>\n      <td>Longyou Industries Park Zhejiang</td>\n      <td>0</td>\n      <td>tress</td>\n      <td>[-0.02364397421479225, 0.08266414701938629, -0...</td>\n      <td>longyou park zhejiang</td>\n      <td>[0.04394970461726189, 0.06074526533484459, 0.0...</td>\n    </tr>\n    <tr>\n      <th>...</th>\n      <td>...</td>\n      <td>...</td>\n      <td>...</td>\n      <td>...</td>\n      <td>...</td>\n      <td>...</td>\n      <td>...</td>\n    </tr>\n    <tr>\n      <th>497567</th>\n      <td>BIT-MAT PRODUCTS</td>\n      <td>The Goodyear Tire and Rubber Company</td>\n      <td>0</td>\n      <td>bit mat products</td>\n      <td>[-0.030496124178171158, 0.008710866793990135, ...</td>\n      <td>the goodyear tire and rubber company</td>\n      <td>[-0.055517930537462234, 0.02390013262629509, 0...</td>\n    </tr>\n    <tr>\n      <th>497568</th>\n      <td>Bnd Trading Co., Ltd.</td>\n      <td>Zhong Shan Yue Liang Economy&amp; Trade Imp. &amp; Exp...</td>\n      <td>0</td>\n      <td>bnd trading</td>\n      <td>[-0.09089754521846771, -0.051476895809173584, ...</td>\n      <td>zhong shan yue liang economy&amp; trade</td>\n      <td>[-0.02577291801571846, 0.009628668427467346, 0...</td>\n    </tr>\n    <tr>\n      <th>497569</th>\n      <td>Xeikon Industrial Co., Ltd. Of Dongguan City</td>\n      <td>Yi Cheng Trading Co., Ltd. Of Dongguan City</td>\n      <td>0</td>\n      <td>xeikon of dongguan city</td>\n      <td>[-0.02690267749130726, 0.08781823515892029, 0....</td>\n      <td>yi cheng trading of dongguan city</td>\n      <td>[-0.034574463963508606, 0.01867447979748249, 0...</td>\n    </tr>\n    <tr>\n      <th>497570</th>\n      <td>Shanghai Kechuan Trading Co., Ltd.</td>\n      <td>Shanghai M&amp;G Stationery Inc.</td>\n      <td>0</td>\n      <td>shanghai kechuan trading</td>\n      <td>[-0.026555752381682396, -0.06021178886294365, ...</td>\n      <td>shanghai m&amp;g stationery</td>\n      <td>[-0.06080954894423485, 0.023097140714526176, 0...</td>\n    </tr>\n    <tr>\n      <th>497571</th>\n      <td>Dih Wei Industries Co.</td>\n      <td>Burlington Industries Corporate</td>\n      <td>0</td>\n      <td>dih wei</td>\n      <td>[-0.06549340486526489, 0.09935610741376877, 0....</td>\n      <td>burlington corporate</td>\n      <td>[0.011539981700479984, 0.005159880965948105, 0...</td>\n    </tr>\n  </tbody>\n</table>\n<p>497572 rows × 7 columns</p>\n</div>"
     },
     "execution_count": 11,
     "metadata": {},
     "output_type": "execute_result"
    }
   ],
   "source": [
    "df"
   ],
   "metadata": {
    "collapsed": false,
    "pycharm": {
     "name": "#%%\n"
    }
   }
  },
  {
   "cell_type": "code",
   "execution_count": 15,
   "outputs": [],
   "source": [
    "df_names = pd.read_parquet('../data/df_names_preproc.parquet')"
   ],
   "metadata": {
    "collapsed": false,
    "pycharm": {
     "name": "#%%\n"
    }
   }
  },
  {
   "cell_type": "code",
   "execution_count": 16,
   "outputs": [],
   "source": [
    "df_names = df_names.merge(df_emb[['name', 'emb']], how='left', left_on='Names', right_on='name')\n",
    "df_names = df_names.drop(columns=['Names', 'languages_langdetect'])\n",
    "df_names = df_names.rename({'name': 'original_name', 'name_preproc':'preprocessed_name'}, axis=1)"
   ],
   "metadata": {
    "collapsed": false,
    "pycharm": {
     "name": "#%%\n"
    }
   }
  },
  {
   "cell_type": "code",
   "execution_count": 17,
   "outputs": [
    {
     "data": {
      "text/plain": "                               preprocessed_name  \\\n0                                            iko   \n1                                        apcotex   \n2                         rishichem distributors   \n3                        powermax rubber factory   \n4                                          tress   \n...                                          ...   \n18017                          plastic packaging   \n18018  hengshui mechanical & electrical building   \n18019                   jiangsu baoli investment   \n18020                                 lanxess ag   \n18021                          tgi import export   \n\n                                           original_name  \\\n0                                    Iko Industries Ltd.   \n1                                Apcotex Industries Ltd.   \n2                      Rishichem Distributors Pvt., Ltd.   \n3                                Powermax Rubber Factory   \n4                                              Tress A/S   \n...                                                  ...   \n18017                       Plastic Packaging (Pty) Ltd.   \n18018  'Hengshui Mechanical & Electrical Building Co....   \n18019  Jiangsu Baoli International Investment Co., Lt...   \n18020                                         Lanxess AG   \n18021                        TGI IMPORT EXPORT CO., LTD.   \n\n                                                     emb  \n0      [-0.09832967817783356, 0.07520564645528793, 0....  \n1      [-0.040096644312143326, 0.01942046545445919, -...  \n2      [-0.015067839995026588, -0.02670854702591896, ...  \n3      [-0.027730092406272888, 0.06848588585853577, -...  \n4      [-0.02364397421479225, 0.08266414701938629, -0...  \n...                                                  ...  \n18017  [-0.1276782602071762, 0.08994223177433014, -0....  \n18018  [-0.04444390907883644, 0.07687955349683762, 0....  \n18019  [-0.004805956035852432, 0.02011996880173683, -...  \n18020  [-0.06939245760440826, -0.013326993212103844, ...  \n18021  [-0.07441920042037964, -0.02357592061161995, -...  \n\n[18022 rows x 3 columns]",
      "text/html": "<div>\n<style scoped>\n    .dataframe tbody tr th:only-of-type {\n        vertical-align: middle;\n    }\n\n    .dataframe tbody tr th {\n        vertical-align: top;\n    }\n\n    .dataframe thead th {\n        text-align: right;\n    }\n</style>\n<table border=\"1\" class=\"dataframe\">\n  <thead>\n    <tr style=\"text-align: right;\">\n      <th></th>\n      <th>preprocessed_name</th>\n      <th>original_name</th>\n      <th>emb</th>\n    </tr>\n  </thead>\n  <tbody>\n    <tr>\n      <th>0</th>\n      <td>iko</td>\n      <td>Iko Industries Ltd.</td>\n      <td>[-0.09832967817783356, 0.07520564645528793, 0....</td>\n    </tr>\n    <tr>\n      <th>1</th>\n      <td>apcotex</td>\n      <td>Apcotex Industries Ltd.</td>\n      <td>[-0.040096644312143326, 0.01942046545445919, -...</td>\n    </tr>\n    <tr>\n      <th>2</th>\n      <td>rishichem distributors</td>\n      <td>Rishichem Distributors Pvt., Ltd.</td>\n      <td>[-0.015067839995026588, -0.02670854702591896, ...</td>\n    </tr>\n    <tr>\n      <th>3</th>\n      <td>powermax rubber factory</td>\n      <td>Powermax Rubber Factory</td>\n      <td>[-0.027730092406272888, 0.06848588585853577, -...</td>\n    </tr>\n    <tr>\n      <th>4</th>\n      <td>tress</td>\n      <td>Tress A/S</td>\n      <td>[-0.02364397421479225, 0.08266414701938629, -0...</td>\n    </tr>\n    <tr>\n      <th>...</th>\n      <td>...</td>\n      <td>...</td>\n      <td>...</td>\n    </tr>\n    <tr>\n      <th>18017</th>\n      <td>plastic packaging</td>\n      <td>Plastic Packaging (Pty) Ltd.</td>\n      <td>[-0.1276782602071762, 0.08994223177433014, -0....</td>\n    </tr>\n    <tr>\n      <th>18018</th>\n      <td>hengshui mechanical &amp; electrical building</td>\n      <td>'Hengshui Mechanical &amp; Electrical Building Co....</td>\n      <td>[-0.04444390907883644, 0.07687955349683762, 0....</td>\n    </tr>\n    <tr>\n      <th>18019</th>\n      <td>jiangsu baoli investment</td>\n      <td>Jiangsu Baoli International Investment Co., Lt...</td>\n      <td>[-0.004805956035852432, 0.02011996880173683, -...</td>\n    </tr>\n    <tr>\n      <th>18020</th>\n      <td>lanxess ag</td>\n      <td>Lanxess AG</td>\n      <td>[-0.06939245760440826, -0.013326993212103844, ...</td>\n    </tr>\n    <tr>\n      <th>18021</th>\n      <td>tgi import export</td>\n      <td>TGI IMPORT EXPORT CO., LTD.</td>\n      <td>[-0.07441920042037964, -0.02357592061161995, -...</td>\n    </tr>\n  </tbody>\n</table>\n<p>18022 rows × 3 columns</p>\n</div>"
     },
     "execution_count": 17,
     "metadata": {},
     "output_type": "execute_result"
    }
   ],
   "source": [
    "df_names"
   ],
   "metadata": {
    "collapsed": false,
    "pycharm": {
     "name": "#%%\n"
    }
   }
  },
  {
   "cell_type": "code",
   "execution_count": 18,
   "outputs": [],
   "source": [
    "qdrant_client = QdrantClient(host='0.0.0.0', port=6333)"
   ],
   "metadata": {
    "collapsed": false,
    "pycharm": {
     "name": "#%%\n"
    }
   }
  },
  {
   "cell_type": "code",
   "execution_count": 19,
   "outputs": [],
   "source": [
    "vectors = np.stack(df_emb.emb)\n",
    "payload = df_names[['original_name', 'preprocessed_name']].to_dict(orient='records')\n",
    "ids = df_emb.index.values.tolist()\n",
    "col_name = 'companies'\n",
    "vec_shape = vectors.shape[1]\n",
    "bs = 1024\n",
    "col = create_collection_and_upload(vectors, payload, ids, col_name, vec_shape, bs)"
   ],
   "metadata": {
    "collapsed": false,
    "pycharm": {
     "name": "#%%\n"
    }
   }
  },
  {
   "cell_type": "code",
   "execution_count": 20,
   "outputs": [],
   "source": [
    "model = SentenceTransformer('all-MiniLM-L6-v2')"
   ],
   "metadata": {
    "collapsed": false,
    "pycharm": {
     "name": "#%%\n"
    }
   }
  },
  {
   "cell_type": "code",
   "execution_count": 21,
   "outputs": [
    {
     "data": {
      "text/plain": "[ScoredPoint(id=2892, version=0, score=1.0000001, payload={'original_name': 'Dow Chemical', 'preprocessed_name': 'dow chemical'}, vector=None),\n ScoredPoint(id=608, version=1, score=1.0000001, payload={'original_name': 'Dow Chemical Thailand Ltd.', 'preprocessed_name': 'dow chemical'}, vector=None),\n ScoredPoint(id=9176, version=8, score=1.0000001, payload={'original_name': 'Dow Chemical Pacific Ltd.', 'preprocessed_name': 'dow chemical'}, vector=None),\n ScoredPoint(id=3748, version=5, score=1.0000001, payload={'original_name': 'Dow Chemical Pacific', 'preprocessed_name': 'dow chemical'}, vector=None),\n ScoredPoint(id=6647, version=6, score=1.0000001, payload={'original_name': 'Dow Chemical (Shanghai) Co., Ltd.', 'preprocessed_name': 'dow chemical'}, vector=None),\n ScoredPoint(id=8733, version=8, score=0.877924, payload={'original_name': 'The Dow Chemical Company', 'preprocessed_name': 'the dow chemical company'}, vector=None),\n ScoredPoint(id=7901, version=7, score=0.67946684, payload={'original_name': 'Dow Silicones Corp.', 'preprocessed_name': 'dow silicones'}, vector=None),\n ScoredPoint(id=1615, version=2, score=0.67880595, payload={'original_name': 'Pt Dow Agrosciences Indonesia', 'preprocessed_name': 'pt dow agrosciences'}, vector=None),\n ScoredPoint(id=11225, version=11, score=0.6550845, payload={'original_name': 'Dow Corning India Pvt., Ltd.', 'preprocessed_name': 'dow corning'}, vector=None),\n ScoredPoint(id=3787, version=5, score=0.64625645, payload={'original_name': 'DowDuPont', 'preprocessed_name': 'dowdupont'}, vector=None),\n ScoredPoint(id=14801, version=17, score=0.63533753, payload={'original_name': 'Dow Silicones Corp. Plant', 'preprocessed_name': 'dow silicones plant'}, vector=None),\n ScoredPoint(id=17963, version=12, score=0.59722114, payload={'original_name': 'MD Chemicals', 'preprocessed_name': 'md chemicals'}, vector=None),\n ScoredPoint(id=12778, version=15, score=0.59528637, payload={'original_name': 'Yuanbai Chemicals (Shanghai) Co., Ltd.', 'preprocessed_name': 'yuanbai chemicals'}, vector=None),\n ScoredPoint(id=3151, version=5, score=0.59206927, payload={'original_name': 'Shan Chemicals', 'preprocessed_name': 'shan chemicals'}, vector=None),\n ScoredPoint(id=9141, version=8, score=0.5740148, payload={'original_name': 'Pdi Eastman Chemical', 'preprocessed_name': 'pdi eastman chemical'}, vector=None),\n ScoredPoint(id=10295, version=11, score=0.57338905, payload={'original_name': 'Reliance Chemical Products Ltd.', 'preprocessed_name': 'reliance chemical products'}, vector=None),\n ScoredPoint(id=363, version=1, score=0.56459194, payload={'original_name': 'Admiral Chemicals Llc', 'preprocessed_name': 'admiral chemicals'}, vector=None),\n ScoredPoint(id=9618, version=9, score=0.5638097, payload={'original_name': 'Gulf Chemical', 'preprocessed_name': 'gulf chemical'}, vector=None),\n ScoredPoint(id=10056, version=9, score=0.55649006, payload={'original_name': 'Quaker Chemical India Private Ltd.', 'preprocessed_name': 'quaker chemical'}, vector=None),\n ScoredPoint(id=6102, version=3, score=0.5558503, payload={'original_name': 'Shanghai Yikang Chemicals & Industries Co., Ltd.', 'preprocessed_name': 'shanghai yikang chemicals &'}, vector=None),\n ScoredPoint(id=1429, version=2, score=0.551366, payload={'original_name': 'Idex Chemical Sdn Bhd', 'preprocessed_name': 'idex chemical'}, vector=None),\n ScoredPoint(id=7308, version=7, score=0.55106556, payload={'original_name': 'Taoshi Chemical (Zhangjiagang) Co., Ltd.', 'preprocessed_name': 'taoshi chemical'}, vector=None),\n ScoredPoint(id=4016, version=5, score=0.54922223, payload={'original_name': 'Emirates Chemicals Llc', 'preprocessed_name': 'emirates chemicals'}, vector=None),\n ScoredPoint(id=5725, version=3, score=0.5489392, payload={'original_name': 'Chembond Chemicals Ltd.', 'preprocessed_name': 'chembond chemicals'}, vector=None),\n ScoredPoint(id=9750, version=9, score=0.54615736, payload={'original_name': 'Megachem Specialty Chemicals (I) Private Ltd.', 'preprocessed_name': 'megachem specialty chemicals'}, vector=None),\n ScoredPoint(id=1678, version=2, score=0.5458729, payload={'original_name': 'Csg Chemical Inc.', 'preprocessed_name': 'csg chemical'}, vector=None),\n ScoredPoint(id=766, version=1, score=0.5443123, payload={'original_name': 'Chongqing General Trading Chemical Co., Ltd.', 'preprocessed_name': 'chongqing general trading chemical'}, vector=None),\n ScoredPoint(id=2064, version=0, score=0.543602, payload={'original_name': 'Llc Chemical Technologies', 'preprocessed_name': 'chemical technologies'}, vector=None),\n ScoredPoint(id=6138, version=3, score=0.542142, payload={'original_name': 'Topship Chemical Co., Ltd.', 'preprocessed_name': 'topship chemical'}, vector=None),\n ScoredPoint(id=10280, version=11, score=0.54093087, payload={'original_name': 'Exxonmobil Chemical Co.', 'preprocessed_name': 'exxonmobil chemical'}, vector=None)]"
     },
     "execution_count": 21,
     "metadata": {},
     "output_type": "execute_result"
    }
   ],
   "source": [
    "inference('Dow Chemical International Private Ltd.', col_name, model, preproc_text=True)"
   ],
   "metadata": {
    "collapsed": false,
    "pycharm": {
     "name": "#%%\n"
    }
   }
  },
  {
   "cell_type": "code",
   "execution_count": 22,
   "outputs": [],
   "source": [
    "# Select test dataset\n",
    "df_isdup = df[df.is_duplicate == 1]\n",
    "names = np.unique(np.concatenate([df_isdup.name_1, df_isdup.name_2]))"
   ],
   "metadata": {
    "collapsed": false,
    "pycharm": {
     "name": "#%%\n"
    }
   }
  },
  {
   "cell_type": "code",
   "execution_count": 23,
   "outputs": [
    {
     "name": "stderr",
     "output_type": "stream",
     "text": [
      "100%|██████████| 1394/1394 [00:13<00:00, 100.87it/s]\n"
     ]
    }
   ],
   "source": [
    "unique_groups = get_unique_groups(names, df[df.is_duplicate == 1])"
   ],
   "metadata": {
    "collapsed": false,
    "pycharm": {
     "name": "#%%\n"
    }
   }
  },
  {
   "cell_type": "code",
   "execution_count": 53,
   "outputs": [],
   "source": [
    "import json\n",
    "import uuid\n",
    "\n",
    "with open('../data/unique_groups.jsonl', 'w', encoding='utf-8') as fw:\n",
    "    for ung in unique_groups:\n",
    "        group_uid = str(uuid.uuid4())\n",
    "        for el in ung:\n",
    "            dc = {'original_name': el, 'preprocessed_name': preproc(el, stopwords), 'group': group_uid}\n",
    "            json.dump(dc, fw, ensure_ascii=False)\n",
    "            fw.write('\\n')"
   ],
   "metadata": {
    "collapsed": false,
    "pycharm": {
     "name": "#%%\n"
    }
   }
  },
  {
   "cell_type": "code",
   "execution_count": 41,
   "outputs": [],
   "source": [
    "import argparse\n",
    "import os\n",
    "import random\n",
    "import json\n",
    "from typing import Any, Dict, List, Union\n",
    "import pytorch_lightning as pl\n",
    "import torch\n",
    "from quaterion.eval.attached_metric import AttachedMetric\n",
    "from quaterion.eval.pair import RetrievalPrecision, RetrievalReciprocalRank\n",
    "from quaterion_models.encoders import Encoder\n",
    "from quaterion_models.heads import EncoderHead, GatedHead\n",
    "from quaterion_models.types import CollateFnType\n",
    "from torch.utils.data import Dataset\n",
    "from quaterion import Quaterion, TrainableModel\n",
    "from quaterion.dataset.similarity_data_loader import (\n",
    "    GroupSimilarityDataLoader,\n",
    "    SimilarityGroupSample,\n",
    ")\n",
    "from quaterion.loss import SimilarityLoss, SoftmaxLoss\n",
    "from sentence_transformers import SentenceTransformer\n",
    "random.seed(42)"
   ],
   "metadata": {
    "collapsed": false,
    "pycharm": {
     "name": "#%%\n"
    }
   }
  },
  {
   "cell_type": "code",
   "execution_count": 62,
   "outputs": [],
   "source": [
    "class CompaniesDataset(Dataset):\n",
    "    def __init__(self, path: str, max_samples: int = 50000):\n",
    "        super().__init__()\n",
    "        with open(path, \"r\", encoding=\"utf8\") as f:\n",
    "            lines = f.readlines()[:max_samples]\n",
    "            random.shuffle(lines)\n",
    "            self.data = [json.loads(line) for line in lines]\n",
    "\n",
    "        _company_groups = set(sorted([item[\"group\"] for item in self.data]))\n",
    "        self._label2idx = {label: idx for idx, label in enumerate(_company_groups)}\n",
    "\n",
    "    def __getitem__(self, index: int) -> SimilarityGroupSample:\n",
    "        item = self.data[index]\n",
    "        return SimilarityGroupSample(obj=item, group=self._label2idx[item[\"group\"]])\n",
    "\n",
    "    def __len__(self) -> int:\n",
    "        return len(self.data)\n",
    "\n",
    "    def get_num_groups(self) -> int:\n",
    "        return len(self._label2idx)"
   ],
   "metadata": {
    "collapsed": false,
    "pycharm": {
     "name": "#%%\n"
    }
   }
  },
  {
   "cell_type": "code",
   "execution_count": 63,
   "outputs": [],
   "source": [
    "class CompanyEncoder(Encoder):\n",
    "    def __init__(self, pretrained_name: str):\n",
    "        super().__init__()\n",
    "        self.encoder = SentenceTransformer(pretrained_name)\n",
    "        self._pretrained_name = pretrained_name\n",
    "\n",
    "    @property\n",
    "    def trainable(self) -> bool:\n",
    "        return False\n",
    "\n",
    "    @property\n",
    "    def embedding_size(self) -> int:\n",
    "        return self.encoder.get_sentence_embedding_dimension()\n",
    "\n",
    "    def get_collate_fn(self) -> CollateFnType:\n",
    "        return self.extract_texts\n",
    "\n",
    "    def extract_texts(self, batch: List[Union[str, Dict[str, Any]]]):\n",
    "        if isinstance(batch[0], str):\n",
    "            return batch\n",
    "        elif isinstance(batch[0], Dict):\n",
    "            return [item[\"preprocessed_name\"] for item in batch]\n",
    "        else:\n",
    "            raise TypeError(\"Expecting list of strings or dicts as inputs\")\n",
    "\n",
    "    def forward(self, inputs):\n",
    "        return self.encoder.encode(\n",
    "            inputs, convert_to_numpy=False, convert_to_tensor=True\n",
    "        )\n",
    "\n",
    "    def save(self, output_path: str):\n",
    "        self.encoder.save(os.path.join(output_path, self._pretrained_name))\n",
    "\n",
    "    @classmethod\n",
    "    def load(cls, input_path: str) -> \"Encoder\":\n",
    "        return CompanyEncoder(input_path)\n"
   ],
   "metadata": {
    "collapsed": false,
    "pycharm": {
     "name": "#%%\n"
    }
   }
  },
  {
   "cell_type": "code",
   "execution_count": 64,
   "outputs": [],
   "source": [
    "class CompanyMatchingModel(TrainableModel):\n",
    "    def __init__(\n",
    "        self,\n",
    "        pretrained_name: str = \"all-MiniLM-L6-v2\",\n",
    "        num_groups: int = 20,\n",
    "        lr: float = 3e-5,\n",
    "    ):\n",
    "        self._pretrained_name = pretrained_name\n",
    "        self._num_groups = num_groups\n",
    "        self._lr = lr\n",
    "        super().__init__()\n",
    "\n",
    "    def configure_metrics(self):\n",
    "        # attach batch-wise metrics which will be automatically computed and logged during training\n",
    "        return [\n",
    "            AttachedMetric(\n",
    "                \"RetrievalPrecision\",\n",
    "                RetrievalPrecision(k=1),\n",
    "                prog_bar=True,\n",
    "                on_epoch=True,\n",
    "            ),\n",
    "            AttachedMetric(\n",
    "                \"RetrievalReciprocalRank\",\n",
    "                RetrievalReciprocalRank(),\n",
    "                prog_bar=True,\n",
    "                on_epoch=True\n",
    "            ),\n",
    "        ]\n",
    "\n",
    "    def configure_encoders(self) -> Union[Encoder, Dict[str, Encoder]]:\n",
    "        return CompanyEncoder(self._pretrained_name)\n",
    "\n",
    "    def configure_head(self, input_embedding_size) -> EncoderHead:\n",
    "        return GatedHead(input_embedding_size)\n",
    "\n",
    "    def configure_loss(self) -> SimilarityLoss:\n",
    "        return SoftmaxLoss(self.model.head.output_size, self._num_groups)\n",
    "\n",
    "    def configure_optimizers(self):\n",
    "        optimizer = torch.optim.Adam(\n",
    "            [\n",
    "                {\"params\": self.model.parameters(), \"lr\": self._lr},\n",
    "                {\"params\": self.loss.parameters(), \"lr\": self._lr * 10.0},\n",
    "            ]\n",
    "        )\n",
    "\n",
    "        return optimizer"
   ],
   "metadata": {
    "collapsed": false,
    "pycharm": {
     "name": "#%%\n"
    }
   }
  },
  {
   "cell_type": "code",
   "execution_count": 69,
   "outputs": [],
   "source": [
    "pretrain = 'all-MiniLM-L6-v2'"
   ],
   "metadata": {
    "collapsed": false,
    "pycharm": {
     "name": "#%%\n"
    }
   }
  },
  {
   "cell_type": "code",
   "execution_count": 70,
   "outputs": [],
   "source": [
    "cd = CompaniesDataset(path='../data/unique_groups.jsonl')"
   ],
   "metadata": {
    "collapsed": false,
    "pycharm": {
     "name": "#%%\n"
    }
   }
  },
  {
   "cell_type": "code",
   "execution_count": 71,
   "outputs": [],
   "source": [
    "enc = CompanyEncoder(pretrained_name=pretrain)"
   ],
   "metadata": {
    "collapsed": false,
    "pycharm": {
     "name": "#%%\n"
    }
   }
  },
  {
   "cell_type": "code",
   "execution_count": 72,
   "outputs": [],
   "source": [
    "ftmodel = CompanyMatchingModel(pretrained_name=pretrain, num_groups=cd.get_num_groups())"
   ],
   "metadata": {
    "collapsed": false,
    "pycharm": {
     "name": "#%%\n"
    }
   }
  },
  {
   "cell_type": "code",
   "execution_count": 74,
   "outputs": [
    {
     "data": {
      "text/plain": "CompanyMatchingModel(\n  (_model): SimilarityModel(\n    (default): CompanyEncoder(\n      (encoder): SentenceTransformer(\n        (0): Transformer({'max_seq_length': 256, 'do_lower_case': False}) with Transformer model: BertModel \n        (1): Pooling({'word_embedding_dimension': 384, 'pooling_mode_cls_token': False, 'pooling_mode_mean_tokens': True, 'pooling_mode_max_tokens': False, 'pooling_mode_mean_sqrt_len_tokens': False})\n        (2): Normalize()\n      )\n    )\n    (head): GatedHead(\n      (dropout): Identity()\n    )\n  )\n  (_loss): SoftmaxLoss()\n)"
     },
     "execution_count": 74,
     "metadata": {},
     "output_type": "execute_result"
    }
   ],
   "source": [
    "ftmodel.eval()"
   ],
   "metadata": {
    "collapsed": false,
    "pycharm": {
     "name": "#%%\n"
    }
   }
  },
  {
   "cell_type": "code",
   "execution_count": 75,
   "outputs": [],
   "source": [
    "train_dataloader = GroupSimilarityDataLoader(cd, batch_size=64, shuffle=True)"
   ],
   "metadata": {
    "collapsed": false,
    "pycharm": {
     "name": "#%%\n"
    }
   }
  },
  {
   "cell_type": "code",
   "execution_count": 76,
   "outputs": [
    {
     "name": "stdout",
     "output_type": "stream",
     "text": [
      "huggingface/tokenizers: The current process just got forked, after parallelism has already been used. Disabling parallelism to avoid deadlocks...\n",
      "To disable this warning, you can either:\n",
      "\t- Avoid using `tokenizers` before the fork if possible\n",
      "\t- Explicitly set the environment variable TOKENIZERS_PARALLELISM=(true | false)\n",
      "huggingface/tokenizers: The current process just got forked, after parallelism has already been used. Disabling parallelism to avoid deadlocks...\n",
      "To disable this warning, you can either:\n",
      "\t- Avoid using `tokenizers` before the fork if possible\n",
      "\t- Explicitly set the environment variable TOKENIZERS_PARALLELISM=(true | false)\n",
      "huggingface/tokenizers: The current process just got forked, after parallelism has already been used. Disabling parallelism to avoid deadlocks...\n",
      "To disable this warning, you can either:\n",
      "\t- Avoid using `tokenizers` before the fork if possible\n",
      "\t- Explicitly set the environment variable TOKENIZERS_PARALLELISM=(true | false)\n"
     ]
    },
    {
     "name": "stderr",
     "output_type": "stream",
     "text": [
      "GPU available: True (cuda), used: True\n",
      "TPU available: False, using: 0 TPU cores\n",
      "IPU available: False, using: 0 IPUs\n",
      "HPU available: False, using: 0 HPUs\n"
     ]
    },
    {
     "name": "stdout",
     "output_type": "stream",
     "text": [
      "huggingface/tokenizers: The current process just got forked, after parallelism has already been used. Disabling parallelism to avoid deadlocks...\n",
      "To disable this warning, you can either:\n",
      "\t- Avoid using `tokenizers` before the fork if possible\n",
      "\t- Explicitly set the environment variable TOKENIZERS_PARALLELISM=(true | false)\n",
      "huggingface/tokenizers: The current process just got forked, after parallelism has already been used. Disabling parallelism to avoid deadlocks...\n",
      "To disable this warning, you can either:\n",
      "\t- Avoid using `tokenizers` before the fork if possible\n",
      "\t- Explicitly set the environment variable TOKENIZERS_PARALLELISM=(true | false)\n"
     ]
    }
   ],
   "source": [
    "trainer = pl.Trainer(accelerator=\"auto\", devices=1, num_nodes=1, max_epochs=30)"
   ],
   "metadata": {
    "collapsed": false,
    "pycharm": {
     "name": "#%%\n"
    }
   }
  },
  {
   "cell_type": "code",
   "execution_count": 77,
   "outputs": [
    {
     "ename": "AttributeError",
     "evalue": "'SentenceTransformer' object has no attribute 'loss'",
     "output_type": "error",
     "traceback": [
      "\u001B[0;31m---------------------------------------------------------------------------\u001B[0m",
      "\u001B[0;31mAttributeError\u001B[0m                            Traceback (most recent call last)",
      "Cell \u001B[0;32mIn [77], line 1\u001B[0m\n\u001B[0;32m----> 1\u001B[0m \u001B[43mQuaterion\u001B[49m\u001B[38;5;241;43m.\u001B[39;49m\u001B[43mfit\u001B[49m\u001B[43m(\u001B[49m\n\u001B[1;32m      2\u001B[0m \u001B[43m    \u001B[49m\u001B[43mtrainable_model\u001B[49m\u001B[38;5;241;43m=\u001B[39;49m\u001B[43mmodel\u001B[49m\u001B[43m,\u001B[49m\n\u001B[1;32m      3\u001B[0m \u001B[43m    \u001B[49m\u001B[43mtrainer\u001B[49m\u001B[38;5;241;43m=\u001B[39;49m\u001B[43mtrainer\u001B[49m\u001B[43m,\u001B[49m\n\u001B[1;32m      4\u001B[0m \u001B[43m    \u001B[49m\u001B[43mtrain_dataloader\u001B[49m\u001B[38;5;241;43m=\u001B[39;49m\u001B[43mtrain_dataloader\u001B[49m\u001B[43m,\u001B[49m\n\u001B[1;32m      5\u001B[0m \u001B[43m)\u001B[49m\n",
      "File \u001B[0;32m~/anaconda3/envs/samename/lib/python3.9/site-packages/quaterion/main.py:68\u001B[0m, in \u001B[0;36mQuaterion.fit\u001B[0;34m(cls, trainable_model, trainer, train_dataloader, val_dataloader, ckpt_path)\u001B[0m\n\u001B[1;32m     63\u001B[0m         \u001B[38;5;28;01mraise\u001B[39;00m \u001B[38;5;167;01mNotImplementedError\u001B[39;00m(\n\u001B[1;32m     64\u001B[0m             \u001B[38;5;124m\"\u001B[39m\u001B[38;5;124mCan\u001B[39m\u001B[38;5;124m'\u001B[39m\u001B[38;5;124mt use PairsSimilarityDataLoader with non-PairwiseLoss\u001B[39m\u001B[38;5;124m\"\u001B[39m\n\u001B[1;32m     65\u001B[0m         )\n\u001B[1;32m     67\u001B[0m \u001B[38;5;28;01mif\u001B[39;00m \u001B[38;5;28misinstance\u001B[39m(train_dataloader, GroupSimilarityDataLoader):\n\u001B[0;32m---> 68\u001B[0m     \u001B[38;5;28;01mif\u001B[39;00m \u001B[38;5;129;01mnot\u001B[39;00m \u001B[38;5;28misinstance\u001B[39m(\u001B[43mtrainable_model\u001B[49m\u001B[38;5;241;43m.\u001B[39;49m\u001B[43mloss\u001B[49m, GroupLoss):\n\u001B[1;32m     69\u001B[0m         \u001B[38;5;28;01mraise\u001B[39;00m \u001B[38;5;167;01mNotImplementedError\u001B[39;00m(\n\u001B[1;32m     70\u001B[0m             \u001B[38;5;124m\"\u001B[39m\u001B[38;5;124mPair samplers are not implemented yet. \u001B[39m\u001B[38;5;124m\"\u001B[39m\n\u001B[1;32m     71\u001B[0m             \u001B[38;5;124m\"\u001B[39m\u001B[38;5;124mTry other loss/data loader\u001B[39m\u001B[38;5;124m\"\u001B[39m\n\u001B[1;32m     72\u001B[0m         )\n\u001B[1;32m     74\u001B[0m \u001B[38;5;28;01mif\u001B[39;00m trainer \u001B[38;5;129;01mis\u001B[39;00m \u001B[38;5;28;01mNone\u001B[39;00m:\n",
      "File \u001B[0;32m~/anaconda3/envs/samename/lib/python3.9/site-packages/torch/nn/modules/module.py:1207\u001B[0m, in \u001B[0;36mModule.__getattr__\u001B[0;34m(self, name)\u001B[0m\n\u001B[1;32m   1205\u001B[0m     \u001B[38;5;28;01mif\u001B[39;00m name \u001B[38;5;129;01min\u001B[39;00m modules:\n\u001B[1;32m   1206\u001B[0m         \u001B[38;5;28;01mreturn\u001B[39;00m modules[name]\n\u001B[0;32m-> 1207\u001B[0m \u001B[38;5;28;01mraise\u001B[39;00m \u001B[38;5;167;01mAttributeError\u001B[39;00m(\u001B[38;5;124m\"\u001B[39m\u001B[38;5;124m'\u001B[39m\u001B[38;5;132;01m{}\u001B[39;00m\u001B[38;5;124m'\u001B[39m\u001B[38;5;124m object has no attribute \u001B[39m\u001B[38;5;124m'\u001B[39m\u001B[38;5;132;01m{}\u001B[39;00m\u001B[38;5;124m'\u001B[39m\u001B[38;5;124m\"\u001B[39m\u001B[38;5;241m.\u001B[39mformat(\n\u001B[1;32m   1208\u001B[0m     \u001B[38;5;28mtype\u001B[39m(\u001B[38;5;28mself\u001B[39m)\u001B[38;5;241m.\u001B[39m\u001B[38;5;18m__name__\u001B[39m, name))\n",
      "\u001B[0;31mAttributeError\u001B[0m: 'SentenceTransformer' object has no attribute 'loss'"
     ]
    }
   ],
   "source": [
    "Quaterion.fit(\n",
    "    trainable_model=model,\n",
    "    trainer=trainer,\n",
    "    train_dataloader=train_dataloader,\n",
    ")"
   ],
   "metadata": {
    "collapsed": false,
    "pycharm": {
     "name": "#%%\n"
    }
   }
  },
  {
   "cell_type": "code",
   "execution_count": null,
   "outputs": [],
   "source": [
    "model.save_servable(\"companies\")"
   ],
   "metadata": {
    "collapsed": false,
    "pycharm": {
     "name": "#%%\n"
    }
   }
  },
  {
   "cell_type": "code",
   "execution_count": null,
   "outputs": [],
   "source": [],
   "metadata": {
    "collapsed": false,
    "pycharm": {
     "name": "#%%\n"
    }
   }
  },
  {
   "cell_type": "code",
   "execution_count": null,
   "outputs": [],
   "source": [],
   "metadata": {
    "collapsed": false,
    "pycharm": {
     "name": "#%%\n"
    }
   }
  },
  {
   "cell_type": "code",
   "execution_count": null,
   "outputs": [],
   "source": [],
   "metadata": {
    "collapsed": false,
    "pycharm": {
     "name": "#%%\n"
    }
   }
  },
  {
   "cell_type": "code",
   "execution_count": null,
   "outputs": [],
   "source": [],
   "metadata": {
    "collapsed": false,
    "pycharm": {
     "name": "#%%\n"
    }
   }
  },
  {
   "cell_type": "code",
   "execution_count": null,
   "outputs": [],
   "source": [],
   "metadata": {
    "collapsed": false,
    "pycharm": {
     "name": "#%%\n"
    }
   }
  },
  {
   "cell_type": "code",
   "execution_count": null,
   "outputs": [],
   "source": [],
   "metadata": {
    "collapsed": false,
    "pycharm": {
     "name": "#%%\n"
    }
   }
  }
 ],
 "metadata": {
  "kernelspec": {
   "display_name": "Python 3",
   "language": "python",
   "name": "python3"
  },
  "language_info": {
   "codemirror_mode": {
    "name": "ipython",
    "version": 2
   },
   "file_extension": ".py",
   "mimetype": "text/x-python",
   "name": "python",
   "nbconvert_exporter": "python",
   "pygments_lexer": "ipython2",
   "version": "2.7.6"
  }
 },
 "nbformat": 4,
 "nbformat_minor": 0
}