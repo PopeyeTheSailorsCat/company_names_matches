{
 "cells": [
  {
   "cell_type": "markdown",
   "source": [
    "# Experiment 2\n",
    "# Sentence embeddings and Qdrant Search"
   ],
   "metadata": {
    "collapsed": false,
    "pycharm": {
     "name": "#%% md\n"
    }
   }
  },
  {
   "cell_type": "code",
   "execution_count": 14,
   "metadata": {
    "collapsed": true,
    "pycharm": {
     "name": "#%%\n"
    }
   },
   "outputs": [],
   "source": [
    "import pandas as pd\n",
    "import numpy as np\n",
    "from sklearn.model_selection import train_test_split\n",
    "from sentence_transformers import SentenceTransformer\n",
    "from sklearn.metrics import accuracy_score, precision_score, recall_score, f1_score\n",
    "from qdrant_client import QdrantClient\n",
    "from qdrant_client.http import models as rest\n",
    "from qdrant_client.http.models import models"
   ]
  },
  {
   "cell_type": "code",
   "execution_count": 5,
   "outputs": [],
   "source": [
    "df_emb = pd.read_parquet('../../data/df_embs.parquet')"
   ],
   "metadata": {
    "collapsed": false,
    "pycharm": {
     "name": "#%%\n"
    }
   }
  },
  {
   "cell_type": "code",
   "execution_count": 4,
   "outputs": [],
   "source": [
    "df = pd.read_parquet('../../data/train.parquet')"
   ],
   "metadata": {
    "collapsed": false,
    "pycharm": {
     "name": "#%%\n"
    }
   }
  },
  {
   "cell_type": "code",
   "execution_count": 6,
   "outputs": [],
   "source": [
    "df = df.merge(df_emb, how='left', left_on='name_1', right_on='name')\n",
    "df = df.drop(columns=['name'])\n",
    "df = df.rename({'emb': 'emb_1'}, axis=1)"
   ],
   "metadata": {
    "collapsed": false,
    "pycharm": {
     "name": "#%%\n"
    }
   }
  },
  {
   "cell_type": "code",
   "execution_count": 7,
   "outputs": [],
   "source": [
    "df = df.merge(df_emb, how='left', left_on='name_2', right_on='name')\n",
    "df = df.drop(columns=['name'])\n",
    "df = df.rename({'emb': 'emb_2'}, axis=1)"
   ],
   "metadata": {
    "collapsed": false,
    "pycharm": {
     "name": "#%%\n"
    }
   }
  },
  {
   "cell_type": "code",
   "execution_count": 17,
   "outputs": [
    {
     "data": {
      "text/plain": "                                                    name  \\\n0                                    Iko Industries Ltd.   \n1                                Apcotex Industries Ltd.   \n2                      Rishichem Distributors Pvt., Ltd.   \n3                                Powermax Rubber Factory   \n4                                              Tress A/S   \n...                                                  ...   \n18017                       Plastic Packaging (Pty) Ltd.   \n18018  'Hengshui Mechanical & Electrical Building Co....   \n18019  Jiangsu Baoli International Investment Co., Lt...   \n18020                                         Lanxess AG   \n18021                        TGI IMPORT EXPORT CO., LTD.   \n\n                                                     emb  \n0      [-0.0183494221419096, -0.00905199721455574, 0....  \n1      [-0.019763024523854256, -0.024556715041399002,...  \n2      [-0.04853949323296547, -0.0022187146823853254,...  \n3      [-0.02500852569937706, 0.012965007685124874, -...  \n4      [0.025902049615979195, -0.002849553246051073, ...  \n...                                                  ...  \n18017  [-0.11937715858221054, 0.0766262337565422, 0.0...  \n18018  [0.0029773120768368244, 0.04723874479532242, 0...  \n18019  [-0.07105936110019684, 0.025270389392971992, 0...  \n18020  [-0.03159470111131668, 0.009131425991654396, -...  \n18021  [-0.05803608521819115, -0.022247696295380592, ...  \n\n[18022 rows x 2 columns]",
      "text/html": "<div>\n<style scoped>\n    .dataframe tbody tr th:only-of-type {\n        vertical-align: middle;\n    }\n\n    .dataframe tbody tr th {\n        vertical-align: top;\n    }\n\n    .dataframe thead th {\n        text-align: right;\n    }\n</style>\n<table border=\"1\" class=\"dataframe\">\n  <thead>\n    <tr style=\"text-align: right;\">\n      <th></th>\n      <th>name</th>\n      <th>emb</th>\n    </tr>\n  </thead>\n  <tbody>\n    <tr>\n      <th>0</th>\n      <td>Iko Industries Ltd.</td>\n      <td>[-0.0183494221419096, -0.00905199721455574, 0....</td>\n    </tr>\n    <tr>\n      <th>1</th>\n      <td>Apcotex Industries Ltd.</td>\n      <td>[-0.019763024523854256, -0.024556715041399002,...</td>\n    </tr>\n    <tr>\n      <th>2</th>\n      <td>Rishichem Distributors Pvt., Ltd.</td>\n      <td>[-0.04853949323296547, -0.0022187146823853254,...</td>\n    </tr>\n    <tr>\n      <th>3</th>\n      <td>Powermax Rubber Factory</td>\n      <td>[-0.02500852569937706, 0.012965007685124874, -...</td>\n    </tr>\n    <tr>\n      <th>4</th>\n      <td>Tress A/S</td>\n      <td>[0.025902049615979195, -0.002849553246051073, ...</td>\n    </tr>\n    <tr>\n      <th>...</th>\n      <td>...</td>\n      <td>...</td>\n    </tr>\n    <tr>\n      <th>18017</th>\n      <td>Plastic Packaging (Pty) Ltd.</td>\n      <td>[-0.11937715858221054, 0.0766262337565422, 0.0...</td>\n    </tr>\n    <tr>\n      <th>18018</th>\n      <td>'Hengshui Mechanical &amp; Electrical Building Co....</td>\n      <td>[0.0029773120768368244, 0.04723874479532242, 0...</td>\n    </tr>\n    <tr>\n      <th>18019</th>\n      <td>Jiangsu Baoli International Investment Co., Lt...</td>\n      <td>[-0.07105936110019684, 0.025270389392971992, 0...</td>\n    </tr>\n    <tr>\n      <th>18020</th>\n      <td>Lanxess AG</td>\n      <td>[-0.03159470111131668, 0.009131425991654396, -...</td>\n    </tr>\n    <tr>\n      <th>18021</th>\n      <td>TGI IMPORT EXPORT CO., LTD.</td>\n      <td>[-0.05803608521819115, -0.022247696295380592, ...</td>\n    </tr>\n  </tbody>\n</table>\n<p>18022 rows × 2 columns</p>\n</div>"
     },
     "execution_count": 17,
     "metadata": {},
     "output_type": "execute_result"
    }
   ],
   "source": [
    "df_emb"
   ],
   "metadata": {
    "collapsed": false,
    "pycharm": {
     "name": "#%%\n"
    }
   }
  },
  {
   "cell_type": "code",
   "execution_count": 16,
   "outputs": [
    {
     "data": {
      "text/plain": "(149734, 512)"
     },
     "execution_count": 16,
     "metadata": {},
     "output_type": "execute_result"
    }
   ],
   "source": [
    "np.stack(df.emb_1).shape"
   ],
   "metadata": {
    "collapsed": false,
    "pycharm": {
     "name": "#%%\n"
    }
   }
  },
  {
   "cell_type": "markdown",
   "source": [
    "# Add vectors to qdrant"
   ],
   "metadata": {
    "collapsed": false,
    "pycharm": {
     "name": "#%% md\n"
    }
   }
  },
  {
   "cell_type": "code",
   "execution_count": null,
   "outputs": [],
   "source": [
    "!docker pull qdrant/qdrant"
   ],
   "metadata": {
    "collapsed": false,
    "pycharm": {
     "name": "#%%\n"
    }
   }
  },
  {
   "cell_type": "code",
   "execution_count": null,
   "outputs": [],
   "source": [
    "!docker run --name qdrant -d -p 6333:6333 --net=bridge qdrant/qdrant"
   ],
   "metadata": {
    "collapsed": false,
    "pycharm": {
     "name": "#%%\n"
    }
   }
  },
  {
   "cell_type": "code",
   "execution_count": 106,
   "outputs": [],
   "source": [
    "df_embs_preproc = pd.read_parquet('../../data/df_embs_preproc.parquet')"
   ],
   "metadata": {
    "collapsed": false,
    "pycharm": {
     "name": "#%%\n"
    }
   }
  },
  {
   "cell_type": "code",
   "execution_count": 107,
   "outputs": [
    {
     "data": {
      "text/plain": "                                                    name  \\\n0                                    Iko Industries Ltd.   \n1                                Apcotex Industries Ltd.   \n2                      Rishichem Distributors Pvt., Ltd.   \n3                                Powermax Rubber Factory   \n4                                              Tress A/S   \n...                                                  ...   \n18017                       Plastic Packaging (Pty) Ltd.   \n18018  'Hengshui Mechanical & Electrical Building Co....   \n18019  Jiangsu Baoli International Investment Co., Lt...   \n18020                                         Lanxess AG   \n18021                        TGI IMPORT EXPORT CO., LTD.   \n\n                                    name_preproc  \\\n0                                 Iko Industries   \n1                             Apcotex Industries   \n2                         Rishichem Distributors   \n3                        Powermax Rubber Factory   \n4                                      Tress A/S   \n...                                          ...   \n18017                          Plastic Packaging   \n18018  Hengshui Mechanical & Electrical Building   \n18019                   Jiangsu Baoli Investment   \n18020                                 Lanxess AG   \n18021                          TGI IMPORT EXPORT   \n\n                                                     emb  \n0      [0.017819033935666084, -0.014882056973874569, ...  \n1      [0.013420317322015762, -0.023446308448910713, ...  \n2      [-0.01495872437953949, -0.03767695277929306, -...  \n3      [-0.02500852569937706, 0.012965007685124874, -...  \n4      [0.025902049615979195, -0.002849553246051073, ...  \n...                                                  ...  \n18017  [-0.10133685171604156, 0.09970243275165558, -0...  \n18018  [0.028690272942185402, 0.07035619765520096, -0...  \n18019  [0.0056513226591050625, 0.03347638249397278, 0...  \n18020  [-0.03159470111131668, 0.009131425991654396, -...  \n18021  [-0.04757768660783768, 0.02819589339196682, 0....  \n\n[18022 rows x 3 columns]",
      "text/html": "<div>\n<style scoped>\n    .dataframe tbody tr th:only-of-type {\n        vertical-align: middle;\n    }\n\n    .dataframe tbody tr th {\n        vertical-align: top;\n    }\n\n    .dataframe thead th {\n        text-align: right;\n    }\n</style>\n<table border=\"1\" class=\"dataframe\">\n  <thead>\n    <tr style=\"text-align: right;\">\n      <th></th>\n      <th>name</th>\n      <th>name_preproc</th>\n      <th>emb</th>\n    </tr>\n  </thead>\n  <tbody>\n    <tr>\n      <th>0</th>\n      <td>Iko Industries Ltd.</td>\n      <td>Iko Industries</td>\n      <td>[0.017819033935666084, -0.014882056973874569, ...</td>\n    </tr>\n    <tr>\n      <th>1</th>\n      <td>Apcotex Industries Ltd.</td>\n      <td>Apcotex Industries</td>\n      <td>[0.013420317322015762, -0.023446308448910713, ...</td>\n    </tr>\n    <tr>\n      <th>2</th>\n      <td>Rishichem Distributors Pvt., Ltd.</td>\n      <td>Rishichem Distributors</td>\n      <td>[-0.01495872437953949, -0.03767695277929306, -...</td>\n    </tr>\n    <tr>\n      <th>3</th>\n      <td>Powermax Rubber Factory</td>\n      <td>Powermax Rubber Factory</td>\n      <td>[-0.02500852569937706, 0.012965007685124874, -...</td>\n    </tr>\n    <tr>\n      <th>4</th>\n      <td>Tress A/S</td>\n      <td>Tress A/S</td>\n      <td>[0.025902049615979195, -0.002849553246051073, ...</td>\n    </tr>\n    <tr>\n      <th>...</th>\n      <td>...</td>\n      <td>...</td>\n      <td>...</td>\n    </tr>\n    <tr>\n      <th>18017</th>\n      <td>Plastic Packaging (Pty) Ltd.</td>\n      <td>Plastic Packaging</td>\n      <td>[-0.10133685171604156, 0.09970243275165558, -0...</td>\n    </tr>\n    <tr>\n      <th>18018</th>\n      <td>'Hengshui Mechanical &amp; Electrical Building Co....</td>\n      <td>Hengshui Mechanical &amp; Electrical Building</td>\n      <td>[0.028690272942185402, 0.07035619765520096, -0...</td>\n    </tr>\n    <tr>\n      <th>18019</th>\n      <td>Jiangsu Baoli International Investment Co., Lt...</td>\n      <td>Jiangsu Baoli Investment</td>\n      <td>[0.0056513226591050625, 0.03347638249397278, 0...</td>\n    </tr>\n    <tr>\n      <th>18020</th>\n      <td>Lanxess AG</td>\n      <td>Lanxess AG</td>\n      <td>[-0.03159470111131668, 0.009131425991654396, -...</td>\n    </tr>\n    <tr>\n      <th>18021</th>\n      <td>TGI IMPORT EXPORT CO., LTD.</td>\n      <td>TGI IMPORT EXPORT</td>\n      <td>[-0.04757768660783768, 0.02819589339196682, 0....</td>\n    </tr>\n  </tbody>\n</table>\n<p>18022 rows × 3 columns</p>\n</div>"
     },
     "execution_count": 107,
     "metadata": {},
     "output_type": "execute_result"
    }
   ],
   "source": [
    "df_embs_preproc"
   ],
   "metadata": {
    "collapsed": false,
    "pycharm": {
     "name": "#%%\n"
    }
   }
  },
  {
   "cell_type": "code",
   "execution_count": 108,
   "outputs": [],
   "source": [
    "qdrant_client = QdrantClient(host='0.0.0.0', port=6333)"
   ],
   "metadata": {
    "collapsed": false,
    "pycharm": {
     "name": "#%%\n"
    }
   }
  },
  {
   "cell_type": "code",
   "execution_count": 109,
   "outputs": [],
   "source": [
    "vectors = np.stack(df_emb.emb)\n",
    "payload = df_embs_preproc[['name', 'name_preproc']].to_dict(orient='records')\n",
    "ids = df_emb.index.values.tolist()"
   ],
   "metadata": {
    "collapsed": false,
    "pycharm": {
     "name": "#%%\n"
    }
   }
  },
  {
   "cell_type": "code",
   "execution_count": 110,
   "outputs": [],
   "source": [
    "col_name = 'company'\n",
    "vec_shape = vectors.shape[1]\n",
    "bs = 1024"
   ],
   "metadata": {
    "collapsed": false,
    "pycharm": {
     "name": "#%%\n"
    }
   }
  },
  {
   "cell_type": "code",
   "execution_count": 111,
   "outputs": [],
   "source": [
    "qdrant_client.recreate_collection(collection_name=col_name,\n",
    "                                  vectors_config=models.VectorParams(size=vec_shape, distance=models.Distance.COSINE),\n",
    "                                  on_disk_payload=True)"
   ],
   "metadata": {
    "collapsed": false,
    "pycharm": {
     "name": "#%%\n"
    }
   }
  },
  {
   "cell_type": "code",
   "execution_count": null,
   "outputs": [],
   "source": [
    "qdrant_client.upload_collection(\n",
    "    collection_name=col_name,\n",
    "    vectors=vectors,\n",
    "    payload=payload,\n",
    "    ids=ids,\n",
    "    batch_size=bs,\n",
    "    parallel=6\n",
    ")"
   ],
   "metadata": {
    "collapsed": false,
    "pycharm": {
     "name": "#%%\n",
     "is_executing": true
    }
   }
  },
  {
   "cell_type": "code",
   "execution_count": 1,
   "outputs": [
    {
     "ename": "NameError",
     "evalue": "name 'qdrant_client' is not defined",
     "output_type": "error",
     "traceback": [
      "\u001B[0;31m---------------------------------------------------------------------------\u001B[0m",
      "\u001B[0;31mNameError\u001B[0m                                 Traceback (most recent call last)",
      "Cell \u001B[0;32mIn [1], line 1\u001B[0m\n\u001B[0;32m----> 1\u001B[0m col \u001B[38;5;241m=\u001B[39m \u001B[43mqdrant_client\u001B[49m\u001B[38;5;241m.\u001B[39mget_collection(col_name)\n",
      "\u001B[0;31mNameError\u001B[0m: name 'qdrant_client' is not defined"
     ]
    }
   ],
   "source": [
    "col = qdrant_client.get_collection(col_name)"
   ],
   "metadata": {
    "collapsed": false,
    "pycharm": {
     "name": "#%%\n"
    }
   }
  },
  {
   "cell_type": "code",
   "execution_count": null,
   "outputs": [],
   "source": [
    "col.points_count"
   ],
   "metadata": {
    "collapsed": false,
    "pycharm": {
     "name": "#%%\n"
    }
   }
  },
  {
   "cell_type": "markdown",
   "source": [
    "#### Try sim search"
   ],
   "metadata": {
    "collapsed": false,
    "pycharm": {
     "name": "#%% md\n"
    }
   }
  },
  {
   "cell_type": "code",
   "execution_count": 57,
   "outputs": [
    {
     "data": {
      "text/plain": "Downloading:   0%|          | 0.00/539M [00:00<?, ?B/s]",
      "application/vnd.jupyter.widget-view+json": {
       "version_major": 2,
       "version_minor": 0,
       "model_id": "08270c728dce45ea9530db1f39a14599"
      }
     },
     "metadata": {},
     "output_type": "display_data"
    },
    {
     "data": {
      "text/plain": "Downloading:   0%|          | 0.00/53.0 [00:00<?, ?B/s]",
      "application/vnd.jupyter.widget-view+json": {
       "version_major": 2,
       "version_minor": 0,
       "model_id": "4894aa377c7145afbd32eb08930d7af0"
      }
     },
     "metadata": {},
     "output_type": "display_data"
    },
    {
     "data": {
      "text/plain": "Downloading:   0%|          | 0.00/112 [00:00<?, ?B/s]",
      "application/vnd.jupyter.widget-view+json": {
       "version_major": 2,
       "version_minor": 0,
       "model_id": "df1f6ebe65f043f08dfd0fd4e861f949"
      }
     },
     "metadata": {},
     "output_type": "display_data"
    },
    {
     "data": {
      "text/plain": "Downloading:   0%|          | 0.00/1.96M [00:00<?, ?B/s]",
      "application/vnd.jupyter.widget-view+json": {
       "version_major": 2,
       "version_minor": 0,
       "model_id": "b4990d7a2fc34c01b44d64e21584cfde"
      }
     },
     "metadata": {},
     "output_type": "display_data"
    },
    {
     "data": {
      "text/plain": "Downloading:   0%|          | 0.00/531 [00:00<?, ?B/s]",
      "application/vnd.jupyter.widget-view+json": {
       "version_major": 2,
       "version_minor": 0,
       "model_id": "8f6f45e512564fc1a4f6beff37610e37"
      }
     },
     "metadata": {},
     "output_type": "display_data"
    },
    {
     "data": {
      "text/plain": "Downloading:   0%|          | 0.00/996k [00:00<?, ?B/s]",
      "application/vnd.jupyter.widget-view+json": {
       "version_major": 2,
       "version_minor": 0,
       "model_id": "8b1243494b944efd9fbf1af37934cb52"
      }
     },
     "metadata": {},
     "output_type": "display_data"
    },
    {
     "data": {
      "text/plain": "Downloading:   0%|          | 0.00/341 [00:00<?, ?B/s]",
      "application/vnd.jupyter.widget-view+json": {
       "version_major": 2,
       "version_minor": 0,
       "model_id": "91f6115fd4854de89070f9a1e639981e"
      }
     },
     "metadata": {},
     "output_type": "display_data"
    }
   ],
   "source": [
    "model = SentenceTransformer('distiluse-base-multilingual-cased-v2')"
   ],
   "metadata": {
    "collapsed": false,
    "pycharm": {
     "name": "#%%\n"
    }
   }
  },
  {
   "cell_type": "code",
   "execution_count": 89,
   "outputs": [],
   "source": [
    "company_name = 'Dow Chemical (Shanghai) Co., Ltd.'\n",
    "qvector = model.encode(company_name)"
   ],
   "metadata": {
    "collapsed": false,
    "pycharm": {
     "name": "#%%\n"
    }
   }
  },
  {
   "cell_type": "code",
   "execution_count": 90,
   "outputs": [],
   "source": [
    "search_result = qdrant_client.search(\n",
    "    collection_name=col_name,\n",
    "    query_vector=qvector,\n",
    "    query_filter=None,\n",
    "    limit=30,\n",
    "    offset=0\n",
    ")"
   ],
   "metadata": {
    "collapsed": false,
    "pycharm": {
     "name": "#%%\n"
    }
   }
  },
  {
   "cell_type": "code",
   "execution_count": 91,
   "outputs": [
    {
     "data": {
      "text/plain": "[ScoredPoint(id=6647, version=6, score=1.0, payload={'name': 'Dow Chemical (Shanghai) Co., Ltd.'}, vector=None),\n ScoredPoint(id=12778, version=14, score=0.9300273, payload={'name': 'Yuanbai Chemicals (Shanghai) Co., Ltd.'}, vector=None),\n ScoredPoint(id=35, version=4, score=0.91014034, payload={'name': 'Lord Fine Chemical (Shanghai) Co., Ltd.'}, vector=None),\n ScoredPoint(id=4192, version=2, score=0.89989686, payload={'name': 'Quadro Chemicals (Shanghai) Co., Ltd.'}, vector=None),\n ScoredPoint(id=1384, version=0, score=0.8955901, payload={'name': 'Shanghai Yechuan Chemicals Co., Ltd.'}, vector=None),\n ScoredPoint(id=5456, version=1, score=0.8779373, payload={'name': 'Shanghai Junxin Chemical Co., Ltd.'}, vector=None),\n ScoredPoint(id=9193, version=7, score=0.8764175, payload={'name': 'Shanghai Manyi Chemical Co., Ltd.'}, vector=None),\n ScoredPoint(id=8855, version=7, score=0.87584376, payload={'name': 'Shanghai Uniwell Chemical Co., Ltd.'}, vector=None),\n ScoredPoint(id=10132, version=11, score=0.86119354, payload={'name': 'Tong Cheng Chemical (China) Co., Ltd.'}, vector=None),\n ScoredPoint(id=6386, version=6, score=0.8510782, payload={'name': 'Shanghai Synthomer Chemicals Co., Ltd.'}, vector=None),\n ScoredPoint(id=7308, version=9, score=0.84619683, payload={'name': 'Taoshi Chemical (Zhangjiagang) Co., Ltd.'}, vector=None),\n ScoredPoint(id=9170, version=7, score=0.84531695, payload={'name': 'Shanghai Wo Code Chemical Co., Ltd.'}, vector=None),\n ScoredPoint(id=7178, version=9, score=0.8438327, payload={'name': 'Shanghai Yi Duo Ke Chemical Co., Ltd.'}, vector=None),\n ScoredPoint(id=929, version=4, score=0.8362477, payload={'name': 'Univar Chemicals (Shanghai) Co., Ltd. /Univar China Ltd.'}, vector=None),\n ScoredPoint(id=5563, version=1, score=0.8342518, payload={'name': 'Shanghai Huixu Chemical Industry Co., Ltd.'}, vector=None),\n ScoredPoint(id=5526, version=1, score=0.83252484, payload={'name': 'Shanghai Prevision Chemicals Co., Ltd.'}, vector=None),\n ScoredPoint(id=6102, version=1, score=0.8320152, payload={'name': 'Shanghai Yikang Chemicals & Industries Co., Ltd.'}, vector=None),\n ScoredPoint(id=8138, version=9, score=0.82611054, payload={'name': 'Poly Chemicals (Shanghai) Co., Ltd.'}, vector=None),\n ScoredPoint(id=10242, version=10, score=0.8236086, payload={'name': 'Hangao Chemical Technology (Shanghai) Co., Ltd.'}, vector=None),\n ScoredPoint(id=10683, version=10, score=0.81811225, payload={'name': 'Hubei Dinglong Chemical Co., Ltd.'}, vector=None),\n ScoredPoint(id=1541, version=0, score=0.81354326, payload={'name': 'Keyang Fine Chemical (Suzhou) Co., Ltd.'}, vector=None),\n ScoredPoint(id=3359, version=3, score=0.8071931, payload={'name': 'Dongguan Tonghai Chem Co., Ltd.'}, vector=None),\n ScoredPoint(id=5370, version=1, score=0.8057362, payload={'name': 'Zhengjiang Chimei Chemical Co., Ltd.'}, vector=None),\n ScoredPoint(id=8414, version=7, score=0.80013156, payload={'name': 'Shanghai Ranyuan Chemical Technology Co., Ltd.'}, vector=None),\n ScoredPoint(id=527, version=4, score=0.79930544, payload={'name': 'Wuxi Zhong Cheng Chemical Co., Ltd.'}, vector=None),\n ScoredPoint(id=12325, version=14, score=0.799, payload={'name': 'Dutt Adhesive (Shanghai) Co., Ltd.'}, vector=None),\n ScoredPoint(id=10505, version=10, score=0.7940402, payload={'name': 'Qingdao Jiawen Chemical Co., Ltd.'}, vector=None),\n ScoredPoint(id=5597, version=1, score=0.79374015, payload={'name': 'Shenzhen Ing Chyun Chemicals Co., Ltd.'}, vector=None),\n ScoredPoint(id=8578, version=7, score=0.792439, payload={'name': 'Dynea Shanghai Co., Ltd.'}, vector=None),\n ScoredPoint(id=5644, version=1, score=0.7917073, payload={'name': 'Croslene Chemical Industries(Shanghai) Ltd.'}, vector=None)]"
     },
     "execution_count": 91,
     "metadata": {},
     "output_type": "execute_result"
    }
   ],
   "source": [
    "search_result"
   ],
   "metadata": {
    "collapsed": false,
    "pycharm": {
     "name": "#%%\n"
    }
   }
  },
  {
   "cell_type": "code",
   "execution_count": 96,
   "outputs": [
    {
     "data": {
      "text/plain": "                                         name_1  \\\n3621          Dow Chemical (Shanghai) Co., Ltd.   \n25254   Dow Chemical International Private Ltd.   \n43550         Dow Chemical (Shanghai) Co., Ltd.   \n67051         Dow Chemical (Shanghai) Co., Ltd.   \n67332                 Dow Chemical Pacific Ltd.   \n86276                      Dow Chemical Pacific   \n114460               Dow Chemical Thailand Ltd.   \n116796                             Dow Chemical   \n127101        Dow Chemical (Shanghai) Co., Ltd.   \n148353        Dow Chemical (Shanghai) Co., Ltd.   \n\n                                         name_2  is_duplicate  \\\n3621                  Dow Chemical Pacific Ltd.             1   \n25254         Dow Chemical (Shanghai) Co., Ltd.             1   \n43550   Dow Chemical International Private Ltd.             1   \n67051                              Dow Chemical             1   \n67332         Dow Chemical (Shanghai) Co., Ltd.             1   \n86276         Dow Chemical (Shanghai) Co., Ltd.             1   \n114460        Dow Chemical (Shanghai) Co., Ltd.             1   \n116796        Dow Chemical (Shanghai) Co., Ltd.             1   \n127101                     Dow Chemical Pacific             1   \n148353               Dow Chemical Thailand Ltd.             1   \n\n                                                    emb_1  \\\n3621    [-0.028365090489387512, -0.02730587124824524, ...   \n25254   [-0.054589733481407166, -0.02028239332139492, ...   \n43550   [-0.028365090489387512, -0.02730587124824524, ...   \n67051   [-0.028365090489387512, -0.02730587124824524, ...   \n67332   [-0.053025662899017334, 0.003969652112573385, ...   \n86276   [-0.024302493780851364, 0.016313781961798668, ...   \n114460  [-0.05091489478945732, 0.00030382093973457813,...   \n116796  [0.01545174140483141, 0.002613763092085719, -0...   \n127101  [-0.028365090489387512, -0.02730587124824524, ...   \n148353  [-0.028365090489387512, -0.02730587124824524, ...   \n\n                                                    emb_2  \n3621    [-0.053025662899017334, 0.003969652112573385, ...  \n25254   [-0.028365090489387512, -0.02730587124824524, ...  \n43550   [-0.054589733481407166, -0.02028239332139492, ...  \n67051   [0.01545174140483141, 0.002613763092085719, -0...  \n67332   [-0.028365090489387512, -0.02730587124824524, ...  \n86276   [-0.028365090489387512, -0.02730587124824524, ...  \n114460  [-0.028365090489387512, -0.02730587124824524, ...  \n116796  [-0.028365090489387512, -0.02730587124824524, ...  \n127101  [-0.024302493780851364, 0.016313781961798668, ...  \n148353  [-0.05091489478945732, 0.00030382093973457813,...  ",
      "text/html": "<div>\n<style scoped>\n    .dataframe tbody tr th:only-of-type {\n        vertical-align: middle;\n    }\n\n    .dataframe tbody tr th {\n        vertical-align: top;\n    }\n\n    .dataframe thead th {\n        text-align: right;\n    }\n</style>\n<table border=\"1\" class=\"dataframe\">\n  <thead>\n    <tr style=\"text-align: right;\">\n      <th></th>\n      <th>name_1</th>\n      <th>name_2</th>\n      <th>is_duplicate</th>\n      <th>emb_1</th>\n      <th>emb_2</th>\n    </tr>\n  </thead>\n  <tbody>\n    <tr>\n      <th>3621</th>\n      <td>Dow Chemical (Shanghai) Co., Ltd.</td>\n      <td>Dow Chemical Pacific Ltd.</td>\n      <td>1</td>\n      <td>[-0.028365090489387512, -0.02730587124824524, ...</td>\n      <td>[-0.053025662899017334, 0.003969652112573385, ...</td>\n    </tr>\n    <tr>\n      <th>25254</th>\n      <td>Dow Chemical International Private Ltd.</td>\n      <td>Dow Chemical (Shanghai) Co., Ltd.</td>\n      <td>1</td>\n      <td>[-0.054589733481407166, -0.02028239332139492, ...</td>\n      <td>[-0.028365090489387512, -0.02730587124824524, ...</td>\n    </tr>\n    <tr>\n      <th>43550</th>\n      <td>Dow Chemical (Shanghai) Co., Ltd.</td>\n      <td>Dow Chemical International Private Ltd.</td>\n      <td>1</td>\n      <td>[-0.028365090489387512, -0.02730587124824524, ...</td>\n      <td>[-0.054589733481407166, -0.02028239332139492, ...</td>\n    </tr>\n    <tr>\n      <th>67051</th>\n      <td>Dow Chemical (Shanghai) Co., Ltd.</td>\n      <td>Dow Chemical</td>\n      <td>1</td>\n      <td>[-0.028365090489387512, -0.02730587124824524, ...</td>\n      <td>[0.01545174140483141, 0.002613763092085719, -0...</td>\n    </tr>\n    <tr>\n      <th>67332</th>\n      <td>Dow Chemical Pacific Ltd.</td>\n      <td>Dow Chemical (Shanghai) Co., Ltd.</td>\n      <td>1</td>\n      <td>[-0.053025662899017334, 0.003969652112573385, ...</td>\n      <td>[-0.028365090489387512, -0.02730587124824524, ...</td>\n    </tr>\n    <tr>\n      <th>86276</th>\n      <td>Dow Chemical Pacific</td>\n      <td>Dow Chemical (Shanghai) Co., Ltd.</td>\n      <td>1</td>\n      <td>[-0.024302493780851364, 0.016313781961798668, ...</td>\n      <td>[-0.028365090489387512, -0.02730587124824524, ...</td>\n    </tr>\n    <tr>\n      <th>114460</th>\n      <td>Dow Chemical Thailand Ltd.</td>\n      <td>Dow Chemical (Shanghai) Co., Ltd.</td>\n      <td>1</td>\n      <td>[-0.05091489478945732, 0.00030382093973457813,...</td>\n      <td>[-0.028365090489387512, -0.02730587124824524, ...</td>\n    </tr>\n    <tr>\n      <th>116796</th>\n      <td>Dow Chemical</td>\n      <td>Dow Chemical (Shanghai) Co., Ltd.</td>\n      <td>1</td>\n      <td>[0.01545174140483141, 0.002613763092085719, -0...</td>\n      <td>[-0.028365090489387512, -0.02730587124824524, ...</td>\n    </tr>\n    <tr>\n      <th>127101</th>\n      <td>Dow Chemical (Shanghai) Co., Ltd.</td>\n      <td>Dow Chemical Pacific</td>\n      <td>1</td>\n      <td>[-0.028365090489387512, -0.02730587124824524, ...</td>\n      <td>[-0.024302493780851364, 0.016313781961798668, ...</td>\n    </tr>\n    <tr>\n      <th>148353</th>\n      <td>Dow Chemical (Shanghai) Co., Ltd.</td>\n      <td>Dow Chemical Thailand Ltd.</td>\n      <td>1</td>\n      <td>[-0.028365090489387512, -0.02730587124824524, ...</td>\n      <td>[-0.05091489478945732, 0.00030382093973457813,...</td>\n    </tr>\n  </tbody>\n</table>\n</div>"
     },
     "execution_count": 96,
     "metadata": {},
     "output_type": "execute_result"
    }
   ],
   "source": [
    "df[((df.name_1 == company_name) | (df.name_2 == company_name)) & df.is_duplicate == 1]"
   ],
   "metadata": {
    "collapsed": false,
    "pycharm": {
     "name": "#%%\n"
    }
   }
  },
  {
   "cell_type": "code",
   "execution_count": null,
   "outputs": [],
   "source": [
    "stopwords = ['Co.', 'Ltd.', 'Ltd', 'Private', 'International', 'Pacific', 'Pvt.', 'Corp.', 'Inc.', 'Sdn Bhd', '']"
   ],
   "metadata": {
    "collapsed": false,
    "pycharm": {
     "name": "#%%\n"
    }
   }
  },
  {
   "cell_type": "code",
   "execution_count": null,
   "outputs": [],
   "source": [],
   "metadata": {
    "collapsed": false,
    "pycharm": {
     "name": "#%%\n"
    }
   }
  },
  {
   "cell_type": "code",
   "execution_count": null,
   "outputs": [],
   "source": [],
   "metadata": {
    "collapsed": false,
    "pycharm": {
     "name": "#%%\n"
    }
   }
  },
  {
   "cell_type": "markdown",
   "source": [
    "# Train Quaterion"
   ],
   "metadata": {
    "collapsed": false,
    "pycharm": {
     "name": "#%% md\n"
    }
   }
  },
  {
   "cell_type": "code",
   "execution_count": null,
   "outputs": [],
   "source": [],
   "metadata": {
    "collapsed": false,
    "pycharm": {
     "name": "#%%\n"
    }
   }
  },
  {
   "cell_type": "code",
   "execution_count": null,
   "outputs": [],
   "source": [],
   "metadata": {
    "collapsed": false,
    "pycharm": {
     "name": "#%%\n"
    }
   }
  },
  {
   "cell_type": "code",
   "execution_count": null,
   "outputs": [],
   "source": [],
   "metadata": {
    "collapsed": false,
    "pycharm": {
     "name": "#%%\n"
    }
   }
  },
  {
   "cell_type": "code",
   "execution_count": null,
   "outputs": [],
   "source": [],
   "metadata": {
    "collapsed": false,
    "pycharm": {
     "name": "#%%\n"
    }
   }
  },
  {
   "cell_type": "code",
   "execution_count": null,
   "outputs": [],
   "source": [],
   "metadata": {
    "collapsed": false,
    "pycharm": {
     "name": "#%%\n"
    }
   }
  },
  {
   "cell_type": "code",
   "execution_count": null,
   "outputs": [],
   "source": [],
   "metadata": {
    "collapsed": false,
    "pycharm": {
     "name": "#%%\n"
    }
   }
  },
  {
   "cell_type": "code",
   "execution_count": null,
   "outputs": [],
   "source": [],
   "metadata": {
    "collapsed": false,
    "pycharm": {
     "name": "#%%\n"
    }
   }
  },
  {
   "cell_type": "code",
   "execution_count": null,
   "outputs": [],
   "source": [],
   "metadata": {
    "collapsed": false,
    "pycharm": {
     "name": "#%%\n"
    }
   }
  },
  {
   "cell_type": "code",
   "execution_count": null,
   "outputs": [],
   "source": [],
   "metadata": {
    "collapsed": false,
    "pycharm": {
     "name": "#%%\n"
    }
   }
  }
 ],
 "metadata": {
  "kernelspec": {
   "display_name": "Python 3",
   "language": "python",
   "name": "python3"
  },
  "language_info": {
   "codemirror_mode": {
    "name": "ipython",
    "version": 2
   },
   "file_extension": ".py",
   "mimetype": "text/x-python",
   "name": "python",
   "nbconvert_exporter": "python",
   "pygments_lexer": "ipython2",
   "version": "2.7.6"
  }
 },
 "nbformat": 4,
 "nbformat_minor": 0
}